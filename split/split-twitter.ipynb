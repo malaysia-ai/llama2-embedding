{
 "cells": [
  {
   "cell_type": "code",
   "execution_count": 1,
   "id": "99f931ef",
   "metadata": {},
   "outputs": [
    {
     "name": "stdout",
     "output_type": "stream",
     "text": [
      "2073036 twitter-train-dataset-bge.jsonl\r\n"
     ]
    }
   ],
   "source": [
    "!wc -l twitter-train-dataset-bge.jsonl"
   ]
  },
  {
   "cell_type": "code",
   "execution_count": 3,
   "id": "c59e6d25",
   "metadata": {},
   "outputs": [
    {
     "name": "stderr",
     "output_type": "stream",
     "text": [
      "2073036it [00:11, 178252.88it/s]\n"
     ]
    }
   ],
   "source": [
    "import json\n",
    "import random\n",
    "from tqdm import tqdm\n",
    "\n",
    "train = open('../embedding-pair-mining/twitter-dataset-bge-train.jsonl', 'w')\n",
    "test = open('../embedding-pair-mining/twitter-dataset-bge-test.jsonl', 'w')\n",
    "\n",
    "with open('twitter-train-dataset-bge.jsonl') as fopen:\n",
    "    for l in tqdm(fopen):\n",
    "        if random.random() > 0.995:\n",
    "            test.write(l)\n",
    "        else:\n",
    "            train.write(l)"
   ]
  },
  {
   "cell_type": "code",
   "execution_count": null,
   "id": "4be68767",
   "metadata": {},
   "outputs": [],
   "source": []
  }
 ],
 "metadata": {
  "kernelspec": {
   "display_name": "Python 3 (ipykernel)",
   "language": "python",
   "name": "python3"
  },
  "language_info": {
   "codemirror_mode": {
    "name": "ipython",
    "version": 3
   },
   "file_extension": ".py",
   "mimetype": "text/x-python",
   "name": "python",
   "nbconvert_exporter": "python",
   "pygments_lexer": "ipython3",
   "version": "3.10.12"
  }
 },
 "nbformat": 4,
 "nbformat_minor": 5
}
