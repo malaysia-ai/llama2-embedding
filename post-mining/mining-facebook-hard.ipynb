{
 "cells": [
  {
   "cell_type": "code",
   "execution_count": 2,
   "id": "1e9224a6",
   "metadata": {},
   "outputs": [],
   "source": [
    "from glob import glob\n",
    "import json\n",
    "from tqdm import tqdm\n",
    "from concurrent.futures import ThreadPoolExecutor, as_completed\n",
    "import orjson as json\n",
    "import random"
   ]
  },
  {
   "cell_type": "code",
   "execution_count": null,
   "id": "f4e4de26",
   "metadata": {},
   "outputs": [
    {
     "name": "stderr",
     "output_type": "stream",
     "text": [
      "120770it [01:34, 1527.55it/s]"
     ]
    }
   ],
   "source": [
    "data = []\n",
    "\n",
    "\n",
    "with open('facebook.jsonl') as fopen:\n",
    "    for x in tqdm(fopen):\n",
    "        try:\n",
    "            data.append(json.loads(x))\n",
    "        except:\n",
    "            pass"
   ]
  },
  {
   "cell_type": "code",
   "execution_count": 7,
   "id": "dae2c54b",
   "metadata": {},
   "outputs": [
    {
     "data": {
      "text/plain": [
       "191248"
      ]
     },
     "execution_count": 7,
     "metadata": {},
     "output_type": "execute_result"
    }
   ],
   "source": [
    "len(data)"
   ]
  },
  {
   "cell_type": "code",
   "execution_count": 8,
   "id": "e872e194",
   "metadata": {},
   "outputs": [],
   "source": [
    "vectors, texts = [], []\n",
    "\n",
    "for d in data:\n",
    "    vectors.append(d['v'])\n",
    "    texts.append(d['text'])"
   ]
  },
  {
   "cell_type": "code",
   "execution_count": 12,
   "id": "218a83b4",
   "metadata": {},
   "outputs": [
    {
     "data": {
      "text/plain": [
       "191248"
      ]
     },
     "execution_count": 12,
     "metadata": {},
     "output_type": "execute_result"
    }
   ],
   "source": [
    "len(vectors)"
   ]
  },
  {
   "cell_type": "code",
   "execution_count": 16,
   "id": "349b6e23",
   "metadata": {},
   "outputs": [],
   "source": [
    "# !pip3 install pyfnntw"
   ]
  },
  {
   "cell_type": "code",
   "execution_count": 25,
   "id": "711e911c",
   "metadata": {},
   "outputs": [],
   "source": [
    "# !pip3 install scipy scikit-learn"
   ]
  },
  {
   "cell_type": "code",
   "execution_count": 26,
   "id": "b6f5faee",
   "metadata": {},
   "outputs": [],
   "source": [
    "from scipy.spatial import KDTree\n",
    "import sklearn.neighbors\n",
    "import numpy as np"
   ]
  },
  {
   "cell_type": "code",
   "execution_count": 20,
   "id": "f918baae",
   "metadata": {},
   "outputs": [
    {
     "data": {
      "text/plain": [
       "(191248, 1536)"
      ]
     },
     "execution_count": 20,
     "metadata": {},
     "output_type": "execute_result"
    }
   ],
   "source": [
    "concat = np.array(vectors)\n",
    "concat.shape"
   ]
  },
  {
   "cell_type": "code",
   "execution_count": 21,
   "id": "7d1e61f1",
   "metadata": {},
   "outputs": [
    {
     "name": "stdout",
     "output_type": "stream",
     "text": [
      "CPU times: user 2.68 s, sys: 13.7 ms, total: 2.7 s\n",
      "Wall time: 2.7 s\n"
     ]
    }
   ],
   "source": [
    "%%time\n",
    "\n",
    "kd_tree = KDTree(concat, leafsize = 40)"
   ]
  },
  {
   "cell_type": "code",
   "execution_count": 29,
   "id": "e1d42d2c",
   "metadata": {},
   "outputs": [
    {
     "name": "stdout",
     "output_type": "stream",
     "text": [
      "CPU times: user 49.8 s, sys: 88.3 ms, total: 49.9 s\n",
      "Wall time: 49.6 s\n"
     ]
    }
   ],
   "source": [
    "%%time\n",
    "\n",
    "sk_kd_tree = sklearn.neighbors.KDTree(concat, leaf_size = 20)"
   ]
  },
  {
   "cell_type": "code",
   "execution_count": 118,
   "id": "9af4be4d",
   "metadata": {},
   "outputs": [
    {
     "name": "stdout",
     "output_type": "stream",
     "text": [
      "CPU times: user 228 ms, sys: 47.5 ms, total: 276 ms\n",
      "Wall time: 275 ms\n"
     ]
    }
   ],
   "source": [
    "%%time\n",
    "\n",
    "dist, ind = kd_tree.query(concat[0], k=len(concat))"
   ]
  },
  {
   "cell_type": "code",
   "execution_count": 119,
   "id": "b9388aad",
   "metadata": {},
   "outputs": [],
   "source": [
    "# import seaborn as sns\n",
    "# sns.distplot(dist)"
   ]
  },
  {
   "cell_type": "code",
   "execution_count": 120,
   "id": "dbfa296b",
   "metadata": {},
   "outputs": [
    {
     "data": {
      "text/plain": [
       "array([0.        , 0.64757418, 0.65585836, 0.66123705])"
      ]
     },
     "execution_count": 120,
     "metadata": {},
     "output_type": "execute_result"
    }
   ],
   "source": [
    "dist[dist < 0.7]"
   ]
  },
  {
   "cell_type": "code",
   "execution_count": 123,
   "id": "f5514b64",
   "metadata": {},
   "outputs": [
    {
     "data": {
      "text/plain": [
       "[0, 55471, 44240, 69514]"
      ]
     },
     "execution_count": 123,
     "metadata": {},
     "output_type": "execute_result"
    }
   ],
   "source": [
    "pos_indices = [k for k in ind[dist < 0.7]]\n",
    "neg_indices = [k for k in ind[dist > 1.3]]\n",
    "pos_indices"
   ]
  },
  {
   "cell_type": "code",
   "execution_count": 122,
   "id": "40f2386d",
   "metadata": {
    "scrolled": true
   },
   "outputs": [
    {
     "data": {
      "text/plain": [
       "['Sy suka Liwat', 'Liwat Liwat Liwat', 'Sokong liwat', 'Liwat sedap ke']"
      ]
     },
     "execution_count": 122,
     "metadata": {},
     "output_type": "execute_result"
    }
   ],
   "source": [
    "pos = [texts[i] for i in pos_indices]\n",
    "pos"
   ]
  },
  {
   "cell_type": "code",
   "execution_count": 99,
   "id": "1dd3ad77",
   "metadata": {},
   "outputs": [
    {
     "data": {
      "text/plain": [
       "'A Rusmawi A Manafi'"
      ]
     },
     "execution_count": 99,
     "metadata": {},
     "output_type": "execute_result"
    }
   ],
   "source": [
    "texts[1]"
   ]
  },
  {
   "cell_type": "code",
   "execution_count": 97,
   "id": "c7b0c3d2",
   "metadata": {},
   "outputs": [
    {
     "data": {
      "text/plain": [
       "[\"Kalau rasa susah nak pergi lhdn, cuba email them. Check email customer care officer of that branch, on lhdn's website.\",\n",
       " 'Compound has to be paid in cash, right? Dont pay if u want to appeal. Appeal first . Bcos compound is paid to the court, thru lhdn. Just like saman trafik. Once paid, u will not get refund. Appeal to the dept that issued u the saman. State ur reasons for late/non compliance to pcb rules',\n",
       " 'Iron Skull kesian ya. Masih belum boleh move on.\\nBesok aku post, pasti ko selit juga. Aku pun tak nak buang masa dgn komen2 bongok ko. Spt aku ckp, kenal aku pun tidak tapi otak ko fikir mcm2 semua merapu.',\n",
       " 'Ann Wong tapi barang recycle tu selama ni drp pemimpin atasan sampai ahli sendiri yang bagi bad review.. Hoy hoy ya hoy',\n",
       " 'Cuba call pegawai yg uruskan minta buat Pengurangan..sa\\nya pon kene 2015-2021..32K.\\n.tapi sy call pegawai, hntr semua dokumen jadi 800+- kene byr',\n",
       " 'saya pernah walkin ke lhdn sbb nk declare utk income ,bila kata xkerja & hanya jual brg yg dpt komisyen,staf2 kat lhdn suh balik,sbb kalau income dtg dr komisyen,diaorg\\nkata tak perlu declare,eh ghisau',\n",
       " 'Meluat tgk org jenis mcm ni ..suka menyusahkan keje org..cuba dia yg jd kita mau gak meroyan..geram.\\n.doa byk2 ya..',\n",
       " 'Kau mengarut la kebanyakan student kalau ada ijazah dan baru grad diaorang buat kerja grab dan food panda lebih better dari menganggur. Kalau ada opportunity kerja confirm mereka berhenti kerja. Pemikiran yang dangkal sekali la',\n",
       " 'Kalau 22 bulan dah gagal, nak tunggu 5 tahun. Bukan saja bertambah gagal, negara akan tenat dan dijajah oleh orang lain. Nak bagi lagi 5 tahun. Sudah lah. Cukup sampai disini. Enough is enought.',\n",
       " 'Alaaa Kira declared income jer\\nCukup thn bayo cukai\\nBoleh buat top up bayo gaji dgn elaun MP\\nDgn buat Joli pegawai2 gomen yg korup\\nPembayar cukai kah hero Negara\\nBenda2 mungkar ni kena laaa joint saham sikit\\nThn depan boleh ler berjemaah selak laporan audit Negara',\n",
       " 'Suami pernah kena. Tu jadual bayaran penalti plus cukai kurang bayar. Jenuh explain, kena bayar jugak. Suami kena 3 bulan potong gaji direct dari majikan. Cuba call pejabat LHDN yg uruskan file tax puan. Cuba cari pegawai yg audit. Memang seksa, tiba2 kena potong gaji. Nak lari mana pun tak boleh, sbb potong direct dari majikan.',\n",
       " 'Haha kaki kencing selamanya psal gaji pun nk gebang terpaling hebat last2 kantoi kencing..\\n\\nSiakap senohong gelama ikan duri, bercakap bohong lama-lama mencuri.',\n",
       " 'Nothing we can do anymore..it is all their move now..so baik kita sibuk tanya cuti ke x..',\n",
       " 'saya tertarik dengan bual bicara bajetnya...inga\\nt cerdik la sangat, rupanya apa benda kena touch dulu, apa kena control, apa kena focus tak jawab sudara sudari...semban\\ng pun dah ada bau2 hancing...macam\\nmana lah dia boleh pergi sejauh itu hancingnya...',\n",
       " 'Sebelum ni tak pernah declare tax.\\nIni first time jadi sy tak tau apa2. Baru je buat business. Dah pergi LHDN tanya tapi tak membantu sangat dan firm accountings sekarang ni tak meyakinkan',\n",
       " 'Boon Boon orang macam gitu jangan kesian lebih lebih lagi Jenis ajak lepak tapi hadap phone baik aku buat aktiviti sendiri Dari duduk sejam Dua masa berkalu gitu je',\n",
       " 'Penah dapat chocotop punya la tinggi lingkaran dia buat..lagi tinggi askrim, lagi banyak coklat dapat.  ya allah kau curahkanlah rezeki tukang buat tu. Kalau dia single kau kawenkan dia ya allah..',\n",
       " 'prinsipnya mudah..lhdn original dia bagi surat..kita yg perlu terhegeh2 call mereka lepas dpt surat tu.\\n\\nlhdn scammers pula terlalu ambil berat sampai sanggup call bgtau ada tunggakan cukai. lhdn ori takde masa nak ambil berat sampai macam tu.',\n",
       " 'Dia dalam satu2 bangunan ni bukannya semua ada cubicle staff2 je. Kena ambik kira gak benda2 ni:\\n\\n1. Facilities - Lift, maintenance room, toilet, surau, kafe, bilik meeting etc. Contohnya toilet mungkin 200 sqf utk 1 tingkat x 10 tingkat = dah 2000 sqf. Belum campur benda2 lain lagi tu.\\n\\n2. Storage - Stor simpan dokumen2 LHDN. Kena kira dokumen2 pembayar cukai hantar nak simpan kat mana. Zaman2 pakai Cloud maybe baru 5-6 tahun. lain2 sebelum tu mesti pakai hard copy kan?\\n\\n3. Ruang tak dipakai - contohnya lobi, bumbung, ruang menunggu depan lif etc2. Kawasan tu walaupun tak dipakai masih akan diambil kira dalam kos penyewaan sbb benda tu mmg ada dalam bangunan.\\n\\nSo tambah tolak sana sini, luas per kakitangan mungkin akan jatuh ke standard yg biasa2 je\\n\\n#TakBackupLHDNpu\\nn #BerfikirSecaraK\\nritisDanKreatif #KBKK',\n",
       " 'U know that suddenly the food tasted better that day, Gordon Ramsay is shitting on those chefs.',\n",
       " 'Zaidi Zack bkn Penang saja kedah punya tp Perlis juga ada lah asalnya wilayah kedah, berani ke kedah ckp nk ambik Perlis balik.\\nSingapura tu Johor punya, berani ke Johor ckp nk ambik balik singapura..\\nOtak singkat saja yg suka claim Penang ini kedah punya tp tk nk belajar sejarah punca Dan sbb Penang bkn lg kedah punya, Perlis bkn lg kedah punya Dan singapura bkn lg Johor punya.',\n",
       " 'Ada yg boleh ajar tak cara untuk declare di lhdn? Sebab sy pun buat dropship je. Cuba nak declare sendiri (bukan upah agent buatkan). Kalau ada yg sudi ajarkan pm saya ye, dan saya akan bayar jika ada yg boleh ajarkan saya buat sendiri.',\n",
       " 'kira kasar .. ambik 28% untuk tax ..\\n\\nkurang lebih . 30k lah congak mudah ..\\n\\nsimpan figure tu dulu untuk selamat..\\n\\nbukan apa . kalau upah tax agent pon.. amount tu takkan lari nya... sebab nak bayar upah tax agent lagi .. hahahaha ..',\n",
       " 'Yang dpt surat nanti kita, bukan depa. So declare je.',\n",
       " \"Ketepi kan segala ego dan sentimen... think about the country and the people... we are big enough to work this one out...demi negara & rakyat tercinta. Buang yang busuk, ambik isi yang elok2 untuk dimakan bersama...bayan\\ng kan buah durian, nangka, cempedak & pisang setandan. We don't throw the whole buah\",\n",
       " \"As ex mcd staff, it's not hard to make chocotop, the reason why we constantly pause the selling of it is because the machine gets exhausted quickly which makes the product to be very, very melting, and not surivivng the hot chocolate dunking, or, the chocolate is past exceeded amount of ice creams it can be dipped.\",\n",
       " 'Dari list ni buleh nampak,even gaji RM 10k pun takkan pernah cukup.\\n\\nIbarat pepatah,besar periuk,maka makin tebal keraknya.\\n\\nGaji RM 5k,bukan bermakna perlu habiskan keperluan maxima sampai RM 5k.Teringat zaman mak ayah dulu,relax je tahu tak mampu bayar beban kereta,beli motor je.Nak bawa anak anak berjalan,sewa kereta.Bukan tiap hari pun bawa anak berjalan,tiap bulan pun belum tentu\\n\\nInternet kalau memang ada buat bisnes online,okay lah nak ambek yang speed laju.Sebab buleh bayar semula bil internet guna duit bisnes tu.Kalau takda buat bisnes tapi sengkak jugak nak ambek internet,data paling laju pulak,hehe buleh faham dah lebih memilih gaya hidup.Maka RM 10K gaji pun takkan ada penyelesaian.',\n",
       " 'Bila baca tulisan ni .. satu aje sebab yg boleh tolak byk2 tu.. sbb tak pernah buat efiling..\\nPcb tak di tolak bila gaji 5k tu tak de masalah sebenarnya.. sbb ada aje staff yg tak nak pcb n pilih zakat..\\nRasanya ni maybe cukai tambahan dah .. itu la sbb byk sangat..\\n\\nJadi mcm di suggest oleh semua..\\npergi la ke lhdn utk kesahihan.',\n",
       " 'Pelik LHDN pun tak tahu. Kutip tahu.\\nKalau ada bukti pembayaran, dicadangkan update manually dengan bahagian kutipan dan kemaskinikan e lejar supaya boleh dikontrakan dengan pengisytiharan melalui e-filing borang B. Jika ada refund, apply sekali jalan.\\nUntuk CP500 memang bayar upfront 6x setahun setiap 2 bulan.',\n",
       " 'Kenapa malaysia ni takde pelepasan cukai untuk ibu bapa ye..  sedangkan malaysia ni negara Islam, majoriti rakyat Islam.. ramai yg bagi duit bulanan pada ibu bapa.. anak2 yg lebih besar gaji biasanya akan berikan duit bulanan lebih tinggi kepada ibubapa. Patutnya kena jugak lah bagi pelepasan cukai untuk ibu bapa kan.. Ni pendapat saya laa..',\n",
       " 'Aku mmg bengang dgn lhdn. Bab nk potong gji org mmg laju. Bila nk mtk setelkn problem,keja hmpa jd siput babi slownya. Tlg bwt keja elok2 sikit bole x? Penat kmi yg keja ni, dipotong pulak tax nya..last2 dpt service mcm ni..puiii',\n",
       " 'Daniel Jey cakap lah apa pun..cai otak sejemput mcm tu tak boleh buat apa dah..sabo je la',\n",
       " 'Xmw cakap bnyak mat, bila kemajuan seiring dengan negeri2 lain, sanggop ja hadap jem berjam2 p balik qeja? Saja tanya',\n",
       " 'Aiyooo pentingnya simpan resit.\\nBoleh dapat banyak pelepasan Income Tax.\\n\\nTry masukkan Gaji Pekerja, Gaji CEO, Bonus, Zakat, Derma.',\n",
       " 'dulu masa i tinggal di hostel university, kadang2 pukul 3-4 pagi ade bau wangi jugak. Rupanya setan2 gang hostel ni buat nugget goreng, hotdog goreng. cheebye.',\n",
       " 'Makan la ko gaji haram. Jenis mkn gaji x sedar diri. Ko tangun la nnti. Yg kerja makan gaji sambil lewa tu sedarrr la ooooiii. Respect hanya untuk yg kerja bagus.',\n",
       " 'Ada pro n cont nya. Kalau boleh buat sendiri, better buat sendiri. Lagi byk kelebihan buat sendiri. Layanan dari auditor lhdn juga berbeza',\n",
       " 'Banyak org gomen buka company utk jadikan company tu supplier jabatan dia, atau jabatan jabatan yang berkait dengan dia.\\n\\nAda kes saya tau ex pengarah satu jabatan ni ada company tapi tak pakai nama dia, kalau ada tender keluar, company ni dok sapu job jabatan.\\n\\nSerampang 2 mata. Gaji gomen makan, tender jabatan pun dia sapu.',\n",
       " 'Bagi mana yang berkenaan. Bukan semua. Contoh kalau tak ada pendapatan sewa tak perlu bagi.\\n.\\nKalau kerja sendiri dan pendapatan masuk ikut bank, print penyata bank. Sediakan sebanyak mungkin supporting document.',\n",
       " 'Ya, lagi lagi kalau ramai ramai. Kadang kadang halus je bunyi nya, kadang tak berbunyi langsung.\\n\\nKnow-know bau hanat. Pun jangan tegur !',\n",
       " 'Antara pandangan yang saya boleh bagi,\\n\\n1. Kalau boleh, buat satu salinan resit belian barang sebelum serahkan pada customer\\n\\n2. Untung kasar business adalah dari mark up yang dicaj pada customer (delivery charge). Tapi mungkin ada kos lain seperti caj millage (minyak, maintenance kenderaan), bil utiliti (line telefon) dll yang mungkin guna duit kita sendiri. Pastikan rekod juga sebagai perbelanjaan perniagaan.\\n\\n3. Asingkan akaun business dan personal. Kalau ada pakai duit personal, claim balik dr akaun business. Biasanya modal ni adalah transaksi yang jarang dibuat (modal permulaan, tambahan) dan lain2 duit yang sendiri digunakan semasa operasi perniagaan adalah pinjaman/\\nadvance.',\n",
       " 'Betul tu.. simpan segala rekod 7 tahun.. lepas 7tahun dia mintak cakap je procedure hanya 7tahun..',\n",
       " 'Tan Boonheong wahh blh tahan u punya anjing ya..',\n",
       " 'Ayah, maafkanlah dia k. Tak baik bergaduh dan penjarakan dia. Ayah kan bekas tentera bekas komandor, mental mesti kuatlah ayah..\\nLagi satu, ayah kan dah tua, banyakkan lah bersabar, takut darah tinggi ayah meloncak naik. .\\nSabar k ayah..',\n",
       " 'i called lhdn, they say last year july pegawai buat mass audit so banyak yang kena audit, thats why tak keluar kerana sudah offset baki tunggakkan',\n",
       " 'Pling stai bila ot dia kira tk btoi  kita plk hari2 tulis brp hari ot brp jam ot sehari.. bila kita nk claim dia ckp \"ehhh ni sudah ada dlm sistem mcm mna u kira\"..ini semua lancau, tuan2 puan2 ..',\n",
       " 'Staff: Hi can I take your order?\\n\\nMe: 1 chocotop please.\\n\\nStaff: One moment ya',\n",
       " 'Ni dia dah roling duit gst yg patutnya bayar dekat kastam..\\n\\nBnyk kampeni yg cuai guna duit ni.. tax gst ni mmg terus direct bayar masuk dlm acc kampeni sepatutnya kita asing duit ni.. bukan guna..\\n\\nAsing dan masuk acc lain utk kita bayar pada kastam..\\n\\nNi bnyk yg terguna duit 6% gst tu.. kiranya kne bayarr je laa bukan lhdn punya psal ni..',\n",
       " 'Bila bini2 atau suami2 yg kerja lhdn cari makan secara online kena bayar cukai jugak. Tapi rasanya ramai jer yg tak bayar. Undang2 utk marhaen jer, bila dekat batang idung mereka pandai pulak ngelat. Mcm tu dikatakan rezki halal? Pui!!',\n",
       " 'Marissa Consultant menyediakan servis perakaunan & percukaian. Any inquiries boleh click link dibawah\\nwa.link/4bqep1',\n",
       " 'Kalau ikut proses dia,\\n\\n1)lhdn akan minta buat submission / document berkaitan cukai bagi tahun2 tertentu.\\n\\n2) Dh lepas proses ni bila dh ada amount persetujuan selepas semakan dokumen / tiada dokumen. Akan ada amount cukai dibangkitkan sama ada bertambah atau berkurang.\\n\\n3) Kena bayar amount tersebut selewatnya 30 hari daripada tarikh dibangkitkan amount cukai.\\n\\n4) Kalau tiada pembayaran atau masih ada juga tunggakan, lhdn akan hantar email atau call (email dan nombor telefon yang berdaftar dalam efiling) untuk peringatan. Dalam masa sama ada cawangan lhdn hantar surat tunggakan ke alamat rumah(yg berdaftar dalam efiling)\\n\\n5) Jika selepas proses ke 4 masih ada tunggakan baru lhdn akan buat tuntutan melalui mahkamah.\\n\\n6) masa ni sama ada digarnis akaun bank(kalau ada duit dalam akaun bank) or di bankruptcy(teng\\nok pada amount) if tiada kerjasama langsung daripada pihak pembayar cukai.\\n\\nSeeloknya buat submission and bayar jika ada cukai kena bayar. Jika ada terima surat tuntutan, hubungi pegawai yg handle kes utk proses rayuan or permohonan semakan semula.',\n",
       " '3- gelojoh yah sebb sblm ni xde selup2 dlm kete, 1st katekan\\n\\n4- risau x kenal lubang dpn dgn belakg risau tesilap sodok...',\n",
       " 'Selangor ni mmg dh lama maju..penuh dgn org luar..luar negeri Dan luar negara..nk kena JAGA aje sekarang.jaga kebersihan,JAGA\\nkeselamatan, jaga tanah jgn kena tarah..haha empangan Dan sungai sebab sumber air negara..Tak yah buat rumah banyak..jadi banjir Dan sempit.tak yh ckp banyak buat kerja dgn jujur ,ikhlas Dan amanah',\n",
       " 'William Chong wow.. how? I saw usually his views 1.5k only.. but on TT banyak jugak',\n",
       " 'LHDN ni mmg bengap. Orang amik risiko, buat duit, bawak duit masuk Malaysia, bangunkan ekonomi Malaysia, belanja beli barang Malaysia, patutnya senangkan lagi orang tu generate income untuk Negara.\\n\\nIni tidak, lagi banyak, duit bawak masuk, lagi teruk kena kerah.\\n\\nKalau takde LHDN ni, kaya raya dah rakyat Malaysia. Tp ape nak buat, kalau buat duit lebih2 kene bayar lebih. Baik buat ala kadar je la.. just cukup nak rasa untung.',\n",
       " 'Betul\\nNanti lepas submit income tax tahun depan Bulan 3, jika Ada lebihan penolakan income tax tersebut, akan Ada refund.\\n\\nCepat buat submission, cepatlah dapat refund. Dan pastikan, claim pelepasan2 Yang layak.',\n",
       " 'Sebenarnya tak perlu potong gaji, gaji ciput jer. Nak potong, potong elaun sampingan, terutamanya elaun keraian.',\n",
       " 'Chong Fui Ming really best,my cucu pasang lagu ini dr Klang ke Tganu tanpa jemu',\n",
       " 'Dulu bayar guna apa ? Online atau bayar di kaunter?\\nCuba masuk e-lejar dan dapatkan bukti pembayaran melalui rekod dlm e-lejar.\\nKalau byr online, kdg kdg lhdn email receipt /akuan bayaran, kdg kdg tak ada. Kalau bayar di kaunter bank, mmg tak ada resit. Cuma guna slip bank in yg dah dichop oleh bank sbg bukti.\\nKalau bayar di kaunter lhdn, ada resit fizikal, kalau sgt sgt perlu resit tu, boleh write in dan mintak salinan, kena nyatakan sebab perlu resit. Susah sikit nak dpt. ada kala kita dapat tapi lhdn kata sepatutnya dia tak boleh bagi. Ikut nasib',\n",
       " 'Ikut pengalaman saya mula2 kerja takyah bayar tax pun tapi arwah ayah suruh declare juga. So bila gaji dah kena tax senang la lepas2 tu. Tanggungjawab kita declare je.',\n",
       " 'lhdn minta declare 7 tahun tu . aduii..ni dia iku average yg dah declare tu.. penat mcm. ni.. suka hati dia agak2 income kita',\n",
       " 'Declare lambat kot.. sy pun pernah dpt cp38.. sbb dh sampi surat untuk delcare, tp sy tk buat..',\n",
       " 'Kalau cinta sudah dibuang\\nJangan harap keadilan akan datang\\nKesedihan hanya tontonan\\nBagi mereka yang diperkuda jabatan\\nWo o ya o ya o ya bongkar\\nWo o ya o ya o ya bongkar\\nSabar, sabar, sabar dan tunggu\\nItu jawaban yang kami terima\\nTernyata kita harus ke jalan\\nRobohkan setan yang berdiri mengangkang\\nWo o ya o ya o ya bongkar\\nWo o ya o ya o ya bongkar\\nWo o ya o ya o ya bongkar\\nWo o ya o ya o ya bongkar\\nPenindasan serta kesewenang-wena\\nngan\\nBanyak lagi, teramat banyak untuk disebutkan\\nHoi hentikan, hentikan jangan diteruskan\\nKami muak dengan ketidakpastian dan keserakahan',\n",
       " 'Liz Laurencia makcik..sikit2 geng bn letak jawatan sbb dah mula muak dengan perompak..makci\\nk\\nMasih nak menjilat lagi ke perompak?',\n",
       " 'cakap boleh lah.. piji besok menang korang akan jawab apa..? \\nPenang tuh semua rumah murah.. terima kasih PH',\n",
       " 'Pulau Pandan jauh ke tengah,\\nGunung Daik bercabang tiga,\\nHancur badan di kandung tanah,\\nBudi yang baik di kenang juga.',\n",
       " 'Kalau ibu bapa di hati selalu ingat pada anak\\nTapi pada pada hati seorag guru dia ingat pada anak anak dan anak anak murid\\nItulah ingatan seorang guru. Terima kasih cikgu',\n",
       " 'I remember just bought a new one and went to the class. I donated half of the papers to my classmates for BM karangan. Teacher asked write only in school papers',\n",
       " \"I'm more of a chocolate flavour kind of guy. I missed the days when they had chocolate as a permanent flavour\",\n",
       " 'Nick Hew kn.. tpi komen dn like sikit je..',\n",
       " 'Air Selangor sudah mula merompak! Caj minima air naik dari $10 sebulan ke $36 sebulan. Dirompak $400 setahun walaupun tak guna air.',\n",
       " 'Sejarah sebenar menjadi keliru apabila cuba di sesuaikan dengan Islam. Contohnya kisah Hang Tuah pergi ke Makah pada abad ke 8. Namun jika mengikut Islam pula Islam cuma di katakan sampai ke nusantara seawal abad ke 11.\\n\\nMaka bila berlaku perbezaan begini semestinya fakta sebenar di tolak kerana ianya tidak selari dengan Islam.',\n",
       " 'Declare je..alhamdulila\\nh dah 10 tahun declare, ada tahun xkena cukai, ada tahun kena cukai.\\n\\nHidup lagi tenang Kalau declare dari lhdn buat anggaran utk kita, lagi seksa Sbb kena byr dulu pahtu baru bincang',\n",
       " 'Yang naikkan bilboard fitnah menghasut itu pada tahun 2016 adalah DAP.\\n\\nYang mengadu tentang gambar bilboard menghasut yang dinaikkan DAP dan mahukan PDRM bertindak minggu lepas ialah DAP juga.\\n\\nBila orang UMNO buat laporan polis mengenai fitnah lama yang diulang, Koming pun padam posting.\\n\\nTeruk betul cara kempen menghasut Koming dan DAP.',\n",
       " 'Kami menyediakan perkhidmatan freelance account kepada syarikat Enterprise, Sdn Bhd dan Organisasi tertentu.\\n\\nMenyediakan full set of account secara mingguan, bulanan dan tahunan serta submission tax ke LHDN\\n\\nAntara dokumen yang di sediakan\\n Balance Sheet\\n Statement of Profit & Loss\\n Trial Balance\\n Management Account\\n Tax computation\\n Submission to LHDN\\n\\nUntuk sebarang pertanyaan boleh terus tekan link di bawah\\n\\nhttp://\\nwww.wasap.my/\\n+60145108746/\\nakaunservis',\n",
       " 'Giler sgt..sbb dia tau tak ramai org nak simpan resit2 dan tak ramai org sanggup g mengadap nak selesaikan.\\n\\nMasih terasa sakitnya sy dah 2x kena byr balik beribu2 sbb audit tahun2 terdahulu. Walhal tak pernah pun miss buat taksiran atau menipu cukai',\n",
       " 'Menangkan HARAPAN KITA BOLEH\\nMenangkan HARAPAN KITA BOLEH\\nMenangkan HARAPAN KITA BOLEH\\nMenangkan HARAPAN KITA BOLEH\\nMenangkan HARAPAN KITA BOLEH\\nMenangkan HARAPAN KITA BOLEH\\nMenangkan HARAPAN KITA BOLEH\\nMenangkan HARAPAN KITA BOLEH\\nMenangkan HARAPAN KITA BOLEH\\nMenangkan HARAPAN KITA BOLEH\\nMenangkan HARAPAN KITA BOLEH\\nMenangkan HARAPAN KITA BOLEH\\nMenangkan HARAPAN KITA BOLEH\\nMenangkan HARAPAN KITA BOLEH\\nMenangkan HARAPAN KITA BOLEH\\nMenangkan HARAPAN KITA BOLEH',\n",
       " 'Biasa resit ni dorang akan minta n minta n minta sampai 7tahun.....kala\\nu waktu minta tu Kita xleh bagi sebab hilang or pudar. Trus dorang kata tipu n trus xtrima Alasan Kita ...walaupun resit yg sama Kita dah bagi salinan banyak kali..\\n\\n\"Lembaga Hitam Dan Ngeri \" mmg menakutkan',\n",
       " 'Bkn nk ckp semua la, ada segelintir agen declare cukai just lapor basic salary, tetapi komisen yg diterima berkali ganda dari basic salary tidak dilaporkan. sedangkan company telah menghantar maklumat komisen CP58 kpd lhdn, lhdn tunggu tax payer submit tax je. bila dia trace tax payer x declare tax tu yg dia keluarkan surat jumlah cukai kena bayar + 45% penalti',\n",
       " 'Betul, tapi pastikan mmg pendapatan banyak tu je, klu ada buat agen, ada dpt CP58, berhatix..',\n",
       " 'Lepas mengerat boleh mengala dah laaa, lepaih boleh taboq benih padi pulak beda musim depan. Anak balang kaca mana tau apa, bau keleboq pun tak penah, tu yg mudah koyak',\n",
       " 'Kenapa bawah pakatan harapan di selangor sejak kerajaan ph berkuasa aku memang x pernah dapat langsung bantuan kewangan. Nak syarat itulah inilah, orang dalam kesusahan bagi ajalah.',\n",
       " 'PCB ni potong dari gaji atau majikan yg tolong bayarkan?\\n\\nJika dah memang tiap2 tahun ada potongan automarik, sepatutnya tiada isu penalti. Cukup sekadar bg surat ingtan beberapa kali & tindakan penalti hanya boleh dikenakan selepas tempoh yg difikir munasabah.\\n\\nDh la tiada sebarang guideline atau prog kesedaran diberikan LHDN. Patut buat la road tour atau LHDN wajibkan majikan buat induction / awareness couse untuk staff lantikan baru.',\n",
       " 'Kalau Lhdn dah audit, Dan Kita bayar denda /akaun tahun yg dinyatakan, Ada kemungkinan ke LHDN ulang balik audit tahun yg Sama .\\nDan Kita still kena bayar ? atau just nyatakan bukti bayaran denda /akaun tu dah dibayar.\\n\\nSiapa tahu?',\n",
       " 'Declare tetap kena declare. Lepas declare baru tau kena bayar atau tak',\n",
       " 'Kami menyediakan perkhidmatan freelance account kepada syarikat Enterprise, Sdn Bhd dan Organisasi tertentu.\\n\\nMenyediakan full set of account secara mingguan, bulanan dan tahunan serta submission tax ke LHDN\\n\\nAntara dokumen yang di sediakan\\nBalance Sheet\\n Statement of Profit & Loss\\n Trial Balance\\n Management Account\\n Tax computation\\n Submission to Lhdn\\n\\nUwntuk sebarang pertanyaan boleh terus tekan link di bawah\\n\\nhttp://\\nwww.wasap.my/\\n+60175069981/\\nakaunservis',\n",
       " 'Semua pejabat LHDN telefon tak berangkat, kita dpt surat saman nk tnya dgn sapa pon tak tau.. Kesian client saya,, email juga tak berbalas,,\\nLmbt bayar penalti menanti..\\n\\nNak saya bantu guide ttg Tax,, boleh pm sy,, area johor shj ok..',\n",
       " 'Bt e filing..kalo x layak dipotong cukai dan dpt pelepasan akan dpt refund semula tp pada tahun berikutnya..had\\nir saja ke cawangan lhdn sis..inshaAllah\\nmereka bantu..',\n",
       " 'kalau majikan bayar cukai tanpa potong gaji kita, jawab yes.\\n\\nkalau ada potongan PCB, jawab no.',\n",
       " 'Kena tengok juga kawasan mana selangor yg maju, byk lagi kawasan yg tak membangun.\\n\\nSempadan perak selangor...\\n\\nNegeri mana pun Klu bersrmpadan dgn Kuala Lumpur pun akan dapat limpahan...',\n",
       " 'Dah bg doc lengkap pon nk kira2 anggaran dah kenapa.. Lepastu nk kena bayar dulu, citer kemudian,..',\n",
       " 'Sy guna niagawan utk rekod transaksi in out.\\nMudah bila boleh terus masukkan ke Lejar.\\n\\nRoughly dah boleh nampak profit lost.\\n\\nTapi hujung musim , accountant (hire luar) akan kemas kini, buat kiraan dan pelarasan semula cth if asset yg ada susut nilai.\\n\\nFile resit semua siap tersusun.\\n\\nMudah kerja akauntan nak cross check juga Vs acc statement.',\n",
       " 'Guys..ada yg dh dpt refund tax? Pelik tahun ni dah bulan june lhdn masih belum byr refund..tahun2 sudah awal bulan 5 dah byr',\n",
       " 'Start kena declare cukai bila ada transaksi@aktif\\ntak kira sama ada cash, guna akaun personal atau akaun semasa.',\n",
       " 'First time ride SG LRT salah jalan sampai 3 kali. Rupa2 nya kena tunggu LRT seterusnya kalau nak ke arah lain di platform yg sama  plus tak tau pulak LRT dia comel je',\n",
       " 'Jing Jack Jack Jing\\nSumber Melayu menyatakan bahawa India dahulunya di kenali sebagai benua Keling atau benua Hindustan.\\n\\nManakala perkataan Kalinga itu pula adalah istilah baru yang di wujudkan oleh penjajah. Hamba tidak menggunakan sejarah Malaysia kerana Malaysia adalah ciptaan penjajah.\\n\\nGroup ini fokus kepada keilmuan Melayu dan di namakan Melayu Raya. Jika anda tidak mampu menerima keilmuan dari sumber Melayu maka silakan cari sejarah dari sumber lain.',\n",
       " 'Pernah introduce kat anak, terus suka. Kena order 3.\\n\\nMeleleh menjejeh jejeh\\n\\nAnak tanya \"orang tu marah ke?\"',\n",
       " 'Aku rekomen air coklat Dutch Lady yg botol punya dgn gula2 Polo yg bentuk ring tu. Minum sampai habis sambil makan Polo dan nikmatilah kesan hebat. Gud lak',\n",
       " 'Bob Gp bekerja selagi boleh berkhidmat.\\nTu pentingnya pemilihan(PRU).\\nKadang2 berlakun pun takpa(bawak backhoe),dari berlakun guna modai \"tak sempat\",sebab urusan luar negara.\\nPala toya..',\n",
       " 'Saya pun dah pernah kena mcm ni. Yg paling kelakar, pernah dpt surat, kata ada lebihan bayaran. Saya tak tuntut, sbb ingat, next year, tu, akan dipotong dr jumlah yg kena bayar. 2 thn kemudian, tiba2, dpt surat \"cinta\" kata saya ada \"terhutang\" sebanyak sekian2. Bila tanya, serupa je jawapan, yg dulu tu anggaran  saya tetap kena bayar jumlah yg yg konon2 terhutang tu',\n",
       " 'Tuan gi je mana2 opis yang signboard nya ada tulisan chartered accountant. Mereka boleh bantu.\\n\\nSy nak bantu jauh sangat.. balik kuala ketil pun setahun 2 3 kali je\\n\\nDulu2 boleh la merata outstation. Skg dah penat la. Dah 40an. Dah malas..',\n",
       " 'Abdul Rahim Omar isu banjir di Selangor x selesai, malah semakin teruk\\n\\nSultan Selangor dh bgtau kerajaan negeri Selangor pasal banjir, kat situ je dh nmpak jelas dibawah tanggungjawab kerajaan negeri Selangor.. ..\\n\\nconfirm salah kerajaan negeri Selangor\\n\\nterbukti dibawah tanggungjawab kerajaan negeri Selangor\\n\\nMB suruh segerakan projek tebatan banjir\\n17 Sept 2022\\nhttps://\\nwww.sinarharian.\\ncom.my/\\nampArticle/\\n221720\\n\\nKerajaan negeri memohon Jabatan Pengairan dan Saliran (JPS) Selangor menyegerakan beberapa projek tebatan banjir sebagai persediaan menghadapi situasi hujan luar jangka.\\nMenteri Besar, Datuk Seri Amirudin Shari berkata, mengikut pelan, projek tersebut dijangka bermula Januari depan namun berharap dilaksanakan pada November tahun ini menerusi peruntukan kerajaan negeri diluluskan sebanyak RM700 juta..\\nprojek itu melibatkan kawasan Taman Sri Muda, Jalan Meru dan Damansara yang menjadi titik panas lokasi banjir.\\n\\nJPS Selangor dibawah kerajaan negeri Selangor\\nhttp://\\nwater.selangor.g\\nov.my/\\nindex.php/ms/\\n\\nSultan Selangor menasihati kerajaan negeri Selangor supaya serius tangani banjir\\nhttps://\\nwww.hmetro.com.m\\ny/mutakhir/\\n2022/03/820730/\\nsultan-selangor-\\nnasihat-kerajaa\\nn-negeri-serius\\n-tangani-banjir\\n-metrotv\\n\\n14 Mac 2022\\nhttps://\\nyoutu.be/\\nYOyeXk98Z8k\\n\\nhttp://\\nwater.selangor.g\\nov.my/\\nindex.php/en/\\n14-mengenai-kami\\n?start=10\\n.JPSS adalah singkatan nama bagi Jabatan Pengairan dan Saliran Negeri Selangor, salah satu diantara Jabatan dibawah Kerajaan Negeri Selangor',\n",
       " \"June Chan This is so real.. I just receive a huge profit from Mrs Grace  I'm so much excited and can at least afford my bills, All thanks to Mrs Grace who brought joy into my life and also the life of my family. God bless her. I never gave up after much difficulties but ever since i came in contact with Mrs Grace, my life changed\\nYou can contact her via on link below https://\\nwww.facebook.com\\n/\\ngrace.alisa.robe\\nrt\",\n",
       " 'Sy pon dapat mcm ni.. Padahal makan gaji.. Da tolak tax.. Tp dlm system declare income 0 - salah declare..system\\ndia mslh declare kita kena.. Bnd ni trigger after 3 tahun.. Pergi first time lhdn suh bayar lg skli.. Study2 tny org sna sni tny company.. Kata xperlu mmg tax da contribute to lhdn.. Ptt kn penalty tp x berbaloi la kn penalty bukn x bayar.. System mslh..belum setel lg mlsh.. Nanti nk pergi lagi lhdn buat rayuan.. Xdpt claim tax terlebih bayar pon xpe asalkn setel mslh ni.. Kol mmg xdpt',\n",
       " 'Sayuti Long ..\\nJangan buat anak Malaysia ketawa laa.\\nNergeri kelatan kes tak bersuara kah ??\\nOtak Double standard!!!\\nMaruah tiada ...\\nPatut pas di tolak seumur nya ..\\nCina , India , melayu ..\\nUndi BN pun akan say NO to pas.\\nSebab semua nya .\\nDouble standard',\n",
       " 'Yang naikkan bilboard menghasut tersebut adalah DAP pada tahun 2016.\\n\\nYang mengadu tentang gambar bilboard menghasut yang dinaikkan DAP dam mahukan PDRM bertindak pada tahun 2022 ialah DAP juga.\\n\\nTeruk betul cara kempen menghasut Korming dan DAP.\\n\\nhttps://\\ntwitter.com/\\nNgaKorMing/\\nstatus/\\n1589187457991708\\n673/photo/1\\n\\n#SKMM\\n#PDRM',\n",
       " 'Mula aku dengar videonya aku meluat. Bila disebut TS Lanang tu pembelot atau petualang. Aku lupa tapi begitulah. Hampir 5 tahun aku mengajar teks SM tahun 80an. Hampir semua sudut aku studi. Salah satu karya agung bangsa Melayu. Setahu aku orang INI bukan bidang sejarah, budaya mahupun tamadun Melayu.',\n",
       " 'Chad Jack I doubt you never seen any vijio from uncle Gordon, when he said seasoning he throw bunch of salts',\n",
       " 'Digantung sekurang2nya 2 perlawanan kesalahan bahagian D\\n\\nBahagian D\\n- sekurang-kurang\\nnya 2 PERLAWANAN, kerana menyerang (menyiku, menumbuk, menendang dan kekasaran seangkatan dengannya) terhadap pemain lawan dan orang selain pegawai perlawanan.\\n\\nPemain import J..eemmm',\n",
       " 'Dap Dap dap dap dap dap dap dap dap dap dap dap dap dap dap dap dap dap dap dap 1000x',\n",
       " '60Duo Nian Liao ,Ren Min Huan Yao Ren Ma ?Xuan Xi \\nMeng ,Ren Min Neng . Guo Jia He Ren Min Hui Geng Hao .',\n",
       " \"Ayen's Fl heheheeh,.. sy x suka provoke.. sy bg salam ja..  rezeki JDT . Lain kali pula rezeki KFA\",\n",
       " \"Cuba bagitau secara details ini enterprise atau sdn bhd dan berapa akaun bank yang terlibat.\\n\\nSaya assume enterprise. Jika enterprise segala duit masuk (sales) consider gaji. Meaning, bayar tax dulu baru boleh guna duit.\\n\\nJika sdn bhd, guna dulu baru bayar tax kemudian (jika ada untung).\\n\\nTuan cakap, 'akauntaun' itu kira duit keluar masuk saja. Dan ada untung 250k. Tapi pada masa yang sama tuan cakap dalam akaun duit tak sebanyak itu. Dua perkara ini tak tally. By right jika perniagaan ini 90% online sudah pasti dengan bank statement saja hal akaun ini dpt diselesaikan.\",\n",
       " 'Majikan ada bagi CP58 utk tax declaration x?\\n\\nThe Income Tax Act, 1967 (ITA) imposes the responsibility to companies to issue a form CP 58 on any incentives (whether in monetary form or otherwise) to its agents, dealers or distributors.',\n",
       " 'First sekali standby duit denda. Nnti tanjat boboi\\nSeken study sket bape pendapatan kene cukai dari 2015 tu. Dan cuba kire. Dari situ dah boleh agak dah kene denda ke x.\\n\\nKetiga... cari sume resit , document\\nKeempat g declare dan pasrah je.\\nKelima ,lepas dpt amount kene byr or x, baru lah strategise nk buat rayuan ke ape ke.\\n\\nGood luck',\n",
       " 'LHDN hanya email atau surat sahaja.. tu pun surat reminder atau surat saman\\n\\nkalau dia call suruh jumpa, pegawai minta jumpa di opis LHDN hari bekerja sahaja..',\n",
       " 'Aku dulu ok je minum susu, dh besar ni, ada simptom lactose intolerant nnth kenapa\\nTapi aku telan je, aku minum je kalau aku nak  sejam dua lepastu cirit la tapi takde pun rabun,ngarut je\\nTak tau sains aliran apa dia belajar',\n",
       " 'Ayah. Cuba tanya,depa tak penat ke nyanyi lagu sama berulang kali berhari-hari. Tapi part chorus tu je. Cuba nyanyi satu lagu tu sampai habis. #sekadarmencadan\\ng',\n",
       " \"Ann Wong agree with Ur comment although I don't like ZH too but we really need to give others ppl chance. No yet try mah. Different teacher teaching maybe this student can score A++\",\n",
       " 'Dah jadi novel ni.. bila seorang tu lebih pilih orang yang buli dia, selalu belasah dan ludah muka dia, berbanding kawan sepermainan yang selalu bermain-main sama dengan dia. Mereka lihat je dari jauh.. kesian ada, hairan ada, menyampah ada, macam-macam ada.. dengan ludah-ludah yang bertepek diwajahnya.. semoga keganasan rumahtangga ini tidak berulang.',\n",
       " 'tak sampai seminggu dapat surat cinta dari LHDN, ada seseorang telefon pasal cukai tertunggak. konon dari LHDN.\\n\\nTempelak orang yang call tu.\\n\"Tak payah ngada nak buat cerita. Dah dapat surat dari LHDN.\"',\n",
       " 'Jangan mudah masuk jerat, benda senang buat jer, nanti dia tukar statement guna akta itu ini, tk pasal kene penalti..haha..\\ndemi kpi dan bonus, ape pon boleh jadi bhai..',\n",
       " 'Dh call dh dpt jwpn then tny sni smula\\nSiot je  ad catit siapa nme yg ckp tu x \\n\\nDeclared je la',\n",
       " 'selamat mengundi rakyat kelantan..xpili\\nh ph pon xpe..negeri selangor ,pulau pinang bwah balaci d.a.p ad untuk cari kerja..',\n",
       " '1. Majikan kena isi cp58, dan mesti beri lhdn kalau diminta.\\n2. Lhdn dah buat taksiran anggaran berdasarkan income tu.\\n3. Buatlah pengemukaan (e-filing) yg sbnr. Tuntutlah pelepasan yg sewajarnya\\n4. Surat yg diterima tu hanya surat tunggakan cukai, betul tak? Kalau betul, dapatkan notis taksiran dan pengiraan cukai dari unit audit, lhdn utk semakan.\\n5. Submit borang n untuk lanjutan masa.\\nSubmit borang q selepas dpt lanjutan masa.\\n6. Kalau tax yg lhdn kira tu besar, appoint tax agent la untuk buat rayuan. Buat sendiri nanti mcm org buta meraba raba .',\n",
       " 'Boleh tapi simpan resit n make sure byr zakat lebih dari cukai lhdn . Even u bayar zakat pun, u tetap kne bt declaration . Laporkan pada lhdn',\n",
       " \"Orang bila dah langgar bai'ah dia jadi lagu tu la..taktahwan..\\ndulu lain sangat.. sekarang bila dah dok bawah DAP terus watak jadi lain.. semoga dia bungkuih la Kali ni..\\n#pnbest\\n#best\",\n",
       " 'Macam lah kau org boleh buat semua sekali..dah bercium mulut dah dgn penyamun..nyany\\ni lah lagu hoi..hoi..ya..h\\noi beramai ramai..',\n",
       " 'Dgn lhdn ni bagi yg dia minta sahaja. Selagi dia tak minta jangan bagi secara sukarela . Penyata untung rugi & kunci kira2 sahaja. Lejar/dokumen lain selagi dia tak minta tak perlu bagi. Jgn bermurah hati sgt dgn mereka sebab mereka belum tentu ada rasa kasihan pada kita',\n",
       " '\"Deyy..apa dia mau makan...cipat laa..!\"\\n\"Diyya mau makan bryani taruk tom yam tapi mau rasa serupa kari kambing laa..appa macam mau bikin ayya..?\"\\n\"Chitt..kasi dia makan itu kerusi laa..tadda wottak punya worang..!\"..',\n",
       " 'Bila katak nampak makanan nye pasti dikejar , memang tak dipaksa pun, tp siape yg letak makanan tu, supaya katak tu kejar.',\n",
       " 'Hahahha baru faham! Patut la kadang tunggu lama jugak. Padahal order nya chocotop jek!',\n",
       " 'Glorious Dafeelza muda tapi jilat penyamun tak guna jugak.. Ko dah koyak ke? Selamat pengantin baru. Kohhh kohhh   https://\\nyoutube.com/\\nshorts/\\nmlO7quNA7lQ?feat\\nure=share',\n",
       " 'Mana janji air percuma PH?\\n\\nKenaikan tarif air komersial bagi Selangor, Kuala Lumpur dan Putrajaya adalah amat tidak tepat pada masanya.\\n\\nTarif yang naik hampir 30% dari RM2.07 kepada RM2.62 bagi setiap meter padu air tidak membantu keadaan inflasi yang tinggi ketika ini.\\n\\nHanya akan menambah kepada kos perniagaan dan harga bagi semua jenis barangan dan servis.\\n\\nBila harga barang naik lagi, korang salahkan kerajaan pusat pula.',\n",
       " 'Jdm laju lagi\\nNak jugak honda\\nSbk pun laju\\nNak honda jugak\\nIni semua syikkk',\n",
       " \"Steven Choo if no comment, dont start to comment at all. Be responsible for your own statement. If you make a statement, be ready to answer for the statement you make. It's basic responsibility.\\nIts also called accountability.\",\n",
       " 'Tapi serius, trick untuk saya masukkan sikit aiskrim dalam kon dan sebelum masukkan dalam coklat tu, saya macam goyang atas bawah supaya aiskrim masuk dan melekat dalam kon. Buat kena cepat kurang dari 5 saat lepastu angkat balik. Kalau ada yang tak kena coklat, celup balik kurang 5 saat.',\n",
       " 'Mana2 pun boleh as long bertanggungjawa\\nb and kalau boleh ada office or tahu dimana tax agent/\\nfreelance beroperasi. Sebab senang cari if in future terpilih untuk pematuhan.\\n\\nBila dah submit bukan bermaksud dh 100% selesai. Ianya hanya permulaan sahaja. Kita declare, lhdn semak and tiada red flag dari segi borang, lifestyle or sumber pihak ketiga. Kira settle dah jika selepas 7tahun tidak terpilih.(tak terpakai jika nature busines/\\ntransaksi berkaitan dengan kerajaan)',\n",
       " 'kena tgk dulu pendapatan tahunan tu berapa..kalau melebihi36k setahun,mmg akan dikenakan tax so wajib declare efiling\\n\\nsekiranya bawah drpd itu boleh juga declare efiling dan xkena tax laa..cuma better declare sahaja supaya LHDN xcari nnt',\n",
       " 'Declare je. Nanti summary statement tu kata kena bayar ke tak, kalau tak kena.. takpe. Selalu bawah 36k mmg tak payah bayar apa\\n\\nDeclare tetap perlu declare.',\n",
       " 'Jangan direct pergi lhdn. Memang terus kena denda. Cari dulu dokumen2 yang ada, buat management account dulu, kira tax dulu baru submit. Tapi memang akan kena denda la jawabnya sbb dah lama.',\n",
       " 'Kalau dulu sudah pernah declare, maksudnya ialah sudah ada no fail cukai, maka kena isi setiap tahun bagi tahun2 yg berikutnya walau pun kadar gaji bawah RM36K. So sama ada kena cukai atau tidak nanti akan dimaklumkan oleh mereka.\\n\\nYg dimaksudkan tidak perlu declare itu ialah sekiranya mmg selama ini belum pernah declare dan mmg selama ini belum buka fail cukai di LHDN, dalam keadaan income mmg bawah RM36K setahun.\\n\\nBegitu yg saya faham.\\n\\nSekiranya pernah declare, maka kenalah declare seperti biasa. Maybe dulu income kencang dan pernah declare, tetapi skrg income slow. Walau pun slow bawah RM36K, declarelah juga. Jika tidak declare maka pihak LHDN akan tolong kira cukai anggaran dan kalau tiba2 ada penalti, ia lagi menyakitkan...',\n",
       " 'Bayar 1100\\nOrg sewa rm1000\\n\\nSaya amik kira, keuntungan dapat bayar rumah tu sikit aje bulan2.\\n\\nCukup 30tahun dah dapat rumah bayar 10% aje bebulan.\\n\\nOkay lah tu.',\n",
       " 'Ya, saya pernah kena, bayar balik 800++ sebulan, selama + - 6 bulan kalau tak silap. Kesnya LHDN mintak segala resit, punyalah susah saya kumpulkan balik, last 2 kena jugak 5k++.',\n",
       " 'Pernah juga encounter bau wangi masa i jogging waktu malam di taman. Only happened 2-3 saat aje. Lepas tu bau hilang',\n",
       " 'Mase ni zaman gst. Ade perniagaan bole dapat rebat 6% dari pembelian barangan (baja,racun,ala\\ntan2 etc) bila submit bole tolak dpt kat kredit tu.\\nKesilapan family guna rolling duit yg dibagi utk dptkan rebat ni ntk buat niaga .\\nSy usaha bayar tiap2 bulan mase tu.',\n",
       " 'betul doh lagu tu masa keluar aku terus cop lagu rempit nyanyi bila pegi karaoke jamban',\n",
       " 'hi guys could it be because they change their new website so many bugs? so lewat update lewat bayar balik etc. i think its new coz last year website not like this',\n",
       " 'Kalau biasa declare sebelum ni dan memang membayar cukai sila declare juga. Cuma bezanya kali ni mungkin tak perlu bayar. Kalau tak declare macam mana lhdn nak tahu yg kita ada pendapatan? E filing adalah sistem taksir sendiri dan sebagai platform unt kita maklumkan kpd lhdn berapa pendapatan kita dan samada kena atau tidak cukai.',\n",
       " 'Pergi ke pejabat lhdn, tgk apa puncanya kena penalti tu.. Selalu ada benda yang diorang trigger, contoh pembelian cash kereta, atau rumah. Pergi ja semak, kalau mmg tiada, selalu xkena apa pun..',\n",
       " 'Keong Lee Itulah..kena clorok sekejap je bersih, lepas kena kencing otak PH Kotor kembali..ICERD,\\nUEC, LGBT, hak tanah 999 tahun semua dia minta.Sek Venikular dia cakap mana cukup maaaa',\n",
       " 'Pada Pendapat Saya lah..\\nIni Hanya Sekadar Pendapat je..\\nPendapat Yang Saya Bagi Ni Bukanlah Pendapat Yang Terbaik.. Mungkin Ada Pendapat Yang Lebih Baik.. Saya Hanya Sekadar memberi Pendapat Je.. Macam Ni lah Mungkin Pendapat Saya Tak Sama Dengan Pendapat Orang Lain Atau Tidak Sependapat. Akan Tetapi Saya Berharap Pendapat Saya Boleh Diterima.. Walau Ini Baru Pertama Kali Saya Memberi Pendapat.. Dan Saya Minta Maaf Seandainya pendapat saya Tidak Sependapat Dengan Anda Semua.. Beginilah Pendapat Saya..sekian trima kasih.',\n",
       " 'Baru tahu lagu ni cover balik daripada kumpulan Black Dog Bone(yang ada satu lagu raya yang popular).',\n",
       " 'Bagi saya . Banyak ilmu pawang, tidak ori. Sudah ditipu oleh jin. Asal dari warid auliak Allah. Atau dia sendiri wali. Bila penganti nk sama juga mencarik adat, ambik jalan jin jadi penolong.Banyak\\nrosak zaman sekarang ni.',\n",
       " 'Nampak perkataan JUJUR tu, cuma nak meluahkan perasaan la. Selalunya tax payer yang x jujur. Dokumen itu ini taknak bagi. Bila tax agent kesan ada pendapatan lain, dia xnak declare. Taknak provide document sebab taknak kena cukai. Kena cukai tinggi salahkan tax agent buat kerja x betul sedangkan dokumen dia bagi hampeh. Asik zikir saya rugi takkan kena cukai. Rugi ni sesekali boleh caya, kalau dah 4-5 tahun berniaga rugi sepanjangnya tu ada sikit la bohongnya. Haha.\\n\\nEh ni x kata tukang post. Haha. Sekadar meluah perasaan disini. Hehehe.',\n",
       " 'monthly mmg kena potong pcb kan?\\nsepatutnya kena declare.\\ncall company lama, mntk EA form.\\nkdg2 cukai kita tu skit, tp disebabkan kegagalan kita declare, penalty tu lg tinggi.',\n",
       " 'Baki cukai terbayar kali ke 2 akan ditolak dgn baki cukai utk tafsiran semasa sbb menggunakan kod baki cukai semasa.\\n\\nNamun Jika ada lebihan cukai pada tahun sebelum nya disebabkan terlebih bayar pihak lhdn akan refund semula.\\n\\nJika ingin gunakan lebihan cukai utk contra dengan baki cukai semasa, borang cukai perlu dihantar selewat-lewatny\\na 2 bln seblm tarikh akhir dan perlu buat permohonan kpd lhdn melalui surat. Jadi kita akan ada masa utk mendapatkan pengesahan bertulis drpd lhdn. Jika dibenarkan maka tidak perlu buat pembayaran baki tersebut. Jika tidak dibenarkan atau tiada apa2 kebenaran bertulis drpd pihak lhdn, maka baki cukai perlu dibayar seblm tarikh akhir. Jika tidak penalti akan dikenekan.',\n",
       " 'Hehhhh.. Cpt delete posting ni. Dalam ni banyak .. Nanti drp tak byr tax terus kena byr tax. Hang tak tau LHDN kalau da dpt mangsa dia mcm harimau diterkam mangsa2 dia. Takkan dilepaskan. Dingap2 nyer.\\n\\nNak beli tu terus je beli. Jgn diheboh2kan. Jgn disiarkan2.',\n",
       " 'Wah ramai cust2 sy jadi agent utk beli je sbb dapat komisyen \\n\\nTapi declare je tuan, declare tak semestinya kena cukai pun.\\n\\nSy pun agent cuckoo, sy declare je. Tapi tak pernah kena cukai lagi.',\n",
       " '*Tak pandai susun resit?*\\n\\n*Resit selalu hilang?*\\n\\n*Nak buat akaun untung rugi tapi resit tiada?\\n\\nMasalah resit hilang, berterabur dan sebagainya kini selesai dengan adanya *FILE 5 WARNA PELANGI* ini !\\n\\nApa yang anda akan dapat dengan pakej file 5 warna pelangi adalah :\\n\\n File Jualan, Belian, Belanja, Penyata Bank, dan Pelepasan Cukai\\n Template hardcopy dan softcopy bagi setiap file\\n Boleh customize design sendiri beserta logo\\n Pendrive 8gb untuk rekod dalam sistem excel\\n Include postage \\n\\nMinat?\\nhttps://wa.me/\\nmessage/\\nL7KC55OBJ2KTH1\\n\\nFree consultation selama setahun. Tak faham tak tahu tak pandai nak rekod boleh tanya kami semula. Kami bantu anda !',\n",
       " 'Baru je call lhdn, submit 1hb Tapi tak dapat lagi sampai hari ni rupa2 Dia hantar baucer ke alamat rumah lain so Kene pergi ambil dan cash kan di bank',\n",
       " 'Kalau Company X bagi Borang CP58, compile payslip tu sepanjang tahun dan dapatkan jumlah terima gaji. Declare la keseluruhan amaun dan claim pelepasan2 cukai.\\n\\nYang penting, nak bayar atau declare cukai, pastikan daftar cukai dahulu. Then baru buat e filing',\n",
       " 'call direct lhdn, sqmbung ke bahagian pungutan, minta ansuran (terpulang berapq bulan nak ikut kemampuan dan logik). kalau dia setuju akan keluar surat. minta email surat utk cepat.  saya selalu buat dulu, biasa setel 1 atau 2 hari. kena buat awal2 lepas declare.',\n",
       " 'Carlwin Tet Choi\\nSarawak alone size as big as Peninsular, but whole borneo population about the same as Selangor, LRT? \\nFind some way to raise your population first, for example, the State Immigration restrictions.....',\n",
       " 'Wei Lin Tan Wong YL Koh Chen Yap Jessie Tee Tee Jenny Koh Chan Yap Stephen Gan Gmx Gau QI Sheng kennot weyhXiao Si Wo',\n",
       " 'Kerata mahal, semua barang mahal. Tapi no plate tiap tiap bulan tukar. Dari JVD sampai JVR hanya guna 4 bulan.',\n",
       " 'Bagi kereta suruh belajar dalam masa 5 tahun tp baru 22 bulan dah langgar sana sini sampai rosak kereta tak kan nak tunggu sampai 5 tahun..Bayangka\\nn 5 tahun agak2 kereta tu jadi apa?.\\nYang faham,faham la maksud dia',\n",
       " 'Declare je bang,kalau tak tahu nak isi borang tu boleh je ke lhdn,diorg akan ajar macam mana nak isi semua tu.Bukan apa takut nanti surat datang mengejut.Saya kena dah,patut tak kena bayar cukai,tp tak declare.dtang surat 3tahun berturut2.suruh\\nbayar rm1800 .last2 p lhdn ,declare semula.dah submit rupanya tak bayar pun,tapi surat dah sampai,diorg pun dah kira2 kan .Jadi nak taknak kena bayar juga.Lepas tu nnti diorg bayar balik.tp dah nak 4bulan tak da pun bayaran balik  dah jadi satu kerja',\n",
       " 'Ku lari ke hutan kemudian menyanyiku\\nKu lari ke PANTAI kemudian teriakku\\nSepi, sepi Dan sendiri aku benci\\nAku ingin bingar aku mau di pasar\\nBosan aku dengan penat\\nNyah saja kau pekat\\nSeperti berjelaga jika ku sendiri',\n",
       " 'Glorious Dafeelza makin meroyan koyak rabak ke? Lagi 5 tahun boleh jilat penyamun.. Hoi hoi ya hoi.. Kami kini jilat penyamun.. Kohhh kohhh kohhh   https://\\nyoutu.be/\\npTRHU6igJ1U',\n",
       " 'Kalau income hanya rm700 setahun, tak payah declare pun tak apa.\\nKalau dah ada ssm, lebih baik declare supaya ada record. Kena buat akaun simple lah sbb transaksi tak byk, kan?\\nSelagi net profit tu lbh krg rm34k, tax masih zero.',\n",
       " \"I don't like Guan Eng, one of the hypocrite to Chinese as well, but I feel him tho in this case. Pet is our best friend, regardless it is a cat, a dog, a bird, a hamster, rooster anything. Those are God's creation.\\n\\nYang bagi react ketawa tu lain kali mak kw bapak kw kawan baik mu cewekmu meninggal kita ketawa habis, apa perasaan mu?\",\n",
       " 'Susah betul org lhdn nak angkat call, email pon susah nau nak reply, busy Sgt kot depa noh, huhu, sy pon dah malas nak call. Hm, lhdn cheras lak tu, nak walk in jauh Sgt, harap depa pindah file ke JB la',\n",
       " 'Tak payah telefon, memang tak angkat. Dulu saya pergi sebab password takleh log in, dalam pejabat tu telefon duk bunyi semua berat bontot tak angkat pon padahal takda customer pon',\n",
       " 'ada sekitar kuala selangor?\\nsebelum ni ada yg wasap.\\ntapi jauh payah nak berurusan',\n",
       " 'Kai Jen Wong Catherine Young Aina Hassan org selangor kena guna water cube yg lelaki ikan sayap buang tu',\n",
       " 'Dua dua.\\nDeclare dlm borang yg sama.\\nKalau make up service dah jadi business, kena tukar submit borang B. Boleh claim expenses utk jalankan perniagaan. Buat simple accounts utk kira untung rugi.\\nGaji declare dlm borang yg sama.\\n\\nKalau make up service tu utk suka suka, sekali sekala, boleh declare dlm lain lain pendapatan. Kalau sikit bebenor, tak payahlah declare.',\n",
       " 'Ya Lhdn depa tak akan kira betul2. Semua anggaran shj. Kalau anggaran dia lebih kurang dgn yg kita submit, tak ada mslh. Kalau lain mmg dapat surat la. Tapi tak perlu takut jika kita mmg ada bukti dokumen2 semua utk fight semula. Sebab tu kena simpan segala dokumen selama 7 tahun walaupun kita dah declare dan bayar pd waktu tersebut.\\n\\nFollow fb page sy Zahfea Management Services utk info akaun dan cukai',\n",
       " 'Org tu dtg nak buat lhdn account, diperli2.\\n\\nJap lg member tu dah kena penalty, ckp lain pulak. \"Kenapa tak declare awal2?\"',\n",
       " 'Hidup zaman kini segalanya perlu mudah. Dari mee segera, nasi beratur, komputer, telepon pintar, kerja mjd senang.\\nTak perlu kita menyimpan segala dokumen, surat, resit, bonus bagai satu kerja lain pulak.\\nRmhku syurgaku, klu nak simpan dokumen semua, baik nama opis...\\nBuat satu potongan cukai pendptan besar spt 25% ke LHDN sudah bagi pekerja mkn gaji bulanan.\\nBrgn pengguna bebas cukai, kereta motor, makanan segera jgn dicukai. Semua dah dimasukkan ke dlm potongan cukai itu.\\nBenda mudah dibuat jadi susah rakyat.',\n",
       " '6 lagu dah habis. Haha.\\n\\nNi habis 1 piring hitam baru muncul kot.',\n",
       " 'Senang cerita lagi banyak gaji+elaun+bonu\\ns+komisen+ot, lagi banyak la pcb dibuat. \\n\\nKiraan berbeza juga mengikut taraf mastautin, bujang or kahwin, pasangan bekerja or tak, ada perlepasan request dlm borang TP1 or tak.',\n",
       " 'Sebenarnya, ade je real pegawai lhdn yg call. Sy pun dah ready nak maki masa tu tp sy decide nak denga dulu. Sekali betul daaaa  dia nak confirmkan sthg before bagi penalty haha. Dah lepas2 tu baru dpt emel, den baya via cimbclick. Sooo memang legitla',\n",
       " 'Gan Lay Bee Wai Kwan Yap Shoni Tay Chan Lai Eng Moon Tan Wendy Woon',\n",
       " 'Kencing.kencing\\n..kencing...ken\\ncing..kencing..\\nkencing..kencin\\ng..kencing...ke\\nncing..kencing.\\n.kencing..kenci\\nng...kencing..k\\nencing..kencing\\n..kencing...ken\\ncing..kencing..\\nkencing...kenci\\nng..kencinh..',\n",
       " 'Bila dh ke batu 2 ditnya ada 2 jnis hutng,teh trik 1,nsi lmk 1.\\nNape tk byr jawb lah suka hati aku la apa hal..',\n",
       " 'Harapnya lhdn boleh sediakan platform utk setiap orang upload segala resit2 pembelian yang boleh claim setiap bulan ..boleh tolak gaji setiap bulan utk cukai takkan kita tak boleh upload resit setiap bulan..setiap hujung tahun terus dapat berapa amaun yang kita boleh claim, lhdn nak check pun senang, takde la nak kena simpan hardcopy sampai 7 tahun',\n",
       " 'Bila nk declare nnti, guna borang B. Ada income makan gaji n income biz. No cukai tuan masih sama.\\n\\nTidak kira brp pun syarikat enterprise yg kita ada, bila declare masih menggunakan no cukai taksiran yg sama.',\n",
       " 'Bayar zakat takde masalah. Yang penting declare pendapatan kat borang cukai.\\n\\nAda bahagian gaji, ada bahagian pendapatan sampingan.\\n\\nBab cukai, nanti ada rumusan bayaran cukai. Nanti dapat rebate bayaran cukai. Bab bayar zakat banyak mana tu...terpula\\nng kepada nilai cukai dahulu.\\n\\nMasalah timbul kalau kita tak declare pendapatan sepenuhnya.',\n",
       " 'Yes kena declare gak even income dr coway. Mintak coway sediakan borang CP58. Borang tu akan state kan income komisen setahun utk ejen',\n",
       " 'Email customer care officer lhdn cawangan yg hantar cp38 tu.\\nBukak website lhdn. Ada email address nama officer .\\nDan check dlm e-lejar mana tahun yg tertunggak .\\nCheck balik dgn rekod sendiri.\\nMungkin ada taksiran tambahan yg lhdn keluarkan tapi tak sampai.',\n",
       " 'LhDN pernah hantar surat dan mengenakan tax yg tinggi kepada saya. LHDN mengambil kira sewaan masuk saja. Misalnya sewaan diterima RM1000, maka LHDN anggap saya untung RM12000 setahun.\\n\\nMaka saya terpaksa mengemukakan semula semua belanja dan komitmen kpd LHDN. Dapatkan semua penyata bank, resit2 maintenance, kos baiki dan sebagainya.\\n\\nThen barulah LHDN percaya yang awak tak untung.\\n\\nBayangkan LHDN trace 2015 dulu, maka awak menggelupurlah cari semula doc 2015.\\n\\nTapi walaubagaimanap\\nun, tax tambahan tu kena bayar dulu then nanti LHdN baru akan refund semula selepas memperakui belanja dan loan awak.\\n\\nSelagi awak tak buktikan awak rugi, LHdN tetap kata awak untung maaaa.\\n\\nOnce declare, nowhere to hide.',\n",
       " \"Brader if u want to campaign please don't use PDRM name.. fyi, Dato Theivigan is my fren he is a great police officer. My father born in Buntong.\",\n",
       " 'The staffs \"uncle roger-ing\" Gordon after the sandwich lesson.',\n",
       " 'declare, nanti lhdn akan buat anggaran cukai ikut sales tahun sebelumnya..nay\\na ...lhdn baik hati, kita tak declare dia tolong buat',\n",
       " 'KIT  BOLEH KIT  BOLEH KIT  BOLEH KIT  BOLEH KIT  BOLEH KIT  BOLEH KIT  BOLEH KIT  BOLEH KIT  BOLEH KIT  BOLEH KIT  BOLEH KIT  BOLEH KIT  BOLEH KIT  BOLEH KIT  BOLEH KIT  BOLEH KIT  BOLEH KIT  BOLEH',\n",
       " 'Eleh ayah. Kemain.\\nKonon kenal sehari terus nikah.\\n\\nDah tidur sebantal, baru tau tak serasi. Nak cerai. Malu ngan org kg. Duk kat rumah, murung!\\nLast2 ngadu kat Page KRT',\n",
       " 'Tutup syarikat lama. Tutup semua acc bank dulu.\\n\\nBuka syarikat baru. Buka balik acc bank.\\n\\nSo dlm masa setahun, kau simpan segala resit. Declare bila sampai masa. Nak mudah, kau ambil gaji dari syarikat kau. Carum mana yg patut. Beli rumah guna transaksi bank sendiri lebih senang dari bank syarikat.',\n",
       " 'Kah Seng Kong 1 more thing..do singapore have gst??yes they do..we make gst 6% only ur pakatan hancing wants sst..now blame we r moving backwards??blam\\ne ur pakatan bruh..u google please which country with gst..almost all countries use gst..only malaysia is a joke for going back to sst..lmao..6% only so big meh??u spend 1million u pay gst 60k..u spend 1000 spend rm60 on gst so big ah???other country more than 10% gst still ok..no gst how going forward??blame ur pakatan liao want sst so much..lame joke',\n",
       " 'Reza Majid tak fikir cheras. Haha. Cheras KL pun ada, Cheras selangor pun ade. Border die pakai jalan raya je kat area bukit anggerik. Sama dengan ampang. Hahah',\n",
       " 'Pernah naik Bukit Fraser jam 10 malam tiba-tiba bau busuk. \\n\\nSunyi nak mati. Last dah naik Bukit tu.',\n",
       " 'Hanya tidak suka orang memperlakukan nya seperti dia suka lebih suka dengan permainan kita dibalasnya balik dengan cara mulut yang kejam sama seperti yang pernah kita lakukan sendiri tanpa kita sedar.. siapa yang kita ckp, siapa yang kita Hina, siapa yng kita ketawa dngn permainan hati kita sma dengan apa yang dia blk ulang sma kita atas perkara kita sendiri tidak ketahui',\n",
       " 'Kalau confirm2 boleh menang, tahun2 lain pon bersih dan semua record serta dokumen semua cantik, lawan je.\\n.\\nTapi kalau tak, baik bayar je. Diorg ni jenis berdendam, bahaya.',\n",
       " \"Carlwin Tet Choi Maybe you are the one who doesn't consider Sabah and Sarawak part of Malaysia?\\nIf you want to use the LRT in Malaysia just come to Klang Valley, you probably don't even need a passport to do that.\\nMalaysia also has Mount Kinabalu, and if people want to climb it they have to go to Sabah. I don't say Selangor no Mount Kinabalu, Selangor is not part of Malaysia...\",\n",
       " 'KITA BOLEH KITA BOLEH KITA BOLEH KITA BOLEH KITA BOLEH KITA BOLEH KITA BOLEH KITA BOLEH KITA BOLEH KITA BOLEH KITA BOLEH KITA BOLEH KITA BOLEH KITA BOLEH KITA BOLEH KITA BOLEH KITA BOLEH KITA BOLEH KITA BOLEH KITA BOLEH',\n",
       " 'Kalau setakat nak tambah ilmu Dan pemahaman tentang percukaian ok je. Tapi kalau nak put into practice, kena belajar betul2, amek diploma or degree then belajar pulak melalui pengalaman dengan orang yg lebih pengalaman.\\n\\nTax ni pun banyak cabang dia. Direct or Indirect tax, x termasuk dengan Transfer Pricing lagi..\\n\\nDan satu nak bagitau, akaun dan tax adalah dua aliran yang berbeza. Pakar bab akaun x semestinya pakar dalam tax, begitu juga sebaliknya. Tapi basic should ada.',\n",
       " 'Beri PH buat penuh 5 tahun!!\\nNegeri kerajaan PH maju; Penang & Selangor. Negeri maju, kalau menjadi kerajaan negara, negara maju!!',\n",
       " 'Aku +- 5 tahun keje LHDN.\\nBiasa la tu. Keje ada KPI.',\n",
       " '2Nian Huan Liao 2Ge Shou Xiang ,Yi Ge Bi Yi Ge Chai \\n,Guo Zhai Gao Sheng ,Ma Bi Bian Zhi ,Tong Huo Peng Zhang \\n,$Bu Gou Yong ,Ren Min Zui Ku .',\n",
       " 'A super famous Chinese song from Taiwan Ah Mei female singer.\\nThe song name is \"listening to the sea \".',\n",
       " 'Saya dulu selalu jaga kiosk aiskrim.\\nMemang BENCI buat chocotop. Asyik jatuhhh je. Hahaha.\\nGeram.\\nAiskrim lain senang gila, tak perlu skill sangat berbanding chocotop.',\n",
       " 'Come penang. Frequently water disruption nowadays.\\nLatest almost 3-4 days no water.\\nWorse is mukim 5 seberang perai selatan. Their water problem is worse for years.',\n",
       " 'Memes paling bodoh pernah tengok \\nAlso caption paling bodoh pernah baca \\n\\nTangan sendiri tangan kenalan tak pe la,\\nNi orang luar punya tangan masak tak pakai glove,\\nYang makan pakai tangan tu tangan sendiri bukan tangan orang luar..\\n\\nLain macam betul kebodohan bocah anime ni',\n",
       " 'Johnny Tai Chong Yang got ghost  dunno lompat2 or fly2 or shapeshifter one..',\n",
       " 'Hari ni kita menang, esok kita bagi cuti 3 hari, gaji jalan penuh.\\nNanti pi ambik duit di pejabat naaa',\n",
       " 'Gw Spray Painting La baru nampak ada duit. Dulu hantu raya bawak sembunyi kot.',\n",
       " 'Pegawai cilake ni thu mkn gaji je, org call mtk tlg bantu psal borang2 ni haram nk bantu,\\nSuruh rujuk internet,\\nLepas tu babi2 ni call sruh byr tax, tu je pegawai thu',\n",
       " '55 minit baru faham, haaa cuba korang teka. \\n\\nJawapan kt sini https://\\nshope.ee/\\n8UWSjDTnvc',\n",
       " 'Jenn Jenn overconfident mcm akak ni lah yg PHBN suka  boleh dikencing bila2 masa. Hati2 dgn idola akak tu, dia sama2 jenis takkan stim kot, xkan lah mcm tu',\n",
       " 'Masih terngiang2 kata2 pegawai tersebut\\n\"Kak,kalau akk meniaga Tupperware pun akk kena declare\"\\n\\nBegitula flashback saya',\n",
       " 'Jangan sesekali declare. Buat rugi je kau kena bayar cukai. Nanti sewa kau collect cash terus. Kalau tak, bank in dkt acc bini ke.\\n\\nKalau sekali kau dah declare, nanti gaji kau akan +rm1000 ikut kira2 LHDN. Lepas tu kena cukai. Macam hanat. Kau hutang, expenses kau, diorg peduli apa.',\n",
       " \"Does anyone here remember the McTwist? It's the normal cone one but it's like mixed with chocolate. And not the fake chocolate swirl ones with that thin chocolate lining. They used to have it when they had chocolate flavour.\",\n",
       " 'Kalau utk persendirian dan anak anak, hanya critical illness saja. Jadi pastikan ubat tu utk penyakit yg diiktiraf sebagai critical saja.\\n\\nKalau utk ibu bapa, apa apa ubat yg ada resit clinic/hospital',\n",
       " 'Walaupun delivery ada lambat sikit, tapi consider on time la. Barang semua dah diterima, tapi belum try lagi. Nanti lepas try baru update review nak bagi 5 star ke tak.',\n",
       " \"Sebab itu saya lebih suka tengok channel 550 alih suara ke bahasa melayu...\\n\\n'Lihatlah anak beruang itu...dia dah pandai tangkap ikan..lihat lah..lihatlah '\\n\\n'Betul..lihat lah..dia melambai ke arah ibunya...ia sungguh comel..'\",\n",
       " 'Dulu masa mula-mula aku kerja rajin aku ot. Hari off pun orang suruh masuk aku masuk je sebab ot. Tapi macam cibai bila tengok payslip lebih 50 ringgit je. Penyudahnya aku buat kerja biasa2 je. Malas nak tunjuk perform.',\n",
       " 'zaman aku umur 7 tahun pegang konek jugak, tapi lepas pegang cili la\\n\\nhmmm terasa nikmatnya 2-3 jam meraung kat mak bapak',\n",
       " 'Pandai juga dia kaji, itulah maknanya akhir zaman. Tapi cara dia ni salah. Xde maknanya, kat selangor nak pinjam duit pun susah, nama jer negeri maju.',\n",
       " '2 kali kena cp38..malas nak banyak keje. Bayar jer..sebab diorang minta macam. Benda yang dah x ada. Kena uprade sistem lhdn ni..setiap kali declare...terus\\nupload receipt tahun tu juga. X yah la minta orang gali2 kebelakang. Faham kita kena simpan resit 7 tahun..tapi cuba upgrade sistem tu supaya lebih memudahkan orang.',\n",
       " 'Naik bespa x dak jalok belang, dok dlm bendang bau selut, dok dlm kebun getah bau sekerap, dok balik deh.. Kalau hati baik, ada bunga lagi..oghang sayang aihhhh..kan,kan\\n,YB..',\n",
       " 'Nak declare company & personal tax boleh roger saya. Untuk service full set account pun saya ada juga. Caj sangat berpatutan tak mahal  Area Jb dan cover 1 malaysia.\\n\\nwww.wasap.my/\\n60177780052/\\nserviceaccountta\\nx',\n",
       " 'Kalau saman sampai, biasanya ada surat lain yang sampai sebelum2nya. Rasanya boleh jumpa pegawai untuk bincang. Jangan ke kaunter, terus ke pegawai. Biasanya setiap kes, ada pegawai yang handle.',\n",
       " \"The dog was truly the hero of the day. Sad that he/she didn't get any praise. I know you have to make sure the child is okay (etc.), but at least acknowledge what the dog did for the child and family.\",\n",
       " 'Time stamping tu akan trigger. Dia banding dgn income yg kita declare dulu. Kalau rasa cukup, dia tak kejar dah\\nSelalunya org org beli tanah cash, tak cepat sgt triggernya. Tapi kalau beli rumah/condo , cash atau loan, lebih cepat trigger .',\n",
       " 'Hadiah ni rasanya terpakai bagi yg ada pertalian darah, suami isteri dan adik beradik je rasanya.. Tak tahu la org luar dia ambil kira ke tak..\\n\\nLepas isi borang 14a, kena bawa borang pegi LHDN utk urusan penilaian. Situ la dia tgk layak ke tak dpt diskaun kalau yg jenis pemberian kasih sayang tu..',\n",
       " 'Cukai tahun ni, tahun dpn br declare \\nSementara tu, make sure simpan segala resit yg berkaitan utk awak claim masa declare next year. Sendiri kena buat folder la utk resit2 tu. Senang.',\n",
       " 'Nak buat bayaran ansuran, kena pergi mintak dengan lhdn. Kalau bayar ansuran dah xkena interest, Sama je amount seperti Surat sebab amount Tu pun dah termasuk interest\\n\\nKalau nak declare 4 tahun kebelakang Tu, saya cdgkn try buat kira2 dulu, samada jumlah cukai banding dgn claim Tu, berbaloi x nak declare Dan fight jumlah yg diminta lhdn.. Kalau rasa macam lagi banyak je jumlah die, better bayar ikut surat je. Terus tutup buku..',\n",
       " 'Since ramai yg share tempat simpanan resit dan invoice, saya pun nk kongsi jugak. In shaa allah semudah clip saja, masa lhdn minta, bagi je fail kemas ni, takde sebab dia nak berlagak. Boleh guna 5 fail ni untuk susun resit2\\n\\nFail Duit Keluar\\nFail Duit Masuk\\nFail Jualan\\nFail Belian\\nFail Penyata Bank\\n\\nYang saya tutup tu nama company, boleh custom ikut kesesuaian masing2. Saya order dengan team pakar akauntan, kebetulan dia ada buka tempahan disember ni https://ezy.la/\\nfilingbisnes .Jom mula simpan resit dengan lebih baik tahun depan. Harap membantu',\n",
       " 'adakah LDHN ni keluarkan surat mengatakan cukai tahun2 sebelum ini telag dijelaskan sepenuhnya dan tiada kiraan baru atau tuntutan baru selepas 6-7tahun akan datang.\\n\\nLDHN lantik pegawai lulusan bagaimana ni, Anggaran semata, Bayar dahulu baru buat rayuan.',\n",
       " 'Kalau saya, just claim service charge. Resit dari kita hanya bagi amaun service charge sahaja.\\n\\nAtau lagi 1 buat cara ini okay. Tapi kena ada salinan resit, kalau ada scan lagi elok.\\n\\nBila nak rekod akaun\\n\\nService charge as income\\n\\nBarang yang kita beli itu kira petty cash or cash float. Rekod kat sana.\\n\\nJust lagi 1, apa pendapat saya ini tak ada betul or salah, sebab akaun ada banyak cara nak rekod selagi tak langgar prinsip perakauan.',\n",
       " 'Submit tax sendiri, seumpama mengkhatankan diri sendiri. Mungkin kita rasa kita mampu buat, mcm senang aja gunting sikit kulit kat hujung tu kann? Apatah lagi sekarang dah ada mcm mcm peralatan berkhatan yg nampak senang aja. Tapi bila dah berkudis, menanah, baru kita menyesal tak pergi doctor dulu.',\n",
       " 'Popcorn Dari GSC? Hmm Patutlah dia bagi orang  saya pun taknak kalau Dari GSC\\nTak de rasa caramel bau pon hangus  TGV Cinemas popcorn lagi bagus',\n",
       " 'Lepas tu yang tak cerdiknya bayar WHT kena transfer macam beli dengan local online seller.\\n\\nResit kena email dengan attachment, inbox pulak kecik. Attachment besar sangkut.\\n\\nTp mangkuk ni semua macam tak buka email, takde acknowledgement\\n. Tak taulah semak ke tak yang kita bayar tu. Hanya boleh simpan rekod je.\\n\\nTak bayar dia buat susah, nak bayar dia menyusahkan',\n",
       " 'Declare sajalah. Kadang declare bukan kene bayar tax pon.\\n\\nIf bayar zakat pon ada waive tax. Pengalam sy business dari rumah sebelum ada premis. Dari rumah lagi sy dah bayar tax. Masa tu setahun tax rm100++ je. Haha',\n",
       " 'Manifesto PH tidak memberi jaminan tidak akan memperkenal semula GST (Cukai Perkhidmatan)??\\n? Mengapa???',\n",
       " 'Now you guys act like you guys care.. hey, pergi jalan lah.. the only thing you guys good at is nothing!!',\n",
       " 'Wife relief tetap ada kalau wife tak kerja dan tak ada pendapatan sendiri.\\n\\nParental relief, utk actual medical expenses masih boleh dituntut.\\nYg dulu tu, cuma 5 tahun aja kerajaan bagi utk promote masyarakat penyayang. Dan ada syarat syaratnya.',\n",
       " 'Hello Tan CP, FYI I hv received both postal votes envelope thru DHL for me & my wife. Should be otw.',\n",
       " \"Nicholas Choo yes.. either black shadow or a white shadow.. buddy, there's one entity been living in a tree since I was a kid right infront of my neighbors house, it would walk to the back of my house thru the side from that tree, many have seen it including me but it won't distract anyone..\",\n",
       " 'Ya Allah, sama naik Selangor dengan Kedah bab takde air ni.\\nJarang sangat saya nak komen ni tapi fed up dah ni.\\nSelangor ada juga lori SYABAS hantar air.\\nBukan orang banyak duit pun nak beli mineral tu.\\nNak masak, nak bersih diri, nak wudhu.',\n",
       " 'Mmg betul pegawai LHDN kata tak perlu declare.\\nTapi ada je pegawai galakkan isi walaupun lepas kiraan nanti, tak perlu bayar apa-apa.\\nCuma once dah declare, kena berterusan declare setiap tahun. Lebih baik declare sebenarnya walaupun belum sampai kena cukai',\n",
       " 'Susah jadi lelaki ni dapat perempuan macam ni, hujung2 kena tenangkan diri sendiri. Duduk diam2 tepi tebing sungai dan terjun. Berenang balik ke tebing terjun lagi, sampailah kau rasa beban tu hilang.',\n",
       " 'Waktu declare tu ade buat bayaran X? Kalau waktu declare, declare sahaja Dan X bayar seperti junlah declare. Susah jugak..\\n\\nLepastu, kastam Ada hantar Surat X mintak output & input listing?\\n\\nSebelum boleh sampai tahap ni, sepatutnya dah Ada series of audit request.\\n\\nBoleh rujuk balik Taxpayer Acces Point (TAP). Should be semuanya dekat situ.',\n",
       " 'Pernah sekali time drive thru order chocoTop,then kate mesin rosak,eskrim takde.\\nTak puas hati punye pasal aq try pusing lg sekali ,tp order vanilla je.\\nEh ad pulak',\n",
       " 'komisyen kalau melebihi pendapatan bercukai..wajin\\ndeclare.. then kalau dah declare pertama kali.\\nkena declare setiap tahun walau pendapatan komisyen tidak melebihi pendapatan bercukai.. just declare je berapa..then ok dah.. wajib selepas pertama kali declare',\n",
       " 'Bagi management account je.. Dan jika Ada apa2 pertanyaan lain, die akan inform semula. Kadang soalan die tanya nature expenses tu saje.. kadang2 die mintak ledger.. and if die nak go further, die mintak resit..\\n\\nTips dgn LHDN ni, jangan bagi lebih. Just bagi ape die mintak sahaja..']"
      ]
     },
     "execution_count": 97,
     "metadata": {},
     "output_type": "execute_result"
    }
   ],
   "source": [
    "pos = [texts[i] for i in neg_indices]\n",
    "pos"
   ]
  },
  {
   "cell_type": "code",
   "execution_count": 113,
   "id": "9ee8254b",
   "metadata": {},
   "outputs": [],
   "source": [
    "import pickle\n",
    "import os\n",
    "\n",
    "class Pointer:\n",
    "    def __init__(self, filename):\n",
    "        self.filename = filename\n",
    "        self.index = -1\n",
    "\n",
    "    def _save(self):\n",
    "        with open(self.filename, 'wb') as fopen:\n",
    "            pickle.dump(self.index, fopen)\n",
    "\n",
    "    def increment(self):\n",
    "        self.index += 1\n",
    "        self._save()\n",
    "\n",
    "    def load(self):\n",
    "        if not os.path.exists(self.filename):\n",
    "            return\n",
    "        with open(self.filename, 'rb') as fopen:\n",
    "            self.index = pickle.load(fopen)"
   ]
  },
  {
   "cell_type": "code",
   "execution_count": 114,
   "id": "d77f854a",
   "metadata": {},
   "outputs": [
    {
     "data": {
      "text/plain": [
       "['a']"
      ]
     },
     "execution_count": 114,
     "metadata": {},
     "output_type": "execute_result"
    }
   ],
   "source": [
    "# !wget https://gist.githubusercontent.com/huseinzol05/98974ae8c6c7a65d4bc0af9f5003786a/raw/5aa5257608b61e8fcc828e99fbd070d5ca7358e3/mp.py\n",
    "import mp\n",
    "\n",
    "def dedup(strings):\n",
    "    unique_neg = []\n",
    "    elements = set()\n",
    "\n",
    "    for n in strings:\n",
    "        x_lower = n.lower()\n",
    "        if x_lower not in elements:\n",
    "            elements.add(x_lower)\n",
    "            unique_neg.append(n)\n",
    "    return unique_neg\n",
    "\n",
    "dedup(['a', 'a'])"
   ]
  },
  {
   "cell_type": "code",
   "execution_count": 137,
   "id": "24e9aee5",
   "metadata": {},
   "outputs": [],
   "source": [
    "!rm -rf facebook-hard\n",
    "!mkdir facebook-hard"
   ]
  },
  {
   "cell_type": "code",
   "execution_count": 138,
   "id": "df855c70",
   "metadata": {},
   "outputs": [],
   "source": [
    "lower_bound = 0.7\n",
    "upper_bound = 1.3\n",
    "\n",
    "def loop(data):\n",
    "    data, index = data\n",
    "    filename = f'facebook-hard/{index}.jsonl'\n",
    "    fopen = open(filename, 'a')\n",
    "    pointer = Pointer(f'{filename}.pickle')\n",
    "    pointer.load()\n",
    "    for n in tqdm(range(len(data))):\n",
    "        x = data[n]\n",
    "        if n > pointer.index:\n",
    "            dist, ind = kd_tree.query(concat[x], k=len(concat))\n",
    "\n",
    "            query = texts[x]\n",
    "\n",
    "            pos_indices = [k for k in ind[dist < lower_bound]]\n",
    "            neg_indices = [k for k in ind[dist > upper_bound]]\n",
    "            \n",
    "            if len(pos_indices) > 6:\n",
    "                pos_indices = random.sample(pos_indices,6)\n",
    "            if len(neg_indices) > 5:\n",
    "                neg_indices = random.sample(neg_indices,5)\n",
    "\n",
    "            pos = [texts[i] for i in pos_indices if texts[i] != query and len(texts[i]) > 1]\n",
    "            pos = dedup(pos)\n",
    "\n",
    "            if len(pos) == 0:\n",
    "                continue\n",
    "\n",
    "            neg = [texts[i] for i in neg_indices if texts[i] != query and len(texts[i]) > 1]\n",
    "            neg = dedup(neg)\n",
    "\n",
    "            if len(neg) == 0:\n",
    "                continue\n",
    "\n",
    "\n",
    "            d = {'query':query,'pos':pos,'neg':neg}\n",
    "            fopen.write(f'{json.dumps(d).decode()}\\n')\n",
    "            fopen.flush()\n",
    "            pointer.index = n\n",
    "            pointer._save()"
   ]
  },
  {
   "cell_type": "code",
   "execution_count": 139,
   "id": "06c0eadf",
   "metadata": {},
   "outputs": [],
   "source": [
    "# loop((range(10), 0))"
   ]
  },
  {
   "cell_type": "code",
   "execution_count": 140,
   "id": "b87681fc",
   "metadata": {},
   "outputs": [
    {
     "name": "stderr",
     "output_type": "stream",
     "text": [
      " 10%|█         | 495/4781 [12:47<2:48:16,  2.36s/it]"
     ]
    }
   ],
   "source": [
    "import mp\n",
    "\n",
    "mp.multiprocessing(range(len(data)), loop, cores = 40, returned = False)"
   ]
  },
  {
   "cell_type": "code",
   "execution_count": null,
   "id": "7b961988",
   "metadata": {},
   "outputs": [],
   "source": []
  }
 ],
 "metadata": {
  "kernelspec": {
   "display_name": "Python 3 (ipykernel)",
   "language": "python",
   "name": "python3"
  },
  "language_info": {
   "codemirror_mode": {
    "name": "ipython",
    "version": 3
   },
   "file_extension": ".py",
   "mimetype": "text/x-python",
   "name": "python",
   "nbconvert_exporter": "python",
   "pygments_lexer": "ipython3",
   "version": "3.10.12"
  }
 },
 "nbformat": 4,
 "nbformat_minor": 5
}
