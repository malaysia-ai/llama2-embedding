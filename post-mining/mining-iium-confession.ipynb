{
 "cells": [
  {
   "cell_type": "code",
   "execution_count": 1,
   "id": "8c957936",
   "metadata": {},
   "outputs": [],
   "source": [
    "from glob import glob\n",
    "import json\n",
    "from tqdm import tqdm\n",
    "from concurrent.futures import ThreadPoolExecutor, as_completed\n",
    "import orjson as json\n",
    "import random"
   ]
  },
  {
   "cell_type": "code",
   "execution_count": 2,
   "id": "67bbe1b0",
   "metadata": {},
   "outputs": [
    {
     "name": "stderr",
     "output_type": "stream",
     "text": [
      "28180it [00:03, 8063.84it/s]\n"
     ]
    }
   ],
   "source": [
    "data = []\n",
    "\n",
    "with open('iium-confession-0.jsonl') as fopen:\n",
    "    for x in tqdm(fopen):\n",
    "        try:\n",
    "            data.append(json.loads(x))\n",
    "        except:\n",
    "            pass"
   ]
  },
  {
   "cell_type": "code",
   "execution_count": 3,
   "id": "afabd3d6",
   "metadata": {},
   "outputs": [],
   "source": [
    "vectors, texts = [], []\n",
    "\n",
    "for d in data:\n",
    "    vectors.append(d['v'])\n",
    "    texts.append(d['text'])"
   ]
  },
  {
   "cell_type": "code",
   "execution_count": 4,
   "id": "31dcf062",
   "metadata": {},
   "outputs": [
    {
     "data": {
      "text/plain": [
       "28180"
      ]
     },
     "execution_count": 4,
     "metadata": {},
     "output_type": "execute_result"
    }
   ],
   "source": [
    "len(vectors)"
   ]
  },
  {
   "cell_type": "code",
   "execution_count": 6,
   "id": "83b9271a",
   "metadata": {},
   "outputs": [],
   "source": [
    "from scipy.spatial import KDTree\n",
    "import numpy as np"
   ]
  },
  {
   "cell_type": "code",
   "execution_count": 7,
   "id": "ad1357b5",
   "metadata": {},
   "outputs": [
    {
     "data": {
      "text/plain": [
       "(28180, 1536)"
      ]
     },
     "execution_count": 7,
     "metadata": {},
     "output_type": "execute_result"
    }
   ],
   "source": [
    "concat = np.array(vectors)\n",
    "concat.shape"
   ]
  },
  {
   "cell_type": "code",
   "execution_count": 8,
   "id": "6ad9a803",
   "metadata": {},
   "outputs": [
    {
     "name": "stdout",
     "output_type": "stream",
     "text": [
      "CPU times: user 312 ms, sys: 10.5 ms, total: 322 ms\n",
      "Wall time: 320 ms\n"
     ]
    }
   ],
   "source": [
    "%%time\n",
    "\n",
    "kd_tree = KDTree(concat, leafsize = 40)"
   ]
  },
  {
   "cell_type": "code",
   "execution_count": 9,
   "id": "4e2e9656",
   "metadata": {},
   "outputs": [
    {
     "name": "stdout",
     "output_type": "stream",
     "text": [
      "CPU times: user 42.7 ms, sys: 2.46 ms, total: 45.2 ms\n",
      "Wall time: 43.9 ms\n"
     ]
    }
   ],
   "source": [
    "%%time\n",
    "\n",
    "dist, ind = kd_tree.query(concat[0], k=len(concat))"
   ]
  },
  {
   "cell_type": "code",
   "execution_count": 10,
   "id": "81549a3f",
   "metadata": {},
   "outputs": [
    {
     "data": {
      "text/plain": [
       "array([0.        , 0.45700824, 0.4892435 , ..., 1.24501397, 1.25687754,\n",
       "       1.26333354])"
      ]
     },
     "execution_count": 10,
     "metadata": {},
     "output_type": "execute_result"
    }
   ],
   "source": [
    "dist"
   ]
  },
  {
   "cell_type": "code",
   "execution_count": 26,
   "id": "af71d498",
   "metadata": {},
   "outputs": [
    {
     "data": {
      "text/plain": [
       "[0, 24639, 2460, 24066]"
      ]
     },
     "execution_count": 26,
     "metadata": {},
     "output_type": "execute_result"
    }
   ],
   "source": [
    "pos_indices = [k for k in ind[dist < 0.5]]\n",
    "neg_indices = [k for k in ind[dist > 1]]\n",
    "pos_indices"
   ]
  },
  {
   "cell_type": "code",
   "execution_count": 25,
   "id": "27c9e618",
   "metadata": {},
   "outputs": [
    {
     "data": {
      "text/plain": [
       "[]"
      ]
     },
     "execution_count": 25,
     "metadata": {},
     "output_type": "execute_result"
    }
   ],
   "source": [
    "neg_indices"
   ]
  },
  {
   "cell_type": "code",
   "execution_count": 21,
   "id": "25c45a55",
   "metadata": {},
   "outputs": [],
   "source": [
    "import pickle\n",
    "import os\n",
    "\n",
    "class Pointer:\n",
    "    def __init__(self, filename):\n",
    "        self.filename = filename\n",
    "        self.index = -1\n",
    "\n",
    "    def _save(self):\n",
    "        with open(self.filename, 'wb') as fopen:\n",
    "            pickle.dump(self.index, fopen)\n",
    "\n",
    "    def increment(self):\n",
    "        self.index += 1\n",
    "        self._save()\n",
    "\n",
    "    def load(self):\n",
    "        if not os.path.exists(self.filename):\n",
    "            return\n",
    "        with open(self.filename, 'rb') as fopen:\n",
    "            self.index = pickle.load(fopen)"
   ]
  },
  {
   "cell_type": "code",
   "execution_count": 23,
   "id": "defb2977",
   "metadata": {},
   "outputs": [
    {
     "data": {
      "text/plain": [
       "['a']"
      ]
     },
     "execution_count": 23,
     "metadata": {},
     "output_type": "execute_result"
    }
   ],
   "source": [
    "# !wget https://gist.githubusercontent.com/huseinzol05/98974ae8c6c7a65d4bc0af9f5003786a/raw/5aa5257608b61e8fcc828e99fbd070d5ca7358e3/mp.py\n",
    "import mp\n",
    "\n",
    "def dedup(strings):\n",
    "    unique_neg = []\n",
    "    elements = set()\n",
    "\n",
    "    for n in strings:\n",
    "        x_lower = n.lower()\n",
    "        if x_lower not in elements:\n",
    "            elements.add(x_lower)\n",
    "            unique_neg.append(n)\n",
    "    return unique_neg\n",
    "\n",
    "dedup(['a', 'a'])"
   ]
  },
  {
   "cell_type": "code",
   "execution_count": 24,
   "id": "e1120383",
   "metadata": {},
   "outputs": [],
   "source": [
    "!rm -rf iium-confession-hard\n",
    "!mkdir iium-confession-hard"
   ]
  },
  {
   "cell_type": "code",
   "execution_count": 29,
   "id": "1da56b87",
   "metadata": {},
   "outputs": [],
   "source": [
    "lower_bound = 0.5\n",
    "upper_bound = 1\n",
    "\n",
    "def loop(data):\n",
    "    data, index = data\n",
    "    filename = f'iium-confession-hard/{index}.jsonl'\n",
    "    fopen = open(filename, 'a')\n",
    "    pointer = Pointer(f'{filename}.pickle')\n",
    "    pointer.load()\n",
    "    for n in tqdm(range(len(data))):\n",
    "        x = data[n]\n",
    "        if n > pointer.index:\n",
    "            dist, ind = kd_tree.query(concat[x], k=len(concat))\n",
    "\n",
    "            query = texts[x]\n",
    "\n",
    "            pos_indices = [k for k in ind[dist < lower_bound]]\n",
    "            neg_indices = [k for k in ind[dist > upper_bound]]\n",
    "            \n",
    "            if len(pos_indices) > 6:\n",
    "                pos_indices = random.sample(pos_indices,6)\n",
    "            if len(neg_indices) > 5:\n",
    "                neg_indices = random.sample(neg_indices,5)\n",
    "\n",
    "            pos = [texts[i] for i in pos_indices if texts[i] != query and len(texts[i]) > 1]\n",
    "            pos = dedup(pos)\n",
    "\n",
    "            if len(pos) == 0:\n",
    "                continue\n",
    "\n",
    "            neg = [texts[i] for i in neg_indices if texts[i] != query and len(texts[i]) > 1]\n",
    "            neg = dedup(neg)\n",
    "\n",
    "            if len(neg) == 0:\n",
    "                continue\n",
    "\n",
    "\n",
    "            d = {'query':query,'pos':pos,'neg':neg}\n",
    "            fopen.write(f'{json.dumps(d).decode()}\\n')\n",
    "            fopen.flush()\n",
    "            pointer.index = n\n",
    "            pointer._save()"
   ]
  },
  {
   "cell_type": "code",
   "execution_count": 30,
   "id": "929aef60",
   "metadata": {},
   "outputs": [
    {
     "name": "stderr",
     "output_type": "stream",
     "text": [
      "100%|██████████| 1409/1409 [05:39<00:00,  4.14it/s]\n",
      "100%|██████████| 1409/1409 [05:50<00:00,  4.01it/s]\n",
      "100%|██████████| 1409/1409 [05:52<00:00,  4.00it/s]\n",
      "100%|██████████| 1409/1409 [06:01<00:00,  3.90it/s]\n",
      "100%|██████████| 1409/1409 [06:07<00:00,  3.84it/s]\n",
      "100%|██████████| 1409/1409 [06:08<00:00,  3.82it/s]\n",
      "100%|██████████| 1409/1409 [06:10<00:00,  3.81it/s]\n",
      "100%|██████████| 1409/1409 [06:18<00:00,  3.72it/s]\n",
      "100%|██████████| 1409/1409 [06:19<00:00,  3.71it/s]\n",
      "100%|██████████| 1409/1409 [06:22<00:00,  3.68it/s]\n",
      "100%|██████████| 1409/1409 [06:25<00:00,  3.66it/s]\n",
      "100%|██████████| 1409/1409 [06:25<00:00,  3.66it/s]\n",
      "100%|██████████| 1409/1409 [06:25<00:00,  3.65it/s]\n",
      "100%|██████████| 1409/1409 [06:32<00:00,  3.59it/s]\n",
      "100%|██████████| 1409/1409 [06:32<00:00,  3.59it/s]\n",
      "100%|██████████| 1409/1409 [06:40<00:00,  3.51it/s]\n",
      "100%|██████████| 1409/1409 [06:44<00:00,  3.49it/s]\n",
      "100%|██████████| 1409/1409 [06:47<00:00,  3.46it/s]\n",
      "100%|██████████| 1409/1409 [06:56<00:00,  3.38it/s]\n",
      "100%|██████████| 1409/1409 [06:57<00:00,  3.38it/s]\n"
     ]
    }
   ],
   "source": [
    "import mp\n",
    "\n",
    "mp.multiprocessing(range(len(data)), loop, cores = 20, returned = False)"
   ]
  },
  {
   "cell_type": "code",
   "execution_count": 33,
   "id": "95b355f5",
   "metadata": {},
   "outputs": [
    {
     "name": "stderr",
     "output_type": "stream",
     "text": [
      "1149it [00:00, 2809.65it/s]\n",
      "1128it [00:00, 2870.68it/s]\n",
      "1137it [00:00, 2769.17it/s]\n",
      "1143it [00:00, 2750.72it/s]\n",
      "1141it [00:00, 2911.95it/s]\n",
      "1143it [00:00, 2947.81it/s]\n",
      "1125it [00:00, 2768.98it/s]\n",
      "1126it [00:00, 2739.60it/s]\n",
      "1132it [00:00, 2759.68it/s]\n",
      "1125it [00:00, 2858.33it/s]\n",
      "1131it [00:00, 2867.24it/s]\n",
      "1129it [00:00, 2811.32it/s]\n",
      "1109it [00:00, 2829.55it/s]\n",
      "1123it [00:00, 2927.49it/s]\n",
      "1152it [00:00, 3028.86it/s]\n",
      "1143it [00:00, 2911.23it/s]\n",
      "1145it [00:00, 2862.38it/s]\n",
      "1123it [00:00, 2862.47it/s]\n",
      "1133it [00:00, 2759.46it/s]\n",
      "1120it [00:00, 2963.26it/s]\n"
     ]
    }
   ],
   "source": [
    "files = glob('iium-confession-hard/*.jsonl')\n",
    "\n",
    "with open('iium-confession-hard.jsonl', 'w') as fopen_l:\n",
    "    for f in files:\n",
    "        with open(f, encoding = \"ISO-8859-1\") as fopen:\n",
    "            try:\n",
    "                for l in tqdm(fopen):\n",
    "                    l = json.loads(l)\n",
    "                    if not len(l['query'].strip()):\n",
    "                        continue\n",
    "                    if not len(l['pos']):\n",
    "                        continue\n",
    "                    if not len(l['neg']):\n",
    "                        continue\n",
    "                    fopen_l.write(f'{json.dumps(l)}\\n')\n",
    "            except Exception as e:\n",
    "                print(e)\n",
    "                pass"
   ]
  },
  {
   "cell_type": "code",
   "execution_count": 34,
   "id": "7c4ac9c9",
   "metadata": {},
   "outputs": [
    {
     "name": "stdout",
     "output_type": "stream",
     "text": [
      "22657 iium-confession-hard.jsonl\r\n"
     ]
    }
   ],
   "source": [
    "!wc -l iium-confession-hard.jsonl"
   ]
  },
  {
   "cell_type": "code",
   "execution_count": null,
   "id": "08f51f5d",
   "metadata": {},
   "outputs": [],
   "source": []
  }
 ],
 "metadata": {
  "kernelspec": {
   "display_name": "Python 3 (ipykernel)",
   "language": "python",
   "name": "python3"
  },
  "language_info": {
   "codemirror_mode": {
    "name": "ipython",
    "version": 3
   },
   "file_extension": ".py",
   "mimetype": "text/x-python",
   "name": "python",
   "nbconvert_exporter": "python",
   "pygments_lexer": "ipython3",
   "version": "3.10.12"
  }
 },
 "nbformat": 4,
 "nbformat_minor": 5
}
