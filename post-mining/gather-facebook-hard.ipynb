{
 "cells": [
  {
   "cell_type": "code",
   "execution_count": 1,
   "id": "5228c063",
   "metadata": {},
   "outputs": [],
   "source": [
    "from glob import glob\n",
    "from tqdm import tqdm\n",
    "import json"
   ]
  },
  {
   "cell_type": "code",
   "execution_count": 2,
   "id": "2d408ee3",
   "metadata": {},
   "outputs": [
    {
     "data": {
      "text/plain": [
       "41"
      ]
     },
     "execution_count": 2,
     "metadata": {},
     "output_type": "execute_result"
    }
   ],
   "source": [
    "files = glob('facebook-hard/*.jsonl')\n",
    "len(files)"
   ]
  },
  {
   "cell_type": "code",
   "execution_count": 3,
   "id": "25af0b2a",
   "metadata": {},
   "outputs": [
    {
     "name": "stderr",
     "output_type": "stream",
     "text": [
      "4181it [00:00, 23305.62it/s]\n",
      "4164it [00:00, 23946.81it/s]\n",
      "4220it [00:00, 25490.53it/s]\n",
      "4180it [00:00, 22072.59it/s]\n",
      "4183it [00:00, 25267.98it/s]\n",
      "4184it [00:00, 26781.93it/s]\n",
      "4155it [00:00, 25461.40it/s]\n",
      "4184it [00:00, 26404.04it/s]\n",
      "4214it [00:00, 27755.52it/s]\n",
      "4173it [00:00, 25409.06it/s]\n",
      "7it [00:00, 1440.71it/s]\n",
      "4191it [00:00, 25939.98it/s]\n",
      "4242it [00:00, 25926.64it/s]\n",
      "4189it [00:00, 25792.29it/s]\n",
      "4222it [00:00, 24167.57it/s]\n",
      "4203it [00:00, 27248.03it/s]\n",
      "4234it [00:00, 25596.81it/s]\n",
      "4194it [00:00, 27130.68it/s]\n",
      "4229it [00:00, 26248.69it/s]\n",
      "4182it [00:00, 25435.40it/s]\n",
      "4153it [00:00, 25211.38it/s]\n",
      "4176it [00:00, 26765.08it/s]\n",
      "4216it [00:00, 26713.50it/s]\n",
      "4239it [00:00, 25101.37it/s]\n",
      "4173it [00:00, 24511.81it/s]\n",
      "4211it [00:00, 25391.70it/s]\n",
      "4181it [00:00, 24562.59it/s]\n",
      "4200it [00:00, 26654.11it/s]\n",
      "4203it [00:00, 23521.94it/s]\n",
      "4159it [00:00, 23867.20it/s]\n",
      "4171it [00:00, 24270.23it/s]\n",
      "4211it [00:00, 25609.25it/s]\n",
      "4195it [00:00, 24807.73it/s]\n",
      "4185it [00:00, 23411.30it/s]\n",
      "4206it [00:00, 24909.06it/s]\n",
      "4202it [00:00, 23129.95it/s]\n",
      "4169it [00:00, 25592.28it/s]\n",
      "4214it [00:00, 25075.68it/s]\n",
      "4172it [00:00, 26753.22it/s]\n",
      "4183it [00:00, 22958.92it/s]\n",
      "4201it [00:00, 25530.63it/s]\n"
     ]
    }
   ],
   "source": [
    "with open('facebook-hard.jsonl', 'w') as fopen_l:\n",
    "    for f in files:\n",
    "        with open(f) as fopen:\n",
    "            for l in tqdm(fopen):\n",
    "                l = json.loads(l)\n",
    "                if not len(l['pos']) or not len(l['neg']):\n",
    "                    continue\n",
    "                fopen_l.write(f'{json.dumps(l)}\\n')\n",
    "                fopen_l.flush()"
   ]
  },
  {
   "cell_type": "code",
   "execution_count": null,
   "id": "91fda531",
   "metadata": {},
   "outputs": [],
   "source": []
  }
 ],
 "metadata": {
  "kernelspec": {
   "display_name": "Python 3 (ipykernel)",
   "language": "python",
   "name": "python3"
  },
  "language_info": {
   "codemirror_mode": {
    "name": "ipython",
    "version": 3
   },
   "file_extension": ".py",
   "mimetype": "text/x-python",
   "name": "python",
   "nbconvert_exporter": "python",
   "pygments_lexer": "ipython3",
   "version": "3.10.12"
  }
 },
 "nbformat": 4,
 "nbformat_minor": 5
}
