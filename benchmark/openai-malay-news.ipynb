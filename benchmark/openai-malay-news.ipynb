{
 "cells": [
  {
   "cell_type": "code",
   "execution_count": 1,
   "id": "210a5229",
   "metadata": {},
   "outputs": [],
   "source": [
    "# !wget https://huggingface.co/datasets/mesolitica/embedding-pair-mining/resolve/main/b.cari.com.my-dataset-bge-test.jsonl"
   ]
  },
  {
   "cell_type": "code",
   "execution_count": 2,
   "id": "c7ce69e9",
   "metadata": {},
   "outputs": [],
   "source": [
    "# !pip3 install openai"
   ]
  },
  {
   "cell_type": "code",
   "execution_count": 3,
   "id": "87b47bd4",
   "metadata": {},
   "outputs": [],
   "source": [
    "# we use OpenAI Azure, replace it with standard OpenAI"
   ]
  },
  {
   "cell_type": "code",
   "execution_count": 4,
   "id": "09ed685c",
   "metadata": {},
   "outputs": [],
   "source": [
    "import os\n",
    "\n",
    "os.environ['OPENAI_API_KEY'] = ''"
   ]
  },
  {
   "cell_type": "code",
   "execution_count": 5,
   "id": "d2846cb4",
   "metadata": {},
   "outputs": [],
   "source": [
    "import json\n",
    "import openai\n",
    "from tqdm import tqdm"
   ]
  },
  {
   "cell_type": "code",
   "execution_count": 6,
   "id": "290937ca",
   "metadata": {},
   "outputs": [],
   "source": [
    "with open('malay-news-dataset-bge-test.sample.json') as fopen:\n",
    "    rev_data = json.load(fopen)"
   ]
  },
  {
   "cell_type": "code",
   "execution_count": 7,
   "id": "57aea1ed",
   "metadata": {},
   "outputs": [
    {
     "name": "stderr",
     "output_type": "stream",
     "text": [
      " 24%|██▍       | 4444/18237 [19:01<58:19,  3.94it/s]  IOPub message rate exceeded.\n",
      "The notebook server will temporarily stop sending output\n",
      "to the client in order to avoid crashing it.\n",
      "To change this limit, set the config variable\n",
      "`--NotebookApp.iopub_msg_rate_limit`.\n",
      "\n",
      "Current values:\n",
      "NotebookApp.iopub_msg_rate_limit=1000.0 (msgs/sec)\n",
      "NotebookApp.rate_limit_window=3.0 (secs)\n",
      "\n",
      "100%|██████████| 18237/18237 [1:17:59<00:00,  3.90it/s]\n"
     ]
    }
   ],
   "source": [
    "vectors = {}\n",
    "for k, v in tqdm(rev_data.items()):\n",
    "    try:\n",
    "        o = openai.Embedding.create(input=k, engine=engine)\n",
    "        vectors[k] = o['data'][0]['embedding']\n",
    "    except:\n",
    "        pass"
   ]
  },
  {
   "cell_type": "code",
   "execution_count": 8,
   "id": "9eb48c79",
   "metadata": {},
   "outputs": [
    {
     "data": {
      "text/plain": [
       "'Sejurus pulih, Subasic yang muncul wira Croatia dalam sepakan penalti menentang Denmark pada pusingan 16 pasukan terakhir, menyelamatkan rembatan Fedor Smolov dalam masa kecederaan.'"
      ]
     },
     "execution_count": 8,
     "metadata": {},
     "output_type": "execute_result"
    }
   ],
   "source": [
    "no_string = {no: k for no, (k, v) in enumerate(vectors.items())}\n",
    "string_no = {v: k for k, v in no_string.items()}\n",
    "no_string[0]"
   ]
  },
  {
   "cell_type": "code",
   "execution_count": 9,
   "id": "f3d65f91",
   "metadata": {},
   "outputs": [],
   "source": [
    "with open('openai-malay-news.vectors.json', 'w') as fopen:\n",
    "    json.dump(vectors, fopen)"
   ]
  },
  {
   "cell_type": "code",
   "execution_count": 9,
   "id": "46aec263",
   "metadata": {},
   "outputs": [],
   "source": [
    "from sklearn.metrics.pairwise import cosine_similarity\n",
    "import numpy as np"
   ]
  },
  {
   "cell_type": "code",
   "execution_count": 11,
   "id": "a5e155f5",
   "metadata": {},
   "outputs": [
    {
     "name": "stderr",
     "output_type": "stream",
     "text": [
      "999it [00:07, 132.23it/s]\n"
     ]
    }
   ],
   "source": [
    "line = 0\n",
    "positive, negative = [], []\n",
    "with open('malay-news-dataset-bge-test.jsonl') as fopen:\n",
    "    for l in tqdm(fopen):\n",
    "        l = json.loads(l)\n",
    "        query = l['query'].strip()\n",
    "        v_query = vectors.get(query)\n",
    "        if v_query is None:\n",
    "            continue\n",
    "        v_query = np.array(v_query).reshape((1, -1))\n",
    "        for s in l['pos']:\n",
    "            v_s = vectors.get(s.strip())\n",
    "            if v_s is None:\n",
    "                continue\n",
    "            v_s = np.array(v_s).reshape((1, -1))\n",
    "            positive.append(cosine_similarity(v_query, v_s)[0, 0])\n",
    "        \n",
    "        for s in l['neg']:\n",
    "            v_s = vectors.get(s.strip())\n",
    "            if v_s is None:\n",
    "                continue\n",
    "            v_s = np.array(v_s).reshape((1, -1))\n",
    "            negative.append(1 - cosine_similarity(v_query, v_s)[0, 0])\n",
    "            \n",
    "        line += 1\n",
    "        if line >= 1000:\n",
    "            break"
   ]
  },
  {
   "cell_type": "code",
   "execution_count": 13,
   "id": "1ca12cd9",
   "metadata": {},
   "outputs": [
    {
     "data": {
      "text/plain": [
       "(0.8448714707337686, 0.2741472719191583)"
      ]
     },
     "execution_count": 13,
     "metadata": {},
     "output_type": "execute_result"
    }
   ],
   "source": [
    "np.mean(positive), np.mean(negative)"
   ]
  },
  {
   "cell_type": "code",
   "execution_count": 10,
   "id": "915167b7",
   "metadata": {},
   "outputs": [],
   "source": [
    "np_vectors = np.array(list(vectors.values()))"
   ]
  },
  {
   "cell_type": "code",
   "execution_count": 14,
   "id": "c69c743d",
   "metadata": {},
   "outputs": [
    {
     "name": "stderr",
     "output_type": "stream",
     "text": [
      "19613it [20:43, 15.77it/s] \n"
     ]
    }
   ],
   "source": [
    "tops = {\n",
    "    1: 0,\n",
    "    3: 0,\n",
    "    5: 0,\n",
    "    10: 0,\n",
    "}\n",
    "total = 0\n",
    "with open('malay-news-dataset-bge-test.jsonl') as fopen:\n",
    "    for l in tqdm(fopen):\n",
    "        l = json.loads(l)\n",
    "        query = l['query'].strip()\n",
    "        query_no = string_no.get(query)\n",
    "        if query_no is None:\n",
    "            continue\n",
    "        for s in l['pos']:\n",
    "            s = s.strip()\n",
    "            v_s = vectors.get(s)\n",
    "            s_no = string_no.get(s)\n",
    "            if v_s is None:\n",
    "                continue\n",
    "            v_s = np.array(v_s).reshape((1, -1))\n",
    "            argsort = np.argsort(cosine_similarity(v_s, np_vectors)[0])[::-1]\n",
    "            for k in tops.keys():\n",
    "                if s_no in argsort[:k]:\n",
    "                    k_ = k + 1\n",
    "                else:\n",
    "                    k_ = k\n",
    "                if query_no in argsort[:k_]:\n",
    "                    tops[k] += 1\n",
    "            total += 1"
   ]
  },
  {
   "cell_type": "code",
   "execution_count": 16,
   "id": "792205f3",
   "metadata": {},
   "outputs": [
    {
     "data": {
      "text/plain": [
       "({1: 1179, 3: 2510, 5: 3184, 10: 4042}, 8501)"
      ]
     },
     "execution_count": 16,
     "metadata": {},
     "output_type": "execute_result"
    }
   ],
   "source": [
    "tops, total"
   ]
  },
  {
   "cell_type": "code",
   "execution_count": 17,
   "id": "f8b005f3",
   "metadata": {},
   "outputs": [
    {
     "name": "stdout",
     "output_type": "stream",
     "text": [
      "1 0.1386895659334196\n",
      "3 0.2952593812492648\n",
      "5 0.3745441712739678\n",
      "10 0.4754734737089754\n"
     ]
    }
   ],
   "source": [
    "for k, v in tops.items():\n",
    "    print(k, v / total)"
   ]
  },
  {
   "cell_type": "code",
   "execution_count": null,
   "id": "711e0103",
   "metadata": {},
   "outputs": [],
   "source": []
  }
 ],
 "metadata": {
  "kernelspec": {
   "display_name": "Python 3 (ipykernel)",
   "language": "python",
   "name": "python3"
  },
  "language_info": {
   "codemirror_mode": {
    "name": "ipython",
    "version": 3
   },
   "file_extension": ".py",
   "mimetype": "text/x-python",
   "name": "python",
   "nbconvert_exporter": "python",
   "pygments_lexer": "ipython3",
   "version": "3.10.12"
  }
 },
 "nbformat": 4,
 "nbformat_minor": 5
}
