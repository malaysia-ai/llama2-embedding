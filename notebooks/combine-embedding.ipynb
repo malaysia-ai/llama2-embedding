{
 "cells": [
  {
   "cell_type": "code",
   "execution_count": 1,
   "id": "a34550c1",
   "metadata": {},
   "outputs": [],
   "source": [
    "from glob import glob\n",
    "from tqdm import tqdm\n",
    "import random\n",
    "import json"
   ]
  },
  {
   "cell_type": "code",
   "execution_count": 2,
   "id": "2542004e",
   "metadata": {
    "scrolled": true
   },
   "outputs": [
    {
     "name": "stderr",
     "output_type": "stream",
     "text": [
      "15064it [00:00, 18114.06it/s]\n",
      "378079it [00:15, 24131.29it/s]\n",
      "77109it [00:07, 9761.66it/s] \n",
      "168647it [00:25, 6531.16it/s]\n",
      "108692it [00:25, 4190.25it/s]\n",
      "12779it [00:00, 17561.66it/s]\n",
      "49646it [00:05, 9531.32it/s]\n",
      "183842it [00:14, 13122.35it/s]\n",
      "279318it [00:20, 13706.39it/s]\n",
      "373944it [00:22, 16519.87it/s]\n",
      "50010it [00:03, 15578.17it/s]\n",
      "171047it [00:18, 9198.37it/s] \n",
      "60980it [00:03, 15990.27it/s]\n",
      "169482it [00:14, 11721.63it/s]\n",
      "34821it [00:04, 7593.53it/s]\n",
      "3920774it [01:20, 48410.11it/s]\n",
      "185318it [00:06, 29246.10it/s]\n",
      "1885628it [00:37, 49982.58it/s]\n",
      "425553it [00:06, 61109.96it/s]\n",
      "436947it [00:18, 24155.35it/s]\n",
      "1410413it [01:41, 13837.40it/s]\n",
      "275460it [01:12, 3802.69it/s]\n",
      "3108939it [01:35, 32561.71it/s]\n",
      "103034it [00:08, 12291.42it/s]\n",
      "19712it [00:02, 7303.99it/s]\n",
      "8706it [00:00, 57256.76it/s]\n",
      "2062574it [00:36, 56044.54it/s]\n",
      "1001079it [01:04, 15490.70it/s]\n"
     ]
    }
   ],
   "source": [
    "# git lfs clone https://huggingface.co/datasets/mesolitica/instructions-pair-mining\n",
    "# git lfs clone https://huggingface.co/datasets/mesolitica/embedding-pair-mining\n",
    "\n",
    "with open('train-embedding.jsonl', 'w') as fopen_l:\n",
    "    \n",
    "    files = glob('/home/ubuntu/instructions-pair-mining/*.jsonl')\n",
    "    for f in files:\n",
    "        with open(f) as fopen:\n",
    "            for l in tqdm(fopen):\n",
    "                \n",
    "                l_ = json.loads(l)\n",
    "                if not len(l_['pos']) or not len(l_['neg']):\n",
    "                    continue\n",
    "                if len(l_['query'].strip()) < 5:\n",
    "                    continue\n",
    "                \n",
    "                pos = l_['pos']\n",
    "                pos = [p for p in pos if len(p)]\n",
    "                \n",
    "                neg = l_['neg']\n",
    "                neg = [p for p in neg if len(p)]\n",
    "                \n",
    "                l = {\n",
    "                    'query': l_['query'].strip(),\n",
    "                    'pos': pos,\n",
    "                    'neg': neg\n",
    "                }\n",
    "                \n",
    "                fopen_l.write(f'{json.dumps(l)}\\n')\n",
    "                fopen_l.flush()\n",
    "                \n",
    "    files = glob('/home/ubuntu/embedding-pair-mining/*.jsonl')\n",
    "    files = [f for f in files if 'test' not in f]\n",
    "    for f in files:\n",
    "        with open(f) as fopen:\n",
    "            for l in tqdm(fopen):\n",
    "                l_ = json.loads(l)\n",
    "                if not len(l_['pos']) or not len(l_['neg']):\n",
    "                    continue\n",
    "                if len(l_['query'].strip()) < 5:\n",
    "                    continue\n",
    "                \n",
    "                if random.random() > 0.3:\n",
    "                    continue\n",
    "                    \n",
    "                pos = l_['pos']\n",
    "                pos = [p for p in pos if len(p)]\n",
    "                \n",
    "                neg = l_['neg']\n",
    "                neg = [p for p in neg if len(p)]\n",
    "                \n",
    "                l = {\n",
    "                    'query': l_['query'].strip(),\n",
    "                    'pos': pos,\n",
    "                    'neg': neg\n",
    "                }\n",
    "                    \n",
    "                fopen_l.write(f'{json.dumps(l)}\\n')\n",
    "                fopen_l.flush()"
   ]
  },
  {
   "cell_type": "code",
   "execution_count": null,
   "id": "4691338a",
   "metadata": {},
   "outputs": [],
   "source": [
    "!shuf train-embedding.jsonl > shuf-train-embedding.jsonl"
   ]
  },
  {
   "cell_type": "code",
   "execution_count": 10,
   "id": "3001b862",
   "metadata": {},
   "outputs": [],
   "source": [
    "from streaming import MDSWriter\n",
    "from streaming.base.format.mds.encodings import Encoding, _encodings\n",
    "import json\n",
    "\n",
    "class ListStr(Encoding):\n",
    "    def encode(self, obj):\n",
    "        return json.dumps(obj).encode()\n",
    "\n",
    "    def decode(self, data):\n",
    "        return json.loads(data)\n",
    "\n",
    "_encodings['liststr'] = ListStr\n",
    "\n",
    "columns = {\n",
    "    'query': 'str',\n",
    "    'pos': 'liststr',\n",
    "    'neg': 'liststr', \n",
    "}\n",
    "hashes = 'sha1', 'xxh64'"
   ]
  },
  {
   "cell_type": "code",
   "execution_count": 17,
   "id": "427b42eb",
   "metadata": {},
   "outputs": [],
   "source": [
    "!rm -rf ../dataset"
   ]
  },
  {
   "cell_type": "code",
   "execution_count": 18,
   "id": "0fa5a5f4",
   "metadata": {},
   "outputs": [
    {
     "name": "stderr",
     "output_type": "stream",
     "text": [
      "6582248it [06:18, 17371.29it/s]\n"
     ]
    }
   ],
   "source": [
    "with MDSWriter(out='../dataset', columns=columns, compression=None, hashes=hashes) as out:\n",
    "    with open('train-embedding.jsonl') as fopen:\n",
    "        for l in tqdm(fopen):\n",
    "            l = json.loads(l)\n",
    "            out.write(l)"
   ]
  },
  {
   "cell_type": "code",
   "execution_count": 19,
   "id": "ebd7e7b0",
   "metadata": {},
   "outputs": [],
   "source": [
    "from streaming import LocalDataset"
   ]
  },
  {
   "cell_type": "code",
   "execution_count": 20,
   "id": "64c7150d",
   "metadata": {},
   "outputs": [],
   "source": [
    "dataset = LocalDataset(local = '../dataset')"
   ]
  },
  {
   "cell_type": "code",
   "execution_count": 21,
   "id": "751755d8",
   "metadata": {},
   "outputs": [
    {
     "data": {
      "text/plain": [
       "6582248"
      ]
     },
     "execution_count": 21,
     "metadata": {},
     "output_type": "execute_result"
    }
   ],
   "source": [
    "len(dataset)"
   ]
  },
  {
   "cell_type": "code",
   "execution_count": 23,
   "id": "cc08c122",
   "metadata": {},
   "outputs": [
    {
     "data": {
      "text/plain": [
       "{'neg': ['Ayah ada 3 orang anak dengan isteri tu dan 2 orang anak ayah ambil selepas bercerai dan yang bongsu bekas isteri ayah ambil.',\n",
       "  'Father has 3 children with his wife and 2 children he took after divorce, and the youngest one was taken by his ex-wife.',\n",
       "  'Ayah mempunyai 3 orang anak dengan isterinya dan 2 orang anak yang diambil selepas bercerai, dan anak bongsu diambil oleh bekas isterinya.',\n",
       "  'Lepastu mak aku bagi kata-kata semangat dekat aku dan mak aku kata dia akan doakan aku. Dan nasihat mak aku, dia kata bila Allah putuskan sesuatu hubungan tu, maksudnya Allah tak redha dengan hubungan tu.',\n",
       "  \"My father gave me words of encouragement and my mother said she would pray for me. And my mother's advice was that when Allah ends a relationship, it means Allah is not pleased with that relationship.\",\n",
       "  'Bapa saya memberi kata-kata semangat kepada saya dan ibu saya berkata dia akan mendoakan saya. Dan nasihat ibu saya ialah apabila Allah mengakhiri hubungan, itu bermakna Allah tidak berkenan dengan hubungan tersebut.',\n",
       "  'Bahagian sikap/perangai, saya kawal supaya adik-adik hanya nampak yang terbaik dan ikut yang terbaik. Saya marah macam mana pun saya tak melenting, saya akan kontrol nada suara bila bercakap. Saya tegas bukan garang.',\n",
       "  \"In terms of attitude/behavior, I make sure that my siblings only show their best and follow the best. No matter how angry I am, I won't lose control of my tone when speaking. I am firm, not fierce.\",\n",
       "  'Dalam hal sikap/perangai, saya memastikan adik-adik saya hanya menunjukkan yang terbaik dan mengikuti yang terbaik. Saya tidak akan kehilangan kawalan nada suara ketika bercakap walaupun saya marah. Saya tegas, bukan garang.',\n",
       "  'Risau sekiranya keluarga aku dipandang rendah.. Risau ibu bapa aku diperkotak katik kan.. Dan banyak lagi kerisauan. Dan yang jelas aku tertanya2 adakah aku masih tidak sekufu dengan mereka?',\n",
       "  'I am worried if my family is looked down upon.. Worried that my parents will be stereotyped.. And many more worries. And the question remains, am I still not equal to them?',\n",
       "  'Saya risau jika keluarga saya dianggap rendah.. Risau bahawa ibu bapa saya akan dipersepsikan secara stereotaip.. Dan banyak lagi kebimbangan. Dan persoalannya masih sama, adakah saya masih tidak sama taraf dengan mereka?',\n",
       "  'Hari ni aku buka fb, dan tiba- tiba terpandang satu gambar menunjukkan bagaimana seorang budak yang mengintai tv dari luar rumah dan akhirnya pintu rumah itu ditutup.',\n",
       "  'Today I opened Facebook and suddenly saw a picture showing a child peeking at the TV from outside the house and eventually the door of the house was closed.',\n",
       "  'Hari ini saya membuka Facebook dan tiba-tiba melihat gambar yang menunjukkan seorang anak mengintip TV dari luar rumah dan akhirnya pintu rumah ditutup.'],\n",
       " 'pos': [\"I have read some confessions where people complain about their lives. I don't know if they are aware of their complaints or not. I think they are aware, but they deny it.\",\n",
       "  'Saya telah membaca beberapa pengakuan di mana orang mengeluh tentang kehidupan mereka. Saya tidak tahu sama ada mereka sedar tentang aduan mereka atau tidak. Saya fikir mereka sedar, tetapi mereka menafikan.'],\n",
       " 'query': 'Aku ada terbaca beberapa confession yang mengeluh dengan kehidupannya. Tak tahu, keluhan tu dalam mereka sedar atau tidak. For sure i think mereka sedar. Tapi mereka menafikan.'}"
      ]
     },
     "execution_count": 23,
     "metadata": {},
     "output_type": "execute_result"
    }
   ],
   "source": [
    "dataset[-1]"
   ]
  }
 ],
 "metadata": {
  "kernelspec": {
   "display_name": "Python 3 (ipykernel)",
   "language": "python",
   "name": "python3"
  },
  "language_info": {
   "codemirror_mode": {
    "name": "ipython",
    "version": 3
   },
   "file_extension": ".py",
   "mimetype": "text/x-python",
   "name": "python",
   "nbconvert_exporter": "python",
   "pygments_lexer": "ipython3",
   "version": "3.10.12"
  }
 },
 "nbformat": 4,
 "nbformat_minor": 5
}
