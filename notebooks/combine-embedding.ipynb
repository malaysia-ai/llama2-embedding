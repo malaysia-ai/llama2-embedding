{
 "cells": [
  {
   "cell_type": "code",
   "execution_count": 4,
   "id": "76de4d0e",
   "metadata": {},
   "outputs": [
    {
     "data": {
      "text/plain": [
       "['embedding-pair-mining/malay-news-dataset-bge-train.jsonl',\n",
       " 'embedding-pair-mining/twitter-dataset.jsonl',\n",
       " 'embedding-pair-mining/carigold-dataset.jsonl',\n",
       " 'embedding-pair-mining/hansard-dataset-bge.jsonl',\n",
       " 'embedding-pair-mining/facebook-dataset.jsonl',\n",
       " 'embedding-pair-mining/iium-dataset-bge.jsonl',\n",
       " 'embedding-pair-mining/twitter-dataset-bge-train.jsonl',\n",
       " 'embedding-pair-mining/b.cari.com.my-dataset-bge-train.jsonl',\n",
       " 'embedding-pair-mining/b.cari.com.my-dataset.jsonl',\n",
       " 'embedding-pair-mining/facebook-dataset-bge.jsonl',\n",
       " 'embedding-pair-mining/manglish-dataset-bge.jsonl',\n",
       " 'embedding-pair-mining/lowyat-dataset.jsonl',\n",
       " 'embedding-pair-mining/c.cari.com.my-dataset-bge-train.jsonl']"
      ]
     },
     "execution_count": 4,
     "metadata": {},
     "output_type": "execute_result"
    }
   ],
   "source": [
    "from glob import glob\n",
    "from tqdm import tqdm\n",
    "\n",
    "files = glob('embedding-pair-mining/*.jsonl')\n",
    "files = [f for f in files if 'test' not in f]\n",
    "files"
   ]
  },
  {
   "cell_type": "code",
   "execution_count": 6,
   "id": "924dc722",
   "metadata": {},
   "outputs": [
    {
     "name": "stderr",
     "output_type": "stream",
     "text": [
      "3920774it [00:17, 227429.96it/s]\n",
      "8706it [00:00, 239404.24it/s]\n",
      "436947it [00:03, 119153.22it/s]\n",
      "275460it [01:01, 4466.21it/s] \n",
      "103034it [00:05, 17688.68it/s]\n",
      "1001079it [00:40, 24636.63it/s]\n",
      "2062574it [00:16, 128669.33it/s]\n",
      "1885628it [01:34, 20030.55it/s]\n",
      "19712it [00:07, 2788.62it/s]\n",
      "425553it [00:01, 355727.29it/s]\n",
      "3108939it [00:14, 220081.72it/s]\n",
      "185318it [00:25, 7170.20it/s] \n",
      "1410413it [02:32, 9236.93it/s] \n"
     ]
    }
   ],
   "source": [
    "with open('train-embedding.jsonl', 'w') as fopen_l:\n",
    "    for f in files:\n",
    "        with open(f) as fopen:\n",
    "            for l in tqdm(fopen):\n",
    "                fopen_l.write(l)"
   ]
  },
  {
   "cell_type": "code",
   "execution_count": 16,
   "id": "951f9f6b",
   "metadata": {},
   "outputs": [
    {
     "name": "stdout",
     "output_type": "stream",
     "text": [
      "Downloading and preparing dataset json/default to /home/ubuntu/train-embedding/json/default-cf7f96519654c781/0.0.0/e347ab1c932092252e717ff3f949105a4dd28b27e842dd53157d2f72e276c2e4...\n"
     ]
    },
    {
     "data": {
      "application/vnd.jupyter.widget-view+json": {
       "model_id": "a3ff70ff1e93417b8c8f99224f0baf93",
       "version_major": 2,
       "version_minor": 0
      },
      "text/plain": [
       "Downloading data files:   0%|          | 0/1 [00:00<?, ?it/s]"
      ]
     },
     "metadata": {},
     "output_type": "display_data"
    },
    {
     "data": {
      "application/vnd.jupyter.widget-view+json": {
       "model_id": "4b7952c8ddd046dea2e88d4725f5c648",
       "version_major": 2,
       "version_minor": 0
      },
      "text/plain": [
       "Extracting data files:   0%|          | 0/1 [00:00<?, ?it/s]"
      ]
     },
     "metadata": {},
     "output_type": "display_data"
    },
    {
     "data": {
      "application/vnd.jupyter.widget-view+json": {
       "model_id": "",
       "version_major": 2,
       "version_minor": 0
      },
      "text/plain": [
       "Generating train split: 0 examples [00:00, ? examples/s]"
      ]
     },
     "metadata": {},
     "output_type": "display_data"
    },
    {
     "name": "stdout",
     "output_type": "stream",
     "text": [
      "Dataset json downloaded and prepared to /home/ubuntu/train-embedding/json/default-cf7f96519654c781/0.0.0/e347ab1c932092252e717ff3f949105a4dd28b27e842dd53157d2f72e276c2e4. Subsequent calls will reuse this data.\n"
     ]
    }
   ],
   "source": [
    "import datasets\n",
    "\n",
    "dataset = datasets.load_dataset('json', data_files='train-embedding.jsonl', split='train',\n",
    "                               cache_dir = 'train-embedding')"
   ]
  },
  {
   "cell_type": "code",
   "execution_count": null,
   "id": "0fa5a5f4",
   "metadata": {},
   "outputs": [],
   "source": []
  }
 ],
 "metadata": {
  "kernelspec": {
   "display_name": "Python 3 (ipykernel)",
   "language": "python",
   "name": "python3"
  },
  "language_info": {
   "codemirror_mode": {
    "name": "ipython",
    "version": 3
   },
   "file_extension": ".py",
   "mimetype": "text/x-python",
   "name": "python",
   "nbconvert_exporter": "python",
   "pygments_lexer": "ipython3",
   "version": "3.10.12"
  }
 },
 "nbformat": 4,
 "nbformat_minor": 5
}
