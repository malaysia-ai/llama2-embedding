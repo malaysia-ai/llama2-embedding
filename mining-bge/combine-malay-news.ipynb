{
 "cells": [
  {
   "cell_type": "code",
   "execution_count": 1,
   "id": "20a57ab5",
   "metadata": {},
   "outputs": [],
   "source": [
    "from glob import glob\n",
    "from tqdm import tqdm\n",
    "import json"
   ]
  },
  {
   "cell_type": "code",
   "execution_count": 2,
   "id": "e6c7fc51",
   "metadata": {},
   "outputs": [
    {
     "data": {
      "text/plain": [
       "45"
      ]
     },
     "execution_count": 2,
     "metadata": {},
     "output_type": "execute_result"
    }
   ],
   "source": [
    "files = glob('malay-news/*.jsonl')\n",
    "len(files)"
   ]
  },
  {
   "cell_type": "code",
   "execution_count": 3,
   "id": "47e25404",
   "metadata": {},
   "outputs": [
    {
     "name": "stderr",
     "output_type": "stream",
     "text": [
      "88041it [00:04, 17704.50it/s]\n",
      "87921it [00:06, 12603.45it/s]\n",
      "87972it [00:03, 22044.70it/s]\n",
      "87908it [00:02, 33588.00it/s]\n",
      "87944it [00:02, 34131.82it/s]\n",
      "87936it [00:05, 15298.05it/s]\n",
      "86352it [00:02, 34913.26it/s]\n",
      "87943it [00:02, 34360.10it/s]\n",
      "87930it [00:02, 34338.48it/s]\n",
      "87980it [00:02, 34297.10it/s]\n",
      "86207it [00:02, 34346.31it/s]\n",
      "87935it [00:02, 34251.20it/s]\n",
      "88054it [00:02, 34202.95it/s]\n",
      "87574it [00:02, 34284.48it/s]\n",
      "87792it [00:02, 34273.66it/s]\n",
      "87652it [00:02, 34230.85it/s]\n",
      "86409it [00:02, 34313.52it/s]\n",
      "87965it [00:04, 19091.88it/s]\n",
      "88082it [00:04, 18691.86it/s]\n",
      "86520it [00:02, 34337.91it/s]\n",
      "86438it [00:06, 14157.84it/s]\n",
      "87940it [00:10, 8682.05it/s] \n",
      "88035it [00:02, 34430.60it/s]\n",
      "87977it [00:02, 34557.28it/s]\n",
      "86092it [00:04, 18449.48it/s]\n",
      "88103it [00:04, 20423.19it/s]\n",
      "87842it [00:02, 34463.38it/s]\n",
      "87917it [00:02, 34422.98it/s]\n",
      "87915it [00:02, 34544.65it/s]\n",
      "87973it [00:02, 34547.64it/s]\n",
      "88003it [00:02, 34619.79it/s]\n",
      "87879it [00:02, 34493.49it/s]\n",
      "88010it [00:02, 34568.33it/s]\n",
      "86462it [00:02, 34610.82it/s]\n",
      "87943it [00:02, 34675.48it/s]\n",
      "87998it [00:02, 34594.87it/s]\n",
      "88123it [00:02, 34612.63it/s]\n",
      "86383it [00:05, 17132.00it/s]\n",
      "88004it [00:05, 17452.88it/s]\n",
      "86527it [00:02, 34700.36it/s]\n",
      "88014it [00:05, 17549.83it/s]\n",
      "88035it [00:04, 19813.30it/s]\n",
      "86309it [00:06, 12681.18it/s]\n",
      "86304it [00:02, 31967.92it/s]\n",
      "88044it [00:02, 34573.72it/s]\n"
     ]
    }
   ],
   "source": [
    "with open('/home/ubuntu/embedding-pair-mining/malay-news-train-dataset-bge.jsonl', 'w') as fopen_l:\n",
    "    for f in files:\n",
    "        with open(f) as fopen:\n",
    "            for l in tqdm(fopen):\n",
    "                l = json.loads(l)\n",
    "                if not len(l['pos']) or not len(l['neg']):\n",
    "                    continue\n",
    "                fopen_l.write(f'{json.dumps(l)}\\n')\n",
    "                fopen_l.flush()"
   ]
  },
  {
   "cell_type": "code",
   "execution_count": 4,
   "id": "5106a4e5",
   "metadata": {},
   "outputs": [
    {
     "name": "stdout",
     "output_type": "stream",
     "text": [
      "{\"query\": \"\\\"Mayat mangsa yang maut dihantar ke Hospital Kluang untuk bedah siasat manakala mangsa cedera dirawat sebagai pesakit luar di hospital sama,\\\" katanya ketika dihubungi, hari ini.\", \"pos\": [\"Mangsa yang maut mengalami kecederaan di leher manakala seorang lagi lelaki cedera parah di tangan dibawa mendapatkan rawatan di Hospital Taiping.\", \"The victim who died suffered a neck injury while another man was seriously injured in the hand and was taken to Taiping Hospital for treatment.\", \"Jelasnya, mangsa disahkan meninggal dunia selepas pihak perubatan hospital tiba di lokasi kejadian.\", \"He explained that the victim was confirmed dead after the hospital's medical team arrived at the scene of the incident.\", \"Katanya, mayat mangsa kemudiannya dibawa ke Hospital Gua Musang untuk bedah siasat, manakala seorang lagi mangsa cedera dirujuk ke Hospital Kuala Krai untuk rawatan lanjut.\", \"He said the victim's body was then taken to Gua Musang Hospital for post-mortem, while another injured victim was referred to Kuala Krai Hospital for further treatment.\", \"Zani memberitahu, akibat pelanggaran itu, mangsa yang maut dibawa ke Unit Forensik di Hospital Sungai Buloh untuk tindakan lanjut.\", \"Zani said that as a result of the violation, the deceased was taken to the Forensic Unit at Sungai Buloh Hospital for further action.\", \"\\\"The dead victim's body was sent to Kluang Hospital for post-mortem while the injured victim was treated as an outpatient at the same hospital,\\\" he said when contacted, today.\"], \"neg\": [\"R. Thineswaran pula berkata dubsmash membantu dirinya untuk mengasah bakat terpendam seperti berlakon dan menyanyi.\", \"R. Thineswaran said that dubsmash helped him to hone his hidden talents such as acting and singing.\", \"Lagu \\\"Eagle Fly Free\\\", misalnya, benar-benar menguji kehebatan suaranya yang nyaring dan Kiske langsung tidak mengecewakan.\", \"The song \\\"Eagle Fly Free\\\", for example, really tests the prowess of his sonorous voice and Kiske does not disappoint at all.\", \"Semua orang menyukainya,\\\" kata Tania Rodrigues, yang membawa bersama anaknya yang berusia 11 tahun, Rosangela.\", \"Everyone loves it,\\\" said Tania Rodrigues, who brought along her 11-year-old daughter, Rosangela.\", \"Kiat Dimas Seto memulai gaya hidup Islami\", \"Tips for Dimas Seto to start an Islamic lifestyle\", \"This was a 1st writing attempt by a woman raised in the south 60 yrs ago.\", \"This was a 1st writing attempt by a woman raised in the south 60 years ago.\"]}\r\n"
     ]
    }
   ],
   "source": [
    "!head -n 1 /home/ubuntu/embedding-pair-mining/malay-news-train-dataset-bge.jsonl"
   ]
  },
  {
   "cell_type": "code",
   "execution_count": 5,
   "id": "7a18d7f2",
   "metadata": {},
   "outputs": [],
   "source": [
    "!rm -rf malay-news"
   ]
  }
 ],
 "metadata": {
  "kernelspec": {
   "display_name": "Python 3 (ipykernel)",
   "language": "python",
   "name": "python3"
  },
  "language_info": {
   "codemirror_mode": {
    "name": "ipython",
    "version": 3
   },
   "file_extension": ".py",
   "mimetype": "text/x-python",
   "name": "python",
   "nbconvert_exporter": "python",
   "pygments_lexer": "ipython3",
   "version": "3.10.12"
  }
 },
 "nbformat": 4,
 "nbformat_minor": 5
}
