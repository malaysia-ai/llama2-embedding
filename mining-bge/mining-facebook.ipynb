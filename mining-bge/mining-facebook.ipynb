{
 "cells": [
  {
   "cell_type": "markdown",
   "id": "655b1e69",
   "metadata": {},
   "source": [
    "### Mining dataset Using bge-large-en"
   ]
  },
  {
   "cell_type": "code",
   "execution_count": 1,
   "id": "424dad2b",
   "metadata": {},
   "outputs": [],
   "source": [
    "from glob import glob\n",
    "import json\n",
    "from tqdm import tqdm\n",
    "from concurrent.futures import ThreadPoolExecutor, as_completed\n",
    "import json\n",
    "import random"
   ]
  },
  {
   "cell_type": "markdown",
   "id": "e32ddc63",
   "metadata": {},
   "source": [
    "### Load json file containing embedding & texts"
   ]
  },
  {
   "cell_type": "code",
   "execution_count": null,
   "id": "20f6ee01",
   "metadata": {
    "scrolled": true
   },
   "outputs": [],
   "source": [
    "data = []\n",
    "\n",
    "\n",
    "with open('bge-embedding/bge-large-en-embedding/facebook.jsonl') as fopen:\n",
    "    for x in tqdm(fopen):\n",
    "        try:\n",
    "            data.append(json.loads(x))\n",
    "\n",
    "        except:\n",
    "            pass"
   ]
  },
  {
   "cell_type": "code",
   "execution_count": null,
   "id": "47d96b98",
   "metadata": {
    "scrolled": true
   },
   "outputs": [],
   "source": [
    "len(data)"
   ]
  },
  {
   "cell_type": "markdown",
   "id": "2ff8fb50",
   "metadata": {},
   "source": [
    "**Dataset Format**\n",
    "\n",
    "- v: contains the embedding vectors with 1024 dimension generated from baai/bge-large-en\n",
    "- text:\n",
    "    - 'left' : original text\n",
    "    - 'en': translated english text\n",
    "    - 'ms' : translated malay text"
   ]
  },
  {
   "cell_type": "code",
   "execution_count": null,
   "id": "40b76f10",
   "metadata": {
    "scrolled": true
   },
   "outputs": [],
   "source": [
    "data[1]"
   ]
  },
  {
   "cell_type": "markdown",
   "id": "e37dd00e",
   "metadata": {},
   "source": [
    "### Scipy KDTree for Computing Distance & Fast Nearest Neighbor Lookup"
   ]
  },
  {
   "cell_type": "code",
   "execution_count": null,
   "id": "ff164585",
   "metadata": {},
   "outputs": [],
   "source": [
    "vectors, texts = [], []\n",
    "\n",
    "for d in data:\n",
    "    vectors.append(d['v'])\n",
    "    texts.append(d['text'])"
   ]
  },
  {
   "cell_type": "code",
   "execution_count": null,
   "id": "b904d1b8",
   "metadata": {},
   "outputs": [],
   "source": [
    "from scipy.spatial import KDTree\n",
    "import numpy as np"
   ]
  },
  {
   "cell_type": "code",
   "execution_count": null,
   "id": "2c269e5d",
   "metadata": {},
   "outputs": [],
   "source": [
    "concat = np.array(vectors)\n",
    "concat.shape"
   ]
  },
  {
   "cell_type": "code",
   "execution_count": null,
   "id": "8536adf2",
   "metadata": {
    "scrolled": true
   },
   "outputs": [],
   "source": [
    "%%time\n",
    "\n",
    "kd_tree = KDTree(concat, leafsize = 40)"
   ]
  },
  {
   "cell_type": "code",
   "execution_count": null,
   "id": "665346e0",
   "metadata": {},
   "outputs": [],
   "source": [
    "concat[0]"
   ]
  },
  {
   "cell_type": "code",
   "execution_count": null,
   "id": "5b7418ec",
   "metadata": {},
   "outputs": [],
   "source": [
    "def convert_int64(obj):\n",
    "    if isinstance(obj, np.int64):\n",
    "        return int(obj)\n",
    "    raise TypeError"
   ]
  },
  {
   "cell_type": "markdown",
   "id": "773da68c",
   "metadata": {},
   "source": [
    "### Generating Train Dataset\n",
    "\n",
    "we will generate three row for each index text:\n",
    "\n",
    "{'query': text for one key , 'neg': negative pair for each text index for key ['left','en','ms'], 'pos': positive pair text and query text for text in key ['left','en','ms'] except the key used in the query]}\n",
    "\n",
    "\n",
    "- Positive text pair threshold: text distance <= 10\n",
    "- Negative text pair threshold: text distance > 15"
   ]
  },
  {
   "cell_type": "code",
   "execution_count": null,
   "id": "87851c1d",
   "metadata": {},
   "outputs": [],
   "source": [
    "batch_size = 10_000\n",
    "keys = list(texts[0].keys())"
   ]
  },
  {
   "cell_type": "code",
   "execution_count": null,
   "id": "f79f9f87",
   "metadata": {},
   "outputs": [],
   "source": [
    "import time"
   ]
  },
  {
   "cell_type": "code",
   "execution_count": null,
   "id": "61511caa",
   "metadata": {},
   "outputs": [],
   "source": [
    "def compute_neighbors(x):\n",
    "    \n",
    "    result = []\n",
    "        \n",
    "    dist, ind = kd_tree.query(concat[x], k=len(concat), workers = 100)\n",
    "    \n",
    "\n",
    "    for key in keys :\n",
    "\n",
    "        query = texts[x][key]\n",
    "\n",
    "        pos_indices = [k for k in ind[dist <= 10]]\n",
    "        neg_indices = [k for k in ind[dist > 15]]\n",
    "\n",
    "        if len(neg_indices) > 5:\n",
    "            neg_indices = random.sample(neg_indices,5)\n",
    "        if len(pos_indices) > 5:\n",
    "            rand_pos = random.sample(pos_indices,4)\n",
    "            rand_pos.append(x)\n",
    "            pos_indices = rand_pos\n",
    "\n",
    "\n",
    "        pos = [value for i in pos_indices for value in texts[i].values() if value != query ]\n",
    "\n",
    "        neg = [value for i in neg_indices for value in texts[i].values()]\n",
    "        \n",
    "#         - check duplicate \n",
    "#         - by lowering text and same duplicate\n",
    "\n",
    "        unique_neg = []\n",
    "        elements = set()\n",
    "\n",
    "        for n in neg:\n",
    "            x_lower = n.lower()\n",
    "            if x_lower not in elements:\n",
    "                elements.add(x_lower)\n",
    "                unique_neg.append(n)\n",
    "\n",
    "        result.append({'query':query,'pos':pos,'neg':unique_neg})\n",
    "        \n",
    "        \n",
    "    return result\n",
    "\n"
   ]
  },
  {
   "cell_type": "code",
   "execution_count": null,
   "id": "c0f54e3c",
   "metadata": {},
   "outputs": [],
   "source": [
    "for l in range(0,len(concat),batch_size):\n",
    "\n",
    "    with ThreadPoolExecutor(max_workers=10) as executor: \n",
    "    \n",
    "        futures = [executor.submit(compute_neighbors, x+l) for x in range(len(concat[l:l+batch_size]))]\n",
    "\n",
    "        for future in tqdm(futures):\n",
    "            result = future.result()\n",
    "            if result:\n",
    "                for x in result:\n",
    "                    with open('facebook-train-dataset.jsonl', 'a') as f:\n",
    "                        json.dump(x,f, default = convert_int64)\n",
    "                        f.write('\\n')"
   ]
  },
  {
   "cell_type": "code",
   "execution_count": null,
   "id": "4431c301",
   "metadata": {},
   "outputs": [],
   "source": []
  }
 ],
 "metadata": {
  "kernelspec": {
   "display_name": "Python 3 (ipykernel)",
   "language": "python",
   "name": "python3"
  },
  "language_info": {
   "codemirror_mode": {
    "name": "ipython",
    "version": 3
   },
   "file_extension": ".py",
   "mimetype": "text/x-python",
   "name": "python",
   "nbconvert_exporter": "python",
   "pygments_lexer": "ipython3",
   "version": "3.10.12"
  }
 },
 "nbformat": 4,
 "nbformat_minor": 5
}
