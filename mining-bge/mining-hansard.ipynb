{
 "cells": [
  {
   "cell_type": "code",
   "execution_count": 1,
   "id": "e69880f9",
   "metadata": {},
   "outputs": [],
   "source": [
    "from glob import glob\n",
    "import json\n",
    "from tqdm import tqdm\n",
    "from concurrent.futures import ThreadPoolExecutor, as_completed\n",
    "import random\n",
    "import orjson as json\n",
    "import numpy as np\n",
    "from scipy.spatial import KDTree\n",
    "import seaborn as sns"
   ]
  },
  {
   "cell_type": "code",
   "execution_count": 2,
   "id": "f8fd3a27",
   "metadata": {},
   "outputs": [],
   "source": [
    "data = []\n",
    "import json\n",
    "\n",
    "with open('hansard.jsonl') as fopen:\n",
    "    for x in fopen:\n",
    "        data.append(json.loads(x))"
   ]
  },
  {
   "cell_type": "code",
   "execution_count": 3,
   "id": "3141e9c1",
   "metadata": {},
   "outputs": [],
   "source": [
    "vectors, texts = [], []\n",
    "\n",
    "for d in data:\n",
    "    vectors.append(d[\"v\"])\n",
    "    texts.append(d[\"text\"])"
   ]
  },
  {
   "cell_type": "code",
   "execution_count": 4,
   "id": "3441884b",
   "metadata": {
    "scrolled": true
   },
   "outputs": [
    {
     "data": {
      "text/plain": [
       "{'ms': '\\n128 DR.14.4.2010 \\n \\nhuraikan. Apa yang penting ialah Jawatankuasa ini adalah seperti namanya, \\nfungsinya dicerminkan di dalam namanya untuk mempromosikan \\npersefahaman dan keharmonian. Kalau diberi kuasa perundangan, maka ianya \\nmenjadi satu aspek seperti yang telah dibangkitkan oleh Yang Berhormat \\nTelok Intan sendiri.  \\n\\n Nampaknya Yang Berhormat Telok Intan bercanggah, pada satu pihak \\ndi kata mesti ada kuasa perundangan dan kepada pihak satu lagi, beliau cuba \\nhendak menyokong atau menyuarakan kebimbangan khasnya daripada \\nbadan-badan Islam, bahawa Jawatankuasa seumpama ini tidak sepatutnya \\nmempunyai kuasa perundangan kerana fungsinya adalah untuk berdialog. Itu \\nsahaja, walaupun itu penting. Sekiranya hasil daripada perbincangan itu ada \\napa-apa yang menyentuh tentang perkara-perkara perundangan, ia akan \\ndibawa oleh pegawai-pegawai kanan dari JAKIM, IKIM dan JPNIN ke \\nperhatian Jemaah Menteri untuk pertimbangan.  \\n\\n Dato’ Haji Ismail bin Mohamed Said [Kuala Krau]: [Bangun] \\n\\n Tan Sri Dr. Koh Tsu Koon: Kita mesti faham bahawa dengan \\njelasnya dalam perlembagaan, kuasa mengenai hal ehwal Islam terletak di \\nbawah Majlis Raja-Raja. Itulah satu perkara yang harus kita ketahui dan \\nhormati dan tidaklah dijadikan satu isu. Oleh itu saya ingin merayu kepada \\nAhli-ahli Yang Berhormat untuk memandang secara positif dan bukanlah \\nmenjadikan ini sebagai satu slogan atau satu taktik Barisan Nasional dan \\ndengan membuat tuduhan seumpama ini, Yang Berhormat Telok Intan \\nsebenarnya menghina peranan yang dimainkan oleh pemimpin-pemimpin dari \\nsemua agama yang menyertai dalam jawatankuasa ini. Sebab itu saya \\nnasihatkan jangan mainkan isu ini dengan menimbulkan apa yang boleh \\nmenjadi punca keraguan... \\n\\n Dr. Tan Seng Giaw [Kepong]: [Bangun]  \\n\\n Dato’ Haji Ismail bin Mohamed Said [Kuala Krau]: Menteri.  \\n\\n Tuan M. Manogaran [Telok Intan]: Menteri, saya tanya soalan sahaja \\nbukan saya menuduh.. \\n\\n Tuan Pengerusi [Datuk Dr. Haji Wan Junaidi Tunku Jaafar]: Dua \\norang yang berdiri Yang Berhormat, siapa yang hendak bagi. \\n\\n Tuan M. Manogaran [Telok Intan]: I am just asking a question. \\n\\n Dato’ Haji Ismail bin Mohamed Said [Kuala Krau]: Yang Berhormat \\nKuala Krau mohon. \\n\\n Tan Sri Dr. Koh Tsu Koon: Saya benarkan Yang Berhormat Kepong. \\nCukuplah untuk Yang Berhormat Telok Intan. \\n\\n Dato’ Haji Ismail bin Mohamed Said [Kuala Krau]: Yang Berhormat \\nKuala Krau ya? \\n\\n Tuan Pengerusi [Datuk Dr. Haji Wan Junaidi Tunku Jaafar]: \\nTunggu dahulu, duduk dahulu Yang Berhormat. \\n\\n Dr. Tan Seng Giaw [Kepong]: Tuan Pengerusi, penjelasan. Adakah \\nYang Berhormat sedar bahawa sejak diumumkan jawatankuasa ini walaupun \\nnamanya sudah ditukar daripada Jawatankuasa Kerja Perhubungan Antara \\nAgama kepada keharmonian dan persefahaman. Dengan isu yang ditimbulkan \\nsekarang, terutama yang disebutkan salah faham dengan Yang Amat \\nBerhormat Timbalan Perdana Menteri, maka apa yang disebutkan sebagai \\npersefahaman dan keharmonian itu sudah terjejas. Sekarang pula Mufti Perak \\nhendak perkataan ‘agama’ itu ditukarkan kepada istilah yang lain, kepada \\n‘kaum’.  \\n\\n Walau bagaimanapun nampaknya kalau keharmonian ini memerlukan \\npertukaran istilah daripada Jawatankuasa Kerja Perhubungan Antara Agama \\n\\n\\n',\n",
       " 'en': \"128 DR. 14.4.2010\\n \\ndescribe. What is important is that this Committee is as the name suggests,\\nits function is reflected in its name to promote\\nunderstanding and harmony. If given legislative authority, then it is\\nbeing an aspect as raised by the Honorable\\nTelok Intan himself.\\n\\n  It seems that Yang Berhormat Telok Intan is contradictory, on the one hand\\nsaid there must be legal authority and to the other side, he tried\\nwant to support or voice their special concerns from\\nIslamic bodies, that such a Committee should not\\nhas legislative power because its function is to dialogue. That\\nonly, although that is important. If the results of the discussion are there\\nanything that touches on legal matters, it will\\nbrought by senior officers from JAKIM, IKIM and JPNIN to\\nattention of the Council of Ministers for consideration.\\n\\n  Dato' Haji Ismail bin Mohamed Said [Kuala Krau]: [Get up]\\n\\n  Tan Sri Dr. Koh Tsu Koon: We must understand that with\\nIt is clear in the constitution, the power regarding Islamic affairs lies in\\nunder the Council of Kings. That's one thing we should know and\\nrespect and don't make it an issue. Therefore I would like to appeal to\\nHonorable members to look positively and not\\nmake this a slogan or a tactic of Barisan Nasional and\\nby making accusations like this, Honorable Telok Intan\\nactually insulting the role played by the leaders from\\nall religions participating in this committee. That's why I am\\nadvise not to play this issue by raising what can\\ncause for doubt...\\n\\n  Dr. Tan Seng Giaw [Kepong]: [Get up]\\n\\n  Dato' Haji Ismail bin Mohamed Said [Kuala Krau]: Minister.\\n\\n  Tuan M. Manogaran [Telok Intan]: Minister, I am just asking a question\\nI'm not accusing..\\n\\n  Mr. Chairman [Datuk Dr. Haji Wan Junaidi Tunku Jaafar]: Two\\nthe person standing Honorable, who wants to give.\\n\\n  Tuan M. Manogaran [Telok Intan]: I am just asking a question.\\n\\n  Dato' Haji Ismail bin Mohamed Said [Kuala Krau]: Your Honor\\nKuala Krau please.\\n\\n  Tan Sri Dr. Koh Tsu Koon: I allow Honorable Kepong.\\nEnough for the Honorable Telok Intan.\\n\\n  Dato' Haji Ismail bin Mohamed Said [Kuala Krau]: Your Honor\\nKuala Krau huh?\\n\\n  Mr. Chairman [Datuk Dr. Haji Wan Junaidi Tunku Jaafar]:\\nWait first, sit first Dear Sir.\\n\\n  Dr. Tan Seng Giaw [Kepong]: Mr Chairman, clarification. Do\\nYour Honor is aware that since the announcement of this committee though\\nits name has been changed from Inter-Relationship Working Committee\\nReligion to harmony and understanding. With the issue raised\\nnow, especially the mentioned misunderstanding with the Most High\\nHonorable Deputy Prime Minister, then what is mentioned as\\nunderstanding and harmony have been affected. Now the Mufti of Perak\\nwant the word 'religion' to be changed to another term, to\\n'races'.\\n\\n  However it seems that this harmony requires\\nexchange of terms from the Working Committee on Interreligious Relations\"}"
      ]
     },
     "execution_count": 4,
     "metadata": {},
     "output_type": "execute_result"
    }
   ],
   "source": [
    "data[0]['text']"
   ]
  },
  {
   "cell_type": "code",
   "execution_count": 5,
   "id": "673df89d",
   "metadata": {
    "scrolled": true
   },
   "outputs": [
    {
     "data": {
      "text/plain": [
       "{'ms': '\\n128 DR.14.4.2010 \\n \\nhuraikan. Apa yang penting ialah Jawatankuasa ini adalah seperti namanya, \\nfungsinya dicerminkan di dalam namanya untuk mempromosikan \\npersefahaman dan keharmonian. Kalau diberi kuasa perundangan, maka ianya \\nmenjadi satu aspek seperti yang telah dibangkitkan oleh Yang Berhormat \\nTelok Intan sendiri.  \\n\\n Nampaknya Yang Berhormat Telok Intan bercanggah, pada satu pihak \\ndi kata mesti ada kuasa perundangan dan kepada pihak satu lagi, beliau cuba \\nhendak menyokong atau menyuarakan kebimbangan khasnya daripada \\nbadan-badan Islam, bahawa Jawatankuasa seumpama ini tidak sepatutnya \\nmempunyai kuasa perundangan kerana fungsinya adalah untuk berdialog. Itu \\nsahaja, walaupun itu penting. Sekiranya hasil daripada perbincangan itu ada \\napa-apa yang menyentuh tentang perkara-perkara perundangan, ia akan \\ndibawa oleh pegawai-pegawai kanan dari JAKIM, IKIM dan JPNIN ke \\nperhatian Jemaah Menteri untuk pertimbangan.  \\n\\n Dato’ Haji Ismail bin Mohamed Said [Kuala Krau]: [Bangun] \\n\\n Tan Sri Dr. Koh Tsu Koon: Kita mesti faham bahawa dengan \\njelasnya dalam perlembagaan, kuasa mengenai hal ehwal Islam terletak di \\nbawah Majlis Raja-Raja. Itulah satu perkara yang harus kita ketahui dan \\nhormati dan tidaklah dijadikan satu isu. Oleh itu saya ingin merayu kepada \\nAhli-ahli Yang Berhormat untuk memandang secara positif dan bukanlah \\nmenjadikan ini sebagai satu slogan atau satu taktik Barisan Nasional dan \\ndengan membuat tuduhan seumpama ini, Yang Berhormat Telok Intan \\nsebenarnya menghina peranan yang dimainkan oleh pemimpin-pemimpin dari \\nsemua agama yang menyertai dalam jawatankuasa ini. Sebab itu saya \\nnasihatkan jangan mainkan isu ini dengan menimbulkan apa yang boleh \\nmenjadi punca keraguan... \\n\\n Dr. Tan Seng Giaw [Kepong]: [Bangun]  \\n\\n Dato’ Haji Ismail bin Mohamed Said [Kuala Krau]: Menteri.  \\n\\n Tuan M. Manogaran [Telok Intan]: Menteri, saya tanya soalan sahaja \\nbukan saya menuduh.. \\n\\n Tuan Pengerusi [Datuk Dr. Haji Wan Junaidi Tunku Jaafar]: Dua \\norang yang berdiri Yang Berhormat, siapa yang hendak bagi. \\n\\n Tuan M. Manogaran [Telok Intan]: I am just asking a question. \\n\\n Dato’ Haji Ismail bin Mohamed Said [Kuala Krau]: Yang Berhormat \\nKuala Krau mohon. \\n\\n Tan Sri Dr. Koh Tsu Koon: Saya benarkan Yang Berhormat Kepong. \\nCukuplah untuk Yang Berhormat Telok Intan. \\n\\n Dato’ Haji Ismail bin Mohamed Said [Kuala Krau]: Yang Berhormat \\nKuala Krau ya? \\n\\n Tuan Pengerusi [Datuk Dr. Haji Wan Junaidi Tunku Jaafar]: \\nTunggu dahulu, duduk dahulu Yang Berhormat. \\n\\n Dr. Tan Seng Giaw [Kepong]: Tuan Pengerusi, penjelasan. Adakah \\nYang Berhormat sedar bahawa sejak diumumkan jawatankuasa ini walaupun \\nnamanya sudah ditukar daripada Jawatankuasa Kerja Perhubungan Antara \\nAgama kepada keharmonian dan persefahaman. Dengan isu yang ditimbulkan \\nsekarang, terutama yang disebutkan salah faham dengan Yang Amat \\nBerhormat Timbalan Perdana Menteri, maka apa yang disebutkan sebagai \\npersefahaman dan keharmonian itu sudah terjejas. Sekarang pula Mufti Perak \\nhendak perkataan ‘agama’ itu ditukarkan kepada istilah yang lain, kepada \\n‘kaum’.  \\n\\n Walau bagaimanapun nampaknya kalau keharmonian ini memerlukan \\npertukaran istilah daripada Jawatankuasa Kerja Perhubungan Antara Agama \\n\\n\\n',\n",
       " 'en': \"128 DR. 14.4.2010\\n \\ndescribe. What is important is that this Committee is as the name suggests,\\nits function is reflected in its name to promote\\nunderstanding and harmony. If given legislative authority, then it is\\nbeing an aspect as raised by the Honorable\\nTelok Intan himself.\\n\\n  It seems that Yang Berhormat Telok Intan is contradictory, on the one hand\\nsaid there must be legal authority and to the other side, he tried\\nwant to support or voice their special concerns from\\nIslamic bodies, that such a Committee should not\\nhas legislative power because its function is to dialogue. That\\nonly, although that is important. If the results of the discussion are there\\nanything that touches on legal matters, it will\\nbrought by senior officers from JAKIM, IKIM and JPNIN to\\nattention of the Council of Ministers for consideration.\\n\\n  Dato' Haji Ismail bin Mohamed Said [Kuala Krau]: [Get up]\\n\\n  Tan Sri Dr. Koh Tsu Koon: We must understand that with\\nIt is clear in the constitution, the power regarding Islamic affairs lies in\\nunder the Council of Kings. That's one thing we should know and\\nrespect and don't make it an issue. Therefore I would like to appeal to\\nHonorable members to look positively and not\\nmake this a slogan or a tactic of Barisan Nasional and\\nby making accusations like this, Honorable Telok Intan\\nactually insulting the role played by the leaders from\\nall religions participating in this committee. That's why I am\\nadvise not to play this issue by raising what can\\ncause for doubt...\\n\\n  Dr. Tan Seng Giaw [Kepong]: [Get up]\\n\\n  Dato' Haji Ismail bin Mohamed Said [Kuala Krau]: Minister.\\n\\n  Tuan M. Manogaran [Telok Intan]: Minister, I am just asking a question\\nI'm not accusing..\\n\\n  Mr. Chairman [Datuk Dr. Haji Wan Junaidi Tunku Jaafar]: Two\\nthe person standing Honorable, who wants to give.\\n\\n  Tuan M. Manogaran [Telok Intan]: I am just asking a question.\\n\\n  Dato' Haji Ismail bin Mohamed Said [Kuala Krau]: Your Honor\\nKuala Krau please.\\n\\n  Tan Sri Dr. Koh Tsu Koon: I allow Honorable Kepong.\\nEnough for the Honorable Telok Intan.\\n\\n  Dato' Haji Ismail bin Mohamed Said [Kuala Krau]: Your Honor\\nKuala Krau huh?\\n\\n  Mr. Chairman [Datuk Dr. Haji Wan Junaidi Tunku Jaafar]:\\nWait first, sit first Dear Sir.\\n\\n  Dr. Tan Seng Giaw [Kepong]: Mr Chairman, clarification. Do\\nYour Honor is aware that since the announcement of this committee though\\nits name has been changed from Inter-Relationship Working Committee\\nReligion to harmony and understanding. With the issue raised\\nnow, especially the mentioned misunderstanding with the Most High\\nHonorable Deputy Prime Minister, then what is mentioned as\\nunderstanding and harmony have been affected. Now the Mufti of Perak\\nwant the word 'religion' to be changed to another term, to\\n'races'.\\n\\n  However it seems that this harmony requires\\nexchange of terms from the Working Committee on Interreligious Relations\"}"
      ]
     },
     "execution_count": 5,
     "metadata": {},
     "output_type": "execute_result"
    }
   ],
   "source": [
    "texts[0]"
   ]
  },
  {
   "cell_type": "code",
   "execution_count": 4,
   "id": "8b7a2540",
   "metadata": {},
   "outputs": [
    {
     "data": {
      "text/plain": [
       "(137730, 1024)"
      ]
     },
     "execution_count": 4,
     "metadata": {},
     "output_type": "execute_result"
    }
   ],
   "source": [
    "concat = np.array(vectors)\n",
    "concat.shape"
   ]
  },
  {
   "cell_type": "code",
   "execution_count": 5,
   "id": "fdeb876a",
   "metadata": {},
   "outputs": [
    {
     "name": "stdout",
     "output_type": "stream",
     "text": [
      "CPU times: user 1.19 s, sys: 7.51 ms, total: 1.2 s\n",
      "Wall time: 1.2 s\n"
     ]
    }
   ],
   "source": [
    "%%time\n",
    "\n",
    "kd_tree = KDTree(concat, leafsize = 40)"
   ]
  },
  {
   "cell_type": "code",
   "execution_count": 23,
   "id": "ba1290c5",
   "metadata": {},
   "outputs": [
    {
     "name": "stdout",
     "output_type": "stream",
     "text": [
      "CPU times: user 8min 16s, sys: 4min 6s, total: 12min 22s\n",
      "Wall time: 1min 5s\n"
     ]
    }
   ],
   "source": [
    "%%time\n",
    "\n",
    "dist, ind = kd_tree.query(concat[:1000], k=len(concat), workers = 1000)"
   ]
  },
  {
   "cell_type": "code",
   "execution_count": 24,
   "id": "90b16791",
   "metadata": {},
   "outputs": [
    {
     "data": {
      "text/plain": [
       "array([[0.        , 0.36564006, 0.36687821, ..., 0.735345  , 0.73927077,\n",
       "        0.74077084],\n",
       "       [0.        , 0.39924248, 0.40156597, ..., 0.81288611, 0.81994712,\n",
       "        0.83406327],\n",
       "       [0.        , 0.45639592, 0.4571287 , ..., 0.80178552, 0.80770785,\n",
       "        0.81379452],\n",
       "       ...,\n",
       "       [0.        , 0.34768689, 0.34846541, ..., 0.75599058, 0.76095336,\n",
       "        0.76455013],\n",
       "       [0.        , 0.28597266, 0.29847608, ..., 0.74183351, 0.74391722,\n",
       "        0.7460333 ],\n",
       "       [0.        , 0.35721956, 0.35930973, ..., 0.76913111, 0.76919376,\n",
       "        0.77949754]])"
      ]
     },
     "execution_count": 24,
     "metadata": {},
     "output_type": "execute_result"
    }
   ],
   "source": [
    "dist"
   ]
  },
  {
   "cell_type": "code",
   "execution_count": 25,
   "id": "ee069286",
   "metadata": {},
   "outputs": [
    {
     "name": "stderr",
     "output_type": "stream",
     "text": [
      "/tmp/ipykernel_479945/3913103053.py:1: UserWarning: \n",
      "\n",
      "`distplot` is a deprecated function and will be removed in seaborn v0.14.0.\n",
      "\n",
      "Please adapt your code to use either `displot` (a figure-level function with\n",
      "similar flexibility) or `histplot` (an axes-level function for histograms).\n",
      "\n",
      "For a guide to updating your code to use the new functions, please see\n",
      "https://gist.github.com/mwaskom/de44147ed2974457ad6372750bbe5751\n",
      "\n",
      "  sns.distplot(dist)\n"
     ]
    },
    {
     "data": {
      "text/plain": [
       "<Axes: ylabel='Density'>"
      ]
     },
     "execution_count": 25,
     "metadata": {},
     "output_type": "execute_result"
    },
    {
     "data": {
      "image/png": "[encoded data removed]",
      "text/plain": [
       "<Figure size 640x480 with 1 Axes>"
      ]
     },
     "metadata": {},
     "output_type": "display_data"
    }
   ],
   "source": [
    "sns.distplot(dist)"
   ]
  },
  {
   "cell_type": "code",
   "execution_count": 53,
   "id": "6056d44d",
   "metadata": {},
   "outputs": [
    {
     "data": {
      "text/plain": [
       "(293636,)"
      ]
     },
     "execution_count": 53,
     "metadata": {},
     "output_type": "execute_result"
    }
   ],
   "source": [
    "dist[dist > 0.7].shape"
   ]
  },
  {
   "cell_type": "code",
   "execution_count": 48,
   "id": "e2d104b4",
   "metadata": {},
   "outputs": [
    {
     "data": {
      "text/plain": [
       "(1795326,)"
      ]
     },
     "execution_count": 48,
     "metadata": {},
     "output_type": "execute_result"
    }
   ],
   "source": [
    "dist[dist < 0.4].shape"
   ]
  },
  {
   "cell_type": "code",
   "execution_count": 47,
   "id": "a67ecb55",
   "metadata": {},
   "outputs": [
    {
     "data": {
      "text/plain": [
       "(1000, 137730)"
      ]
     },
     "execution_count": 47,
     "metadata": {},
     "output_type": "execute_result"
    }
   ],
   "source": [
    "dist.shape"
   ]
  },
  {
   "cell_type": "code",
   "execution_count": 50,
   "id": "0c4db1de",
   "metadata": {},
   "outputs": [
    {
     "data": {
      "text/plain": [
       "(137730, 1024)"
      ]
     },
     "execution_count": 50,
     "metadata": {},
     "output_type": "execute_result"
    }
   ],
   "source": [
    "concat.shape"
   ]
  },
  {
   "cell_type": "code",
   "execution_count": 21,
   "id": "d6ae7d09",
   "metadata": {},
   "outputs": [
    {
     "data": {
      "text/plain": [
       "(10221,)"
      ]
     },
     "execution_count": 21,
     "metadata": {},
     "output_type": "execute_result"
    }
   ],
   "source": [
    "dist[dist > 0.75].shape"
   ]
  },
  {
   "cell_type": "code",
   "execution_count": 19,
   "id": "c991ffea",
   "metadata": {},
   "outputs": [
    {
     "data": {
      "text/plain": [
       "(20963,)"
      ]
     },
     "execution_count": 19,
     "metadata": {},
     "output_type": "execute_result"
    }
   ],
   "source": [
    "dist[dist < 0.35].shape"
   ]
  },
  {
   "cell_type": "code",
   "execution_count": 6,
   "id": "2e3e4d7e",
   "metadata": {},
   "outputs": [
    {
     "data": {
      "text/plain": [
       "['ms', 'en']"
      ]
     },
     "execution_count": 6,
     "metadata": {},
     "output_type": "execute_result"
    }
   ],
   "source": [
    "keys = list(texts[0].keys())\n",
    "keys"
   ]
  },
  {
   "cell_type": "code",
   "execution_count": 7,
   "id": "12255b98",
   "metadata": {},
   "outputs": [
    {
     "data": {
      "text/plain": [
       "['a']"
      ]
     },
     "execution_count": 7,
     "metadata": {},
     "output_type": "execute_result"
    }
   ],
   "source": [
    "# !wget https://gist.githubusercontent.com/huseinzol05/98974ae8c6c7a65d4bc0af9f5003786a/raw/5aa5257608b61e8fcc828e99fbd070d5ca7358e3/mp.py\n",
    "import mp\n",
    "\n",
    "def dedup(strings):\n",
    "    unique_neg = []\n",
    "    elements = set()\n",
    "\n",
    "    for n in strings:\n",
    "        x_lower = n.lower()\n",
    "        if x_lower not in elements:\n",
    "            elements.add(x_lower)\n",
    "            unique_neg.append(n)\n",
    "    return unique_neg\n",
    "\n",
    "dedup(['a', 'a'])"
   ]
  },
  {
   "cell_type": "code",
   "execution_count": 8,
   "id": "47100ee3",
   "metadata": {},
   "outputs": [],
   "source": [
    "import time\n",
    "\n",
    "lower_bound = 0.4\n",
    "upper_bound = 0.7\n",
    "\n",
    "def loop(data):\n",
    "    data, index = data\n",
    "    with open(f'hansard/hansard-train-dataset-{index}.jsonl', 'w') as fopen:\n",
    "        for x in tqdm(data):\n",
    "            dist, ind = kd_tree.query(concat[x], k=len(concat), workers = 1)\n",
    "\n",
    "            for key in keys:\n",
    "\n",
    "                query = texts[x][key]\n",
    "\n",
    "                pos_indices = [k for k in ind[dist <= lower_bound]]\n",
    "                neg_indices = [k for k in ind[dist >= upper_bound]]\n",
    "\n",
    "                if len(neg_indices) > 5:\n",
    "                    neg_indices = random.sample(neg_indices,5)\n",
    "                if len(pos_indices) > 5:\n",
    "                    rand_pos = random.sample(pos_indices,4)\n",
    "                    rand_pos.append(x)\n",
    "                    pos_indices = rand_pos\n",
    "\n",
    "\n",
    "                pos = [value for i in pos_indices for value in texts[i].values() if value != query ]\n",
    "\n",
    "                neg = [value for i in neg_indices for value in texts[i].values()]\n",
    "                \n",
    "                d = {\"query\":query,\"pos\":dedup(pos),\"neg\":dedup(neg)}\n",
    "#                 print(d)\n",
    "                fopen.write(f\"{json.dumps(d)}\\n\")\n",
    "#                 fopen.write(f\"{json.dumps(d).decode()}\\n\")\n",
    "                fopen.flush()"
   ]
  },
  {
   "cell_type": "code",
   "execution_count": null,
   "id": "ade99e27",
   "metadata": {},
   "outputs": [
    {
     "name": "stderr",
     "output_type": "stream",
     "text": [
      "  9%|▉         | 402/4591 [04:46<1:34:34,  1.35s/it]"
     ]
    }
   ],
   "source": [
    "import mp\n",
    "\n",
    "mp.multiprocessing(range(len(data)), loop, cores = 30, returned = False)"
   ]
  },
  {
   "cell_type": "code",
   "execution_count": null,
   "id": "46405b0a",
   "metadata": {},
   "outputs": [],
   "source": []
  }
 ],
 "metadata": {
  "kernelspec": {
   "display_name": "Python 3 (ipykernel)",
   "language": "python",
   "name": "python3"
  },
  "language_info": {
   "codemirror_mode": {
    "name": "ipython",
    "version": 3
   },
   "file_extension": ".py",
   "mimetype": "text/x-python",
   "name": "python",
   "nbconvert_exporter": "python",
   "pygments_lexer": "ipython3",
   "version": "3.10.12"
  }
 },
 "nbformat": 4,
 "nbformat_minor": 5
}
