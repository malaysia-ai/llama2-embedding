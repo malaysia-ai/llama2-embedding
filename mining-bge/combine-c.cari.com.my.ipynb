{
 "cells": [
  {
   "cell_type": "code",
   "execution_count": 1,
   "id": "20a57ab5",
   "metadata": {},
   "outputs": [],
   "source": [
    "from glob import glob\n",
    "from tqdm import tqdm\n",
    "import json"
   ]
  },
  {
   "cell_type": "code",
   "execution_count": 2,
   "id": "e6c7fc51",
   "metadata": {},
   "outputs": [
    {
     "data": {
      "text/plain": [
       "51"
      ]
     },
     "execution_count": 2,
     "metadata": {},
     "output_type": "execute_result"
    }
   ],
   "source": [
    "files = glob('c.cari/*.jsonl')\n",
    "len(files)"
   ]
  },
  {
   "cell_type": "code",
   "execution_count": 3,
   "id": "47e25404",
   "metadata": {},
   "outputs": [
    {
     "name": "stderr",
     "output_type": "stream",
     "text": [
      "28542it [00:03, 7607.21it/s]\n",
      "28578it [00:03, 7388.73it/s]\n",
      "28413it [00:03, 7330.46it/s]\n",
      "28536it [00:03, 7506.47it/s]\n",
      "28752it [00:03, 7235.65it/s]\n",
      "28200it [00:04, 6190.81it/s]\n",
      "28101it [00:04, 6194.66it/s]\n",
      "28122it [00:04, 6353.18it/s]\n",
      "28269it [00:14, 1930.83it/s]\n",
      "28422it [00:04, 6312.85it/s]\n",
      "28149it [00:04, 6263.64it/s]\n",
      "27933it [00:04, 6415.53it/s]\n",
      "28041it [00:04, 6565.92it/s]\n",
      "28104it [00:04, 6216.04it/s]\n",
      "48it [00:00, 1790.56it/s]\n",
      "28512it [00:04, 6264.64it/s]\n",
      "28530it [00:12, 2202.66it/s]\n",
      "28179it [00:04, 6558.85it/s]\n",
      "28551it [00:04, 6477.38it/s]\n",
      "28122it [00:04, 6456.80it/s]\n",
      "28170it [00:04, 6289.89it/s]\n",
      "28620it [00:04, 6283.96it/s]\n",
      "28416it [00:04, 6317.07it/s]\n",
      "28353it [00:14, 2004.68it/s]\n",
      "28416it [00:04, 6663.71it/s]\n",
      "28521it [00:05, 5688.74it/s]\n",
      "28344it [00:04, 5993.39it/s]\n",
      "28383it [00:04, 6302.69it/s]\n",
      "28278it [00:04, 6311.91it/s]\n",
      "28479it [00:04, 6233.16it/s]\n",
      "28335it [00:12, 2228.75it/s]\n",
      "28323it [00:04, 6537.40it/s]\n",
      "28554it [00:04, 6737.06it/s]\n",
      "28485it [00:04, 6346.16it/s]\n",
      "28248it [00:04, 6389.96it/s]\n",
      "28371it [00:04, 6307.35it/s]\n",
      "28035it [00:04, 6335.64it/s]\n",
      "28416it [00:12, 2275.28it/s]\n",
      "28356it [00:04, 5792.61it/s]\n",
      "28311it [00:04, 6258.35it/s]\n",
      "28383it [00:04, 6285.61it/s]\n",
      "28380it [00:04, 6745.53it/s]\n",
      "28344it [00:04, 6826.53it/s]\n",
      "28245it [00:04, 6299.48it/s]\n",
      "28299it [00:05, 5525.81it/s]\n",
      "28158it [00:12, 2290.47it/s]\n",
      "28440it [00:04, 6324.20it/s]\n",
      "28677it [00:04, 6339.75it/s]\n",
      "28425it [00:04, 6336.94it/s]\n",
      "28341it [00:04, 6230.74it/s]\n",
      "28290it [00:04, 6385.54it/s]\n"
     ]
    }
   ],
   "source": [
    "with open('/home/ubuntu/embedding-pair-mining/c.cari.com.my-train-dataset-bge.jsonl', 'w') as fopen_l:\n",
    "    for f in files:\n",
    "        with open(f) as fopen:\n",
    "            for l in tqdm(fopen):\n",
    "                l = json.loads(l)\n",
    "                if not len(l['pos']) or not len(l['neg']):\n",
    "                    continue\n",
    "                fopen_l.write(f'{json.dumps(l)}\\n')\n",
    "                fopen_l.flush()"
   ]
  },
  {
   "cell_type": "code",
   "execution_count": 4,
   "id": "5106a4e5",
   "metadata": {},
   "outputs": [
    {
     "name": "stdout",
     "output_type": "stream",
     "text": [
      "{\"query\": \"\\u672c\\u5e16\\u6700\\u540e\\u7531 \\u5929\\u6d6a\\u661f-\\u7b80 \\u4e8e 11-11-2010 10:17 AM \\u7f16\\u8f91  Not intended for use by anyone under the age of 18. Do not use this product if you are pregnant or nursing. Consult a health care professional before using this product if you have heart disease, thyroid disease, diabetes, high blood pressure, depression or other psychiatric condition, glaucoma, difficulty in urinating, prostate enlargement, or seizure disorder, if you are using a monoamine oxidase inhibitor (MAOI) or any other prescription drug, or you are using an over-the-counter drug containing ephedrine, pseudoephedrine or phenylpropanolamine (ingredients found in certain allergy, asthma, cough/cold and weight control products).  \\u6211\\u4e0d\\u77e5\\u9053\\u5927\\u5bb6\\u5403\\u8fd9\\u4e2a\\u836f\\u65f6\\u5019\\u5230\\u5e95\\u6709\\u6ca1\\u6709\\u770b\\u8fd9\\u6bb5\\uff0c\\u6216\\u8bb8\\u5230\\u5e95\\u77e5\\u4e0d\\u77e5\\u9053\\u81ea\\u5df1\\u8eab\\u4f53\\u6709\\u6ca1\\u6709\\u8fd9\\u4e9b\\u72b6\\u51b5\\uff0c  \\u4e0d\\u8fc7\\u8fd9\\u4e9b\\u95ee\\u9898\\u6ca1\\u60f3\\u8c61\\u4e2d\\u90a3\\u4e48\\u7b80\\u5355\\u7684\\uff0c\\u8fd9\\u4e9b\\u7ea2\\u5b57\\u7684\\u75c5\\u75c7\\u5403\\u4e86\\u8eab\\u4f53\\u4f1a\\u53d1\\u751f\\u600e\\u6837\\u7684\\u72b6\\u51b5\\u5230\\u5e95\\u6e05\\u695a\\u5417\\uff1f  \\u8bf4\\u8fc7\\u7684\\u8bdd\\u8981\\u8d1f\\u8d23\\u4efb\\u7684\\uff0c\\u5982\\u679c\\u4e00\\u4f4d\\u5fc3\\u810f\\u6216\\u9ad8\\u8840\\u538b\\u95ee\\u9898\\u7684\\u80a5\\u4ed4\\u4f60\\u4ecb\\u7ecd\\u4ed6\\u5403\\uff0c  \\u7206\\u8840\\u7ba1\\u7684\\u8bdd\\u4f60\\u662f\\u4e0d\\u662f\\u62cd\\u62cd\\u5c41\\u80a1\\u8bf4\\u4e0d\\u5173\\u4f60\\u4e8b\\u5c31\\u53ef\\u4ee5\\u4e86\\uff1f\\uff1f  \\u5173\\u7cfb\\u5230\\u4e00\\u4e2a\\u4eba\\u7684\\u4eba\\u751f\\uff0c\\u662f\\u4e0d\\u662f\\u5e94\\u8be5\\u8c28\\u614e\\u70b9\\u5462\\uff1f\", \"pos\": [\"\\u672c\\u5e16\\u6700\\u540e\\u7531 \\u535a\\u58eb \\u4e8e 19-10-2021 11:02 AM \\u7f16\\u8f91  \\u8bf7\\u5220\\u5e16\", \"This post was last edited by Doctor on 19-10-2021 at 11:02 AM. Please delete the post.\", \"Pos ini telah diedit terakhir oleh Doktor pada 19-10-2021 pada 11:02 AM. Sila padamkan pos tersebut.\", \"\\u539f\\u5e16\\u7531 vincci85 \\u4e8e 6-8-2008 03:47 PM \\u53d1\\u8868  \\u6211\\u6709\\u4e00\\u4e2a\\u6709\\u5173\\u4e00\\u5207\\u548c\\u9aa8\\u6709\\u5173\\u7684\\u75c5\\u75db\\u7684\\u836f\\u7c89\\u53ef\\u4ee5\\u4ecb\\u7ecd\\u7ed9\\u4f60\\u4eec\\u3002\\u56e0\\u6211\\u5988\\u5988\\u957f\\u671f\\u90fd\\u8170\\u9aa8\\u75db\\uff0c\\u5c31\\u4ece\\u6211\\u963f\\u59e8\\u90a3\\u8fb9\\u4ecb\\u7ecd\\u5403\\u4e86\\u4e00\\u4e2a\\u4ea7\\u54c1\\uff0c\\u6211\\u5988\\u5988\\u73b0\\u5728\\u5403\\u4e86\\u4e00\\u4e2a\\u6708\\u591a\\u4e86\\uff0c\\u5979\\u6ca1\\u8ddf\\u6211\\u518d\\u5435\\u75db\\u4e86\\uff0c\\u53ea\\u9700\\u5403\\u56db\\u5230\\u516d\\u4e2a\\u6708\\u800c\\u5df2\\u3002\\u3002\\u8fc7\\u540e\\u6211\\u4e5f\\u4ecb\\u7ecd\\u6211\\u670b\\u53cb\\u5988\\u5988\\u5403\\uff0c ..  \\u4ea7\\u54c1\\u4ecb\\u7ecd\\u6216\\u4e70\\u5356\\u8bf7\\u5230\\u4e70\\u5356\\u5546\\u573a  http://chinese.cari.com.my/myforum/forumdisplay.php?fid=447\", \"I have a powder medicine related to all bone-related diseases that I can introduce to you. My mother has been suffering from back pain for a long time, so my aunt recommended a product for her. My mother has been taking it for over a month now, and she no longer complains about the pain. It only needs to be taken for four to six months. After that, I also recommended it to my friend's mother... For product information or purchasing, please visit the marketplace at http://chinese.cari.com.my/myforum/forumdisplay.php?fid=447\", \"Saya mempunyai serbuk ubat yang berkaitan dengan semua penyakit berkaitan tulang yang boleh saya perkenalkan kepada anda. Ibuku telah lama mengalami sakit belakang, jadi bibiku mengesyorkan satu produk untuknya. Ibuku telah mengambilnya selama lebih dari sebulan sekarang, dan dia tidak lagi mengadu tentang kesakitan. Ia hanya perlu diambil selama empat hingga enam bulan sahaja. Selepas itu, saya juga mengesyorkannya kepada ibu kawan saya... Untuk maklumat produk atau pembelian, sila layari pasaraya di http://chinese.cari.com.my/myforum/forumdisplay.php?fid=447\", \"4.jpg (65.76 KB, \\u4e0b\\u8f7d\\u6b21\\u6570: 0)  \\u4e0b\\u8f7d\\u9644\\u4ef6  \\u4fdd\\u5b58\\u5230\\u76f8\\u518c  28-12-2014 12:40 AM \\u4e0a\\u4f20  \\u6700\\u9002\\u5408\\u957f\\u5403\\u51cf\\u80a5\\u4ea7\\u54c1\\u8005\\uff0c\\u62bd\\u70df\\u8005\\uff0c\\u559d\\u9152\\u8005\\uff0c\\u7231\\u5403\\u9ad8\\u98df\\u7269\\u70ed\\u91cf\\u8005\\uff0c\\u6371\\u591c\\u8005\\uff0c\\u6c34\\u80bf\\u8005\\uff0c\\u8fc7\\u80a5\\u8005\\u7b49\\u7b49\\u4f7f\\u7528  ~\\u6297\\u6c27\\u5316\\uff0c\\u7f8e\\u5316\\u808c\\u80a4\\uff0c\\u4f7f\\u76ae\\u80a4\\u5149\\u6cfd\\u4e30\\u6da6\\uff0c\\u5ef6\\u7f13\\u8870\\u5316\\u3002\\n~\\u589e\\u52a0\\u4eba\\u4f53\\u62b5\\u6297\\u529b\\uff0c\\u4fc3\\u8fdb\\u5165\\u4f53\\u65b0\\u9648\\u4ee3\\u8c22\\u3002\\n~\\u964d\\u4f4e\\u8840\\u6db2\\u80c6\\u56fa\\u9187\\u53ca\\u63a7\\u5236\\u7cd6\\u5c3f\\u75c5\\u6f5c\\u5728\\u51a0\\u72b6\\u52a8\\u8109\\u5fc3\\u810f\\u75be\\u75c5\\u4e4b\\u98ce\\u9669\\u3002  ~\\u589e\\u52a0\\u80a0\\u80c3\\uff0c\\u809d\\u810f\\u4fc3\\u8fdb\\u8815\\u52a8\\uff0c\\u964d\\u4f4e\\u7ed3\\u80a0\\u764c\\uff0c\\u809d\\u75c5\\u53d1\\u751f\\u7684\\u98ce\\u9669\\u3002  ~\\u6709\\u6548\\u4fc3\\u8fdb\\u4f53\\u91cd\\u4e0b\\u964d\\uff0c\\u51cf\\u80a5\\uff0c\\u53bb\\u6c34\\u80bf\\u4e4b\\u529f\\u6548\\u3002  \\u5fb7\\u56fd\\u914d\\u65b9&#127807;\", \"translate and expand `4.jpg (65.76 KB, download count: 0) Download attachment Save to album 28-12-2014 12:40 AM Upload Most suitable for long-term use by those who want to lose weight, smokers, drinkers, those who love high-calorie foods, night owls, those with water retention, and those who are overweight, etc. ~ Antioxidant, beautify the skin, make the skin radiant and delay aging. ~ Increase the body's resistance and promote internal metabolism. ~ Reduce blood cholesterol and control the risk of potential coronary artery heart disease in diabetes. ~ Increase intestinal and liver peristalsis, reduce the risk of colon cancer and liver disease. ~ Effectively promote weight loss, slimming, and reduce edema. German formula &#127807;\", \"terjemahkan dan kembangkan `4.jpg (65.76 KB, jumlah unduhan: 0) Unduh lampiran Simpan ke album 28-12-2014 12:40 AM Unggah Paling sesuai untuk penggunaan jangka panjang oleh mereka yang ingin menurunkan berat badan, perokok, pemabuk, mereka yang menyukai makanan berkalori tinggi, penggemar begadang, mereka yang mengalami pembengkakan, dan mereka yang kelebihan berat badan, dll. ~ Antioksidan, mempercantik kulit, membuat kulit bercahaya dan memperlambat penuaan. ~ Meningkatkan daya tahan tubuh dan mempromosikan metabolisme internal. ~ Mengurangi kolesterol darah dan mengendalikan risiko penyakit jantung arteri koroner potensial pada diabetes. ~ Meningkatkan peristaltik usus dan hati, mengurangi risiko kanker usus besar dan penyakit hati. ~ Meningkatkan penurunan berat badan, pelangsingan, dan mengurangi pembengkakan. Formula Jerman &#127807;\", \"This post was last edited by Tianlangxing-Jian on 11-11-2010 at 10:17 AM. Not intended for use by anyone under the age of 18. Do not use this product if you are pregnant or nursing. Consult a health care professional before using this product if you have heart disease, thyroid disease, diabetes, high blood pressure, depression or other psychiatric condition, glaucoma, difficulty in urinating, prostate enlargement, or seizure disorder, if you are using a monoamine oxidase inhibitor (MAOI) or any other prescription drug, or you are using an over-the-counter drug containing ephedrine, pseudoephedrine or phenylpropanolamine (ingredients found in certain allergy, asthma, cough/cold and weight control products). I don't know if everyone has read this section when taking this medicine, maybe they don't even know if they have these conditions. However, these issues are not as simple as imagined. Do you really understand what kind of conditions can occur in the body when taking these medications for the mentioned symptoms in red? Words spoken should be taken responsibly. If you recommend a person with heart or high blood pressure problems to take this medicine, and if their blood vessels burst, can you just walk away saying it's not your problem? Shouldn't we be more cautious when it comes to someone's life?\", \"Posting ini diedit terakhir oleh Tianlangxing-Jian pada 11-11-2010 pukul 10:17 pagi. Tidak ditujukan untuk digunakan oleh mereka yang berusia di bawah 18 tahun. Jangan gunakan produk ini jika anda sedang hamil atau menyusui. Rundingkan dengan pakar penjagaan kesihatan sebelum menggunakan produk ini jika anda mempunyai penyakit jantung, penyakit tiroid, diabetes, tekanan darah tinggi, kemurungan atau keadaan psikiatrik lain, glaukoma, kesukaran buang air kecil, pembesaran prostat, atau gangguan kejang, jika anda menggunakan penghambat monoamin oksidase (MAOI) atau ubat resep lain, atau jika anda menggunakan ubat bebas yang mengandungi efedrin, pseudoefedrin atau fenilpropanolamin (bahan yang terdapat dalam beberapa produk alahan, asma, batuk/sejuk dan kawalan berat badan). Saya tidak tahu sama ada semua orang telah membaca bahagian ini ketika mengambil ubat ini, mungkin mereka juga tidak tahu sama ada mereka mempunyai keadaan-keadaan ini. Walau bagaimanapun, perkara-perkara ini tidak semudah yang dijangkakan. Adakah anda benar-benar memahami jenis keadaan apa yang boleh berlaku dalam tubuh apabila mengambil ubat-ubatan ini untuk gejala-gejala yang disebutkan dalam merah? Kata-kata yang diucapkan harus diambil dengan tanggungjawab. Jika anda mengesyorkan seseorang yang mempunyai masalah jantung atau tekanan darah tinggi untuk mengambil ubat ini, dan jika saluran darah mereka pecah, bolehkah anda berlalu dengan mengatakan bahawa itu bukan masalah anda? Adakah kita tidak sepatutnya lebih berhati-hati apabila melibatkan nyawa seseorang?\"], \"neg\": [\"\\u5973\\u751f\\u662f\\u8863\\u886b\\u8934\\u891b\\uff0c\\u81f3\\u5c11\\u8fd8\\u6709\\u7a7f\\u4e9b\\u8863\\u670d\\u3002\\u7537\\u7684\\u662f\\u4e00\\u4e1d\\u4e0d\\u6302\\u7684\", \"The girl is shabby, at least she still wears some clothes. The boy is completely naked.\", \"Gadis itu kelihatan lusuh, setidaknya dia masih memakai beberapa helai pakaian. Lelaki itu benar-benar telanjang bulat.\", \"\\u57ce\\u57ce\\u8ddf\\u4f0a\\u9762\\u5408\\u5531  \\u767e\\u5e74\\u96be\\u89c1..\", \"Chengcheng and Yimian sing a duet, a rare sight in a hundred years.\", \"Chengcheng dan Yimian menyanyikan duet, satu pemandangan yang jarang terjadi dalam seratus tahun.\", \"\\u5f88\\u591a\\u6f14\\u5458\\u90fd\\u6f14\\u7684\\u4e0d\\u9519\\u54e6,\\u60e0\\u82f1\\u7ea2,\\u4efb\\u8fbe\\u534e\\u548cFaisal Hussein\\u3002\", \"Many actors performed well, including Carol 'Dodo' Cheng, Simon Yam, and Faisal Hussein.\", \"Banyak pelakon yang berlakon dengan baik, termasuk Carol 'Dodo' Cheng, Simon Yam, dan Faisal Hussein.\", \"\\u5229\\u7269\\u6d66\\u7c21\\u76f4\\u6d6a\\u8cbb\\u4e86\\u6258\\u96f7\\u65af\\nmlm\\u96c6\\u5718\\u5718\\u9577 \\u53d1\\u8868\\u4e8e 4-10-2010 01:20 AM  \\u6211\\u4e5f\\u662f\\u8fd9\\u6837\\u5b50\\u8ba4\\u4e3a\", \"Liverpool simply wasted Torres.\", \"Liverpool terlalu membuang Torres.\", \"\\u5468\\u661f\\u9a70\\u548c\\u5434\\u541b\\u5982\\u90a3\\u51fa\\u300a\\u671b\\u592b\\u6210\\u9f99\\u300b\\u91cc\\u4e5f\\u6709\\u6f14\\u5434\\u541b\\u5982\\u7684\\u59b9\\u59b9\\uff0c\\u5927\\u50bb\\u7684\\u5c0f\\u5973\\u513f\", \"Stephen Chow and Ng Man-tat also acted as Ng Man-tat's sister in the movie 'From Beijing with Love', the youngest daughter of Big Silly.\", \"Stephen Chow dan Ng Man-tat juga berlakon sebagai adik perempuan Ng Man-tat dalam filem 'From Beijing with Love', anak perempuan bongsu Big Silly.\"]}\r\n"
     ]
    }
   ],
   "source": [
    "!head -n 1 /home/ubuntu/embedding-pair-mining/c.cari.com.my-train-dataset-bge.jsonl"
   ]
  },
  {
   "cell_type": "code",
   "execution_count": 5,
   "id": "7a18d7f2",
   "metadata": {},
   "outputs": [],
   "source": [
    "!rm -rf c.cari"
   ]
  },
  {
   "cell_type": "code",
   "execution_count": null,
   "id": "f7f39acd",
   "metadata": {},
   "outputs": [],
   "source": []
  }
 ],
 "metadata": {
  "kernelspec": {
   "display_name": "Python 3 (ipykernel)",
   "language": "python",
   "name": "python3"
  },
  "language_info": {
   "codemirror_mode": {
    "name": "ipython",
    "version": 3
   },
   "file_extension": ".py",
   "mimetype": "text/x-python",
   "name": "python",
   "nbconvert_exporter": "python",
   "pygments_lexer": "ipython3",
   "version": "3.10.12"
  }
 },
 "nbformat": 4,
 "nbformat_minor": 5
}
