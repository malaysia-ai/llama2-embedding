{
 "cells": [
  {
   "cell_type": "code",
   "execution_count": 1,
   "id": "c65fd7ea",
   "metadata": {},
   "outputs": [],
   "source": [
    "from glob import glob\n",
    "from tqdm import tqdm\n",
    "import json"
   ]
  },
  {
   "cell_type": "code",
   "execution_count": 2,
   "id": "479c87ef",
   "metadata": {},
   "outputs": [
    {
     "data": {
      "text/plain": [
       "16"
      ]
     },
     "execution_count": 2,
     "metadata": {},
     "output_type": "execute_result"
    }
   ],
   "source": [
    "files = glob('manglish/*.jsonl')\n",
    "len(files)"
   ]
  },
  {
   "cell_type": "code",
   "execution_count": 5,
   "id": "dca0ec07",
   "metadata": {},
   "outputs": [
    {
     "name": "stderr",
     "output_type": "stream",
     "text": [
      "207264it [00:09, 21258.03it/s]\n",
      "207264it [00:11, 18055.46it/s]\n",
      "207264it [00:09, 22874.37it/s]\n",
      "6it [00:00, 11522.81it/s]\n",
      "207264it [00:06, 30626.17it/s]\n",
      "207264it [00:07, 29598.72it/s]\n",
      "207264it [00:09, 22230.54it/s]\n",
      "207264it [00:09, 21897.56it/s]\n",
      "207264it [00:07, 27037.60it/s]\n",
      "207264it [00:08, 24754.53it/s]\n",
      "207264it [00:13, 15859.19it/s]\n",
      "207264it [00:10, 19885.72it/s]\n",
      "207264it [00:12, 16513.55it/s]\n",
      "207264it [00:08, 24216.96it/s]\n",
      "207264it [00:09, 21089.90it/s]\n",
      "207264it [00:10, 20542.22it/s]\n"
     ]
    }
   ],
   "source": [
    "with open('/home/ubuntu/embedding-pair-mining/manglish-train-dataset-bge.jsonl', 'w') as fopen_l:\n",
    "    for f in files:\n",
    "        with open(f) as fopen:\n",
    "            for l in tqdm(fopen):\n",
    "                l = json.loads(l)\n",
    "                if not len(l['pos']) or not len(l['neg']):\n",
    "                    continue\n",
    "                fopen_l.write(f'{json.dumps(l)}\\n')\n",
    "                fopen_l.flush()"
   ]
  }
 ],
 "metadata": {
  "kernelspec": {
   "display_name": "Python 3 (ipykernel)",
   "language": "python",
   "name": "python3"
  },
  "language_info": {
   "codemirror_mode": {
    "name": "ipython",
    "version": 3
   },
   "file_extension": ".py",
   "mimetype": "text/x-python",
   "name": "python",
   "nbconvert_exporter": "python",
   "pygments_lexer": "ipython3",
   "version": "3.10.12"
  }
 },
 "nbformat": 4,
 "nbformat_minor": 5
}
