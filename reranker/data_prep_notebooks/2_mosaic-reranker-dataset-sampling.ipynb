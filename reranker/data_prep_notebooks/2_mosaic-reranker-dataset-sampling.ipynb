{
 "cells": [
  {
   "cell_type": "code",
   "execution_count": 1,
   "metadata": {},
   "outputs": [],
   "source": [
    "import glob\n",
    "import json\n",
    "import random\n",
    "from typing import Dict, List\n",
    "\n",
    "from tqdm.notebook import tqdm\n",
    "from concurrent.futures import ThreadPoolExecutor, as_completed\n",
    "\n",
    "import numpy as np\n",
    "import pandas as pd\n",
    "from sklearn.model_selection import train_test_split\n",
    "\n",
    "from streaming import MDSWriter, LocalDataset\n",
    "\n",
    "import warnings\n",
    "warnings.filterwarnings(\"ignore\")"
   ]
  },
  {
   "cell_type": "markdown",
   "metadata": {},
   "source": [
    "### 1.0 Get num. of rows in News dataset\n",
    "\n",
    "It's too big so we may just want to get a sample from the News dataset."
   ]
  },
  {
   "cell_type": "code",
   "execution_count": 4,
   "metadata": {},
   "outputs": [
    {
     "data": {
      "text/plain": [
       "['reformatted_dataset/reformatted-common-crawl-qa.jsonl',\n",
       " 'reformatted_dataset/reformatted-facebook.jsonl',\n",
       " 'reformatted_dataset/reformatted-hansard-qa.jsonl',\n",
       " 'reformatted_dataset/reformatted-iium-confession.jsonl',\n",
       " 'reformatted_dataset/reformatted-mining-b-cari-com-my.jsonl',\n",
       " 'reformatted_dataset/reformatted-mining-summarization.jsonl',\n",
       " 'reformatted_dataset/reformatted-news.jsonl',\n",
       " 'reformatted_dataset/reformatted-twitter.jsonl',\n",
       " 'reformatted_dataset/reformatted-wikipedia-qa.jsonl']"
      ]
     },
     "execution_count": 4,
     "metadata": {},
     "output_type": "execute_result"
    }
   ],
   "source": [
    "folders = sorted(glob.glob('reformatted_dataset/reformatted-*.jsonl'))\n",
    "folders"
   ]
  },
  {
   "cell_type": "code",
   "execution_count": 7,
   "metadata": {},
   "outputs": [
    {
     "data": {
      "application/vnd.jupyter.widget-view+json": {
       "model_id": "10a0f20a3e384c398b7b933aca3cfcce",
       "version_major": 2,
       "version_minor": 0
      },
      "text/plain": [
       "0it [00:00, ?it/s]"
      ]
     },
     "metadata": {},
     "output_type": "display_data"
    },
    {
     "name": "stdout",
     "output_type": "stream",
     "text": [
      "Num. rows in reformatted-common-crawl-qa.jsonl: 418978\n",
      "Num. rows in reformatted-facebook.jsonl: 1155825\n",
      "Num. rows in reformatted-hansard-qa.jsonl: 254226\n",
      "Num. rows in reformatted-iium-confession.jsonl: 2070294\n",
      "Num. rows in reformatted-mining-b-cari-com-my.jsonl: 1360266\n",
      "Num. rows in reformatted-mining-summarization.jsonl: 2739484\n",
      "Num. rows in reformatted-news.jsonl: 16892990\n",
      "Num. rows in reformatted-twitter.jsonl: 3754477\n",
      "Num. rows in reformatted-wikipedia-qa.jsonl: 658042\n"
     ]
    }
   ],
   "source": [
    "for no, f in tqdm(enumerate(folders)):\n",
    "    line_count = 0\n",
    "    with open(f) as fopen:\n",
    "        for line in fopen:\n",
    "            line = json.loads(line)\n",
    "            if (line == {} or line['query'] == None or line['text'] == None or line['label'] == None \n",
    "                or line['query'] == \"\" or line['text'] == \"\" or line['label'] not in [0, 1]):\n",
    "                continue\n",
    "            line_count += 1\n",
    "    \n",
    "    print(f\"Num. rows in {f.split('/')[-1]}: {line_count}\")"
   ]
  },
  {
   "cell_type": "markdown",
   "metadata": {},
   "source": [
    "As of now, 28 million rows takes 1000 hours. Hence, we'll need to resample everything accordingly. If we aim to train max 10 days, that's around 24 x 10, 240 hours. So around 7 million~ will do hopefully.\n",
    "\n",
    "To achieve this, lets just take a maximum of 800k rows from each of the 9 datasets. That said, we **won't** need to resample from the following datasets (due to being smaller than 800k):\n",
    "- `reformatted-common-crawl-qa.jsonl`\n",
    "- `reformatted-hansard-qa.jsonl`\n",
    "- `reformatted-wikipedia-qa.jsonl`"
   ]
  },
  {
   "cell_type": "code",
   "execution_count": 15,
   "metadata": {},
   "outputs": [],
   "source": [
    "lc_common_crawl = 418978*0.10\n",
    "lc_facebook = 1155825*0.10\n",
    "lc_hansard = 254226*0.10\n",
    "lc_iium = 2070294*0.10\n",
    "lc_bcari = 1360266*0.10\n",
    "lc_summarization = 2739484*0.10\n",
    "lc_news = 16892990*0.10\n",
    "lc_twitter = 3754477*0.10\n",
    "lc_wikipedia = 658042*0.10"
   ]
  },
  {
   "cell_type": "code",
   "execution_count": 16,
   "metadata": {},
   "outputs": [
    {
     "name": "stdout",
     "output_type": "stream",
     "text": [
      "2930458.2\n"
     ]
    }
   ],
   "source": [
    "# size of dataset if sample 10% from each one\n",
    "list_ds = [\n",
    "    lc_common_crawl,\n",
    "    lc_facebook,\n",
    "    lc_hansard, \n",
    "    lc_iium,\n",
    "    lc_bcari,\n",
    "    lc_summarization,\n",
    "    lc_news, \n",
    "    lc_twitter,\n",
    "    lc_wikipedia\n",
    "]\n",
    "\n",
    "print(sum(list_ds))"
   ]
  },
  {
   "cell_type": "markdown",
   "metadata": {},
   "source": [
    "### 2.0 Train-test-split & Stratified sampling"
   ]
  },
  {
   "cell_type": "code",
   "execution_count": 2,
   "metadata": {},
   "outputs": [
    {
     "data": {
      "text/plain": [
       "['reformatted_dataset/reformatted-common-crawl-qa.jsonl',\n",
       " 'reformatted_dataset/reformatted-facebook.jsonl',\n",
       " 'reformatted_dataset/reformatted-hansard-qa.jsonl',\n",
       " 'reformatted_dataset/reformatted-iium-confession.jsonl',\n",
       " 'reformatted_dataset/reformatted-mining-b-cari-com-my.jsonl',\n",
       " 'reformatted_dataset/reformatted-mining-summarization.jsonl',\n",
       " 'reformatted_dataset/reformatted-news.jsonl',\n",
       " 'reformatted_dataset/reformatted-twitter.jsonl',\n",
       " 'reformatted_dataset/reformatted-wikipedia-qa.jsonl']"
      ]
     },
     "execution_count": 2,
     "metadata": {},
     "output_type": "execute_result"
    }
   ],
   "source": [
    "folders = sorted(glob.glob('reformatted_dataset/reformatted-*.jsonl'))\n",
    "folders"
   ]
  },
  {
   "cell_type": "code",
   "execution_count": 3,
   "metadata": {},
   "outputs": [],
   "source": [
    "def tt_split_stratified(df_list: List, name_of_file: str) -> None:\n",
    "    \"\"\"\n",
    "    Function to perform a stratified train-test-split and output\n",
    "    the value counts for the \"label\" column.\n",
    "    \n",
    "    ### Arguments\n",
    "    - `df_list`: A list of processed dictionaries with the keys 'text', 'query' and 'label'.\n",
    "    - `name_of_file`: The name of the file.\n",
    "\n",
    "    ### Returns\n",
    "    Doesn't return anything.\n",
    "    \"\"\"\n",
    "    print(name_of_file)\n",
    "    df = pd.DataFrame(df_list)\n",
    "    \n",
    "    # train-test-split & stratified sampling\n",
    "    X_train, X_test, y_train, y_test = train_test_split(\n",
    "                    df[['query', 'text']],\n",
    "                    df['label'],\n",
    "                    random_state=42,\n",
    "                    test_size=0.05, # small since Husein perlukan small je\n",
    "                    stratify=df[\"label\"],\n",
    "                )\n",
    "\n",
    "    X_train['label'] = y_train\n",
    "    X_train['split'] = 'train'\n",
    "\n",
    "    X_test['label'] = y_test\n",
    "    X_test['split'] = 'test'\n",
    "\n",
    "    X_train.to_json(f\"train/train-{name_of_file.split('/')[1].split('.')[0]}.jsonl\", orient='records', lines=True)\n",
    "    X_test.to_json(f\"test/test-{name_of_file.split('/')[1].split('.')[0]}.jsonl\", orient='records', lines=True)\n",
    "\n",
    "    print(df.label.value_counts())\n",
    "    print(\"\")"
   ]
  },
  {
   "cell_type": "code",
   "execution_count": 4,
   "metadata": {},
   "outputs": [
    {
     "name": "stdout",
     "output_type": "stream",
     "text": [
      "0 reformatted-common-crawl-qa.jsonl\n",
      "small\n"
     ]
    },
    {
     "data": {
      "application/vnd.jupyter.widget-view+json": {
       "model_id": "1ccae3a96b8646a4b615a85cd34be45f",
       "version_major": 2,
       "version_minor": 0
      },
      "text/plain": [
       "0it [00:00, ?it/s]"
      ]
     },
     "metadata": {},
     "output_type": "display_data"
    },
    {
     "name": "stdout",
     "output_type": "stream",
     "text": [
      "reformatted_dataset/reformatted-common-crawl-qa.jsonl\n",
      "label\n",
      "1    209489\n",
      "0    209489\n",
      "Name: count, dtype: int64\n",
      "\n",
      "1 reformatted-facebook.jsonl\n",
      "too big\n"
     ]
    },
    {
     "data": {
      "application/vnd.jupyter.widget-view+json": {
       "model_id": "d9574646760d40b1b07ab68499721ffe",
       "version_major": 2,
       "version_minor": 0
      },
      "text/plain": [
       "  0%|          | 0/900000 [00:00<?, ?it/s]"
      ]
     },
     "metadata": {},
     "output_type": "display_data"
    },
    {
     "name": "stdout",
     "output_type": "stream",
     "text": [
      "reformatted_dataset/reformatted-facebook.jsonl\n",
      "label\n",
      "0    484100\n",
      "1    415900\n",
      "Name: count, dtype: int64\n",
      "\n",
      "2 reformatted-hansard-qa.jsonl\n",
      "small\n"
     ]
    },
    {
     "data": {
      "application/vnd.jupyter.widget-view+json": {
       "model_id": "f749e5e68f5249459be432afb94bcb90",
       "version_major": 2,
       "version_minor": 0
      },
      "text/plain": [
       "0it [00:00, ?it/s]"
      ]
     },
     "metadata": {},
     "output_type": "display_data"
    },
    {
     "name": "stdout",
     "output_type": "stream",
     "text": [
      "reformatted_dataset/reformatted-hansard-qa.jsonl\n",
      "label\n",
      "1    127113\n",
      "0    127113\n",
      "Name: count, dtype: int64\n",
      "\n",
      "3 reformatted-iium-confession.jsonl\n",
      "too big\n"
     ]
    },
    {
     "data": {
      "application/vnd.jupyter.widget-view+json": {
       "model_id": "ef479dd80c4e43b9b2605e7496b08b07",
       "version_major": 2,
       "version_minor": 0
      },
      "text/plain": [
       "  0%|          | 0/900000 [00:00<?, ?it/s]"
      ]
     },
     "metadata": {},
     "output_type": "display_data"
    },
    {
     "name": "stdout",
     "output_type": "stream",
     "text": [
      "reformatted_dataset/reformatted-iium-confession.jsonl\n",
      "label\n",
      "1    585142\n",
      "0    314858\n",
      "Name: count, dtype: int64\n",
      "\n",
      "4 reformatted-mining-b-cari-com-my.jsonl\n",
      "too big\n"
     ]
    },
    {
     "data": {
      "application/vnd.jupyter.widget-view+json": {
       "model_id": "bd509de91b394247a912384337d9ab1c",
       "version_major": 2,
       "version_minor": 0
      },
      "text/plain": [
       "  0%|          | 0/900000 [00:00<?, ?it/s]"
      ]
     },
     "metadata": {},
     "output_type": "display_data"
    },
    {
     "name": "stdout",
     "output_type": "stream",
     "text": [
      "reformatted_dataset/reformatted-mining-b-cari-com-my.jsonl\n",
      "label\n",
      "1    485346\n",
      "0    412845\n",
      "Name: count, dtype: int64\n",
      "\n",
      "5 reformatted-mining-summarization.jsonl\n",
      "too big\n"
     ]
    },
    {
     "data": {
      "application/vnd.jupyter.widget-view+json": {
       "model_id": "2a204a3e66084b54acb4e4710f801be2",
       "version_major": 2,
       "version_minor": 0
      },
      "text/plain": [
       "  0%|          | 0/900000 [00:00<?, ?it/s]"
      ]
     },
     "metadata": {},
     "output_type": "display_data"
    },
    {
     "name": "stdout",
     "output_type": "stream",
     "text": [
      "reformatted_dataset/reformatted-mining-summarization.jsonl\n",
      "label\n",
      "0    732259\n",
      "1    150183\n",
      "Name: count, dtype: int64\n",
      "\n",
      "6 reformatted-news.jsonl\n",
      "too big\n"
     ]
    },
    {
     "data": {
      "application/vnd.jupyter.widget-view+json": {
       "model_id": "d123f7b37b6c4d808dba39507dcc98a3",
       "version_major": 2,
       "version_minor": 0
      },
      "text/plain": [
       "  0%|          | 0/900000 [00:00<?, ?it/s]"
      ]
     },
     "metadata": {},
     "output_type": "display_data"
    },
    {
     "name": "stdout",
     "output_type": "stream",
     "text": [
      "reformatted_dataset/reformatted-news.jsonl\n",
      "label\n",
      "0    748917\n",
      "1    151083\n",
      "Name: count, dtype: int64\n",
      "\n",
      "7 reformatted-twitter.jsonl\n",
      "too big\n"
     ]
    },
    {
     "data": {
      "application/vnd.jupyter.widget-view+json": {
       "model_id": "8c94c260aa8847adb917179db65e29f6",
       "version_major": 2,
       "version_minor": 0
      },
      "text/plain": [
       "  0%|          | 0/900000 [00:08<?, ?it/s]"
      ]
     },
     "metadata": {},
     "output_type": "display_data"
    },
    {
     "name": "stdout",
     "output_type": "stream",
     "text": [
      "reformatted_dataset/reformatted-twitter.jsonl\n",
      "label\n",
      "1    519796\n",
      "0    380204\n",
      "Name: count, dtype: int64\n",
      "\n",
      "8 reformatted-wikipedia-qa.jsonl\n",
      "small\n"
     ]
    },
    {
     "data": {
      "application/vnd.jupyter.widget-view+json": {
       "model_id": "f150883c3c3f44548f43555387fd3c25",
       "version_major": 2,
       "version_minor": 0
      },
      "text/plain": [
       "0it [00:00, ?it/s]"
      ]
     },
     "metadata": {},
     "output_type": "display_data"
    },
    {
     "name": "stdout",
     "output_type": "stream",
     "text": [
      "reformatted_dataset/reformatted-wikipedia-qa.jsonl\n",
      "label\n",
      "1    329021\n",
      "0    329021\n",
      "Name: count, dtype: int64\n",
      "\n"
     ]
    }
   ],
   "source": [
    "for no, f in enumerate(folders):\n",
    "    print(f\"{no} {f.split('/')[-1]}\")\n",
    "    empty_rows = 0\n",
    "    if f in [\n",
    "        'reformatted_dataset/reformatted-common-crawl-qa.jsonl', \n",
    "        'reformatted_dataset/reformatted-hansard-qa.jsonl', \n",
    "        'reformatted_dataset/reformatted-wikipedia-qa.jsonl',\n",
    "    ]:\n",
    "        print('small')\n",
    "        data_list = []\n",
    "        with open(f) as fopen:\n",
    "            for data in tqdm(fopen):\n",
    "                data = json.loads(data)\n",
    "                if (data == {} or data['query'] == None or data['text'] == None or data['label'] == None \n",
    "                    or data['query'] == \"\" or data['text'] == \"\" or data['label'] not in [0, 1]):\n",
    "                    empty_rows += 1\n",
    "                    continue\n",
    "                data_list.append(data)\n",
    "\n",
    "        tt_split_stratified(df_list=data_list, name_of_file=f)\n",
    "\n",
    "    else:\n",
    "        print('too big')\n",
    "        data_list = []\n",
    "        with open(f) as fopen:\n",
    "            # Read all lines from the file\n",
    "            lines = fopen.readlines()\n",
    "\n",
    "            # Randomly sample 'sample_size' number of lines due to the following datasets being super big\n",
    "            sample_size = 900000\n",
    "            random_sample = random.sample(lines, sample_size)\n",
    "\n",
    "            for data in tqdm(random_sample):\n",
    "                data = json.loads(data)\n",
    "                if (data == {} or data['query'] == None or data['text'] == None or data['label'] == None \n",
    "                    or data['query'] == \"\" or data['text'] == \"\" or data['label'] not in [0, 1]):\n",
    "                    empty_rows += 1\n",
    "                    continue\n",
    "                data_list.append(data)\n",
    "\n",
    "        tt_split_stratified(df_list=data_list, name_of_file=f)"
   ]
  },
  {
   "cell_type": "markdown",
   "metadata": {},
   "source": [
    "### 3.0 Convert train split `.jsonl` data to mosaic/streaming format"
   ]
  },
  {
   "cell_type": "code",
   "execution_count": 5,
   "metadata": {},
   "outputs": [
    {
     "data": {
      "text/plain": [
       "['train/train-reformatted-common-crawl-qa.jsonl',\n",
       " 'train/train-reformatted-facebook.jsonl',\n",
       " 'train/train-reformatted-hansard-qa.jsonl',\n",
       " 'train/train-reformatted-iium-confession.jsonl',\n",
       " 'train/train-reformatted-mining-b-cari-com-my.jsonl',\n",
       " 'train/train-reformatted-mining-summarization.jsonl',\n",
       " 'train/train-reformatted-news.jsonl',\n",
       " 'train/train-reformatted-twitter.jsonl',\n",
       " 'train/train-reformatted-wikipedia-qa.jsonl']"
      ]
     },
     "execution_count": 5,
     "metadata": {},
     "output_type": "execute_result"
    }
   ],
   "source": [
    "folders = sorted(glob.glob('train/train-reformatted-*.jsonl'))\n",
    "folders"
   ]
  },
  {
   "cell_type": "code",
   "execution_count": 6,
   "metadata": {},
   "outputs": [],
   "source": [
    "# Source: https://docs.mosaicml.com/projects/streaming/en/latest/fundamentals/dataset_conversion_guide.html\n",
    "\n",
    "columns = {\n",
    "    'query': 'str',\n",
    "    'text': 'str',\n",
    "    'label': 'int8',\n",
    "}\n",
    "\n",
    "compression = 'zstd'\n",
    "hashes = 'sha1', 'xxh64'"
   ]
  },
  {
   "cell_type": "code",
   "execution_count": 7,
   "metadata": {},
   "outputs": [
    {
     "name": "stdout",
     "output_type": "stream",
     "text": [
      "0. train-reformatted-common-crawl-qa.jsonl\n"
     ]
    },
    {
     "data": {
      "application/vnd.jupyter.widget-view+json": {
       "model_id": "9d7ff89127b94d209ab13bbc71964e7e",
       "version_major": 2,
       "version_minor": 0
      },
      "text/plain": [
       "0it [00:00, ?it/s]"
      ]
     },
     "metadata": {},
     "output_type": "display_data"
    },
    {
     "name": "stdout",
     "output_type": "stream",
     "text": [
      "Count: 398029\n",
      "\n",
      "1. train-reformatted-facebook.jsonl\n"
     ]
    },
    {
     "data": {
      "application/vnd.jupyter.widget-view+json": {
       "model_id": "907f21892f3d4738b39de0efb7ebf204",
       "version_major": 2,
       "version_minor": 0
      },
      "text/plain": [
       "0it [00:00, ?it/s]"
      ]
     },
     "metadata": {},
     "output_type": "display_data"
    },
    {
     "name": "stdout",
     "output_type": "stream",
     "text": [
      "Count: 855000\n",
      "\n",
      "2. train-reformatted-hansard-qa.jsonl\n"
     ]
    },
    {
     "data": {
      "application/vnd.jupyter.widget-view+json": {
       "model_id": "3bffdf6ff40e44e69f3354f41b744a25",
       "version_major": 2,
       "version_minor": 0
      },
      "text/plain": [
       "0it [00:00, ?it/s]"
      ]
     },
     "metadata": {},
     "output_type": "display_data"
    },
    {
     "name": "stdout",
     "output_type": "stream",
     "text": [
      "Count: 241514\n",
      "\n",
      "3. train-reformatted-iium-confession.jsonl\n"
     ]
    },
    {
     "data": {
      "application/vnd.jupyter.widget-view+json": {
       "model_id": "65310c1259664fbb9182fe020ddadefb",
       "version_major": 2,
       "version_minor": 0
      },
      "text/plain": [
       "0it [00:00, ?it/s]"
      ]
     },
     "metadata": {},
     "output_type": "display_data"
    },
    {
     "name": "stdout",
     "output_type": "stream",
     "text": [
      "Count: 855000\n",
      "\n",
      "4. train-reformatted-mining-b-cari-com-my.jsonl\n"
     ]
    },
    {
     "data": {
      "application/vnd.jupyter.widget-view+json": {
       "model_id": "a19ef84ed59e48a89f6b25516a704eaf",
       "version_major": 2,
       "version_minor": 0
      },
      "text/plain": [
       "0it [00:00, ?it/s]"
      ]
     },
     "metadata": {},
     "output_type": "display_data"
    },
    {
     "name": "stdout",
     "output_type": "stream",
     "text": [
      "Count: 853281\n",
      "\n",
      "5. train-reformatted-mining-summarization.jsonl\n"
     ]
    },
    {
     "data": {
      "application/vnd.jupyter.widget-view+json": {
       "model_id": "bd084fe99d0141a4a9a853f82f16492a",
       "version_major": 2,
       "version_minor": 0
      },
      "text/plain": [
       "0it [00:00, ?it/s]"
      ]
     },
     "metadata": {},
     "output_type": "display_data"
    },
    {
     "name": "stdout",
     "output_type": "stream",
     "text": [
      "Count: 838319\n",
      "\n",
      "6. train-reformatted-news.jsonl\n"
     ]
    },
    {
     "data": {
      "application/vnd.jupyter.widget-view+json": {
       "model_id": "1e2fdbea5b3949b88832992efd844a2a",
       "version_major": 2,
       "version_minor": 0
      },
      "text/plain": [
       "0it [00:00, ?it/s]"
      ]
     },
     "metadata": {},
     "output_type": "display_data"
    },
    {
     "name": "stdout",
     "output_type": "stream",
     "text": [
      "Count: 855000\n",
      "\n",
      "7. train-reformatted-twitter.jsonl\n"
     ]
    },
    {
     "data": {
      "application/vnd.jupyter.widget-view+json": {
       "model_id": "efd77a4848054aae8977cef6d2d9510f",
       "version_major": 2,
       "version_minor": 0
      },
      "text/plain": [
       "0it [00:00, ?it/s]"
      ]
     },
     "metadata": {},
     "output_type": "display_data"
    },
    {
     "name": "stdout",
     "output_type": "stream",
     "text": [
      "Count: 855000\n",
      "\n",
      "8. train-reformatted-wikipedia-qa.jsonl\n"
     ]
    },
    {
     "data": {
      "application/vnd.jupyter.widget-view+json": {
       "model_id": "28aecf534f3949b798280b644f5f4bcf",
       "version_major": 2,
       "version_minor": 0
      },
      "text/plain": [
       "0it [00:00, ?it/s]"
      ]
     },
     "metadata": {},
     "output_type": "display_data"
    },
    {
     "name": "stdout",
     "output_type": "stream",
     "text": [
      "Count: 625139\n",
      "\n"
     ]
    }
   ],
   "source": [
    "with MDSWriter(out='mosaic-dataset-resampled-7m-train-split', columns=columns, compression=None, hashes=hashes) as out:\n",
    "    for no, f in enumerate(folders):\n",
    "        print(f\"{no}. {f.split('/')[-1]}\")\n",
    "        count = 0\n",
    "        with open(f) as fopen:\n",
    "            for data in tqdm(fopen):\n",
    "                data = json.loads(data)\n",
    "                out.write(data)\n",
    "                count += 1\n",
    "\n",
    "        print(f\"Count: {count}\")\n",
    "        print(\"\")\n"
   ]
  },
  {
   "cell_type": "code",
   "execution_count": 10,
   "metadata": {},
   "outputs": [
    {
     "name": "stdout",
     "output_type": "stream",
     "text": [
      "{'label': 1, 'query': 'Apakah rancangan kerajaan berkaitan dengan AWAS/AES?', 'text': 'Contact us 1300 30 4227 | English Bahasa Malaysia 中文 Sell Sort Search Home Buy Cars for sale Used Cars New Cars Recon Cars Kereta Murah Hot Deals CARSOME Certified Certified Pre-owned BMW Premium Selection Sell Sell Your Car Create Ad FREE How to sell your car New Cars New Car Deals NEW New Car Price List Finance Car Loan Car Insurance Car Insurance Comparison Extended Warranty News All News Auto News Insights Reviews Buying Guide Electric Vehicle (EV) Photos Videos Events Event Services Hire us! Become a Partner Upcoming Events Car of The Year 2022 Past Events View All Past Events Sign In Login Login as Dealer / Agent or Register Register Register as Dealer / Agent Sell your car EN EN English BM Bahasa Malaysia CN 中文 Home Buy Cars for sale Used Cars New Cars Recon Cars Kereta Murah Hot Deals CARSOME Certified Certified Pre-owned BMW Premium Selection Sell Sell Your Car Create Ad FREE How to sell your car New Cars New Car Deals NEW New Car Price List Finance Car Loan Car Insurance Car Insurance Comparison Extended Warranty News All News Auto News Insights Reviews Buying Guide Electric Vehicle (EV) Photos Videos Events Event Services Hire us! Become a Partner Upcoming Events Car of The Year 2022 Past Events View All Past Events Download Our App Sign In Register (Private) Register as Dealer / Agent For Businesses and Sales Agents Home Buy Cars for sale Used Cars New Cars Recon Cars Kereta Murah Hot Deals CARSOME Certified Certified Pre-owned BMW Premium Selection Sell Sell Your Car Create Ad FREE How to sell your car New Cars New Car Deals NEW New Car Price List Finance Car Loan Car Insurance Car Insurance Comparison Extended Warranty News All News Auto News Insights Reviews Buying Guide Electric Vehicle (EV) Photos Videos Events Event Services Hire us! Become a Partner Upcoming Events Car of The Year 2022 Past Events View All Past Events Language EN English Bahasa Malaysia 中文 Download our app Need help? Call us Editor\\'s Pick All you need to know about the upcoming Tokyo Auto Salon Kuala Lumpur 2023 Toyota Vios (AC100) Launched In Malaysia From RM89k - Expectations Defied? First Drive: 2023 Perodua Axia - \"Better, MUCH better\" 4 Ways To Boost Your Engine Performance 5 Spacious Used MPVs for Less than RM79k - For Your Growing Family Drink Driving Lowest Cause Of Fatal Accidents In Malaysia Over Last 10 Years Peraturan Berbasikal Di Lebuh Raya Malaysia Mengikut Undang-Undang Kepala Anak Keluar Sunroof – Apa Kata Undang-Undang Malaysia? Kia EV6 or Hyundai IONIQ 5? We Compare Both! How To Export A Vehicle Into Malaysia With AP? How Everyone Gave Toyota An Open Goal To Score With The 2022 GR Corolla Kadar Kompaun/Saman Trafik PDRM Mengikut Kesalahan Auto News Insights Reviews Buying Guide Electric Vehicle (EV) Photos Videos More Search × Example: Honda Civic, Honda CRV Review Home News Auto News Government Plans To Add More AWAS/AES Cameras At Accident Prone Areas Government Plans To Add More AWAS/AES Cameras At Accident Prone Areas Auto News Arvind | April'}\n"
     ]
    }
   ],
   "source": [
    "# testing\n",
    "test_mosaic_dataset = LocalDataset(local=\"mosaic-dataset-resampled-7m-train-split\")\n",
    "\n",
    "print(test_mosaic_dataset[153434])"
   ]
  },
  {
   "cell_type": "code",
   "execution_count": 9,
   "metadata": {},
   "outputs": [
    {
     "data": {
      "text/plain": [
       "6376282"
      ]
     },
     "execution_count": 9,
     "metadata": {},
     "output_type": "execute_result"
    }
   ],
   "source": [
    "# num. rows in the dataset\n",
    "test_mosaic_dataset.size"
   ]
  }
 ],
 "metadata": {
  "kernelspec": {
   "display_name": "Python 3 (ipykernel)",
   "language": "python",
   "name": "python3"
  },
  "language_info": {
   "codemirror_mode": {
    "name": "ipython",
    "version": 3
   },
   "file_extension": ".py",
   "mimetype": "text/x-python",
   "name": "python",
   "nbconvert_exporter": "python",
   "pygments_lexer": "ipython3",
   "version": "3.10.12"
  }
 },
 "nbformat": 4,
 "nbformat_minor": 2
}
