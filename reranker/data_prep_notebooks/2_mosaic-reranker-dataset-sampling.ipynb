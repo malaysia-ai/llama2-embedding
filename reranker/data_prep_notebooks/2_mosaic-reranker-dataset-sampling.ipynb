{
 "cells": [
  {
   "cell_type": "code",
   "execution_count": 1,
   "metadata": {},
   "outputs": [],
   "source": [
    "import glob\n",
    "import json\n",
    "import random\n",
    "from typing import Dict, List\n",
    "\n",
    "from tqdm.notebook import tqdm\n",
    "from concurrent.futures import ThreadPoolExecutor, as_completed\n",
    "\n",
    "import numpy as np\n",
    "import pandas as pd\n",
    "\n",
    "from streaming import MDSWriter, LocalDataset"
   ]
  },
  {
   "cell_type": "markdown",
   "metadata": {},
   "source": [
    "### 1.0 Get num. of rows in News dataset\n",
    "\n",
    "It's too big so we may just want to get a sample from the News dataset."
   ]
  },
  {
   "cell_type": "code",
   "execution_count": 4,
   "metadata": {},
   "outputs": [
    {
     "data": {
      "text/plain": [
       "['reformatted_dataset/reformatted-common-crawl-qa.jsonl',\n",
       " 'reformatted_dataset/reformatted-facebook.jsonl',\n",
       " 'reformatted_dataset/reformatted-hansard-qa.jsonl',\n",
       " 'reformatted_dataset/reformatted-iium-confession.jsonl',\n",
       " 'reformatted_dataset/reformatted-mining-b-cari-com-my.jsonl',\n",
       " 'reformatted_dataset/reformatted-mining-summarization.jsonl',\n",
       " 'reformatted_dataset/reformatted-news.jsonl',\n",
       " 'reformatted_dataset/reformatted-twitter.jsonl',\n",
       " 'reformatted_dataset/reformatted-wikipedia-qa.jsonl']"
      ]
     },
     "execution_count": 4,
     "metadata": {},
     "output_type": "execute_result"
    }
   ],
   "source": [
    "folders = sorted(glob.glob('reformatted_dataset/reformatted-*.jsonl'))\n",
    "folders"
   ]
  },
  {
   "cell_type": "code",
   "execution_count": 7,
   "metadata": {},
   "outputs": [
    {
     "data": {
      "application/vnd.jupyter.widget-view+json": {
       "model_id": "10a0f20a3e384c398b7b933aca3cfcce",
       "version_major": 2,
       "version_minor": 0
      },
      "text/plain": [
       "0it [00:00, ?it/s]"
      ]
     },
     "metadata": {},
     "output_type": "display_data"
    },
    {
     "name": "stdout",
     "output_type": "stream",
     "text": [
      "Num. rows in reformatted-common-crawl-qa.jsonl: 418978\n",
      "Num. rows in reformatted-facebook.jsonl: 1155825\n",
      "Num. rows in reformatted-hansard-qa.jsonl: 254226\n",
      "Num. rows in reformatted-iium-confession.jsonl: 2070294\n",
      "Num. rows in reformatted-mining-b-cari-com-my.jsonl: 1360266\n",
      "Num. rows in reformatted-mining-summarization.jsonl: 2739484\n",
      "Num. rows in reformatted-news.jsonl: 16892990\n",
      "Num. rows in reformatted-twitter.jsonl: 3754477\n",
      "Num. rows in reformatted-wikipedia-qa.jsonl: 658042\n"
     ]
    }
   ],
   "source": [
    "for no, f in tqdm(enumerate(folders)):\n",
    "    line_count = 0\n",
    "    with open(f) as fopen:\n",
    "        for line in fopen:\n",
    "            line = json.loads(line)\n",
    "            if (line == {} or line['query'] == None or line['text'] == None or line['label'] == None \n",
    "                or line['query'] == \"\" or line['text'] == \"\" or line['label'] not in [0, 1]):\n",
    "                continue\n",
    "            line_count += 1\n",
    "    \n",
    "    print(f\"Num. rows in {f.split('/')[-1]}: {line_count}\")"
   ]
  },
  {
   "cell_type": "markdown",
   "metadata": {},
   "source": [
    "As of now, 28 million rows takes 1000 hours. Hence, we'll need to resample everything accordingly. If we aim to train max 10 days, that's around 24 x 10, 240 hours. So around 7 million~ will do hopefully.\n",
    "\n",
    "To achieve this, lets just take a maximum of 800k rows from each of the 9 datasets. That said, we **won't** need to resample from the following datasets (due to being smaller than 800k):\n",
    "- `reformatted-common-crawl-qa.jsonl`\n",
    "- `reformatted-hansard-qa.jsonl`\n",
    "- `reformatted-wikipedia-qa.jsonl`"
   ]
  },
  {
   "cell_type": "code",
   "execution_count": 8,
   "metadata": {},
   "outputs": [],
   "source": [
    "lc_common_crawl = 418978\n",
    "lc_facebook = 1155825\n",
    "lc_hansard = 254226\n",
    "lc_iium = 2070294\n",
    "lc_bcari = 1360266\n",
    "lc_summarization = 2739484\n",
    "lc_news = 16892990\n",
    "lc_twitter = 3754477\n",
    "lc_wikipedia = 658042"
   ]
  },
  {
   "cell_type": "markdown",
   "metadata": {},
   "source": [
    "### Convert `.jsonl` data to mosaic/streaming format"
   ]
  },
  {
   "cell_type": "code",
   "execution_count": 9,
   "metadata": {},
   "outputs": [
    {
     "data": {
      "text/plain": [
       "['reformatted_dataset/reformatted-common-crawl-qa.jsonl',\n",
       " 'reformatted_dataset/reformatted-facebook.jsonl',\n",
       " 'reformatted_dataset/reformatted-hansard-qa.jsonl',\n",
       " 'reformatted_dataset/reformatted-iium-confession.jsonl',\n",
       " 'reformatted_dataset/reformatted-mining-b-cari-com-my.jsonl',\n",
       " 'reformatted_dataset/reformatted-mining-summarization.jsonl',\n",
       " 'reformatted_dataset/reformatted-news.jsonl',\n",
       " 'reformatted_dataset/reformatted-twitter.jsonl',\n",
       " 'reformatted_dataset/reformatted-wikipedia-qa.jsonl']"
      ]
     },
     "execution_count": 9,
     "metadata": {},
     "output_type": "execute_result"
    }
   ],
   "source": [
    "folders = sorted(glob.glob('reformatted_dataset/reformatted-*.jsonl'))\n",
    "folders"
   ]
  },
  {
   "cell_type": "code",
   "execution_count": 10,
   "metadata": {},
   "outputs": [],
   "source": [
    "# Source: https://docs.mosaicml.com/projects/streaming/en/latest/fundamentals/dataset_conversion_guide.html\n",
    "\n",
    "columns = {\n",
    "    'query': 'str',\n",
    "    'text': 'str',\n",
    "    'label': 'int8',\n",
    "}\n",
    "\n",
    "compression = 'zstd'\n",
    "hashes = 'sha1', 'xxh64'"
   ]
  },
  {
   "cell_type": "code",
   "execution_count": 11,
   "metadata": {},
   "outputs": [
    {
     "name": "stdout",
     "output_type": "stream",
     "text": [
      "0 reformatted-common-crawl-qa.jsonl\n",
      "small\n"
     ]
    },
    {
     "data": {
      "application/vnd.jupyter.widget-view+json": {
       "model_id": "608b5467d50c4982a6b392b17b1ddbec",
       "version_major": 2,
       "version_minor": 0
      },
      "text/plain": [
       "0it [00:00, ?it/s]"
      ]
     },
     "metadata": {},
     "output_type": "display_data"
    },
    {
     "name": "stdout",
     "output_type": "stream",
     "text": [
      "No. of empty rows:  0\n",
      "\n",
      "1 reformatted-facebook.jsonl\n",
      "too big\n"
     ]
    },
    {
     "data": {
      "application/vnd.jupyter.widget-view+json": {
       "model_id": "b82a4b752ae94f459771295bd6fb7555",
       "version_major": 2,
       "version_minor": 0
      },
      "text/plain": [
       "  0%|          | 0/800000 [00:00<?, ?it/s]"
      ]
     },
     "metadata": {},
     "output_type": "display_data"
    },
    {
     "name": "stdout",
     "output_type": "stream",
     "text": [
      "No. of empty rows:  0\n",
      "\n",
      "2 reformatted-hansard-qa.jsonl\n",
      "small\n"
     ]
    },
    {
     "data": {
      "application/vnd.jupyter.widget-view+json": {
       "model_id": "13d46cddd91c4177a7fc89b893bd336f",
       "version_major": 2,
       "version_minor": 0
      },
      "text/plain": [
       "0it [00:00, ?it/s]"
      ]
     },
     "metadata": {},
     "output_type": "display_data"
    },
    {
     "name": "stdout",
     "output_type": "stream",
     "text": [
      "No. of empty rows:  2\n",
      "\n",
      "3 reformatted-iium-confession.jsonl\n",
      "too big\n"
     ]
    },
    {
     "data": {
      "application/vnd.jupyter.widget-view+json": {
       "model_id": "ac5d081a623247b2a50fb869119d7731",
       "version_major": 2,
       "version_minor": 0
      },
      "text/plain": [
       "  0%|          | 0/800000 [00:00<?, ?it/s]"
      ]
     },
     "metadata": {},
     "output_type": "display_data"
    },
    {
     "name": "stdout",
     "output_type": "stream",
     "text": [
      "No. of empty rows:  0\n",
      "\n",
      "4 reformatted-mining-b-cari-com-my.jsonl\n",
      "too big\n"
     ]
    },
    {
     "data": {
      "application/vnd.jupyter.widget-view+json": {
       "model_id": "6464428a6d6e4bacbaca13e5e337f3ef",
       "version_major": 2,
       "version_minor": 0
      },
      "text/plain": [
       "  0%|          | 0/800000 [00:00<?, ?it/s]"
      ]
     },
     "metadata": {},
     "output_type": "display_data"
    },
    {
     "name": "stdout",
     "output_type": "stream",
     "text": [
      "No. of empty rows:  1595\n",
      "\n",
      "5 reformatted-mining-summarization.jsonl\n",
      "too big\n"
     ]
    },
    {
     "data": {
      "application/vnd.jupyter.widget-view+json": {
       "model_id": "e9d84b47954a4fc594654ff716aedd1b",
       "version_major": 2,
       "version_minor": 0
      },
      "text/plain": [
       "  0%|          | 0/800000 [00:00<?, ?it/s]"
      ]
     },
     "metadata": {},
     "output_type": "display_data"
    },
    {
     "name": "stdout",
     "output_type": "stream",
     "text": [
      "No. of empty rows:  15610\n",
      "\n",
      "6 reformatted-news.jsonl\n",
      "too big\n"
     ]
    },
    {
     "data": {
      "application/vnd.jupyter.widget-view+json": {
       "model_id": "a20c566609b3448fa90ce0824a07f336",
       "version_major": 2,
       "version_minor": 0
      },
      "text/plain": [
       "  0%|          | 0/800000 [00:00<?, ?it/s]"
      ]
     },
     "metadata": {},
     "output_type": "display_data"
    },
    {
     "name": "stdout",
     "output_type": "stream",
     "text": [
      "No. of empty rows:  0\n",
      "\n",
      "7 reformatted-twitter.jsonl\n",
      "too big\n"
     ]
    },
    {
     "data": {
      "application/vnd.jupyter.widget-view+json": {
       "model_id": "5479967831e343ef8eecf6e4ade20310",
       "version_major": 2,
       "version_minor": 0
      },
      "text/plain": [
       "  0%|          | 0/800000 [00:09<?, ?it/s]"
      ]
     },
     "metadata": {},
     "output_type": "display_data"
    },
    {
     "name": "stdout",
     "output_type": "stream",
     "text": [
      "No. of empty rows:  0\n",
      "\n",
      "8 reformatted-wikipedia-qa.jsonl\n",
      "small\n"
     ]
    },
    {
     "data": {
      "application/vnd.jupyter.widget-view+json": {
       "model_id": "60fa3942ccdc4a6f884db29190013c92",
       "version_major": 2,
       "version_minor": 0
      },
      "text/plain": [
       "0it [00:00, ?it/s]"
      ]
     },
     "metadata": {},
     "output_type": "display_data"
    },
    {
     "name": "stdout",
     "output_type": "stream",
     "text": [
      "No. of empty rows:  0\n",
      "\n"
     ]
    }
   ],
   "source": [
    "with MDSWriter(out='mosaic-dataset-resampled-7m', columns=columns, compression=None, hashes=hashes) as out:\n",
    "\n",
    "    random.seed(42)\n",
    "\n",
    "    for no, f in enumerate(folders):\n",
    "        print(f\"{no} {f.split('/')[-1]}\")\n",
    "        empty_rows = 0\n",
    "        if f in [\n",
    "            'reformatted_dataset/reformatted-common-crawl-qa.jsonl', \n",
    "            'reformatted_dataset/reformatted-hansard-qa.jsonl', \n",
    "            'reformatted_dataset/reformatted-wikipedia-qa.jsonl',\n",
    "        ]:\n",
    "            print('small')\n",
    "            with open(f) as fopen:\n",
    "                for data in tqdm(fopen):\n",
    "                    data = json.loads(data)\n",
    "                    if (data == {} or data['query'] == None or data['text'] == None or data['label'] == None \n",
    "                        or data['query'] == \"\" or data['text'] == \"\" or data['label'] not in [0, 1]):\n",
    "                        empty_rows += 1\n",
    "                        continue\n",
    "                    out.write(data)\n",
    "        else:\n",
    "            print('too big')\n",
    "            with open(f) as fopen:\n",
    "                # Read all lines from the file\n",
    "                lines = fopen.readlines()\n",
    "\n",
    "                # Randomly sample 'sample_size' number of lines\n",
    "                sample_size = 800000\n",
    "                random_sample = random.sample(lines, sample_size)\n",
    "\n",
    "                for data in tqdm(random_sample):\n",
    "                    data = json.loads(data)\n",
    "                    if (data == {} or data['query'] == None or data['text'] == None or data['label'] == None \n",
    "                        or data['query'] == \"\" or data['text'] == \"\" or data['label'] not in [0, 1]):\n",
    "                        empty_rows += 1\n",
    "                        continue\n",
    "                    out.write(data)\n",
    "\n",
    "        print(\"No. of empty rows: \", empty_rows)\n",
    "        print(\"\")"
   ]
  },
  {
   "cell_type": "code",
   "execution_count": 12,
   "metadata": {},
   "outputs": [
    {
     "data": {
      "text/plain": [
       "{'label': 1,\n",
       " 'query': 'Bagaimana cara membeli produk Camay?',\n",
       " 'text': 'Skip to content Home Product Info Menu Toggle Camay Repellent Repel Guard Plus+ Camay Foliar Fertilizer About Us Contact Us My account My Agent Menu Toggle Agents Listed Register Agent 0 Main Menu Home Product Info Menu Toggle Camay Repellent Repel Guard Plus+ Camay Foliar Fertilizer About Us Contact Us My account My Agent Menu Toggle Agents Listed Register Agent My Agent Nak beli produk Camay? Jom klik pada senarai ejen-ejen yang berdaftar dengan kami. Klik pada negeri pilihan anda,dan pilih ejen-ejen kegemaran anda mengikut kawasan pilihan anda. + Johor (35) Nama Lokasi Bandar Penawar (Klik nama untuk WhatsApp, klik lokasi untuk Google Map) LAILI BANDAR PENAWAR Bandar Penawar, Kota Tinggi (Klik nama untuk WhatsApp, klik lokasi untuk Google Map) NOR ALYDA BANDAR PENAWAR Batu Pahat (Klik nama untuk WhatsApp, klik lokasi untuk Google Map) KAMILAH BATU PAHAT NURAINI RENGIT NOR IZYANTI BATU PAHAT ZANITA BATU PAHAT Batu Pahat, (Klik nama untuk WhatsApp, klik lokasi untuk Google Map) FARAHNAJIHAH @FARAH-IZUF SERI MEDAN Gelang Patah (Klik nama untuk WhatsApp, klik lokasi untuk Google Map) FARHANA JALAN SUNGAI KELADI BAWAH Johor Bahru (Klik nama untuk WhatsApp, klik lokasi untuk Google Map) HJ RAHMAN JALAN NIPAH (1 - 19) ASNITA TAMAN PERLING K MAHENDRAN TAMAN KEMPAS MASTURA RAJAB JALAN DIAN UTAMA ZIRA BANDAR DATO ONN Johor Bharu (Klik nama untuk WhatsApp, klik lokasi untuk Google Map) AHMAD SALLEHIN JOHOR BHARU NORZIANA JOHOR BHARU Kluang (Klik nama untuk WhatsApp, klik lokasi untuk Google Map) ZAINAB TUNAS TAMAN SRI LAMBAK Kota Tinggi (Klik nama untuk WhatsApp, klik lokasi untuk Google Map) ROHANA KAMIS TAMAN SRI SAUJANA Kulai (Klik nama untuk WhatsApp, klik lokasi untuk Google Map) ZURAIDAH JAMEIN BANDAR KULAI Masai (Klik nama untuk WhatsApp, klik lokasi untuk Google Map) HASRUNIZAN MUHAMAD BANDAR BARU PERMAS JAYA YANZ FELDA CAHAYA BARU Muar (Klik nama untuk WhatsApp, klik lokasi untuk Google Map) NOORJULIANA MUAR ZURAIDAH MUAR Parit Raja (Klik nama untuk WhatsApp, klik lokasi untuk Google Map) NUR AISYAH PARIT RAJA Pasir Gudang (Klik nama untuk WhatsApp, klik lokasi untuk Google Map) HALIMATUZZAIMAH PASIR GUDANG HIDAYAH.HAN TAMAN KOTA MASAI SITI MARIAM PASIR GUDANG SITI ZALEHA PASIR GUDANG ZAKI PASIR GUDANG Pontian (Klik nama untuk WhatsApp, klik lokasi untuk Google Map) AZHAR PONTIAN DEN DENAN BENUT SAZALIZA PONTIAN SHAFIQAH HANIS PONTIAN Segamat (Klik nama untuk WhatsApp, klik lokasi untuk Google Map) MOHD ISMADI TAMAN YAYASAN Simpang Rengam (Klik nama untuk WhatsApp, klik lokasi untuk Google Map) AINUR DAUD SIMPANG RENGAM Tampoi (Klik nama untuk WhatsApp, klik lokasi untuk Google Map) MAUIZZAH TAMPOI + Kedah (120) Nama Lokasi Alor Setar (Klik nama untuk WhatsApp, klik lokasi untuk Google Map) ABD RAHMAN PEKAN KOTA SARANG SEMUT ADHWA HUSNA ALOR SETAR AINUN SYATIROH TAMAN LAMAN KUDA AMIRUL ZHARIF HUTAN KAMPUNG CAMAY HQ TAMAN MUSTIKA HURUN AIN MERGONG ISKANDAR E TAMAN UDA MOHAMAD PAUZI ALOR SETAR KAMIL AHMAD TAMAN HIDAYAH MOHD NAIM TANDOP AZUREEN ALOR SETAR HAFIZ IDRIS HUTAN KAMPUNG NASHARUDDIN TAMAN MALAI AIMAN AWANG JALAN SULTANAH MUHAMED AMIN ALOR SETAR MUHAMMAD KHIRUDDIN ALOR SETAR NASUHA JALAN KUBUR PANJANG ZA FARIZAH HUTAN KAMPUNG AIN BUKIT BESAR AZIAH JALAN BUNGA RAYA HAFIZAH HUTAN KAMPUNG NORMA'}"
      ]
     },
     "execution_count": 12,
     "metadata": {},
     "output_type": "execute_result"
    }
   ],
   "source": [
    "# testing\n",
    "test_mosaic_dataset = LocalDataset(local=\"mosaic-dataset-resampled-7m\")\n",
    "test_mosaic_dataset[2]"
   ]
  },
  {
   "cell_type": "code",
   "execution_count": 13,
   "metadata": {},
   "outputs": [
    {
     "data": {
      "text/plain": [
       "6114041"
      ]
     },
     "execution_count": 13,
     "metadata": {},
     "output_type": "execute_result"
    }
   ],
   "source": [
    "test_mosaic_dataset.size"
   ]
  }
 ],
 "metadata": {
  "kernelspec": {
   "display_name": "Python 3 (ipykernel)",
   "language": "python",
   "name": "python3"
  },
  "language_info": {
   "codemirror_mode": {
    "name": "ipython",
    "version": 3
   },
   "file_extension": ".py",
   "mimetype": "text/x-python",
   "name": "python",
   "nbconvert_exporter": "python",
   "pygments_lexer": "ipython3",
   "version": "3.10.12"
  }
 },
 "nbformat": 4,
 "nbformat_minor": 2
}
