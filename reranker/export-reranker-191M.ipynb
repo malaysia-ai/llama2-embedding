{
 "cells": [
  {
   "cell_type": "code",
   "execution_count": 1,
   "id": "d0002caf",
   "metadata": {},
   "outputs": [],
   "source": [
    "from transformers import AutoConfig, AutoTokenizer, TrainingArguments, Trainer, MistralForSequenceClassification\n",
    "import torch"
   ]
  },
  {
   "cell_type": "code",
   "execution_count": 2,
   "id": "dd4e4af4",
   "metadata": {},
   "outputs": [
    {
     "name": "stdout",
     "output_type": "stream",
     "text": [
      "checkpoint-45800  checkpoint-46000  checkpoint-46200  runs\r\n"
     ]
    }
   ],
   "source": [
    "!ls reranker-malaysian-mistral-191M"
   ]
  },
  {
   "cell_type": "code",
   "execution_count": 3,
   "id": "4e0a76fb",
   "metadata": {},
   "outputs": [],
   "source": [
    "model = MistralForSequenceClassification.from_pretrained(\n",
    "    \"reranker-malaysian-mistral-191M/checkpoint-46200\",\n",
    "    torch_dtype = torch.bfloat16\n",
    ")"
   ]
  },
  {
   "cell_type": "code",
   "execution_count": 4,
   "id": "30ad582d",
   "metadata": {},
   "outputs": [],
   "source": [
    "tokenizer = AutoTokenizer.from_pretrained(\n",
    "    \"reranker-malaysian-mistral-191M/checkpoint-46200\",\n",
    ")"
   ]
  },
  {
   "cell_type": "code",
   "execution_count": 5,
   "id": "7a6d8304",
   "metadata": {},
   "outputs": [
    {
     "name": "stderr",
     "output_type": "stream",
     "text": [
      "/home/ubuntu/.local/lib/python3.10/site-packages/transformers/utils/hub.py:680: UserWarning: The `organization` argument is deprecated and will be removed in v5 of Transformers. Set your organization directly in the `repo_id` passed instead (`repo_id={organization}/{model_id}`).\n",
      "  warnings.warn(\n"
     ]
    },
    {
     "data": {
      "text/plain": [
       "CommitInfo(commit_url='https://huggingface.co/mesolitica/reranker-malaysian-mistral-191M-32k/commit/a590ef759e86ae152b409c8a34483932e8584058', commit_message='Upload tokenizer', commit_description='', oid='a590ef759e86ae152b409c8a34483932e8584058', pr_url=None, pr_revision=None, pr_num=None)"
      ]
     },
     "execution_count": 5,
     "metadata": {},
     "output_type": "execute_result"
    }
   ],
   "source": [
    "tokenizer.push_to_hub('reranker-malaysian-mistral-191M-32k', organization = 'mesolitica')"
   ]
  },
  {
   "cell_type": "code",
   "execution_count": 6,
   "id": "49790a81",
   "metadata": {},
   "outputs": [
    {
     "data": {
      "application/vnd.jupyter.widget-view+json": {
       "model_id": "cb3d24de76754959a7efe4dbcd165a5e",
       "version_major": 2,
       "version_minor": 0
      },
      "text/plain": [
       "model.safetensors:   0%|          | 0.00/332M [00:00<?, ?B/s]"
      ]
     },
     "metadata": {},
     "output_type": "display_data"
    },
    {
     "data": {
      "text/plain": [
       "CommitInfo(commit_url='https://huggingface.co/mesolitica/reranker-malaysian-mistral-191M-32k/commit/d41cf57a8284c7877f7e5bd7397d7427c298658f', commit_message='Upload MistralForSequenceClassification', commit_description='', oid='d41cf57a8284c7877f7e5bd7397d7427c298658f', pr_url=None, pr_revision=None, pr_num=None)"
      ]
     },
     "execution_count": 6,
     "metadata": {},
     "output_type": "execute_result"
    }
   ],
   "source": [
    "model.push_to_hub('reranker-malaysian-mistral-191M-32k', organization = 'mesolitica')"
   ]
  }
 ],
 "metadata": {
  "kernelspec": {
   "display_name": "Python 3 (ipykernel)",
   "language": "python",
   "name": "python3"
  },
  "language_info": {
   "codemirror_mode": {
    "name": "ipython",
    "version": 3
   },
   "file_extension": ".py",
   "mimetype": "text/x-python",
   "name": "python",
   "nbconvert_exporter": "python",
   "pygments_lexer": "ipython3",
   "version": "3.10.12"
  }
 },
 "nbformat": 4,
 "nbformat_minor": 5
}
