{
 "cells": [
  {
   "cell_type": "code",
   "execution_count": 2,
   "id": "d0002caf",
   "metadata": {},
   "outputs": [],
   "source": [
    "from transformers import AutoConfig, AutoTokenizer, TrainingArguments, Trainer, MistralForSequenceClassification\n",
    "import torch"
   ]
  },
  {
   "cell_type": "code",
   "execution_count": 3,
   "id": "dd4e4af4",
   "metadata": {},
   "outputs": [
    {
     "name": "stdout",
     "output_type": "stream",
     "text": [
      "checkpoint-40000  checkpoint-40200  checkpoint-40400  runs\r\n"
     ]
    }
   ],
   "source": [
    "!ls reranker-malaysian-mistral-64M"
   ]
  },
  {
   "cell_type": "code",
   "execution_count": 4,
   "id": "4e0a76fb",
   "metadata": {},
   "outputs": [],
   "source": [
    "model = MistralForSequenceClassification.from_pretrained(\n",
    "    \"reranker-malaysian-mistral-64M/checkpoint-40400\",\n",
    "    torch_dtype = torch.bfloat16\n",
    ")"
   ]
  },
  {
   "cell_type": "code",
   "execution_count": 5,
   "id": "30ad582d",
   "metadata": {},
   "outputs": [],
   "source": [
    "tokenizer = AutoTokenizer.from_pretrained(\n",
    "    \"reranker-malaysian-mistral-64M/checkpoint-40400\",\n",
    ")"
   ]
  },
  {
   "cell_type": "code",
   "execution_count": 6,
   "id": "7a6d8304",
   "metadata": {},
   "outputs": [
    {
     "name": "stderr",
     "output_type": "stream",
     "text": [
      "/home/ubuntu/.local/lib/python3.10/site-packages/transformers/utils/hub.py:680: UserWarning: The `organization` argument is deprecated and will be removed in v5 of Transformers. Set your organization directly in the `repo_id` passed instead (`repo_id={organization}/{model_id}`).\n",
      "  warnings.warn(\n"
     ]
    },
    {
     "data": {
      "text/plain": [
       "CommitInfo(commit_url='https://huggingface.co/mesolitica/reranker-malaysian-mistral-64M-32k/commit/b81ef58d1c0520e885a58cb01b947fb20f12246b', commit_message='Upload tokenizer', commit_description='', oid='b81ef58d1c0520e885a58cb01b947fb20f12246b', pr_url=None, pr_revision=None, pr_num=None)"
      ]
     },
     "execution_count": 6,
     "metadata": {},
     "output_type": "execute_result"
    }
   ],
   "source": [
    "tokenizer.push_to_hub('reranker-malaysian-mistral-64M-32k', organization = 'mesolitica')"
   ]
  },
  {
   "cell_type": "code",
   "execution_count": 7,
   "id": "49790a81",
   "metadata": {},
   "outputs": [
    {
     "data": {
      "application/vnd.jupyter.widget-view+json": {
       "model_id": "6999dab1a642482a94f604b631f67e15",
       "version_major": 2,
       "version_minor": 0
      },
      "text/plain": [
       "README.md:   0%|          | 0.00/5.18k [00:00<?, ?B/s]"
      ]
     },
     "metadata": {},
     "output_type": "display_data"
    },
    {
     "data": {
      "application/vnd.jupyter.widget-view+json": {
       "model_id": "b412a965b2c04ffeaff89f077026d53d",
       "version_major": 2,
       "version_minor": 0
      },
      "text/plain": [
       "model.safetensors:   0%|          | 0.00/95.7M [00:00<?, ?B/s]"
      ]
     },
     "metadata": {},
     "output_type": "display_data"
    },
    {
     "data": {
      "text/plain": [
       "CommitInfo(commit_url='https://huggingface.co/mesolitica/reranker-malaysian-mistral-64M-32k/commit/eb5ca42d58ca4ee7cb02cd7d14bf18ba994a71de', commit_message='Upload MistralForSequenceClassification', commit_description='', oid='eb5ca42d58ca4ee7cb02cd7d14bf18ba994a71de', pr_url=None, pr_revision=None, pr_num=None)"
      ]
     },
     "execution_count": 7,
     "metadata": {},
     "output_type": "execute_result"
    }
   ],
   "source": [
    "model.push_to_hub('reranker-malaysian-mistral-64M-32k', organization = 'mesolitica')"
   ]
  }
 ],
 "metadata": {
  "kernelspec": {
   "display_name": "Python 3 (ipykernel)",
   "language": "python",
   "name": "python3"
  },
  "language_info": {
   "codemirror_mode": {
    "name": "ipython",
    "version": 3
   },
   "file_extension": ".py",
   "mimetype": "text/x-python",
   "name": "python",
   "nbconvert_exporter": "python",
   "pygments_lexer": "ipython3",
   "version": "3.10.12"
  }
 },
 "nbformat": 4,
 "nbformat_minor": 5
}
