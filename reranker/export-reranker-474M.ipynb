{
 "cells": [
  {
   "cell_type": "code",
   "execution_count": 9,
   "id": "d0002caf",
   "metadata": {},
   "outputs": [],
   "source": [
    "from transformers import AutoConfig, AutoTokenizer, TrainingArguments, Trainer, MistralForSequenceClassification\n",
    "import torch"
   ]
  },
  {
   "cell_type": "code",
   "execution_count": 10,
   "id": "dd4e4af4",
   "metadata": {},
   "outputs": [
    {
     "name": "stdout",
     "output_type": "stream",
     "text": [
      "README.md\t  config.json\t\t   tokenizer.json\r\n",
      "checkpoint-45400  model.safetensors\t   tokenizer_config.json\r\n",
      "checkpoint-45600  runs\r\n",
      "checkpoint-45800  special_tokens_map.json\r\n"
     ]
    }
   ],
   "source": [
    "!ls reranker-malaysian-mistral-474M"
   ]
  },
  {
   "cell_type": "code",
   "execution_count": 11,
   "id": "4e0a76fb",
   "metadata": {},
   "outputs": [],
   "source": [
    "model = MistralForSequenceClassification.from_pretrained(\n",
    "    \"reranker-malaysian-mistral-474M/checkpoint-45800\",\n",
    "    torch_dtype = torch.bfloat16\n",
    ")"
   ]
  },
  {
   "cell_type": "code",
   "execution_count": 12,
   "id": "30ad582d",
   "metadata": {},
   "outputs": [],
   "source": [
    "tokenizer = AutoTokenizer.from_pretrained(\n",
    "    \"reranker-malaysian-mistral-474M/checkpoint-45800\"\n",
    ")"
   ]
  },
  {
   "cell_type": "code",
   "execution_count": 15,
   "id": "7a6d8304",
   "metadata": {},
   "outputs": [
    {
     "data": {
      "application/vnd.jupyter.widget-view+json": {
       "model_id": "07aae77ba05642cdbe94762ceb5f67a1",
       "version_major": 2,
       "version_minor": 0
      },
      "text/plain": [
       "README.md:   0%|          | 0.00/320 [00:00<?, ?B/s]"
      ]
     },
     "metadata": {},
     "output_type": "display_data"
    },
    {
     "data": {
      "text/plain": [
       "CommitInfo(commit_url='https://huggingface.co/mesolitica/reranker-malaysian-mistral-474M-32k/commit/48d26cd579252a745545b96cd4a0a39635ac1a8d', commit_message='Upload tokenizer', commit_description='', oid='48d26cd579252a745545b96cd4a0a39635ac1a8d', pr_url=None, pr_revision=None, pr_num=None)"
      ]
     },
     "execution_count": 15,
     "metadata": {},
     "output_type": "execute_result"
    }
   ],
   "source": [
    "tokenizer.push_to_hub('reranker-malaysian-mistral-474M-32k', organization = 'mesolitica')"
   ]
  },
  {
   "cell_type": "code",
   "execution_count": 16,
   "id": "49790a81",
   "metadata": {},
   "outputs": [
    {
     "data": {
      "application/vnd.jupyter.widget-view+json": {
       "model_id": "7534b5251e2048eea9fb0575559095df",
       "version_major": 2,
       "version_minor": 0
      },
      "text/plain": [
       "model.safetensors:   0%|          | 0.00/884M [00:00<?, ?B/s]"
      ]
     },
     "metadata": {},
     "output_type": "display_data"
    },
    {
     "data": {
      "text/plain": [
       "CommitInfo(commit_url='https://huggingface.co/mesolitica/reranker-malaysian-mistral-474M-32k/commit/82cb718e2c040e9f212cf59ce84b4d479041ca40', commit_message='Upload MistralForSequenceClassification', commit_description='', oid='82cb718e2c040e9f212cf59ce84b4d479041ca40', pr_url=None, pr_revision=None, pr_num=None)"
      ]
     },
     "execution_count": 16,
     "metadata": {},
     "output_type": "execute_result"
    }
   ],
   "source": [
    "model.push_to_hub('reranker-malaysian-mistral-474M-32k', organization = 'mesolitica')"
   ]
  },
  {
   "cell_type": "code",
   "execution_count": null,
   "id": "a53b8273",
   "metadata": {},
   "outputs": [],
   "source": []
  }
 ],
 "metadata": {
  "kernelspec": {
   "display_name": "Python 3 (ipykernel)",
   "language": "python",
   "name": "python3"
  },
  "language_info": {
   "codemirror_mode": {
    "name": "ipython",
    "version": 3
   },
   "file_extension": ".py",
   "mimetype": "text/x-python",
   "name": "python",
   "nbconvert_exporter": "python",
   "pygments_lexer": "ipython3",
   "version": "3.10.12"
  }
 },
 "nbformat": 4,
 "nbformat_minor": 5
}
