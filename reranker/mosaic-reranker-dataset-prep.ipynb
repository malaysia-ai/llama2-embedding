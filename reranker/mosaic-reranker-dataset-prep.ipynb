{
 "cells": [
  {
   "cell_type": "code",
   "execution_count": 28,
   "metadata": {},
   "outputs": [],
   "source": [
    "import glob\n",
    "import json\n",
    "from typing import Dict, List\n",
    "\n",
    "from tqdm.notebook import tqdm\n",
    "from concurrent.futures import ThreadPoolExecutor, as_completed\n",
    "\n",
    "import numpy as np\n",
    "import pandas as pd\n",
    "\n",
    "from streaming import MDSWriter, LocalDataset"
   ]
  },
  {
   "cell_type": "markdown",
   "metadata": {},
   "source": [
    "### 1.0 Reformat to \"str left is query, str right is neg / pos, label 0 / 1\""
   ]
  },
  {
   "cell_type": "markdown",
   "metadata": {},
   "source": [
    "**NOTE:** 1.1 - 1.6 are from the [title-context-pair](https://huggingface.co/datasets/mesolitica/title-context-pair) dataset, while 1.71 - 1.73 are from [chat-gpt-open-qa](https://huggingface.co/datasets/mesolitica/title-context-pair). Both datasets are from [Mesolitica](https://huggingface.co/mesolitica)."
   ]
  },
  {
   "cell_type": "code",
   "execution_count": 2,
   "metadata": {},
   "outputs": [],
   "source": [
    "def unpack_dict(data: Dict) -> List:\n",
    "    \"\"\"\n",
    "    General version of the function to reformat .jsonl data \n",
    "    into `query`, `text`, `label` format.\n",
    "    \"\"\"\n",
    "\n",
    "    final_data_list = []\n",
    "\n",
    "    if data.get('pos', None):\n",
    "        for sub_pos in data['pos']:\n",
    "            pos_row_dict = {}\n",
    "\n",
    "            pos_row_dict['query'] = data['query']\n",
    "            pos_row_dict['text'] = sub_pos\n",
    "            pos_row_dict['label'] = 1\n",
    "        \n",
    "            final_data_list.append(pos_row_dict)\n",
    "\n",
    "    if data.get('negs', None):\n",
    "        for sub_neg in data['negs']:\n",
    "            neg_row_dict = {}\n",
    "\n",
    "            neg_row_dict['query'] = data['query']\n",
    "            neg_row_dict['text'] = sub_neg\n",
    "            neg_row_dict['label'] = 0\n",
    "        \n",
    "            final_data_list.append(neg_row_dict)\n",
    "\n",
    "    return final_data_list"
   ]
  },
  {
   "cell_type": "markdown",
   "metadata": {},
   "source": [
    "#### 1.1 b-cari-com-my"
   ]
  },
  {
   "cell_type": "code",
   "execution_count": 1,
   "metadata": {},
   "outputs": [],
   "source": [
    "# !wget https://huggingface.co/datasets/mesolitica/title-context-pair/resolve/main/mining-b.cari.com.my.jsonl?download=true"
   ]
  },
  {
   "cell_type": "code",
   "execution_count": 3,
   "metadata": {},
   "outputs": [
    {
     "data": {
      "application/vnd.jupyter.widget-view+json": {
       "model_id": "8ea8c32250344fa6856c8318558658fb",
       "version_major": 2,
       "version_minor": 0
      },
      "text/plain": [
       "0it [00:00, ?it/s]"
      ]
     },
     "metadata": {},
     "output_type": "display_data"
    }
   ],
   "source": [
    "data_list = []\n",
    "with open('mining-b-cari-com-my.jsonl') as fopen:\n",
    "    for data in tqdm(fopen):\n",
    "        data_list.append(json.loads(data))"
   ]
  },
  {
   "cell_type": "code",
   "execution_count": 4,
   "metadata": {},
   "outputs": [
    {
     "data": {
      "text/plain": [
       "{'negs': ['gigih sungguh yip sampai tepek gambo bagi contoh',\n",
       "  'Psl laptop ko slo tu mungkin sbb byk startup  program kot ,gune ccleaner blh tuk disable',\n",
       "  'sedih pakai umobile..blk kg dpt E je..bukak fb pun tak lepas  skrg dah pakai onexox',\n",
       "  'tq @reeny sudi tag ida..  silalah sampaikan apa2 ucapan pd yg istimewa..',\n",
       "  'konpem..kalu ader yg masuk..dier pun kene buat promo cam  ko jugak kan..? 4k seminggu konon..'],\n",
       " 'pos': ['Saya tak tahu, mungkin awak patut tanya TT. Adakah BIL, SIL, dan TT tinggal bersama-sama dengan MIL?',\n",
       "  \"I don't know, maybe you should ask TT. Are BIL, SIL, and TT living together with MIL?\"],\n",
       " 'query': 'erk nak tanya TT la. BIL, SIL and TT dok sekali ker dgn MIL?\\nidadzira Post at 12-1-2010 10:55 AM  Tu satu hal. aku pun pening. BIL = Bila, MIL = ? Bila jg kot..'}"
      ]
     },
     "execution_count": 4,
     "metadata": {},
     "output_type": "execute_result"
    }
   ],
   "source": [
    "data_list[0]"
   ]
  },
  {
   "cell_type": "code",
   "execution_count": 5,
   "metadata": {},
   "outputs": [
    {
     "data": {
      "text/plain": [
       "[{'query': 'erk nak tanya TT la. BIL, SIL and TT dok sekali ker dgn MIL?\\nidadzira Post at 12-1-2010 10:55 AM  Tu satu hal. aku pun pening. BIL = Bila, MIL = ? Bila jg kot..',\n",
       "  'text': 'Saya tak tahu, mungkin awak patut tanya TT. Adakah BIL, SIL, dan TT tinggal bersama-sama dengan MIL?',\n",
       "  'label': 1},\n",
       " {'query': 'erk nak tanya TT la. BIL, SIL and TT dok sekali ker dgn MIL?\\nidadzira Post at 12-1-2010 10:55 AM  Tu satu hal. aku pun pening. BIL = Bila, MIL = ? Bila jg kot..',\n",
       "  'text': \"I don't know, maybe you should ask TT. Are BIL, SIL, and TT living together with MIL?\",\n",
       "  'label': 1},\n",
       " {'query': 'erk nak tanya TT la. BIL, SIL and TT dok sekali ker dgn MIL?\\nidadzira Post at 12-1-2010 10:55 AM  Tu satu hal. aku pun pening. BIL = Bila, MIL = ? Bila jg kot..',\n",
       "  'text': 'gigih sungguh yip sampai tepek gambo bagi contoh',\n",
       "  'label': 0},\n",
       " {'query': 'erk nak tanya TT la. BIL, SIL and TT dok sekali ker dgn MIL?\\nidadzira Post at 12-1-2010 10:55 AM  Tu satu hal. aku pun pening. BIL = Bila, MIL = ? Bila jg kot..',\n",
       "  'text': 'Psl laptop ko slo tu mungkin sbb byk startup  program kot ,gune ccleaner blh tuk disable',\n",
       "  'label': 0},\n",
       " {'query': 'erk nak tanya TT la. BIL, SIL and TT dok sekali ker dgn MIL?\\nidadzira Post at 12-1-2010 10:55 AM  Tu satu hal. aku pun pening. BIL = Bila, MIL = ? Bila jg kot..',\n",
       "  'text': 'sedih pakai umobile..blk kg dpt E je..bukak fb pun tak lepas  skrg dah pakai onexox',\n",
       "  'label': 0},\n",
       " {'query': 'erk nak tanya TT la. BIL, SIL and TT dok sekali ker dgn MIL?\\nidadzira Post at 12-1-2010 10:55 AM  Tu satu hal. aku pun pening. BIL = Bila, MIL = ? Bila jg kot..',\n",
       "  'text': 'tq @reeny sudi tag ida..  silalah sampaikan apa2 ucapan pd yg istimewa..',\n",
       "  'label': 0},\n",
       " {'query': 'erk nak tanya TT la. BIL, SIL and TT dok sekali ker dgn MIL?\\nidadzira Post at 12-1-2010 10:55 AM  Tu satu hal. aku pun pening. BIL = Bila, MIL = ? Bila jg kot..',\n",
       "  'text': 'konpem..kalu ader yg masuk..dier pun kene buat promo cam  ko jugak kan..? 4k seminggu konon..',\n",
       "  'label': 0}]"
      ]
     },
     "execution_count": 5,
     "metadata": {},
     "output_type": "execute_result"
    }
   ],
   "source": [
    "# testing\n",
    "unpack_dict(data_list[0])"
   ]
  },
  {
   "cell_type": "code",
   "execution_count": 6,
   "metadata": {},
   "outputs": [
    {
     "data": {
      "application/vnd.jupyter.widget-view+json": {
       "model_id": "40541ee79e454859af65849ad31f7ba5",
       "version_major": 2,
       "version_minor": 0
      },
      "text/plain": [
       "  0%|          | 0/12552 [00:00<?, ?it/s]"
      ]
     },
     "metadata": {},
     "output_type": "display_data"
    }
   ],
   "source": [
    "# Save file\n",
    "max_worker = 10\n",
    "result_list = []\n",
    "\n",
    "with ThreadPoolExecutor(max_workers=max_worker) as executor:\n",
    "    for _ in tqdm(range(0, len(data_list), max_worker)):\n",
    "        futures = {executor.submit(unpack_dict, t): t for t in data_list[_: _ + max_worker]}\n",
    "\n",
    "        for future in as_completed(futures):\n",
    "            result = future.result()\n",
    "            if result:\n",
    "                result_list.extend(result)"
   ]
  },
  {
   "cell_type": "code",
   "execution_count": 9,
   "metadata": {},
   "outputs": [
    {
     "data": {
      "application/vnd.jupyter.widget-view+json": {
       "model_id": "9747baeae85a4422b278cf6ca94a6602",
       "version_major": 2,
       "version_minor": 0
      },
      "text/plain": [
       "  0%|          | 0/1362998 [00:00<?, ?it/s]"
      ]
     },
     "metadata": {},
     "output_type": "display_data"
    }
   ],
   "source": [
    "dataset_name = \"reformatted_dataset/reformatted-mining-b-cari-com-my.jsonl\"\n",
    "\n",
    "# with open(dataset_name, 'a') as final:\n",
    "#     json.dump(result_list, final)\n",
    "#     final.write('\\n')\n",
    "\n",
    "with open(dataset_name, 'a') as final:\n",
    "    for item in tqdm(result_list):\n",
    "        json.dump(item, final)\n",
    "        final.write('\\n')"
   ]
  },
  {
   "cell_type": "code",
   "execution_count": 2,
   "metadata": {},
   "outputs": [
    {
     "name": "stdout",
     "output_type": "stream",
     "text": [
      "<class 'pandas.core.frame.DataFrame'>\n",
      "RangeIndex: 1362998 entries, 0 to 1362997\n",
      "Data columns (total 3 columns):\n",
      " #   Column  Non-Null Count    Dtype \n",
      "---  ------  --------------    ----- \n",
      " 0   query   1362998 non-null  object\n",
      " 1   text    1362998 non-null  object\n",
      " 2   label   1362998 non-null  int64 \n",
      "dtypes: int64(1), object(2)\n",
      "memory usage: 31.2+ MB\n"
     ]
    }
   ],
   "source": [
    "test_bcari = pd.read_json('reformatted_dataset/reformatted-mining-b-cari-com-my.jsonl', lines=True)\n",
    "\n",
    "test_bcari.info()"
   ]
  },
  {
   "cell_type": "markdown",
   "metadata": {},
   "source": [
    "#### 1.2 facebook"
   ]
  },
  {
   "cell_type": "code",
   "execution_count": 12,
   "metadata": {},
   "outputs": [],
   "source": [
    "# !cd original_dataset && wget https://huggingface.co/datasets/mesolitica/title-context-pair/resolve/main/mining-facebook.jsonl"
   ]
  },
  {
   "cell_type": "code",
   "execution_count": 15,
   "metadata": {},
   "outputs": [
    {
     "data": {
      "application/vnd.jupyter.widget-view+json": {
       "model_id": "6265692bff8546f5bd5c22469afe7c3d",
       "version_major": 2,
       "version_minor": 0
      },
      "text/plain": [
       "0it [00:00, ?it/s]"
      ]
     },
     "metadata": {},
     "output_type": "display_data"
    }
   ],
   "source": [
    "data_list = []\n",
    "with open('original_dataset/mining-facebook.jsonl') as fopen:\n",
    "    for data in tqdm(fopen):\n",
    "        data_list.append(json.loads(data))"
   ]
  },
  {
   "cell_type": "code",
   "execution_count": 16,
   "metadata": {},
   "outputs": [
    {
     "data": {
      "application/vnd.jupyter.widget-view+json": {
       "model_id": "d6363c23e3b840559722afad52c80621",
       "version_major": 2,
       "version_minor": 0
      },
      "text/plain": [
       "  0%|          | 0/12463 [00:00<?, ?it/s]"
      ]
     },
     "metadata": {},
     "output_type": "display_data"
    }
   ],
   "source": [
    "# Save file\n",
    "max_worker = 10\n",
    "result_list = []\n",
    "\n",
    "with ThreadPoolExecutor(max_workers=max_worker) as executor:\n",
    "    for _ in tqdm(range(0, len(data_list), max_worker)):\n",
    "        futures = {executor.submit(unpack_dict, t): t for t in data_list[_: _ + max_worker]}\n",
    "\n",
    "        for future in as_completed(futures):\n",
    "            result = future.result()\n",
    "            if result:\n",
    "                result_list.extend(result)"
   ]
  },
  {
   "cell_type": "code",
   "execution_count": 17,
   "metadata": {},
   "outputs": [
    {
     "data": {
      "application/vnd.jupyter.widget-view+json": {
       "model_id": "3db7ec6233814f5aa7450f7e7209bf72",
       "version_major": 2,
       "version_minor": 0
      },
      "text/plain": [
       "  0%|          | 0/1155825 [00:00<?, ?it/s]"
      ]
     },
     "metadata": {},
     "output_type": "display_data"
    }
   ],
   "source": [
    "dataset_name = \"reformatted_dataset/reformatted-facebook.jsonl\"\n",
    "\n",
    "with open(dataset_name, 'a') as final:\n",
    "    for item in tqdm(result_list):\n",
    "        json.dump(item, final)\n",
    "        final.write('\\n')"
   ]
  },
  {
   "cell_type": "code",
   "execution_count": 3,
   "metadata": {},
   "outputs": [
    {
     "name": "stdout",
     "output_type": "stream",
     "text": [
      "<class 'pandas.core.frame.DataFrame'>\n",
      "RangeIndex: 1155825 entries, 0 to 1155824\n",
      "Data columns (total 3 columns):\n",
      " #   Column  Non-Null Count    Dtype \n",
      "---  ------  --------------    ----- \n",
      " 0   query   1155825 non-null  object\n",
      " 1   text    1155825 non-null  object\n",
      " 2   label   1155825 non-null  int64 \n",
      "dtypes: int64(1), object(2)\n",
      "memory usage: 26.5+ MB\n"
     ]
    }
   ],
   "source": [
    "test_facebook = pd.read_json('reformatted_dataset/reformatted-facebook.jsonl', lines=True)\n",
    "\n",
    "test_facebook.info()"
   ]
  },
  {
   "cell_type": "markdown",
   "metadata": {},
   "source": [
    "#### 1.3 iium-confession"
   ]
  },
  {
   "cell_type": "code",
   "execution_count": 20,
   "metadata": {},
   "outputs": [],
   "source": [
    "# !cd original_dataset && wget https://huggingface.co/datasets/mesolitica/title-context-pair/resolve/main/mining-iium-confession.jsonl"
   ]
  },
  {
   "cell_type": "code",
   "execution_count": 21,
   "metadata": {},
   "outputs": [
    {
     "data": {
      "application/vnd.jupyter.widget-view+json": {
       "model_id": "d8a35fc0cb1f4434a63a187a4d5cbf9c",
       "version_major": 2,
       "version_minor": 0
      },
      "text/plain": [
       "0it [00:00, ?it/s]"
      ]
     },
     "metadata": {},
     "output_type": "display_data"
    }
   ],
   "source": [
    "data_list = []\n",
    "with open('original_dataset/mining-iium-confession.jsonl') as fopen:\n",
    "    for data in tqdm(fopen):\n",
    "        data_list.append(json.loads(data))"
   ]
  },
  {
   "cell_type": "code",
   "execution_count": 22,
   "metadata": {},
   "outputs": [
    {
     "data": {
      "application/vnd.jupyter.widget-view+json": {
       "model_id": "f9047d12f8dc47adaa93bdff5b8effb8",
       "version_major": 2,
       "version_minor": 0
      },
      "text/plain": [
       "  0%|          | 0/15083 [00:00<?, ?it/s]"
      ]
     },
     "metadata": {},
     "output_type": "display_data"
    }
   ],
   "source": [
    "# Save file\n",
    "max_worker = 10\n",
    "result_list = []\n",
    "\n",
    "with ThreadPoolExecutor(max_workers=max_worker) as executor:\n",
    "    for _ in tqdm(range(0, len(data_list), max_worker)):\n",
    "        futures = {executor.submit(unpack_dict, t): t for t in data_list[_: _ + max_worker]}\n",
    "\n",
    "        for future in as_completed(futures):\n",
    "            result = future.result()\n",
    "            if result:\n",
    "                result_list.extend(result)"
   ]
  },
  {
   "cell_type": "code",
   "execution_count": 24,
   "metadata": {},
   "outputs": [
    {
     "data": {
      "application/vnd.jupyter.widget-view+json": {
       "model_id": "7802a2b8c55a4561b03d2e4b89adb48a",
       "version_major": 2,
       "version_minor": 0
      },
      "text/plain": [
       "  0%|          | 0/2070294 [00:00<?, ?it/s]"
      ]
     },
     "metadata": {},
     "output_type": "display_data"
    }
   ],
   "source": [
    "dataset_name = \"reformatted_dataset/reformatted-iium-confession.jsonl\"\n",
    "\n",
    "with open(dataset_name, 'a') as final:\n",
    "    for item in tqdm(result_list):\n",
    "        json.dump(item, final)\n",
    "        final.write('\\n')"
   ]
  },
  {
   "cell_type": "code",
   "execution_count": 6,
   "metadata": {},
   "outputs": [
    {
     "name": "stdout",
     "output_type": "stream",
     "text": [
      "<class 'pandas.core.frame.DataFrame'>\n",
      "RangeIndex: 2070294 entries, 0 to 2070293\n",
      "Data columns (total 3 columns):\n",
      " #   Column  Non-Null Count    Dtype \n",
      "---  ------  --------------    ----- \n",
      " 0   query   2070294 non-null  object\n",
      " 1   text    2070294 non-null  object\n",
      " 2   label   2070294 non-null  int64 \n",
      "dtypes: int64(1), object(2)\n",
      "memory usage: 47.4+ MB\n"
     ]
    }
   ],
   "source": [
    "test_iium = pd.read_json('reformatted_dataset/reformatted-iium-confession.jsonl', lines=True)\n",
    "\n",
    "test_iium.info(verbose=True, show_counts=True)"
   ]
  },
  {
   "cell_type": "markdown",
   "metadata": {},
   "source": [
    "#### 1.4 twitter"
   ]
  },
  {
   "cell_type": "code",
   "execution_count": 26,
   "metadata": {},
   "outputs": [],
   "source": [
    "# !cd original_dataset && wget https://huggingface.co/datasets/mesolitica/title-context-pair/resolve/main/mining-twitter.jsonl"
   ]
  },
  {
   "cell_type": "code",
   "execution_count": 27,
   "metadata": {},
   "outputs": [
    {
     "data": {
      "application/vnd.jupyter.widget-view+json": {
       "model_id": "7cd2b59209334ff29546a7ae0e5162a1",
       "version_major": 2,
       "version_minor": 0
      },
      "text/plain": [
       "0it [00:00, ?it/s]"
      ]
     },
     "metadata": {},
     "output_type": "display_data"
    }
   ],
   "source": [
    "data_list = []\n",
    "with open('original_dataset/mining-twitter.jsonl') as fopen:\n",
    "    for data in tqdm(fopen):\n",
    "        data_list.append(json.loads(data))"
   ]
  },
  {
   "cell_type": "code",
   "execution_count": 28,
   "metadata": {},
   "outputs": [
    {
     "data": {
      "application/vnd.jupyter.widget-view+json": {
       "model_id": "003e362a266c47948125fed5ee1c444e",
       "version_major": 2,
       "version_minor": 0
      },
      "text/plain": [
       "  0%|          | 0/31661 [00:00<?, ?it/s]"
      ]
     },
     "metadata": {},
     "output_type": "display_data"
    }
   ],
   "source": [
    "# Save file\n",
    "max_worker = 10\n",
    "result_list = []\n",
    "\n",
    "with ThreadPoolExecutor(max_workers=max_worker) as executor:\n",
    "    for _ in tqdm(range(0, len(data_list), max_worker)):\n",
    "        futures = {executor.submit(unpack_dict, t): t for t in data_list[_: _ + max_worker]}\n",
    "\n",
    "        for future in as_completed(futures):\n",
    "            result = future.result()\n",
    "            if result:\n",
    "                result_list.extend(result)"
   ]
  },
  {
   "cell_type": "code",
   "execution_count": 30,
   "metadata": {},
   "outputs": [
    {
     "data": {
      "application/vnd.jupyter.widget-view+json": {
       "model_id": "450ae2be0a344396b428e0ed269ec1fd",
       "version_major": 2,
       "version_minor": 0
      },
      "text/plain": [
       "  0%|          | 0/3754478 [00:00<?, ?it/s]"
      ]
     },
     "metadata": {},
     "output_type": "display_data"
    }
   ],
   "source": [
    "dataset_name = \"reformatted_dataset/reformatted-twitter.jsonl\"\n",
    "\n",
    "with open(dataset_name, 'a') as final:\n",
    "    for item in tqdm(result_list):\n",
    "        json.dump(item, final)\n",
    "        final.write('\\n')"
   ]
  },
  {
   "cell_type": "code",
   "execution_count": 7,
   "metadata": {},
   "outputs": [
    {
     "name": "stdout",
     "output_type": "stream",
     "text": [
      "<class 'pandas.core.frame.DataFrame'>\n",
      "RangeIndex: 3754478 entries, 0 to 3754477\n",
      "Data columns (total 3 columns):\n",
      " #   Column  Non-Null Count    Dtype \n",
      "---  ------  --------------    ----- \n",
      " 0   query   3754478 non-null  object\n",
      " 1   text    3754478 non-null  object\n",
      " 2   label   3754478 non-null  int64 \n",
      "dtypes: int64(1), object(2)\n",
      "memory usage: 85.9+ MB\n"
     ]
    }
   ],
   "source": [
    "test_twitter = pd.read_json('reformatted_dataset/reformatted-twitter.jsonl', lines=True)\n",
    "\n",
    "test_twitter.info(verbose=True, show_counts=True)"
   ]
  },
  {
   "cell_type": "markdown",
   "metadata": {},
   "source": [
    "#### 1.5 news"
   ]
  },
  {
   "cell_type": "code",
   "execution_count": 39,
   "metadata": {},
   "outputs": [
    {
     "name": "stdout",
     "output_type": "stream",
     "text": [
      "Will not apply HSTS. The HSTS database must be a regular and non-world-writable file.\n",
      "ERROR: could not open HSTS store at '/home/ubuntu/.wget-hsts'. HSTS will be disabled.\n",
      "--2024-02-19 12:24:41--  https://huggingface.co/datasets/mesolitica/title-context-pair/resolve/main/mining-news.jsonl\n",
      "Resolving huggingface.co (huggingface.co)... 18.238.49.10, 18.238.49.70, 18.238.49.112, ...\n",
      "Connecting to huggingface.co (huggingface.co)|18.238.49.10|:443... connected.\n",
      "HTTP request sent, awaiting response... 302 Found\n",
      "Location: https://cdn-lfs-us-1.huggingface.co/repos/bd/b3/bdb361c75adf0da2f355354377af47fe74b09db79b788061463ceb4a7c8a25e8/9b4b41eea845da335efd28614987a4a799e05dedb395052e02ee456210168a62?response-content-disposition=attachment%3B+filename*%3DUTF-8%27%27mining-news.jsonl%3B+filename%3D%22mining-news.jsonl%22%3B&Expires=1708604682&Policy=eyJTdGF0ZW1lbnQiOlt7IkNvbmRpdGlvbiI6eyJEYXRlTGVzc1RoYW4iOnsiQVdTOkVwb2NoVGltZSI6MTcwODYwNDY4Mn19LCJSZXNvdXJjZSI6Imh0dHBzOi8vY2RuLWxmcy11cy0xLmh1Z2dpbmdmYWNlLmNvL3JlcG9zL2JkL2IzL2JkYjM2MWM3NWFkZjBkYTJmMzU1MzU0Mzc3YWY0N2ZlNzRiMDlkYjc5Yjc4ODA2MTQ2M2NlYjRhN2M4YTI1ZTgvOWI0YjQxZWVhODQ1ZGEzMzVlZmQyODYxNDk4N2E0YTc5OWUwNWRlZGIzOTUwNTJlMDJlZTQ1NjIxMDE2OGE2Mj9yZXNwb25zZS1jb250ZW50LWRpc3Bvc2l0aW9uPSoifV19&Signature=Nn6-k20Gupgxq5ieJVofaqfO29pf1cgdkBJoUeF37a3Puw-1GVOdPbFrdkfFOIzvqPOhb0bMfOJR6jESCiIRyLfW%7EVtiWvSnnG71c0OsWCXyVj6WlXFe%7EUNYQR%7Es%7E-ZuE0szg3RVZWRgZZ6UWt9I9Hwv8%7EGJ8z1Ba7WIol1dlEsZB9xkgIs7LO9oZtgYqn2PCczYeP81-Gq-nZo1sU0f0SJqWgnZ2eGdT0RI6MTBKGsAkpCICRtfBjxa0IoOXOcNzFkg6y0WzM0wT5jO6p993z2XPV3O5FTHynmy4rSzir8xVv8-lRnvo0znT7iNP9lCzmcprkBxy3ZC67Que7mjZg__&Key-Pair-Id=KCD77M1F0VK2B [following]\n",
      "--2024-02-19 12:24:42--  https://cdn-lfs-us-1.huggingface.co/repos/bd/b3/bdb361c75adf0da2f355354377af47fe74b09db79b788061463ceb4a7c8a25e8/9b4b41eea845da335efd28614987a4a799e05dedb395052e02ee456210168a62?response-content-disposition=attachment%3B+filename*%3DUTF-8%27%27mining-news.jsonl%3B+filename%3D%22mining-news.jsonl%22%3B&Expires=1708604682&Policy=eyJTdGF0ZW1lbnQiOlt7IkNvbmRpdGlvbiI6eyJEYXRlTGVzc1RoYW4iOnsiQVdTOkVwb2NoVGltZSI6MTcwODYwNDY4Mn19LCJSZXNvdXJjZSI6Imh0dHBzOi8vY2RuLWxmcy11cy0xLmh1Z2dpbmdmYWNlLmNvL3JlcG9zL2JkL2IzL2JkYjM2MWM3NWFkZjBkYTJmMzU1MzU0Mzc3YWY0N2ZlNzRiMDlkYjc5Yjc4ODA2MTQ2M2NlYjRhN2M4YTI1ZTgvOWI0YjQxZWVhODQ1ZGEzMzVlZmQyODYxNDk4N2E0YTc5OWUwNWRlZGIzOTUwNTJlMDJlZTQ1NjIxMDE2OGE2Mj9yZXNwb25zZS1jb250ZW50LWRpc3Bvc2l0aW9uPSoifV19&Signature=Nn6-k20Gupgxq5ieJVofaqfO29pf1cgdkBJoUeF37a3Puw-1GVOdPbFrdkfFOIzvqPOhb0bMfOJR6jESCiIRyLfW%7EVtiWvSnnG71c0OsWCXyVj6WlXFe%7EUNYQR%7Es%7E-ZuE0szg3RVZWRgZZ6UWt9I9Hwv8%7EGJ8z1Ba7WIol1dlEsZB9xkgIs7LO9oZtgYqn2PCczYeP81-Gq-nZo1sU0f0SJqWgnZ2eGdT0RI6MTBKGsAkpCICRtfBjxa0IoOXOcNzFkg6y0WzM0wT5jO6p993z2XPV3O5FTHynmy4rSzir8xVv8-lRnvo0znT7iNP9lCzmcprkBxy3ZC67Que7mjZg__&Key-Pair-Id=KCD77M1F0VK2B\n",
      "Resolving cdn-lfs-us-1.huggingface.co (cdn-lfs-us-1.huggingface.co)... 18.160.46.36, 18.160.46.93, 18.160.46.26, ...\n",
      "Connecting to cdn-lfs-us-1.huggingface.co (cdn-lfs-us-1.huggingface.co)|18.160.46.36|:443... connected.\n",
      "HTTP request sent, awaiting response... 200 OK\n",
      "Length: 33652418996 (31G) [binary/octet-stream]\n",
      "Saving to: ‘mining-news.jsonl’\n",
      "\n",
      "mining-news.jsonl   100%[===================>]  31.34G  60.2MB/s    in 11m 9s  \n",
      "\n",
      "2024-02-19 12:35:51 (47.9 MB/s) - ‘mining-news.jsonl’ saved [33652418996/33652418996]\n",
      "\n"
     ]
    }
   ],
   "source": [
    "# !cd original_dataset && wget https://huggingface.co/datasets/mesolitica/title-context-pair/resolve/main/mining-news.jsonl"
   ]
  },
  {
   "cell_type": "code",
   "execution_count": 40,
   "metadata": {},
   "outputs": [
    {
     "data": {
      "application/vnd.jupyter.widget-view+json": {
       "model_id": "0bc0178b2199485bb886c889b8e39d65",
       "version_major": 2,
       "version_minor": 0
      },
      "text/plain": [
       "0it [00:00, ?it/s]"
      ]
     },
     "metadata": {},
     "output_type": "display_data"
    }
   ],
   "source": [
    "data_list = []\n",
    "with open('original_dataset/mining-news.jsonl') as fopen:\n",
    "    for data in tqdm(fopen):\n",
    "        data_list.append(json.loads(data))"
   ]
  },
  {
   "cell_type": "code",
   "execution_count": 44,
   "metadata": {},
   "outputs": [
    {
     "data": {
      "text/plain": [
       "dict_keys(['title', 'body', 'negs'])"
      ]
     },
     "execution_count": 44,
     "metadata": {},
     "output_type": "execute_result"
    }
   ],
   "source": [
    "data_list[0].keys()"
   ]
  },
  {
   "cell_type": "code",
   "execution_count": 46,
   "metadata": {},
   "outputs": [
    {
     "data": {
      "text/plain": [
       "{'title': 'KUCHING: Pasukan Gerakan Am (PGA) Briged Sarawak merampas pelbagai jenis rokok seludup dianggarkan bernilai RM2,104,506.40 dalam serbuan Ops Libas ke sebuah rumah di Tabuan Laru, hari ini.',\n",
       " 'body': 'Komandernya SAC Mancha Ata berkata, kejayaan mencatatkan rampasan rokok terbesar tahun ini adalah hasil maklumat dan risikan sehingga membawa kepada serbuan ke atas premis yang dijadikan stor penyimpanan rokok belum lulus cukai Kastam sekitar pada jam 9.30 pagi.\\xa0\\n“Hasil pemeriksaan lanjut, pihak kami menemui sebanyak 9,500 karton (1,900,000 batang) rokok putih dan sejumlah 4,217 karton (694,520 batang) rokok kretek yang disimpan di dalam rumah serta dalam muatan sebuah van yang diletakkan di hadapan rumah berkenaan.\\nMenurutnya juga, tangkapan dan rampasan diserahkan kepada pihak Ibu Pejabat Daerah Kuching untuk tindakan dan siasatan lanjut di bawah Seksyen 135 (1) (d) Akta Kastam 1967.\\nTambah beliau juga, sepanjang pengoperasian yang dilaksanakan sejak awal tahun sehingga 4 November 2020, Briged Sarawak PGA telah mencatatkan kejayaan keseluruhan bernilai RM33,333,964.54.\\n“Daripada nilai tersebut, sebanyak 147 kes melibatkan jumlah tangkapan seramai 407 orang yang terdiri daripada 180 orang warga tempatan dan 227 orang pendatang tanpa izin),” katanya lagi.',\n",
       " 'negs': ['This article first appeared in The Edge Financial Daily on February 24, 2020 PETALING JAYA: The nation’s political landscape could see a major tectonic shift in power in the coming days with a new coalition taking shape which sees the end of Pakatan Harapan. Mounting political uncertainties are expected to exert selling pressure on the local bourse, which is already clouded by economic concerns particularly after the Covid-19 virus outbreak. No investor likes uncertainties in any form. The latest developments have added even more uncertainties on the country’s political scene, said analysts and fund managers when contacted. “There could be selling pressure on Malaysian assets in the short term as a knee-jerk reaction until more clarity is achieved. Generally all businesses and investors want to see stability and smooth running of the government whatever the outcome is,” said a fund manager. A chief investment officer noted that the domestic market was already dampened by the uncertain succession plan, which was perceived as signs of infighting in the coalition. “Now this confirms the fears,” he added. Rumours of the new coalition came to fruition last night as leaders from Barisan Nasional, Bersatu, PAS and a splinter faction of PKR had gathered together for a “special meeting”. The meeting — held ironically at the very same hotel in Petaling Jaya where Pakatan celebrated their victory on May 9, 2018 — saw presidents of the above parties in attendance fraternising with one another. Prior to that, there were also sightings of more than 20 VIP vehicles entering Istana Negara — likely belonging to politicians and that stoked the rumour mill. Umno president Datuk Seri Dr Ahmad Zahid Hamidi, PAS president Datuk Seri Abdul Hadi Awang, Bersatu president Tan Sri Muhyiddin Yassin and PKR deputy president Datuk Seri Mohamed Azmin Ali had all arrived in stages at the dinner which was called “Majlis Makan Malam Muafakat Ahli Parlimen”. It should be noted that no members of Parliament (MPs) from DAP and Parti Amanah Negara attended the almost two-hour-long dinner at Sheraton Hotel, Petaling Jaya last night. This meeting comes after the rising tensions between Mohamed Azmin, his party president Datuk Seri Anwar Ibrahim and Prime Minister Tun Dr Mahathir Mohamad over who will take over once Dr Mahathir steps down as prime minister. The high-profile dinner has intensified speculation that the fall of the Pakatan coalition made up of DAP, PKR, Bersatu and Amanah and the formation of a new coalition around Bersatu, Umno, PAS and the PKR splinter. Other members present at the meeting included Umno secretary-general Tan Sri Annuar Musa, Datuk Seri Hishammuddin Hussein, Rembau MP and shadow finance minister Khairy Jamaluddin, PAS secretary-general Datuk Takiyuddin Hassan, MIC president Tan Sri SA Vigneswaran and MCA president Datuk Seri Dr Wee Ka Siong. Members of Mohamed Azmin’s faction in PKR who were at the dinner included Datuk Saifuddin Abdullah and Baru Bian as well as MPs such as Maria Chin Abdullah and Ali Biju. Earlier in the day, Dr Mahathir, who is Bersatu chairman, had a meeting with the party’s presidential council. After the meeting, speculation was rife that Dr Mahathir would seek an audience with the Yang di-Pertuan Agong to inform him of the new coalition. Nonetheless, the Prime Minister’s Office quashed the rumours, noting that Dr Mahathir went home after meeting his presidential council and he was not at the palace to seek an audience with the King. Many were expecting that Dr Mahathir would announce the new coalition at the dinner last night but he was nowhere to be seen. Over at PWTC, Umno leaders had all gathered at its headquarters for an emergency Umno supreme council meeting called by Ahmad Zahid. It was not known what took place at that meeting. However, many Umno supreme council members were at the dinner. Anwar says it is ‘treachery’ Meanwhile, PKR president Datuk Seri Anwar Ibrahim, who was supposed to take over from Dr Mahathir as the eighth prime minister, spoke of “treachery” in the Pakatan coalition at a separate event. At a prayer session in his residence in Segambut, Anwar said: “We know there are attempts to bring down the Pakatan government involving our former friends in Bersatu and some who are attempting treason in PKR. “They have met with the Yang di-Pertuan Agong this evening (yesterday), and there is no announcement yet. “We are surprised today with the development which to us is treachery, as there were promises made, and this would result in changes which I expect will happen soon,” he said, likely referring to the arrangement within Pakatan for Anwar to take over as PM from Dr Mahathir as early as November this year. Elsewhere, former prime minister and BN chairman Datuk Seri Najib Razak confirmed that he had signed a statutory declaration (SD) to support the unity government, according to reports. “Yes I have signed an SD, but with conditions,” he was quoted by the media as saying when contacted. Another leader of the second largest party in the Pakatan coalition, DAP’s Nga Kor Ming tweeted about his dissatisfaction of the rumoured new coalition. “The only legitimate government is the government from the people, by the people and for the people,” he tweeted. “Any ‘back-door government’ without a mandate from the people is a betrayal to the country and the people. It is illegitimate, will not last long and will be punished by the people,” added Nga, who is also the Dewan Rakyat deputy speaker.',\n",
       "  'SINGAPORE (Oct 27): DBS Group Research is maintaining its “buy” rating on Ascendas India Trust with a higher target price of S$1.13 despite declaring a 2Q DPU of 1.37 cents, unchanged from a year ago due to the depreciation of the IDR against the SGD. DBS analysts Mervin Song and Derek Tan say DPU in line with expectations. DPU had in fact risen 6% in IDR terms, lifted by positive rental reversions and additional income from the newly acquired Cybervale Building 3 in Chennai and aVance Building 3 in Hyderabad. Occupancy across a-iTrust’s portfolio was also stable with overall occupancy at 97%, they added. The trust manager is also anticipating a 12% to 20% positive rental reversion in Chennai, and a 5% increase in Hyderabad and Bangalore. Eight percent of the trust’s leases are up for renewal for the rest of the financial year to March, and another 30% expire in FY18. Of these, 64% and 42% of the leases expiring in FY17 and FY18 respectively are located in Chennai. While the analysts are aware that the trust’s share price has rallied by more than 30% since January, they expect investor interest to continue to grow, given the trust’s “healthy 2-year DPU CAGR of 8% and a still decent 5.5% yield”. Beyond positive rental reversions, the pair also noted that the trust had announced several developments including the construction of The V, a new 408k sq ft IT building, as well as acquisitions of CyberVale, aVance 3 & 4 and BlueRidge Phase 2, which provide “clear growth drivers. Furthermore, the trust also has an untapped land bank and sponsor pipeline amounting to 5.9 million sqft of floor area, which Song and Tan believe will provide the trust with a “visible and sustainable source of growth over the long term”. Shares of Ascendas India Trust are up 1 cent at S$1.06 this morning.',\n",
       "  \"KUALA LUMPUR (June 26): The FBM KLCI slipped below the 1,600-level at the mid-day break on Tuesday, in tandem with the fall at most key regional markets. The FBM KLCI fell 4.78 points to 1,598.34 at the mid-day break. There were 393 losers and 205 gainers, while 270 counters traded unchanged. Volume was 518.58 million shares valued at RM473.57 million. The ringgit firmed up 0.03% to RM3.1945 versus the US dollar; crude palm oil (CPO) futures for the third month delivery fell RM8 per tonne to RM3,022, crude oil slipped 29 cents per barrel to US$78.92 (RM252.13) while gold fell 66 US cents an ounce to US1,583.82. Asian shares were caught in choppy trade on Tuesday as investors remained cautious ahead of a European leaders summit which many believe will not produce any substantive measures to solve the region's protracted debt crisis, now in its third year, according to Reuters. The two-day summit in Brussels will be the 20th time EU leaders have met to try to resolve a crisis that has spread across Europe since it began in Greece in early 2010, it said. In related news, a fifth eurozone country turned to Brussels for emergency funding on Monday when Cyprus announced it was seeking a lifeline for its banks and its budget, hours after Spain submitted a formal request to bail out its banks, said Reuters. At the regional markets, Japan's Nikkei 225 lost 1.06% to 8,642.33; Taiwan's Taiex fell 0.49% to 7,131.42, South Korea's Kospi down 0.29% to 1,820.02; Singapore's Straits Times Index fell 0.25% to 2,808.27; the Shanghai Composite Index down 0.45% to 2,214.11; while Hong Kong's Hang Seng Index shed 0.01% to 18,896.40. On Bursa Malaysia, The Store fell 25 sen to RM2.19; PPB lost 20 sen to RM15.84, NSOP lost 18 sen to RM5.82; Takaful dropped 12 sen to RM5.76; Tasek declined 11 sen to RM8.65; while Utusan, Aeon Credit and BAT fell 10 sen each to 72 sen, RM11.50 and RM54.90 respectively. Trinity was the most actively-traded counter, with 285.66 million shares done. The stock fell half sen to 5.5 sen. Other actives included Emico, HWGB, Luster, Focus, Gas Malaysia, Metronic and Hubline. Meanwhile, the gainers in the morning session included United Plantations, Panasonic, Edaran, Nestlé, Can-One, Analabs, Litrak, and Cycle & Carriage.\",\n",
       "  ' LOS ANGELES, April 17 — The NBA will begin testing for human growth hormone next season, the league and National Basketball Players Association announced yesterday.\\n Beginning in 2015 training camps, NBA players will be subject to three random, unannounced HGH tests each year — two during the season and one in the offseason — and players also will be subject to reasonable-cause testing, the league and union said.\\n Below are other NBA highlights after the end of the regular-round season on Wednesday.\\n * Carmelo Anthony said yesterday that he briefly second-guessed returning to the New York Knicks in free agency last July, when he signed a five-year, US$124 million (RM452.5 million) deal, shunning offers from the Chicago Bulls and Los Angeles Lakers in the process.\\n Anthony said he is expected to be full strength for training camp in September. He missed the second half of the season following persistent knee issues he said began in the first or second game.\\n * Florida coach Billy Donovan made his interest in NBA positions known at the end of the college basketball season, and a good friend might just make room for him in Oklahoma City as the Thunder sit out the postseason.\\n Yahoo Sports first reported mutual interest existed between the two sides.\\n Donovan, 50, who signed an extension on his contract with the Gators in March, has only a US$500,000 buyout clause and is a longtime friend of Thunder general manager Sam Presti.\\n Scott Brooks, current coach of the Thunder, just missed the playoffs for the first time in six seasons — most of which the team played without forward Kevin Durant — and has a guaranteed contract for next season with a team option for 2016-17.\\n “I expect to be the coach next season,” Brooks said yesterday.\\n * Nebraska guard Terran Petteway declared for the NBA draft, joining teammate Walter Pitchford and ending an emotion-filled week for one of the Big Ten’s top scorers the past two seasons.\\n A two-time All-Big Ten selection, Petteway started every game the past two seasons and averaged 18.1 points per game, second all-time at Nebraska, during his career with the Cornhuskers.\\n * The Minnesota Timberwolves were the worst team in the NBA in 2014-15, but the franchise has only a one in four chance of winding up with the No. 1 pick in the 2015 draft.\\n Minnesota nudged ahead of the New York Knicks, who won two of their final three games and now have less than a 20 per cent chance of getting the No. 1 pick. — Reuters',\n",
       "  ' KUALA LUMPUR, Sept 27 — \\xa0Sabah and Sarawak will each continue receiving between 15 per cent and 18 per cent annually of the total basic development allocation in the 12th Malaysia Plan (12MP).\\n According to the 12MP document released by Economic Planning Unit, a significant portion of this allocation will be channelled to the economic sectors in both states to contributing towards improving infrastructure and basic facilities in Sabah and Sarawak.\\n In addition, in the 12MP period, five Native Courts will be constructed in Sabah, while 10 Sarawak Bumiputera Courts will be upgraded to provide better services to the communities in respective states.\\n “The government has also set a target to do the mapping of 65,000 hectares of Native Customary Rights (NCR) Lands in Sabah and 397,000 in Sarawak over the five years of the 12MP,” the document said.\\n Also noteworthy in 12MP was the 1963 Malaysia Agreement (MA 63) where the process of handing over the regulatory power for gas and electricity under the agreement will be continued with a number of provisions in the existing law will be amended as well established a regulatory body.\\n The document said a committee will be established comprising multiple key federal and state agencies responsible for regional planning, coordination and evaluation in bridging development gaps across regions and states.\\n A total of seven projects involving 3,202 low-cost houses under the People’s Housing Programme in Sabah and Sarawak will be completed during the 12MP period to ensure the provision of affordable houses is more sustainable in the long run.\\n “Other than that, more affordable houses will be constructed for the targeted groups in Sabah and Sarawak including 2,400 for each state under the Syarikat Perumahan Negara Berhad,” the document revealed.\\n The government would also enhance border security by increasing the number of security posts along the international border of Sabah and Sarawak to prevent the entry of illegal immigrants and combat unlawful activities.\\n A holistic plan will be implemented to manage illegal immigrants that cover a comprehensive strategy in enforcement with the involvement of related agencies, state government and the public.\\n Recognising the potential of the Pan Borneo as a game-changer for Sabah and Sarawak, consolidation hubs will be established along the route to ensure cargo handling efficiency.\\n Other than that, business registration regulations will be reviewed and reformed to improve the ease of doing business so it would attract higher investments and further intensify business growth in Sabah and Sarawak. — Bernama']}"
      ]
     },
     "execution_count": 46,
     "metadata": {},
     "output_type": "execute_result"
    }
   ],
   "source": [
    "data_list[1]"
   ]
  },
  {
   "cell_type": "code",
   "execution_count": 50,
   "metadata": {},
   "outputs": [],
   "source": [
    "def unpack_news(data: Dict) -> List:\n",
    "\n",
    "    final_data_list = []\n",
    "\n",
    "    pos_row_dict = {}\n",
    "\n",
    "    pos_row_dict['query'] = data['title']\n",
    "    pos_row_dict['text'] = data['body']\n",
    "    pos_row_dict['label'] = 1\n",
    "\n",
    "    final_data_list.append(pos_row_dict)\n",
    "\n",
    "    if data.get('negs', None):\n",
    "        for sub_neg in data['negs']:\n",
    "            neg_row_dict = {}\n",
    "\n",
    "            neg_row_dict['query'] = data['title']\n",
    "            neg_row_dict['text'] = sub_neg\n",
    "            neg_row_dict['label'] = 0\n",
    "        \n",
    "            final_data_list.append(neg_row_dict)\n",
    "\n",
    "    return final_data_list"
   ]
  },
  {
   "cell_type": "code",
   "execution_count": 51,
   "metadata": {},
   "outputs": [
    {
     "data": {
      "text/plain": [
       "[{'query': 'KUCHING: Pasukan Gerakan Am (PGA) Briged Sarawak merampas pelbagai jenis rokok seludup dianggarkan bernilai RM2,104,506.40 dalam serbuan Ops Libas ke sebuah rumah di Tabuan Laru, hari ini.',\n",
       "  'text': 'Komandernya SAC Mancha Ata berkata, kejayaan mencatatkan rampasan rokok terbesar tahun ini adalah hasil maklumat dan risikan sehingga membawa kepada serbuan ke atas premis yang dijadikan stor penyimpanan rokok belum lulus cukai Kastam sekitar pada jam 9.30 pagi.\\xa0\\n“Hasil pemeriksaan lanjut, pihak kami menemui sebanyak 9,500 karton (1,900,000 batang) rokok putih dan sejumlah 4,217 karton (694,520 batang) rokok kretek yang disimpan di dalam rumah serta dalam muatan sebuah van yang diletakkan di hadapan rumah berkenaan.\\nMenurutnya juga, tangkapan dan rampasan diserahkan kepada pihak Ibu Pejabat Daerah Kuching untuk tindakan dan siasatan lanjut di bawah Seksyen 135 (1) (d) Akta Kastam 1967.\\nTambah beliau juga, sepanjang pengoperasian yang dilaksanakan sejak awal tahun sehingga 4 November 2020, Briged Sarawak PGA telah mencatatkan kejayaan keseluruhan bernilai RM33,333,964.54.\\n“Daripada nilai tersebut, sebanyak 147 kes melibatkan jumlah tangkapan seramai 407 orang yang terdiri daripada 180 orang warga tempatan dan 227 orang pendatang tanpa izin),” katanya lagi.',\n",
       "  'label': 1},\n",
       " {'query': 'KUCHING: Pasukan Gerakan Am (PGA) Briged Sarawak merampas pelbagai jenis rokok seludup dianggarkan bernilai RM2,104,506.40 dalam serbuan Ops Libas ke sebuah rumah di Tabuan Laru, hari ini.',\n",
       "  'text': 'This article first appeared in The Edge Financial Daily on February 24, 2020 PETALING JAYA: The nation’s political landscape could see a major tectonic shift in power in the coming days with a new coalition taking shape which sees the end of Pakatan Harapan. Mounting political uncertainties are expected to exert selling pressure on the local bourse, which is already clouded by economic concerns particularly after the Covid-19 virus outbreak. No investor likes uncertainties in any form. The latest developments have added even more uncertainties on the country’s political scene, said analysts and fund managers when contacted. “There could be selling pressure on Malaysian assets in the short term as a knee-jerk reaction until more clarity is achieved. Generally all businesses and investors want to see stability and smooth running of the government whatever the outcome is,” said a fund manager. A chief investment officer noted that the domestic market was already dampened by the uncertain succession plan, which was perceived as signs of infighting in the coalition. “Now this confirms the fears,” he added. Rumours of the new coalition came to fruition last night as leaders from Barisan Nasional, Bersatu, PAS and a splinter faction of PKR had gathered together for a “special meeting”. The meeting — held ironically at the very same hotel in Petaling Jaya where Pakatan celebrated their victory on May 9, 2018 — saw presidents of the above parties in attendance fraternising with one another. Prior to that, there were also sightings of more than 20 VIP vehicles entering Istana Negara — likely belonging to politicians and that stoked the rumour mill. Umno president Datuk Seri Dr Ahmad Zahid Hamidi, PAS president Datuk Seri Abdul Hadi Awang, Bersatu president Tan Sri Muhyiddin Yassin and PKR deputy president Datuk Seri Mohamed Azmin Ali had all arrived in stages at the dinner which was called “Majlis Makan Malam Muafakat Ahli Parlimen”. It should be noted that no members of Parliament (MPs) from DAP and Parti Amanah Negara attended the almost two-hour-long dinner at Sheraton Hotel, Petaling Jaya last night. This meeting comes after the rising tensions between Mohamed Azmin, his party president Datuk Seri Anwar Ibrahim and Prime Minister Tun Dr Mahathir Mohamad over who will take over once Dr Mahathir steps down as prime minister. The high-profile dinner has intensified speculation that the fall of the Pakatan coalition made up of DAP, PKR, Bersatu and Amanah and the formation of a new coalition around Bersatu, Umno, PAS and the PKR splinter. Other members present at the meeting included Umno secretary-general Tan Sri Annuar Musa, Datuk Seri Hishammuddin Hussein, Rembau MP and shadow finance minister Khairy Jamaluddin, PAS secretary-general Datuk Takiyuddin Hassan, MIC president Tan Sri SA Vigneswaran and MCA president Datuk Seri Dr Wee Ka Siong. Members of Mohamed Azmin’s faction in PKR who were at the dinner included Datuk Saifuddin Abdullah and Baru Bian as well as MPs such as Maria Chin Abdullah and Ali Biju. Earlier in the day, Dr Mahathir, who is Bersatu chairman, had a meeting with the party’s presidential council. After the meeting, speculation was rife that Dr Mahathir would seek an audience with the Yang di-Pertuan Agong to inform him of the new coalition. Nonetheless, the Prime Minister’s Office quashed the rumours, noting that Dr Mahathir went home after meeting his presidential council and he was not at the palace to seek an audience with the King. Many were expecting that Dr Mahathir would announce the new coalition at the dinner last night but he was nowhere to be seen. Over at PWTC, Umno leaders had all gathered at its headquarters for an emergency Umno supreme council meeting called by Ahmad Zahid. It was not known what took place at that meeting. However, many Umno supreme council members were at the dinner. Anwar says it is ‘treachery’ Meanwhile, PKR president Datuk Seri Anwar Ibrahim, who was supposed to take over from Dr Mahathir as the eighth prime minister, spoke of “treachery” in the Pakatan coalition at a separate event. At a prayer session in his residence in Segambut, Anwar said: “We know there are attempts to bring down the Pakatan government involving our former friends in Bersatu and some who are attempting treason in PKR. “They have met with the Yang di-Pertuan Agong this evening (yesterday), and there is no announcement yet. “We are surprised today with the development which to us is treachery, as there were promises made, and this would result in changes which I expect will happen soon,” he said, likely referring to the arrangement within Pakatan for Anwar to take over as PM from Dr Mahathir as early as November this year. Elsewhere, former prime minister and BN chairman Datuk Seri Najib Razak confirmed that he had signed a statutory declaration (SD) to support the unity government, according to reports. “Yes I have signed an SD, but with conditions,” he was quoted by the media as saying when contacted. Another leader of the second largest party in the Pakatan coalition, DAP’s Nga Kor Ming tweeted about his dissatisfaction of the rumoured new coalition. “The only legitimate government is the government from the people, by the people and for the people,” he tweeted. “Any ‘back-door government’ without a mandate from the people is a betrayal to the country and the people. It is illegitimate, will not last long and will be punished by the people,” added Nga, who is also the Dewan Rakyat deputy speaker.',\n",
       "  'label': 0},\n",
       " {'query': 'KUCHING: Pasukan Gerakan Am (PGA) Briged Sarawak merampas pelbagai jenis rokok seludup dianggarkan bernilai RM2,104,506.40 dalam serbuan Ops Libas ke sebuah rumah di Tabuan Laru, hari ini.',\n",
       "  'text': 'SINGAPORE (Oct 27): DBS Group Research is maintaining its “buy” rating on Ascendas India Trust with a higher target price of S$1.13 despite declaring a 2Q DPU of 1.37 cents, unchanged from a year ago due to the depreciation of the IDR against the SGD. DBS analysts Mervin Song and Derek Tan say DPU in line with expectations. DPU had in fact risen 6% in IDR terms, lifted by positive rental reversions and additional income from the newly acquired Cybervale Building 3 in Chennai and aVance Building 3 in Hyderabad. Occupancy across a-iTrust’s portfolio was also stable with overall occupancy at 97%, they added. The trust manager is also anticipating a 12% to 20% positive rental reversion in Chennai, and a 5% increase in Hyderabad and Bangalore. Eight percent of the trust’s leases are up for renewal for the rest of the financial year to March, and another 30% expire in FY18. Of these, 64% and 42% of the leases expiring in FY17 and FY18 respectively are located in Chennai. While the analysts are aware that the trust’s share price has rallied by more than 30% since January, they expect investor interest to continue to grow, given the trust’s “healthy 2-year DPU CAGR of 8% and a still decent 5.5% yield”. Beyond positive rental reversions, the pair also noted that the trust had announced several developments including the construction of The V, a new 408k sq ft IT building, as well as acquisitions of CyberVale, aVance 3 & 4 and BlueRidge Phase 2, which provide “clear growth drivers. Furthermore, the trust also has an untapped land bank and sponsor pipeline amounting to 5.9 million sqft of floor area, which Song and Tan believe will provide the trust with a “visible and sustainable source of growth over the long term”. Shares of Ascendas India Trust are up 1 cent at S$1.06 this morning.',\n",
       "  'label': 0},\n",
       " {'query': 'KUCHING: Pasukan Gerakan Am (PGA) Briged Sarawak merampas pelbagai jenis rokok seludup dianggarkan bernilai RM2,104,506.40 dalam serbuan Ops Libas ke sebuah rumah di Tabuan Laru, hari ini.',\n",
       "  'text': \"KUALA LUMPUR (June 26): The FBM KLCI slipped below the 1,600-level at the mid-day break on Tuesday, in tandem with the fall at most key regional markets. The FBM KLCI fell 4.78 points to 1,598.34 at the mid-day break. There were 393 losers and 205 gainers, while 270 counters traded unchanged. Volume was 518.58 million shares valued at RM473.57 million. The ringgit firmed up 0.03% to RM3.1945 versus the US dollar; crude palm oil (CPO) futures for the third month delivery fell RM8 per tonne to RM3,022, crude oil slipped 29 cents per barrel to US$78.92 (RM252.13) while gold fell 66 US cents an ounce to US1,583.82. Asian shares were caught in choppy trade on Tuesday as investors remained cautious ahead of a European leaders summit which many believe will not produce any substantive measures to solve the region's protracted debt crisis, now in its third year, according to Reuters. The two-day summit in Brussels will be the 20th time EU leaders have met to try to resolve a crisis that has spread across Europe since it began in Greece in early 2010, it said. In related news, a fifth eurozone country turned to Brussels for emergency funding on Monday when Cyprus announced it was seeking a lifeline for its banks and its budget, hours after Spain submitted a formal request to bail out its banks, said Reuters. At the regional markets, Japan's Nikkei 225 lost 1.06% to 8,642.33; Taiwan's Taiex fell 0.49% to 7,131.42, South Korea's Kospi down 0.29% to 1,820.02; Singapore's Straits Times Index fell 0.25% to 2,808.27; the Shanghai Composite Index down 0.45% to 2,214.11; while Hong Kong's Hang Seng Index shed 0.01% to 18,896.40. On Bursa Malaysia, The Store fell 25 sen to RM2.19; PPB lost 20 sen to RM15.84, NSOP lost 18 sen to RM5.82; Takaful dropped 12 sen to RM5.76; Tasek declined 11 sen to RM8.65; while Utusan, Aeon Credit and BAT fell 10 sen each to 72 sen, RM11.50 and RM54.90 respectively. Trinity was the most actively-traded counter, with 285.66 million shares done. The stock fell half sen to 5.5 sen. Other actives included Emico, HWGB, Luster, Focus, Gas Malaysia, Metronic and Hubline. Meanwhile, the gainers in the morning session included United Plantations, Panasonic, Edaran, Nestlé, Can-One, Analabs, Litrak, and Cycle & Carriage.\",\n",
       "  'label': 0},\n",
       " {'query': 'KUCHING: Pasukan Gerakan Am (PGA) Briged Sarawak merampas pelbagai jenis rokok seludup dianggarkan bernilai RM2,104,506.40 dalam serbuan Ops Libas ke sebuah rumah di Tabuan Laru, hari ini.',\n",
       "  'text': ' LOS ANGELES, April 17 — The NBA will begin testing for human growth hormone next season, the league and National Basketball Players Association announced yesterday.\\n Beginning in 2015 training camps, NBA players will be subject to three random, unannounced HGH tests each year — two during the season and one in the offseason — and players also will be subject to reasonable-cause testing, the league and union said.\\n Below are other NBA highlights after the end of the regular-round season on Wednesday.\\n * Carmelo Anthony said yesterday that he briefly second-guessed returning to the New York Knicks in free agency last July, when he signed a five-year, US$124 million (RM452.5 million) deal, shunning offers from the Chicago Bulls and Los Angeles Lakers in the process.\\n Anthony said he is expected to be full strength for training camp in September. He missed the second half of the season following persistent knee issues he said began in the first or second game.\\n * Florida coach Billy Donovan made his interest in NBA positions known at the end of the college basketball season, and a good friend might just make room for him in Oklahoma City as the Thunder sit out the postseason.\\n Yahoo Sports first reported mutual interest existed between the two sides.\\n Donovan, 50, who signed an extension on his contract with the Gators in March, has only a US$500,000 buyout clause and is a longtime friend of Thunder general manager Sam Presti.\\n Scott Brooks, current coach of the Thunder, just missed the playoffs for the first time in six seasons — most of which the team played without forward Kevin Durant — and has a guaranteed contract for next season with a team option for 2016-17.\\n “I expect to be the coach next season,” Brooks said yesterday.\\n * Nebraska guard Terran Petteway declared for the NBA draft, joining teammate Walter Pitchford and ending an emotion-filled week for one of the Big Ten’s top scorers the past two seasons.\\n A two-time All-Big Ten selection, Petteway started every game the past two seasons and averaged 18.1 points per game, second all-time at Nebraska, during his career with the Cornhuskers.\\n * The Minnesota Timberwolves were the worst team in the NBA in 2014-15, but the franchise has only a one in four chance of winding up with the No. 1 pick in the 2015 draft.\\n Minnesota nudged ahead of the New York Knicks, who won two of their final three games and now have less than a 20 per cent chance of getting the No. 1 pick. — Reuters',\n",
       "  'label': 0},\n",
       " {'query': 'KUCHING: Pasukan Gerakan Am (PGA) Briged Sarawak merampas pelbagai jenis rokok seludup dianggarkan bernilai RM2,104,506.40 dalam serbuan Ops Libas ke sebuah rumah di Tabuan Laru, hari ini.',\n",
       "  'text': ' KUALA LUMPUR, Sept 27 — \\xa0Sabah and Sarawak will each continue receiving between 15 per cent and 18 per cent annually of the total basic development allocation in the 12th Malaysia Plan (12MP).\\n According to the 12MP document released by Economic Planning Unit, a significant portion of this allocation will be channelled to the economic sectors in both states to contributing towards improving infrastructure and basic facilities in Sabah and Sarawak.\\n In addition, in the 12MP period, five Native Courts will be constructed in Sabah, while 10 Sarawak Bumiputera Courts will be upgraded to provide better services to the communities in respective states.\\n “The government has also set a target to do the mapping of 65,000 hectares of Native Customary Rights (NCR) Lands in Sabah and 397,000 in Sarawak over the five years of the 12MP,” the document said.\\n Also noteworthy in 12MP was the 1963 Malaysia Agreement (MA 63) where the process of handing over the regulatory power for gas and electricity under the agreement will be continued with a number of provisions in the existing law will be amended as well established a regulatory body.\\n The document said a committee will be established comprising multiple key federal and state agencies responsible for regional planning, coordination and evaluation in bridging development gaps across regions and states.\\n A total of seven projects involving 3,202 low-cost houses under the People’s Housing Programme in Sabah and Sarawak will be completed during the 12MP period to ensure the provision of affordable houses is more sustainable in the long run.\\n “Other than that, more affordable houses will be constructed for the targeted groups in Sabah and Sarawak including 2,400 for each state under the Syarikat Perumahan Negara Berhad,” the document revealed.\\n The government would also enhance border security by increasing the number of security posts along the international border of Sabah and Sarawak to prevent the entry of illegal immigrants and combat unlawful activities.\\n A holistic plan will be implemented to manage illegal immigrants that cover a comprehensive strategy in enforcement with the involvement of related agencies, state government and the public.\\n Recognising the potential of the Pan Borneo as a game-changer for Sabah and Sarawak, consolidation hubs will be established along the route to ensure cargo handling efficiency.\\n Other than that, business registration regulations will be reviewed and reformed to improve the ease of doing business so it would attract higher investments and further intensify business growth in Sabah and Sarawak. — Bernama',\n",
       "  'label': 0}]"
      ]
     },
     "execution_count": 51,
     "metadata": {},
     "output_type": "execute_result"
    }
   ],
   "source": [
    "unpack_news(data_list[1])"
   ]
  },
  {
   "cell_type": "code",
   "execution_count": 52,
   "metadata": {},
   "outputs": [
    {
     "data": {
      "application/vnd.jupyter.widget-view+json": {
       "model_id": "171b96b7c5824f598bc31ba5cfea7a56",
       "version_major": 2,
       "version_minor": 0
      },
      "text/plain": [
       "  0%|          | 0/141900 [00:00<?, ?it/s]"
      ]
     },
     "metadata": {},
     "output_type": "display_data"
    }
   ],
   "source": [
    "# Save file\n",
    "max_worker = 20\n",
    "\n",
    "with ThreadPoolExecutor(max_workers=max_worker) as executor:\n",
    "    for _ in tqdm(range(0, len(data_list), max_worker)):\n",
    "        futures = {executor.submit(unpack_news, t): t for t in data_list[_: _ + max_worker]}\n",
    "\n",
    "        for future in as_completed(futures):\n",
    "            result = future.result()\n",
    "            if result:\n",
    "                for r in result:\n",
    "                    with open('reformatted_dataset/reformatted-news.jsonl', 'a') as final:\n",
    "                            json.dump(r, final)\n",
    "                            final.write('\\n')"
   ]
  },
  {
   "cell_type": "markdown",
   "metadata": {},
   "source": [
    "#### 1.6 summarization"
   ]
  },
  {
   "cell_type": "code",
   "execution_count": 33,
   "metadata": {},
   "outputs": [],
   "source": [
    "# !cd original_dataset && wget https://huggingface.co/datasets/mesolitica/title-context-pair/resolve/main/mining-summarization.jsonl"
   ]
  },
  {
   "cell_type": "code",
   "execution_count": 56,
   "metadata": {},
   "outputs": [
    {
     "data": {
      "application/vnd.jupyter.widget-view+json": {
       "model_id": "53ee60cfef78432b841024027ace6734",
       "version_major": 2,
       "version_minor": 0
      },
      "text/plain": [
       "0it [00:00, ?it/s]"
      ]
     },
     "metadata": {},
     "output_type": "display_data"
    }
   ],
   "source": [
    "data_list = []\n",
    "with open('original_dataset/mining-summarization.jsonl') as fopen:\n",
    "    for data in tqdm(fopen):\n",
    "        data_list.append(json.loads(data))"
   ]
  },
  {
   "cell_type": "code",
   "execution_count": 57,
   "metadata": {},
   "outputs": [
    {
     "data": {
      "text/plain": [
       "dict_keys(['text', 'summary', 'summary_ms', 'negs'])"
      ]
     },
     "execution_count": 57,
     "metadata": {},
     "output_type": "execute_result"
    }
   ],
   "source": [
    "data_list[0].keys()"
   ]
  },
  {
   "cell_type": "code",
   "execution_count": 58,
   "metadata": {},
   "outputs": [
    {
     "data": {
      "text/plain": [
       "{'text': 'doktor.jika saya ada melakukan seks oral buat pertama kali tidak menggunakan kondom.adakah kemungkinan saya dijangkiti penyakit gonorhea dan chlamydia?\\n\\nHai dan selamat petang untuk anda. Terima kasih atas soalan anda. Jika anda baru melakukan seks oral buat pertama kali, kebarangkalian untuk anda terkena jangkitan penyakit kelamin seperti gonorrhoea dan chlamydia adalah sedikit.\\nHal ini kerana hanya pasangan yang mempunyai jangkitan bakteria tersebut sahaja yang boleh menyebabkan anda terkena jangkitan kuman tersebut jika melakukan hubungan intim sama ada secara oral, vaginal atau melalui dubur.\\nLangkah-langkah untuk mencegah penyakit kelamin adalah sangat penting untuk kita amalkan dalam kehidupan seharian terutamanya hal yang berkaitan dengan alat kemaluan kita. Pertama sekali, setia dengan pasangan anda. Pesanan ini sangat penting kerana mempunyai pasangan yang satu dapat mengurangkan risiko untuk dijangkiti bakteria-bakteria yang akan menyebabkan penyakit kelamin. Jika anda melakukan hubungan kelamin, sila pastikan anda dan pasangan menjaga kebersihan alat kemaluan seperti membasuh sebelum dan selepas melakukan hubungan seks. Jika anda mengetahui pasangan anda mempunyai penyakit kelamin, sila memakai kondom sebelum melakukan hubungan intim.\\nNamun, penggunaan kondom jenis nonoxynol-9 telah dikenalpasti menyebabkan iritasi atau kegatalan pada kemaluan wanita. Selain itu juga, kebersihan pakaian harian terutamanya pakaian dalam haruslah dijaga sebaik mungkin untuk mengelakkan jangkitan bakteria pada bahagian kemaluan.\\nDikemaskini pada: \\nThu Dec 06 2018 15:23:09 GMT+0800 (Malaysia Time)\\n4.88',\n",
       " 'summary': \"If you've performed oral sex for the first time without using a condom, the likelihood of contracting gonorrhea and chlamydia is low. However, the chances increase if your partner has the infection. Practicing safe sex, being faithful to your partner, maintaining good hygiene, and using condoms if you or your partner have an STI, can help prevent the transmission of these infections. If you experience any symptoms, consult a healthcare professional immediately. Regular testing is important to detect and treat STIs early. Remember, the best way to prevent STIs is to abstain from sexual activity or be in a long-term, mutually monogamous relationship with an uninfected partner.\",\n",
       " 'summary_ms': 'Jika anda melakukan seks oral buat kali pertama tanpa menggunakan kondom, kemungkinan dijangkiti gonorea dan klamidia adalah rendah. Walau bagaimanapun, peluang meningkat jika pasangan anda dijangkiti. Mengamalkan seks selamat, setia kepada pasangan anda, menjaga kebersihan yang baik, dan menggunakan kondom jika anda atau pasangan anda menghidap STI, boleh membantu mencegah penularan jangkitan ini. Jika anda mengalami sebarang simptom, segera dapatkan nasihat profesional penjagaan kesihatan. Ujian tetap adalah penting untuk mengesan dan merawat STI lebih awal. Ingat, cara terbaik untuk mencegah STI adalah dengan menahan diri daripada aktiviti seksual atau berada dalam hubungan jangka panjang yang saling monogami dengan pasangan yang tidak dijangkiti.',\n",
       " 'negs': ['Don’t have to invent the wheel, just have the political will to do what is right and just to implement the Cabinet decision of April 22, 2009 or resign as Ministers   All eyes are on the Cabinet meeting today – will the Prime Minister, Datuk Seri Najib Razak and his 36 Ministers in the jumbo Cabinet end one of the greatest injustices of the seven-year Najib premiership – the Indira Gandhi injustice where a mother had been forcibly separated from her 11-month old baby daughter not for one or two years but for seven long years!\\n\\n\\nFor seven long years, the Prime Minister, the Cabinet, Parliament and the Judiciary have all  failed Indira Gandhi and her daughter, and the Constitution, the laws,  the courts and the system of governance have been manipulated to deny Indira and her daughter their fundamental rights as a mother and a child to be to see,  hold and touch each other!\\n\\n\\nThere is no need for the Cabinet today to invent the wheel. Just have the political will to do what is right and just to implement the Cabinet decision of April 22, 2009 that there should be no unilateral conversion of children and that the children of parents where one parent chooses to convert to Islam must continue to be raised in the common religion at the time of the marriage. Or resign as Ministers!\\n\\n\\nFurthermore, the Minister should demonstrate that it is not only a  Cabinet of compassion and humanity, but of justice and competence by directing the Inspector-General of Police, Tan Sri Khalid Abu Bakar and all relevant agencies to ensure that within 48 hours, Indira Gandhi should be able to re-unite with her daughter whom she had not seen for seven long years.\\n\\n\\nI said yesterday that our forefathers would have been utterly shocked at such injustices suffered by Indira Gandhi for seven years could happen in our country.\\n\\n\\nNobody would believe if he or she were told when Malaya achieved independence in 1957 or Malaysia was formed  in 1963 that under the nation’s Constitution, laws and system, a mother could be forcibly separated from her child for seven long years as not able to see, hold or touch her,   and that the Prime Minister, Cabinet, Parliament, Judiciary, the Constitution and the laws could conspire whether wittingly or unwittingly  to deny a mother her basic maternal rights.\\n\\n\\nThe first three Prime Ministers, Tunku Abdul Rahman, Tun Razak and Tun Hussein, would be horrified that such an injustice could be perpetrated in Malaysia under our Constitution, laws and system of governance, and I have no doubt that as Prime Minister they would have acted to ensure that injustice would be ended immediately and  not  marred Malaysia and our system of governance.\\n\\n\\nI fully endorse the statement by the Society for the Promotion of Human Rights (Proham) released by Ivy Josiah, Datuk Kuthubul Zaman Bukhari and Datuk A Vaithilingam yesterday on the Indira Gandhi issue, which should be tabled in today’s Cabinet meeting for reference and guidance of the Ministers.\\n\\n\\nProham fully supports every individual’s absolute right to profess the religion of their choice and  the law must both offer redress to the non-converting spouse whose rights are taken away by the converting spouse as well as uphold the rights of affected family members.\\n\\n\\nThe recent court ruling meant that Indira’s rights as a wife and mother under civil law came to nothing, while the rights of her children have also been overlooked, if not ignored.\\n\\n\\nWhile child’s best interest should be the central consideration in decisions involving their welfare, the authorities should not ignore Malaysia’s signing of two international conventions – UN Convention on the Elimination of All Forms of Discrimination against Women (CEDAW) and the UN Convention on the Rights of the Child (CRC) – relating to women and children and which impose an obligation to governments to ensure each parent has equal rights and responsibilities to raise their children.\\n\\n\\nProham also cited the Guardianship of Infants Act 1961’s Section 5 where each parent is conferred equal guardianship rights over their children and Section 11 where the courts consider both parents’ wishes where applicable.\\n\\n\\nProham said: “A mother’s equal right to guardianship, to make decisions relating to long term and at times irreversible issues such as religion, welfare and education and must be fully upheld and protected, one parent’s consent cannot suffice.\\n\\n\\n“Another important consideration is that rights conferred to a woman under civil law in her legal position as a wife and mother cannot be erased and retreated in favour of another interest, non-retrogression is an essential principle in constitutional law.”   This entry was posted on Wednesday, 13 January 2016, 6:28 am and is filed under \\nHuman Rights\\n, \\nPolitics\\n, \\nReligion\\n. You can follow any responses to this entry through \\nRSS 2.0\\n.',\n",
       "  'Last Epic – An Epic Monster Breeding Mobile Game Begins Pre-Registrations!\\n\\n\\nLast Epic is a game by Kongzhong JP, a subsidiary company of China’s\\xa0空中網. The company has recently announced their pre-registration event for their upcoming mobile game. If you’re into monster breeding games like Digimon Links, this could be on your playlist!\\n\\n\\n\\nCheck out their official trailer below:\\n\\n \\nThe game is a turn-based mobile RPG, where you collect monsters and use them to do your battles. The game is slated to be launched in Japan this November, however there was no launch date announced. While pre-registrations are up, players will receive up to 13.500 gems when they hit 100,000 pre-registers!\\n\\n\\n\\nRelated Posts   Pokemon Sleep Now Available In Malaysia   GamerBraves Newsletter Vol. 103 – The Glory of The Barbie/Oppenheimer Double Feature   Follow us on Twitter\\nFollow @GamerBraves\\nand Tweet us\\nTweet to @GamerBraves\\n\\n\\n\\n\\nCheck This Out Next\\n\\n\\nTags: AndroidiOSKongzhong JPLast EpicMobile',\n",
       "  'You’ve seen all there is to see and know all there is to know about the latest \\nFord Mustang\\n. After 50 years in the making, the iconic ‘Stang will for the first time be offered in a right hand drive configuration for selected countries. It’s also the first time this Stallion will be offered globally.\\nSime Darby Auto Connexion (SDAC), the exclusive distributor of Ford vehicles in Malaysia, will be offering the Mustang in two trims – a budget friendly \\n2.3-litre EcoBoost engine\\n and the muscled \\n5.0-litre Coyote V8 engine\\n. There’s no mention of their pricing as of yet, but expect the Mustang to carry a starting price around the RM500k mark. Two body types will go with the range – the traditional \\nfastback\\n variant and a \\nconvertible\\n.\\nAs a recap, the 2.3-litre turbocharged four-cylinder engine (also used in the \\nFocus RS\\n) has a compression ratio of 9.5:1, and produces \\n310 horsepower\\n and \\n434 Nm\\n of torque. Transmission option will most likely be the SelectShift six-speed automatic gearbox with steering mounted paddle shifters, although it’s unclear as yet if the six-speed manual by Getrag will be made available here.\\nWatch Sienna Miller strike a few poses \\nhere\\n with the Mustang\\nIf you’re a true fan of the Mustang and cannot care less about fuel emission, consumption and road tax, you’d be pleased to know that the V8 we’ll be getting isn’t the 3.7-litre, but the \\n5.0-litre normally aspirated\\n unit that makes \\n435 hp\\n and \\n542 Nm\\n of torque.\\nSDAC in a press statement confirmed that the Mustang will find its way to selected Malaysian showrooms by December this year. Meanwhile, if you’re in town, be sure to catch the Mustang in the flesh when it’s previewed at Publika in Solaris Dutamas from 11 to 15 March. Otherwise, you can always trust us to bring you a comprehensive pictorial gallery of the iconic muscle car. So keep an eye out on this space tomorrow for a complete look at the sixth generation Ford Mustang!\\n[divider]\\nIMAGE GALLERY',\n",
       "  'I want to know\\nIf just done period 1 week and having intercourse but no ejaculation and precum does that can make a pregnant?\\n\\nHello and good morning.\\nThank you for your question.\\nBased on your question, I understand that you are worried about your problem. I will try to help you.\\nLeaking fluid(precum) or semen(ejaculation) into vagina or on vulva is a vital process leading to pregnancy. However, unknowing related process may cause pregnancy, especially when it happens around ovulation period and no birth control method is used. You can further confirm your pregnancy status using a UPT kit and monitor yourself if you present any early pregnancy symptoms such as nausea and dizziness.\\nYou can also contact our doctor online for further information and management.\\nI hope this answer helps you. Thank you.\\nClick here to speak to a doctor\\nLast Updated: \\nThu May 12 2022 11:28:41 GMT+0800 (Malaysia Time)\\n4.89',\n",
       "  'Come June 2022, BMW will build the very last V12 engine to be fitted in a production car. As such the company will offer “The Final V12”, a limited series of 12 vehicles for customers in the USA. Only those who have had a long history of V12 7 Series ownership will be invited to buy the car.\\nThe Final V12 will be based on the M760i xDrive and is exclusive to the US market. Its 6.6-litre engine produces 609 hp and 800 Nm, paired to an 8-speed automatic.\\nDespite its size and weight, The Final V12 is capable of leaving most supercars behind with a 0 to 100 km/h time of 3.6 seconds. The standard 760i does it in 3.8 seconds.\\nOn the outside, The Final V12 differentiates itself with a V12 badge at the rear, 20-inch style 760M light-alloy wheels in either grey or black, along with blue or black brake calipers.\\nUpon entry, passengers will be reminded of what a special car The Final V12 is, with inscriptions on the door sill and a console-mounted plaque with the serial number “1 of 12”.\\nThe \\nBMW 740Le in Malaysia\\n, from RM592k.\\nInside, The Final V12 stands out with the Luxury Rear Seat package, a Panoramic Sky Lounge LED roof, and Bowers & Wilkins Diamond Surround Sound system. The “furniture” is finished with Merino leather, in various colours for customers to choose from.\\nUpon receiving the car, customers will also receive a custom-built desk trophy; an exact replica of the car’s specifications and colour.\\nBMW first introduced a V12 engine in a production car in 1987 where the naturally-aspirated, 5-liter V12 engine produced 295 hp.\\nRELATED: \\nThe new BMW M760Li x\\nDrive will do 0 to 100 km/h in just 3.8 seconds!']}"
      ]
     },
     "execution_count": 58,
     "metadata": {},
     "output_type": "execute_result"
    }
   ],
   "source": [
    "data_list[0]"
   ]
  },
  {
   "cell_type": "markdown",
   "metadata": {},
   "source": [
    "Per Husein, we need to format the data such that it looks like the following (the top row is the dictionary key for the transformed dataset):\n",
    "\n",
    "| QUERY   | TEXT | LABEL        |\n",
    "|---------|-----|--------------|\n",
    "| summary | text | positive / 1 |\n",
    "| summary_ms | text | positive / 1 |\n",
    "| summary | negs | negative / 0 |\n",
    "| summary_ms | negs | negative / 0 |"
   ]
  },
  {
   "cell_type": "code",
   "execution_count": 55,
   "metadata": {},
   "outputs": [
    {
     "data": {
      "text/plain": [
       "[{'query': 'Education Ministry urges NGOs to help children without documents',\n",
       "  'text': ' JOHOR BARU, April 13 — The Education Ministry has called on all non-governmental organisations (NGOs) to help children without identification documents to register with the National Registration Department (NRD) so they can enrol at government schools.\\n Its minister, Maszlee Malik said the efforts could be implemented by the NGOs, in collaboration with the National Registration Department (JPN), District Education Office (PPD) and Social Welfare Department (SWD).\\n “We find that some of our citizens are without\\xa0documents for some reasons which is ultimately preventing them from attending school, so\\xa0we hope the NGOs to work with JPN, SWD, PPD to register these children because in the end we want them to be educated.\\n “This is in line with the ministry’s motto, education for all,” said Maszlee in a press conference after officiating the Edulife programme organised by Johor Empowerment of Intellectual Women Association (Jeiwa) at Universiti Teknologi Mara (UiTM) Pasir Gudang Campus, here today.\\n He said for those without documents, they could seek verification from their community leaders or elected representatives, and they would also be allowed to take public exams.\\n For the stateless children, provided that\\xa0one of the parents was a Malaysian citizen and have a birth certificate, they could still enrol at government schools, he said. — Bernama',\n",
       "  'label': 1},\n",
       " {'query': 'Education Ministry urges NGOs to help children without documents',\n",
       "  'text': 'SEBUAH pesawat India yang dalam penerbangan dari Sharjah, Emiriah Arab Bersatu (UAE) menuju ke selatan India melakukan pendaratan cemas di Lapangan Terbang Antarabangsa Jinnah, Karachi pada Ahad.\\nIa kejadian kedua berlaku bulan ini membabitkan pesawat penumpang India melakukan pendaratan cemas di Pakistan susulan masalah teknikal.',\n",
       "  'label': 0},\n",
       " {'query': 'Education Ministry urges NGOs to help children without documents',\n",
       "  'text': 'MUZIUM Victoria dan Albert (V&A) satu daripada muzium terkemuka di dunia yang terletak di kota\\xa0London menjadi tuan rumah untuk majlis berbuka puasa.\\xa0\\nProgram yang diadakan pada Jumaat itu dianjurkan oleh Projek Khemah Ramadhan\\xa0(Ramadan Tent Project) yang disertai lebih 400 orang,\\xa0lapor Agensi Anadolu.',\n",
       "  'label': 0},\n",
       " {'query': 'Education Ministry urges NGOs to help children without documents',\n",
       "  'text': 'KUALA LUMPUR, 25 OGOSL Berita mengenai kejadian kebakaran bangunan di Angkasapuri di sini yang tular di laman sosial malam ini adalah tidak benar.\\nJurucakap Jabatan Bomba dan Penyelamat Malaysia (JBPM) Kuala Lumpur berkata pihaknya tidak menerima sebarang laporan berhubung kejadian kebakaran bangunan itu pada malam ini.\\n“Kami juga tidak menerima panggilan mengenai kebakaran di Angkasapuri daripada Pusat Gerakan Operasi JBPM Kuala Lumpur setakat ini,” katanya ketika dihubungi Bernama malam ini.\\nKira-kira 9 malam ini, seorang pengguna Twitter dan Facebook yang menggunakan nama ‘Zunar Cartoonist’ memuat naik gambar sebuah bangunan terbakar dengan catatan:',\n",
       "  'label': 0},\n",
       " {'query': 'Education Ministry urges NGOs to help children without documents',\n",
       "  'text': 'Menteri Luar Datuk Seri Anifah Aman berkata sebanyak 130 pelajar berdaftar dengan Kedutaan Besar Malaysia di Damsyik, Syria dan daripada jumlah itu 107 dibawa pulang oleh kerajaan.\\n\\n\\n\"Seramai tujuh pelajar pulang ke Malaysia atas inisiatif sendiri, lapan pelajar sedang bercuti atau berada di luar Syria dan lapan lagi masih bertegas untuk kekal di sana,\" katanya dalam satu kenyataan hari ini.\\n\\n\\nSabtu lepas, Anifah dilapor berkata kerajaan Malaysia mengambil keputusan untuk memulakan proses pemindahan pelajar Malaysia dari Syria pulang ke tanahair dengan segera memandangkan pergolakan yang semakin meruncing di negara itu.\\n\\n\\nKumpulan pertama sebanyak tujuh pelajar selamat tiba di tanahair Rabu lepas manakala kumpulan terakhir membabitkan 100 pelajar tiba semalam.\\n\\n\\nMengulas mengenai ekspatriat Malaysia di Syria, Anifah berkata sembilan orang telah kembali ke tanahair atas inisiatif sendiri manakala seorang masih berada di sana.\\n\\n\\nBeliau berkata duta dan empat pegawai Kedutaan Besar Malaysia di Damsyik akan kembali dalam masa terdekat.\\n\\n\\n\"Sehubungan itu bilik operasi Kementerian Luar Negeri telah ditutup\\xa0 secara rasminya. Sebarang pertanyaan lanjut orang awam boleh menghubungi 03-88874000 pada waktu pejabat dan 03-88874570 selepas waktu pejabat,\" katanya.\\n\\n\\n\\nPelajar dari Sabah\\n\\n\\n\\nPelajar dari Sabah\\n\\n\\nSementara itu, kerajaan negeri Sabah akan membincangkan isu pengajian tiga pelajar negeri itu yang kembali dari Syria dengan pihak berkaitan termasuk Kementerian Pengajian Tinggi.\\n\\n\\nMenteri di Jabatan Ketua Menteri Datuk Seri Nasir Tun Sakaran berkata masa depan pelajar terbabit harus diberi perhatian memandangkan tidak ada tanda onflik di negara Timur Tengah itu akan berakhir dalam masa terdekat.\\n\"Perkara ini akan dibincangkan dengan pihak-pihak berkenaan terutama sekali engan Kementerian\\xa0 Pengajian Tinggi. Sekiranya ada tempat bagi pelajar ini elanjutkan pelajaran di dalam negara kita, ini mungkin\\xa0 boleh diambil kira.\\n\"Sekiranya mereka ingin meneruskan pelajaran (di Timur Tengah) kita ada eberapa negara pilihan\\xa0 seperti Mesir dan Jordan. Pelajar Malaysia ramai enuntut\\xa0 di negara-negara berkenaan,\" katanya kepada\\xa0 pemberita selepas\\n\\n\\nmenghadiri majlis berbuka puasa malam tadi.\\nKatanya pelajar terbabit iaitu masing-masing seorang dari Tawau, Sandakan an Keningau, akan tiba dari Kuala Lumpur hari ini dan kos perjalanan mereka ari ibu negara ke Sabah dibiayai Pusat Zakat\\xa0 Sabah sementara dari Syria oleh kementerian luar.\\nNasir yang juga menteri yang bertanggungjawab terhadap hal ehwal Islam Sabah, berkata kerajaan negeri Sabah amat berterima kasih kepada kerajaan pusat kerana menguruskan kepulangan pelajar\\xa0 berkenaan sehingga selamat sampai di\\n\\n\\ntanahair.\\n\\n\\n\\n- Bernama\\n\\n\\n\\n- Bernama',\n",
       "  'label': 0},\n",
       " {'query': 'Education Ministry urges NGOs to help children without documents',\n",
       "  'text': '\\nPAS mempunyai bukti rakaman video seorang anggota polis berpakaian preman berjalan ke arah orang ramai, sambil memegang pistol, semasa insiden rusuhan di Pantai Batu Buruk dan Jalan Sultan Mahmud, Kuala Terengganu pada 8 September lalu, kata Timbalan Presidennya, Nasharuddin Mat Isa.',\n",
       "  'label': 0}]"
      ]
     },
     "execution_count": 55,
     "metadata": {},
     "output_type": "execute_result"
    }
   ],
   "source": [
    "# we need to transform it to this format:\n",
    "# EXAMPLE from news\n",
    "unpack_news(data_list[0])"
   ]
  },
  {
   "cell_type": "code",
   "execution_count": null,
   "metadata": {},
   "outputs": [],
   "source": [
    "def process_entry(entry):\n",
    "    data = []\n",
    "    \n",
    "    text = entry[\"text\"]\n",
    "    summary = entry[\"summary\"]\n",
    "    summary_ms = entry[\"summary_ms\"]\n",
    "    negs = entry[\"negs\"]\n",
    "    \n",
    "    \n",
    "    if summary is not None and text is not None:\n",
    "        first_row = {\n",
    "            \"query\": summary,\n",
    "            \"text\": text,\n",
    "            \"label\": 1\n",
    "        }\n",
    "        data.append(first_row)\n",
    "\n",
    "        \n",
    "    if summary_ms is not None and text is not None:\n",
    "        second_row = {\n",
    "            \"query\": summary_ms,\n",
    "            \"text\": text,\n",
    "            \"label\": 1\n",
    "        }\n",
    "        data.append(second_row)\n",
    "    \n",
    "    \n",
    "    for neg in negs:\n",
    "        if summary is not None and neg is not None:\n",
    "            third_row = {\n",
    "                \"query\": summary,\n",
    "                \"text\": neg,\n",
    "                \"label\": 0\n",
    "            }\n",
    "            data.append(third_row)\n",
    "        \n",
    "        \n",
    "        if summary_ms is not None and neg is not None:\n",
    "            fourth_row = {\n",
    "                \"query\": summary_ms,\n",
    "                \"text\": neg,\n",
    "                \"label\": 0\n",
    "            }\n",
    "            data.append(fourth_row)\n",
    "\n",
    "        \n",
    "    return data"
   ]
  },
  {
   "cell_type": "code",
   "execution_count": 1,
   "metadata": {},
   "outputs": [],
   "source": [
    "# Save file\n",
    "max_worker = 20\n",
    "\n",
    "with ThreadPoolExecutor(max_workers=max_worker) as executor:\n",
    "    for _ in tqdm(range(0, len(data_list), max_worker)):\n",
    "        futures = {executor.submit(unpack_summarization, t): t for t in data_list[_: _ + max_worker]}\n",
    "\n",
    "        for future in as_completed(futures):\n",
    "            result = future.result()\n",
    "            if result:\n",
    "                for r in result:\n",
    "                    with open('reformatted_dataset/reformatted-mining-summarization.jsonl', 'a') as final:\n",
    "                            json.dump(r, final)\n",
    "                            final.write('\\n')"
   ]
  },
  {
   "cell_type": "code",
   "execution_count": 8,
   "metadata": {},
   "outputs": [
    {
     "name": "stdout",
     "output_type": "stream",
     "text": [
      "<class 'pandas.core.frame.DataFrame'>\n",
      "RangeIndex: 2793537 entries, 0 to 2793536\n",
      "Data columns (total 3 columns):\n",
      " #   Column  Non-Null Count    Dtype \n",
      "---  ------  --------------    ----- \n",
      " 0   query   2793537 non-null  object\n",
      " 1   text    2793537 non-null  object\n",
      " 2   label   2793537 non-null  int64 \n",
      "dtypes: int64(1), object(2)\n",
      "memory usage: 63.9+ MB\n"
     ]
    }
   ],
   "source": [
    "test_summarization = pd.read_json('reformatted_dataset/reformatted-mining-summarization.jsonl', lines=True)\n",
    "\n",
    "test_summarization.info(verbose=True, show_counts=True)"
   ]
  },
  {
   "cell_type": "markdown",
   "metadata": {},
   "source": [
    "#### 1.7 Load datasets from `chatgpt-malaysian-open-qa`"
   ]
  },
  {
   "cell_type": "markdown",
   "metadata": {},
   "source": [
    "##### 1.7.0 Exploratory Analysis"
   ]
  },
  {
   "cell_type": "code",
   "execution_count": 10,
   "metadata": {},
   "outputs": [],
   "source": [
    "# !cd original_dataset && wget https://huggingface.co/datasets/mesolitica/chatgpt-malaysian-open-qa/resolve/main/common-crawl-qa.jsonl\n",
    "# !cd original_dataset && wget https://huggingface.co/datasets/mesolitica/chatgpt-malaysian-open-qa/resolve/main/hansard-qa.jsonl\n",
    "# !cd original_dataset && wget https://huggingface.co/datasets/mesolitica/chatgpt-malaysian-open-qa/resolve/main/wikipedia-qa.jsonl"
   ]
  },
  {
   "cell_type": "code",
   "execution_count": 2,
   "metadata": {},
   "outputs": [
    {
     "data": {
      "application/vnd.jupyter.widget-view+json": {
       "model_id": "a358ea7812b74b398a09eb89a66022bd",
       "version_major": 2,
       "version_minor": 0
      },
      "text/plain": [
       "0it [00:00, ?it/s]"
      ]
     },
     "metadata": {},
     "output_type": "display_data"
    },
    {
     "name": "stdout",
     "output_type": "stream",
     "text": [
      "Length of Common Crawl QA:  69829\n"
     ]
    },
    {
     "data": {
      "text/plain": [
       "dict_keys(['paragraph', 'qa'])"
      ]
     },
     "execution_count": 2,
     "metadata": {},
     "output_type": "execute_result"
    }
   ],
   "source": [
    "data_common_crawl = []\n",
    "with open('original_dataset/common-crawl-qa.jsonl') as fopen:\n",
    "    for data in tqdm(fopen):\n",
    "        data_common_crawl.append(json.loads(data))\n",
    "\n",
    "print(\"Length of Common Crawl QA: \", len(data_common_crawl))\n",
    "data_common_crawl[0].keys()"
   ]
  },
  {
   "cell_type": "code",
   "execution_count": 3,
   "metadata": {},
   "outputs": [
    {
     "data": {
      "text/plain": [
       "{'paragraph': 'Home About Us Products Project Project List Project Photo Policy Video Contact Us Home About Us Products Project Project List Project Photo Policy Video Contact Us Products Search Manual Products Outdoor Roller Blinds Roller Blinds Roller Blinds System Smooth Curtain tracks Zebra Blinds View All Motorized Products Dooya Roller Blinds Motor View All Camoor Blinds Sdn Bhd 38, Jalan Mivo 1, Taman Perindustrian Desa Aman, 52200 Kuala Lumpur, Malaysia. +6019-229 8138 +603-2178 4888 enquiry@camoor.my +60192298138 Give us a call to find out more about the blinds that we offer. For information on becoming part of Camoor Blinds dealer network, PLEASE CONTACT US. About Us Camoor Blinds Sdn Bhd is a window blinds manufacturer and our business covers the entire Malaysia and Singapore. Our main office is located in Kuala Lumpur, Malaysia. Our business model is B2B (business to business). People centric approach has been always our core value. Because in Camoor Blinds , we believe having a great team is our most important assets. Our commitment is to deliver high quality and sleek design as well as locally relevant product to make a real difference to our customers. With this goal in mind, we have never contented and constantly strive for perfection in our products. We believe the best way for us to do this, is through deep understanding of people’s need and desires. We want to bring people meaningful products that make every home and offices and better place to live and work. This sets us apart and make us Camoor Blinds. Quick Links Home About Us Products Policy Video Contact Us Recent Post Contact 38, Jalan Mivo 1, Taman Perindustrian Desa Aman, 52200 Kuala Lumpur, Malaysia. +6019-229 8138 +603-2178 4888 enquiry@camoor.my +60192298138 http://www.camoor.my © 2016 - 2023 Camoor Blinds Sdn Bhd (1186513-K) | Privacy Policy Visitors: 321354 Powered by NEWPAGES Switch to Mobile Version',\n",
       " 'qa': {'qa': [{'question': 'Apakah produk yang ditawarkan oleh Camoor Blinds?',\n",
       "    'answer': 'Camoor Blinds menawarkan pelbagai produk seperti Roller Blinds, Zebra Blinds, Smooth Curtain tracks dan Dooya Roller Blinds Motor.'},\n",
       "   {'question': 'Di mana pejabat utama Camoor Blinds berada?',\n",
       "    'answer': 'Pejabat utama Camoor Blinds terletak di Kuala Lumpur, Malaysia.'},\n",
       "   {'question': 'Apakah model perniagaan Camoor Blinds?',\n",
       "    'answer': 'Model perniagaan Camoor Blinds adalah B2B (business to business).'}]}}"
      ]
     },
     "execution_count": 3,
     "metadata": {},
     "output_type": "execute_result"
    }
   ],
   "source": [
    "data_common_crawl[3]"
   ]
  },
  {
   "cell_type": "code",
   "execution_count": 4,
   "metadata": {},
   "outputs": [
    {
     "data": {
      "application/vnd.jupyter.widget-view+json": {
       "model_id": "32c99e773b774ad4afdc84e0f6057ca2",
       "version_major": 2,
       "version_minor": 0
      },
      "text/plain": [
       "0it [00:00, ?it/s]"
      ]
     },
     "metadata": {},
     "output_type": "display_data"
    },
    {
     "name": "stdout",
     "output_type": "stream",
     "text": [
      "Length of Hansard QA:  42368\n"
     ]
    },
    {
     "data": {
      "text/plain": [
       "dict_keys(['paragraph', 'qa'])"
      ]
     },
     "execution_count": 4,
     "metadata": {},
     "output_type": "execute_result"
    }
   ],
   "source": [
    "data_hansard = []\n",
    "with open('original_dataset/hansard-qa.jsonl') as fopen:\n",
    "    for data in tqdm(fopen):\n",
    "        data_hansard.append(json.loads(data))\n",
    "\n",
    "print(\"Length of Hansard QA: \", len(data_hansard))\n",
    "data_hansard[0].keys()"
   ]
  },
  {
   "cell_type": "code",
   "execution_count": 5,
   "metadata": {},
   "outputs": [
    {
     "data": {
      "text/plain": [
       "{'paragraph': {'original': '\\n22                                                            DR.30.10.2018                                                                                                                          \\n\\n \\ndan sebagainya. Cukai-cukai yang didapati daripada minuman keras, alkohol dan sebagainya \\nmasuk kepada kerajaan, kerajaan bayar gaji kita balik, itu pun haram pada kita.  [Disampuk]  \\n\\nTimbalan Yang di-Pertua [Dato’ Mohd Rashid Hasnon]: Yang Berhormat Padang \\nSerai, sila ajukan soalan. \\n\\nTuan Karupaiya Mutusami [Padang Serai]: Saya bertanya soalan pada pihak \\nkementerian, bolehkah samsu dihapuskan terus, tidak mahu ada samsu dalam negara kita. \\n[Dewan tepuk] Terima kasih. \\n\\nTuan Che Alias bin Hamid [Kemaman]: Sokong, sokong. \\n\\n■1150 \\n\\nTuan Chong Chieng Jen: Itu satu isu atau soalan yang begitu serius dan effect-\\nnya yang sangat luas. Saya rasa ini perlu dibawa ke dalam Jemaah Menteri untuk \\ndipertimbangkan dan diputuskan. Sekian, terima kasih. \\n\\n \\n\\n9. Dr. Hasan bin Bahrom [Tampin] minta Menteri Pengangkutan menyatakan adakah \\nkerajaan bercadang untuk menyemak semula jadual perjalanan yang kurang sesuai bagi \\nkereta api komuter dan Electric Train Service (ETS) dari Gemas ke Kuala Lumpur. \\n\\n \\n\\nTimbalan Menteri Pengangkutan [Dato’ Kamarudin Jaffar]: Assalamualaikum \\nwarahmatullahi wabarakatuh dan salam sejahtera. Terima kasih Tuan Yang di-Pertua. Terima \\nkasih sahabat saya Yang Berhormat Tampin. Ini soalan yang halal, jawapannya pun halal. \\n\\nUntuk makluman Yang Berhormat, KTMB pada masa ini masih belum ada \\nperancangan untuk menyemak semula jadual perjalanan bagi perkhidmatan komuter dan \\nETS daripada Gemas ke Kuala Lumpur. Bagi perkhidmatan komuter buat masa ini KTMB \\nmenyediakan 27 perkhidmatan komuter sehari di laluan sektor Pulau Sebang iaitu Tampin, \\nKL Sentral, Batu Caves. \\n\\nWalau bagaimanapun, stesen Gemas yang terletak kira-kira 53 kilometer daripada \\nstesen Pulau Sebang, Tampin tidak dijadikan sebagai stesen hentian bagi perkhidmatan \\nkomuter. Ini adalah kerana perkhidmatan komuter sebelum ini yang beroperasi di stesen \\nGemas tersebut terpaksa ditamatkan pada tahun 2016 setelah 10 bulan beroperasi \\ndisebabkan kurang mendapat sambutan penumpang. Berdasarkan statistik KTMB, bilangan \\npenumpang perkhidmatan komuter di stesen Gemas pada tahun 2016 adalah hanya seramai \\n2,010 orang iaitu puratanya enam orang sehari berbanding 1,000,330,668 orang di \\nSeremban, 89,553 penumpang di Sungai Gadut serta 135,297 penumpang di Pulau Sebang, \\nTampin pada tahun yang sama. \\n\\nBagi perkhidmatan ETS pula, buat masa ini KTMB menyediakan empat \\nperkhidmatan bagi laluan Gemas ke KL Sentral, termasuk stesen-stesen utama di utara \\nSemenanjung setiap hari. Penyusunan jadual train ETS ini banyak bergantung pada kerja-\\nkerja projek menaik taraf landasan di Lembah Klang yang kini sedang giat dijalankan serta \\nketersediaan, availability dengan izin, set-set train ETS yang boleh diguna pakai untuk tujuan \\noperasi. \\n\\nUntuk maklumat Yang Berhormat juga pada masa ini KTMB memiliki 15 set train \\nETS yang aktif untuk tujuan operasi. Jumlah set ini masih tidak mencukupi bagi memenuhi \\npermintaan orang ramai yang ingin menggunakan perkhidmatan ETS di seluruh negara. \\n\\nSehubungan itu, bagi menampung kekurangan set-set ETS sedia ada kerajaan telah \\nmeluluskan pembelian 19 tambahan set ETS baru yang masing-masing dijangka tiba bermula \\nsecara berfasa bulan Disember 2018 ini. Set yang seterusnya pada September 2021. \\n\\nPerkhidmatan ETS dijangka akan meningkat selaras dengan pertambahan bilangan \\nETS baru ini termasuk perjalanan yang melibatkan dari Gemas ke Kuala Lumpur. Terima \\nkasih. \\n\\nDr. Hasan bin Bahrom [Tampin]: Terima kasih kepada Yang Berhormat Timbalan \\nMenteri kerana menjawab dengan lengkap dan jelas. Soalan tambahan saya, kita dapati \\nbahawa perjalanan ETS daripada Gemas ke Kuala Lumpur bermula daripada jam 7.40 pagi. \\nKita dapati perjalanan ini tidak memungkinkan sekiranya ada orang-orang di Gemas untuk \\nbekerja di Kuala Lumpur menggunakan khidmat ETS untuk sampai ke Kuala Lumpur \\n\\n\\n',\n",
       "  'cleaned': \"dan sebagainya. Cukai-cukai yang didapati daripada minuman keras, alkohol dan sebagainya masuk kepada kerajaan, kerajaan bayar gaji kita balik, itu pun haram pada kita. [Disampuk] Timbalan Yang di-Pertua [Dato' Mohd Rashid Hasnon]: Yang Berhormat Padang Serai, sila ajukan soalan. Tuan Karupaiya Mutusami [Padang Serai]: Saya bertanya soalan pada pihak kementerian, bolehkah samsu dihapuskan terus, tidak mahu ada samsu dalam negara kita. [Dewan tepuk] Terima kasih. Tuan Che Alias bin Hamid [Kemaman]: Sokong, sokong. #1150 Tuan Chong Chieng Jen: Itu satu isu atau soalan yang begitu serius dan effect- nya yang sangat luas. Saya rasa ini perlu dibawa ke dalam Jemaah Menteri untuk dipertimbangkan dan diputuskan. Sekian, terima kasih. 9. Dr. Hasan bin Bahrom [Tampin] minta Menteri Pengangkutan menyatakan adakah kerajaan bercadang untuk menyemak semula jadual perjalanan yang kurang sesuai bagi kereta api komuter dan Electric Train Service (ETS) dari Gemas ke Kuala Lumpur. Timbalan Menteri Pengangkutan [Dato' Kamarudin Jaffar]: Assalamualaikum warahmatullahi wabarakatuh dan salam sejahtera. Terima kasih Tuan Yang di-Pertua. Terima kasih sahabat saya Yang Berhormat Tampin. Ini soalan yang halal, jawapannya pun halal. Untuk makluman Yang Berhormat, KTMB pada masa ini masih belum ada perancangan untuk menyemak semula jadual perjalanan bagi perkhidmatan komuter dan ETS daripada Gemas ke Kuala Lumpur. Bagi perkhidmatan komuter buat masa ini KTMB menyediakan 27 perkhidmatan komuter sehari di laluan sektor Pulau Sebang iaitu Tampin, KL Sentral, Batu Caves. Walau bagaimanapun, stesen Gemas yang terletak kira-kira 53 kilometer daripada stesen Pulau Sebang, Tampin tidak dijadikan sebagai stesen hentian bagi perkhidmatan komuter. Ini adalah kerana perkhidmatan komuter sebelum ini yang beroperasi di stesen Gemas tersebut terpaksa ditamatkan pada tahun 2016 setelah 10 bulan beroperasi disebabkan kurang mendapat sambutan penumpang. Berdasarkan statistik KTMB, bilangan penumpang perkhidmatan komuter di stesen Gemas pada tahun 2016 adalah hanya seramai 2,010 orang iaitu puratanya enam orang sehari berbanding 1,000,330,668 orang di Seremban, 89,553 penumpang di Sungai Gadut serta 135,297 penumpang di Pulau Sebang, Tampin pada tahun yang sama. Bagi perkhidmatan ETS pula, buat masa ini KTMB menyediakan empat perkhidmatan bagi laluan Gemas ke KL Sentral, termasuk stesen-stesen utama di utara Semenanjung setiap hari. Penyusunan jadual train ETS ini banyak bergantung pada kerja- kerja projek menaik taraf landasan di Lembah Klang yang kini sedang giat dijalankan serta ketersediaan, availability dengan izin, set-set train ETS yang boleh diguna pakai untuk tujuan operasi. Untuk maklumat Yang Berhormat juga pada masa ini KTMB memiliki 15 set train ETS yang aktif untuk tujuan operasi. Jumlah set ini masih tidak mencukupi bagi memenuhi permintaan orang ramai yang ingin menggunakan perkhidmatan ETS di seluruh negara. Sehubungan itu, bagi menampung kekurangan set-set ETS sedia ada kerajaan telah meluluskan pembelian 19 tambahan set ETS baru yang masing-masing dijangka tiba bermula secara berfasa bulan Disember 2018 ini. Set yang seterusnya pada September 2021. Perkhidmatan ETS dijangka akan meningkat selaras dengan pertambahan bilangan ETS baru ini termasuk perjalanan yang melibatkan dari Gemas ke Kuala Lumpur. Terima kasih. Dr. Hasan bin Bahrom [Tampin]: Terima kasih kepada Yang Berhormat Timbalan Menteri kerana menjawab dengan lengkap dan jelas. Soalan tambahan saya, kita dapati bahawa perjalanan ETS daripada Gemas ke Kuala Lumpur bermula daripada jam 7.40 pagi. Kita dapati perjalanan ini tidak memungkinkan sekiranya ada orang-orang di Gemas untuk bekerja di Kuala Lumpur menggunakan khidmat ETS untuk sampai ke Kuala Lumpur.\",\n",
       "  'no_page': 22,\n",
       "  'actual_no_page': 34,\n",
       "  'date': '2018-10-30',\n",
       "  'url': 'https://www.parlimen.gov.my/files/hindex/pdf/DR-30102018.pdf'},\n",
       " 'qa': {'qa': [{'question': 'Adakah samsu akan dihapuskan terus dari negara kita?',\n",
       "    'answer': 'Ini perlu dibawa ke dalam Jemaah Menteri untuk dipertimbangkan dan diputuskan.'},\n",
       "   {'question': 'Adakah kerajaan bercadang untuk menyemak semula jadual perjalanan bagi kereta api komuter dan ETS dari Gemas ke Kuala Lumpur?',\n",
       "    'answer': 'KTMB pada masa ini masih belum ada perancangan untuk menyemak semula jadual perjalanan bagi perkhidmatan komuter dan ETS daripada Gemas ke Kuala Lumpur.'},\n",
       "   {'question': 'Berapa banyak set ETS yang dimiliki oleh KTMB untuk tujuan operasi?',\n",
       "    'answer': 'KTMB memiliki 15 set train ETS yang aktif untuk tujuan operasi.'}]}}"
      ]
     },
     "execution_count": 5,
     "metadata": {},
     "output_type": "execute_result"
    }
   ],
   "source": [
    "data_hansard[0]"
   ]
  },
  {
   "cell_type": "code",
   "execution_count": 6,
   "metadata": {},
   "outputs": [
    {
     "name": "stdout",
     "output_type": "stream",
     "text": [
      "\n",
      "22                                                            DR.30.10.2018                                                                                                                          \n",
      "\n",
      " \n",
      "dan sebagainya. Cukai-cukai yang didapati daripada minuman keras, alkohol dan sebagainya \n",
      "masuk kepada kerajaan, kerajaan bayar gaji kita balik, itu pun haram pada kita.  [Disampuk]  \n",
      "\n",
      "Timbalan Yang di-Pertua [Dato’ Mohd Rashid Hasnon]: Yang Berhormat Padang \n",
      "Serai, sila ajukan soalan. \n",
      "\n",
      "Tuan Karupaiya Mutusami [Padang Serai]: Saya bertanya soalan pada pihak \n",
      "kementerian, bolehkah samsu dihapuskan terus, tidak mahu ada samsu dalam negara kita. \n",
      "[Dewan tepuk] Terima kasih. \n",
      "\n",
      "Tuan Che Alias bin Hamid [Kemaman]: Sokong, sokong. \n",
      "\n",
      "■1150 \n",
      "\n",
      "Tuan Chong Chieng Jen: Itu satu isu atau soalan yang begitu serius dan effect-\n",
      "nya yang sangat luas. Saya rasa ini perlu dibawa ke dalam Jemaah Menteri untuk \n",
      "dipertimbangkan dan diputuskan. Sekian, terima kasih. \n",
      "\n",
      " \n",
      "\n",
      "9. Dr. Hasan bin Bahrom [Tampin] minta Menteri Pengangkutan menyatakan adakah \n",
      "kerajaan bercadang untuk menyemak semula jadual perjalanan yang kurang sesuai bagi \n",
      "kereta api komuter dan Electric Train Service (ETS) dari Gemas ke Kuala Lumpur. \n",
      "\n",
      " \n",
      "\n",
      "Timbalan Menteri Pengangkutan [Dato’ Kamarudin Jaffar]: Assalamualaikum \n",
      "warahmatullahi wabarakatuh dan salam sejahtera. Terima kasih Tuan Yang di-Pertua. Terima \n",
      "kasih sahabat saya Yang Berhormat Tampin. Ini soalan yang halal, jawapannya pun halal. \n",
      "\n",
      "Untuk makluman Yang Berhormat, KTMB pada masa ini masih belum ada \n",
      "perancangan untuk menyemak semula jadual perjalanan bagi perkhidmatan komuter dan \n",
      "ETS daripada Gemas ke Kuala Lumpur. Bagi perkhidmatan komuter buat masa ini KTMB \n",
      "menyediakan 27 perkhidmatan komuter sehari di laluan sektor Pulau Sebang iaitu Tampin, \n",
      "KL Sentral, Batu Caves. \n",
      "\n",
      "Walau bagaimanapun, stesen Gemas yang terletak kira-kira 53 kilometer daripada \n",
      "stesen Pulau Sebang, Tampin tidak dijadikan sebagai stesen hentian bagi perkhidmatan \n",
      "komuter. Ini adalah kerana perkhidmatan komuter sebelum ini yang beroperasi di stesen \n",
      "Gemas tersebut terpaksa ditamatkan pada tahun 2016 setelah 10 bulan beroperasi \n",
      "disebabkan kurang mendapat sambutan penumpang. Berdasarkan statistik KTMB, bilangan \n",
      "penumpang perkhidmatan komuter di stesen Gemas pada tahun 2016 adalah hanya seramai \n",
      "2,010 orang iaitu puratanya enam orang sehari berbanding 1,000,330,668 orang di \n",
      "Seremban, 89,553 penumpang di Sungai Gadut serta 135,297 penumpang di Pulau Sebang, \n",
      "Tampin pada tahun yang sama. \n",
      "\n",
      "Bagi perkhidmatan ETS pula, buat masa ini KTMB menyediakan empat \n",
      "perkhidmatan bagi laluan Gemas ke KL Sentral, termasuk stesen-stesen utama di utara \n",
      "Semenanjung setiap hari. Penyusunan jadual train ETS ini banyak bergantung pada kerja-\n",
      "kerja projek menaik taraf landasan di Lembah Klang yang kini sedang giat dijalankan serta \n",
      "ketersediaan, availability dengan izin, set-set train ETS yang boleh diguna pakai untuk tujuan \n",
      "operasi. \n",
      "\n",
      "Untuk maklumat Yang Berhormat juga pada masa ini KTMB memiliki 15 set train \n",
      "ETS yang aktif untuk tujuan operasi. Jumlah set ini masih tidak mencukupi bagi memenuhi \n",
      "permintaan orang ramai yang ingin menggunakan perkhidmatan ETS di seluruh negara. \n",
      "\n",
      "Sehubungan itu, bagi menampung kekurangan set-set ETS sedia ada kerajaan telah \n",
      "meluluskan pembelian 19 tambahan set ETS baru yang masing-masing dijangka tiba bermula \n",
      "secara berfasa bulan Disember 2018 ini. Set yang seterusnya pada September 2021. \n",
      "\n",
      "Perkhidmatan ETS dijangka akan meningkat selaras dengan pertambahan bilangan \n",
      "ETS baru ini termasuk perjalanan yang melibatkan dari Gemas ke Kuala Lumpur. Terima \n",
      "kasih. \n",
      "\n",
      "Dr. Hasan bin Bahrom [Tampin]: Terima kasih kepada Yang Berhormat Timbalan \n",
      "Menteri kerana menjawab dengan lengkap dan jelas. Soalan tambahan saya, kita dapati \n",
      "bahawa perjalanan ETS daripada Gemas ke Kuala Lumpur bermula daripada jam 7.40 pagi. \n",
      "Kita dapati perjalanan ini tidak memungkinkan sekiranya ada orang-orang di Gemas untuk \n",
      "bekerja di Kuala Lumpur menggunakan khidmat ETS untuk sampai ke Kuala Lumpur \n",
      "\n",
      "\n",
      "\n"
     ]
    }
   ],
   "source": [
    "print(data_hansard[0]['paragraph']['original'])"
   ]
  },
  {
   "cell_type": "code",
   "execution_count": 7,
   "metadata": {},
   "outputs": [
    {
     "data": {
      "application/vnd.jupyter.widget-view+json": {
       "model_id": "69166433a6cf43a28d85a2270ea604c8",
       "version_major": 2,
       "version_minor": 0
      },
      "text/plain": [
       "0it [00:00, ?it/s]"
      ]
     },
     "metadata": {},
     "output_type": "display_data"
    },
    {
     "name": "stdout",
     "output_type": "stream",
     "text": [
      "Length of Hansard QA:  44923\n"
     ]
    },
    {
     "data": {
      "text/plain": [
       "dict_keys(['paragraph', 'url', 'qa'])"
      ]
     },
     "execution_count": 7,
     "metadata": {},
     "output_type": "execute_result"
    }
   ],
   "source": [
    "data_wikipedia = []\n",
    "with open('original_dataset/wikipedia-qa.jsonl') as fopen:\n",
    "    for data in tqdm(fopen):\n",
    "        data_wikipedia.append(json.loads(data))\n",
    "\n",
    "print(\"Length of Hansard QA: \", len(data_wikipedia))\n",
    "data_wikipedia[0].keys()"
   ]
  },
  {
   "cell_type": "code",
   "execution_count": 8,
   "metadata": {},
   "outputs": [
    {
     "data": {
      "text/plain": [
       "{'paragraph': 'The Legend of Korra ialah sebuah siri animasi televisyen Amerika Syarikat yang telah ditayangkan di rangkaian televisyen Nickelodeon sejak 2012. Siri ni dicipta oleh Bryan Konietzko dan Michael Dante DiMartino sebagai sebuah susulan daripada \"\", yang telah ditayangkan di Nickelodeon pada tahun 2005 sehingga tahun 2008. Beberapa orang yang berkencimpung dalam penciptaan \"Avatar: The Last Airbender\", termasuk seorang pereka, Joaquim Dos Santos dan dua orang komposer, Jeremy Zuckerman dan Benjamin Wynn, kembali semula untuk mencipta \"The Legend of Korra\". Siri ini berlatar belakangkan dunia fiksyen dimana seseorang boleh memanipulasi, atau \"bend\", bagi elemen air, bumi, api, atau udara. Hanya seorang sahaja, \"Avatar\", boleh memanipulasi kesemua 4 elemen, dan bertanggungjawab dalam mengekalkan keseimbangan dunia. Siri ini mengisahkan Avatar Korra, penggati Aang daripada siri sebelum ini, sambil menghadapi pergolakan politik dan roh semangat dalam dunia pemodenan. Siri ini yang gayanya dipengaruhi oleh animasi Jepun, merupakan satu kejayaan yang kritikal dan komersial. Ia mendapat jumlah penonton tertinggi bagi siri animasi di Amerika Syarikat pada tahun 2012. Siri ini telah dipuji oleh pengulas untuk nilai-nilai pengeluaran yang tinggi dan untuk menangani isu-isu sukar sosiopolitik seperti pergolakan sosial dan keganasan. Ia pada asalnya dianggap sebagai siri mini yang terdiri daripada dua belas episod, tetapi ia kini bersedia berjalan selama lima puluh dua episod dipisahkan kepada empat musim (\"buku\"), setiap yang menceritakan kisah yang berasingan. \"The Legend of Korra\" pada mulanya dihasratkan sebagai dua belas episod siri mini. Nickelodeon membangkang pencipta lapangan untuk susulan filem animasi berdasarkan \"Avatar: The Last Airbender\" yang kemudian menjadi komik \"\", sebaliknya memilih untuk mengembangkan \"Korra\" kepada 26 episod. Siri ini dikembangkan lagi pada Julai 2012 kepada 52 episod. Episod ini akan dikumpulkan ke dalam empat musim yang berasingan (\"buku\") terdiri daripada 12 hingga 14 episod (\"bab\") setiap satu, dengan setiap musim memberitahu cerita yang berdiri sendiri. \"The Legend of Korra\" akan berakhir pada musim keempat. \"The Legend of Korra\" ditetapkan dalam dunia fiksyen\" Avatar: The Last Airbender\" 70 tahun selepas peristiwa siri itu. Dunia ini dipisahkan kepada empat negara: yang Suku Air (Utara dan Selatan), Air Nomads, Bumi Kingdom, dan Negara Api. Fokus siri ini adalah \"memanipulasi\", keupayaan sesetengah manusia (dan haiwan) untuk memanipulasi elemen secara telekinetik yang berkaitan dengan negara mereka (air, bumi, api atau udara). \"Bending\" dilakukan menggunakan latihan rohani dan fizikal, yang digambarkan dalam siri ini sebagai sama dengan Cina dan lain-lain seni mempertahankan diri Asia. Hanya seorang iaitu \"Avatar\", yang boleh manipulasi keempat-empat elemen. Avatar dilahirkan semula secara bergilir dalam empat negara dunia, Avatar bertanggungjawab untuk mengekalkan keamanan dan keseimbangan di dunia. \"The Legend of Korra\" bertumpu pada Avatar Korra, seorang gadis berusia tujuh belas tahun dari Southern Water Tribe. Pada permulaan siri ini, dia telah menguasai waterbending, earthbending, dan firebending, tetapi mesti melengkapkan latihan dengan pembelajaran airbending dari Tenzin, anak bongsu Aang dan . Siri ini kebanyakannya ditetapkan di Republik Bandar, ibu kota Republik Syarikat-Bangsa Bersatu, sebuah negara yang muncul selepas berakhirnya perang yang berlaku di\" Avatar: The Last Airbender\". Metropolis, yang digambarkan sebagai \"jika Manhattan dibina di Asia\" oleh pencipta siri, telah menjadi satu wadah tumpuan untuk semua negara. Penduduknya bersatu dengan semangat mereka untuk \"pro-bending\", sukan penonton di mana dua pasukan terdiri daripada satu earthbender, waterbender, dan firebender cuba untuk menjatuhkan antara satu sama lain daripada cincin menggunakan teknik lenturan. Musim pertama,\" \", melihat langkah Korra dari didikan beliau terpencil di Kutub Selatan ke Republik City untuk belajar dari airbending Tenzin, Avatar Aang \\'s anak. Dia memasuki liga pro-lentur, dan berkawan saudara-saudara Sarip dan Mako, kedua yang beliau akhirnya jatuh cinta dengan, dan juga Asami Sato, waris perempuan untuk Industri Masa Depan. Ahli politik bercita-cita tinggi Tarrlok enlists Korra untuk melawan pemberontakan anti-Bender daripada \"Equalists\", yang diketuai oleh bertopeng Amon yang jalur benders kebolehan mereka. Akhirnya, didedahkan sebagai anak seorang darah lenturan tuan jenayah, Tarrlok mendedahkan Amon menjadi abangnya. Korra dan rakan-rakan beliau, dibantu oleh Ketua Polis Lin Beifong dan Angkatan Bersatu umum Iroh, berjaya mendedahkan Amon untuk menamatkan rampasan kuasa tentera Equalist. Walaupun Korra dan rakan-rakannya cuba untuk menghentikan dia, Unalaq berjaya membebaskan Vaatu dari penjara, dan bergabung dengan Unalaq untuk menjadi Avatar \"Gelap\" yang menguruskan untuk mengeluaran Raava dari Korra dan memusnahkan semangat cahaya. Walau bagaimanapun, Korra mampu menyerap tenaga dari Tree Of Time yang membolehkan Korra untuk melawan Avatar Gelap, dan dengan bantuan anak perempuan Tenzin, Jinora; Korra berjaya mendapatkan kelahiran semula Raava manakala memutuskan sambungan semangat cahaya untuk Vaatu, dan memusnahkan Vaatu dengan Unalaq terbunuh dalam proses. Selepas pertempuran, Korra bergabung semula dengan Raava, tetapi kerana sambungan Korra untuk kehidupan masa lalunya telah hilang akibat daripada pemisahan ringkasnya dari Raava, Korra menyimpan portal semangat terbuka supaya manusia dan roh boleh wujud bersama-sama sebagai memulakan satu zaman baru.',\n",
       " 'url': 'https://ms.wikipedia.org/wiki?curid=823980',\n",
       " 'qa': {'qa': [{'question': 'Apakah siri animasi yang ditayangkan di Nickelodeon sejak 2012?',\n",
       "    'answer': 'The Legend of Korra'},\n",
       "   {'question': 'Siapakah pencipta siri animasi The Legend of Korra?',\n",
       "    'answer': 'Bryan Konietzko dan Michael Dante DiMartino'},\n",
       "   {'question': \"Apakah yang dimaksudkan dengan 'bending' dalam siri animasi The Legend of Korra?\",\n",
       "    'answer': 'Kekuatan untuk memanipulasi elemen seperti air, bumi, api, atau udara'},\n",
       "   {'question': 'Siapakah Avatar Korra?',\n",
       "    'answer': 'Pengganti Aang dalam siri sebelumnya yang menghadapi pergolakan politik dan roh semangat dalam dunia pemodenan'},\n",
       "   {'question': 'Apakah kejayaan siri The Legend of Korra?',\n",
       "    'answer': 'Kejayaan yang kritikal dan komersial dengan jumlah penonton tertinggi bagi siri animasi di Amerika Syarikat pada tahun 2012'}]}}"
      ]
     },
     "execution_count": 8,
     "metadata": {},
     "output_type": "execute_result"
    }
   ],
   "source": [
    "data_wikipedia[0]"
   ]
  },
  {
   "cell_type": "code",
   "execution_count": 33,
   "metadata": {},
   "outputs": [],
   "source": [
    "def unpack_chatgptqa(\n",
    "        row: Dict,\n",
    "        data_neg: List,\n",
    "        hansard_neg: bool = False,\n",
    "        hansard_pos: bool = False,\n",
    "    ) -> Dict:\n",
    "    \"\"\"\n",
    "    Function to reformat .jsonl data from https://huggingface.co/datasets/mesolitica/chatgpt-malaysian-open-qa\n",
    "    into `query`, `text`, `label` format.\n",
    "\n",
    "    For positive pairs, we take from the 'paragraph'/'paragraph''original' keys as \"text\".\n",
    "    However, for negative pairs, we take from the 'paragraph'/'paragraph''original' keys from the other dataset.\n",
    "\n",
    "    For example, if we're processing the rows from Hansard, we'd use 'paragraph'/'paragraph''original' keys\n",
    "    from Wikipedia. Which dataset to use is done via the `data_neg` parameter.\n",
    "\n",
    "    We do this mainly to ensure that the negative pair is unrelated as possible. Future versions of this function\n",
    "    can perhaps incorporate a word error rate calculation e.g., https://thepythoncode.com/article/calculate-word-error-rate-in-python\n",
    "\n",
    "    ### Arguments\n",
    "    - `row`: Original row from `.jsonl` dataset. It is of the dictionary data type.\n",
    "    - `data_neg`: A list of the dataset we'll use to source a negative pair from.\n",
    "    - `hansard_neg`: Whether the Hansard QA dataset is used to source the negative pair. Default is False. \n",
    "    This parameter is included due to having a different format than the rest of the datasets (Common Crawl QA & Wikipedia QA)\n",
    "    - `hansard_pos`: Whether we are preprocessing the Hansard QA dataset or not. Default is False.\n",
    "    This parameter is included due to having a different format than the rest of the datasets (Common Crawl QA & Wikipedia QA)\n",
    "    \"\"\"\n",
    "\n",
    "    final_data_list = []\n",
    "\n",
    "    for pos in row['qa']['qa']:\n",
    "        random_number = np.random.randint(low=1, high=len(data_neg))\n",
    "\n",
    "        pos_row_dict = {}\n",
    "        neg_row_dict = {}\n",
    "\n",
    "        pos_row_dict['query'] = pos['question']\n",
    "        if hansard_pos == False:\n",
    "            pos_row_dict['text'] = row['paragraph']\n",
    "        else:\n",
    "            pos_row_dict['text'] = row['paragraph']['original']\n",
    "        pos_row_dict['label'] = 1\n",
    "\n",
    "        neg_row_dict['query'] = pos_row_dict['query']\n",
    "        if hansard_neg == False:\n",
    "            # we infer the negative text by taking a random one from either commmon crawl of wikipedia\n",
    "            neg_row_dict['text'] = data_neg[random_number]['paragraph']\n",
    "        else:\n",
    "            # we infer the negative text by taking a random one from hansard\n",
    "            neg_row_dict['text'] = data_neg[random_number]['paragraph']['original']\n",
    "        neg_row_dict['label'] = 0\n",
    "    \n",
    "        final_data_list.append(pos_row_dict)\n",
    "        final_data_list.append(neg_row_dict)\n",
    "    \n",
    "    return final_data_list"
   ]
  },
  {
   "cell_type": "code",
   "execution_count": 34,
   "metadata": {},
   "outputs": [
    {
     "data": {
      "text/plain": [
       "[{'query': 'Siapakah yang berada di Jengka Jerantut?',\n",
       "  'text': 'Google Map) MAZLAN MOKHTAR JENGKA Jerantut (Klik nama untuk WhatsApp, klik lokasi untuk Google Map) MOHD NAJID JERANTUT Kuantan (Klik nama untuk WhatsApp, klik lokasi untuk Google Map) FAZIRA JALAN TELUK SISEK FAZIRAH ZUKI LORONG CHENGAL LEMPONG NORAZMA KUANTAN AZIZAH KUANTAN NANAD AZRI TAMAN BUKIT RANGIN NURULHANA SUNGAI ISAP ROHANI MUHAMAD JALAN AIR PUTIH (1 - 5) CIK TA JALAN INDUSTRI TANAH PUTIH BARU SAADIAH KAMPUNG BALOK SHARIFAH KUANTAN SITI KHADIJAH KAMPUNG TIRAM SITI NORHAMIZAH TAMAN SERI MAHKOTA AMAN SITI SHARINA KUANTAN ZALIFAH AHMAD BANDAR INDERA MAHKOTA Maran (Klik nama untuk WhatsApp, klik lokasi untuk Google Map) MOHD FADELY BUKIT TAJAU Muadzam Shah (Klik nama untuk WhatsApp, klik lokasi untuk Google Map) HASAZALI PAHANG Pekan (Klik nama untuk WhatsApp, klik lokasi untuk Google Map) FASEEHA KAHAR PEKAN Raub (Klik nama untuk WhatsApp, klik lokasi untuk Google Map) AZNAH TAMAN KEMAJUAN NOR SOLEHAH RAUB NUR SHAFINA RAUB Temerloh (Klik nama untuk WhatsApp, klik lokasi untuk Google Map) HAYATI TEMERLOH MAS NAJIHAH TEMERLOH PUTRI SYERA JALAN AHMAD SHAH NORA TEMERLOH NORIMI TEMERLOH NIZA KAMALUDDIN BUKIT ANGIN + Perak (43) Nama Lokasi Ayer Tawar (Klik nama untuk WhatsApp, klik lokasi untuk Google Map) WANNIEY LEE AYER TAWAR Batu Gajah (Klik nama untuk WhatsApp, klik lokasi untuk Google Map) NOR SHAHIMA BATU GAJAH NORHAYATI BATU GAJAH ZAINUDDIN BATU GAJAH Bidor (Klik nama untuk WhatsApp, klik lokasi untuk Google Map) WULAN LESTARI BIDOR Chemor (Klik nama untuk WhatsApp, klik lokasi untuk Google Map) NOOR HELMI CHEMOR NURUL AINUN CHEMOR SHAMSUDIN CHEMOR Gerik (Klik nama untuk WhatsApp, klik lokasi untuk Google Map) NURHIDAYATUL FARHANA KAMPUNG BANDARIANG SITI SAHIRA GERIK Gopeng (Klik nama untuk WhatsApp, klik lokasi untuk Google Map) RAHIMI AWANG GOPENG Ipoh (Klik nama untuk WhatsApp, klik lokasi untuk Google Map) HAJARATULLAILI TAMAN SERI SAYANG SAMISAH SAMSURI IPOH Kampung Gajah (Klik nama untuk WhatsApp, klik lokasi untuk Google Map) FARHANA KAMPUNG GAJAH Kamunting (Klik nama untuk WhatsApp, klik lokasi untuk Google Map) KHAIRIL FAIZOLL BUKIT JANA NUR FARHAMNA BUKIT JANA SITI NORSYUHAILA KAMUNTING Kuala Kangsar (Klik nama untuk WhatsApp, klik lokasi untuk Google Map) NOR HAZA KUALA KANGSAR ROZITAH KUALA KANGSAR Parit (Klik nama untuk WhatsApp, klik lokasi untuk Google Map) ZUHAILI PARIT Parit Buntar (Klik nama untuk WhatsApp, klik lokasi untuk Google Map) MUHAMMAD HUSAINI PARIT BUNTAR Pengkalan Hulu (Klik nama untuk WhatsApp, klik lokasi untuk Google Map) NUR ROAINA PENGKALAN HULU Perak (Klik nama untuk WhatsApp, klik lokasi untuk Google Map) IMAN NOR PERAK Selama (Klik nama untuk WhatsApp, klik lokasi untuk Google Map) SITI HAIZA SELAMA (KM 6) Semanggol (Klik nama untuk WhatsApp, klik lokasi untuk Google Map) NOOR AZIAH SEMANGGOL Seri Iskandar (Klik nama untuk WhatsApp, klik lokasi untuk Google Map) FARHANAOMAR BANDAR BARU SERI ISKANDAR ASLINA BANDAR BARU SERI ISKANDAR SITI HAJAR BANDAR UNIVERSITI Seri Manjung (Klik nama untuk WhatsApp, klik lokasi untuk Google Map) SURAYA SERI MANJUNG Simpang (Klik nama untuk WhatsApp, klik lokasi untuk Google Map) SERI TAMAN BERKAT Sitiawan (Klik nama untuk WhatsApp, klik lokasi untuk Google Map) UMIE ANA SITIAWAN NORHASHITA SITIAWAN Taiping (Klik nama untuk WhatsApp, klik lokasi untuk Google Map) FATIN SHAKINA POKOK ASSAM NOR TAIPING',\n",
       "  'label': 1},\n",
       " {'query': 'Siapakah yang berada di Jengka Jerantut?',\n",
       "  'text': 'bin Ali al-Tarsusi, yang menulis buku panduan tentera untuk Salahuddin Ayyubi sekitar tahun 1187. Ia menjelaskan suatu manjanik hibrida yang dikatakannya memiliki kekuatan lontaran yang setara dengan manjanik tarikan yang ditarik oleh lima puluh orang sekaligus kerana \"gaya konstan [dari graviti], yang berbeza dengan kekuatan tarikan manusia.\" (dengan menunjukkan kemahirannya dalam mekanik, Tarsusi merancang manjaniknya dengan dilengkapi busur silang, kemungkinan untuk melindungi operatornya dari serangan.) Beliau menulis bahawa \"manjanik merupakan mesin yang diciptakan oleh para kafir\" (Al-Tarsusi, Bodleian MS 264). Ini menunjukkan bahawa pada masa Salahuddin, kaum Muslim mempelajari mesin-mesin berpemberat, namun tidak menganggap bahawa merekalah yang pertama kali menciptakan mesin-mesin tersebut. Selama Perang Salib, Philip II dari Perancis menamakan dua manjanik yang digunakan dalam Pengepungan Acre tahun 1191 dengan nama \"Pelontar Batu Milik Tuhan\" dan \"Tetangga yang Buruk.\" Selama pengepungan Istana Stirling tahun 1304, Edward Longshanks memerintahkan para insinyurnya untuk menciptakan manjanik raksasa bagi pasukan Inggeris, yang dinamai \"Warwolf\". Jangkauan dan ukuran senjata tersebut bervariasi. Tahun 1421, Charles VII dari Perancis mengkomisikan sebuah manjanik (\"coyllar\") yang mampu melontarkan sebuah batu seberat 800 kg, sementara tahun 1188 di Ashyun, batu sampai seberat 1,500 kg digunakan. Berat rata-rata projektil yang digunakan berkisar antara 50–100 kg, dengan jangkauan lontaran sekitar 300 meter. Banyaknya tembakan yang dihasilkan merupakan hal penting: pada pengepungan Lisbon (1147), dua manjanik mampu melontarkan batu tiap 15 detik. Jenazah manusia juga dapat digunakan dalam kesempatan tertentu. Sebagai contoh, tahun 1422, Pangeran Korybut dalam pengepungan Istana Karlštejn menembakkan tubuh manusia dan pupuk ke arah dinding pertahanan musuh, kemungkinan besar untuk menyebarkan infeksi terhadap para musuh yang bertahan. Manjanik berukuran besar membutuhkan kayu dalam jumlah sangat banyak. Pada pengepungan Damietta tahun 1249, Louis IX dari Perancis mampu membangun dinding pertahanan bagi seluruh perkemahan tentara Perang Salib dengan menggunakan kayu dari 24 manjanik Mesir yang dirampas. Manjanik berpengimbang tidak disebutkan dalam catatan sejarah Cina sampai sekitar tahun 1268, saat pasukan Mongol mengepung kota Fancheng dan Xiangyang. Pada pengepungan Fancheng dan Xiangyang, pasukan Mongol yang tidak mampu menaklukkan kota tersebut memanggil dua ahli mesin dari Persia untuk membuat manjanik berpengimbang dan kemudian berhasil menggempur kota tersebut. Alat penggempur tersebut oleh sejarawan Cina disebut \"Huihui Pao\" (回回砲)(\"huihui\" berarti Muslim) atau \"Xiangyang Pao\" (襄陽砲), kerana pertama kali disaksikan dalam pertempuran tersebut. Penelitian terkini oleh Paul E. Chevedden mengindikasikan bahawa \"hui-hui pao\" tersebut sebenarnya berdasarkan rancangan dari Eropah, sebuah mesin dengan pemberat ganda yang diperkenalkan di wilayah Levant (Syam) oleh Maharaja Romawi Suci Frederick II (1210–1250) tidak lama sebelumnya. Sejarawan muslim Rashid-al-Din Hamadani (1247?–1318) menyebutkan dalam sejarah universalnya bahawa manjanik bangsa Mongol tersebut merupakan \"manjanik Perancis\" atau \"manjanik Eropah\" (\"manjaniq ifranji\" atau \"manjaniq firanji\"): Sebelumnya tidak ada katapel tempur Perancis di Cathay [i.e. Cina], tetapi Talib, pembuat katapel tempur dari negeri ini, pernah pergi ke Baalbek dan Damaskus, dan para putranya: Abu Bakar, Ibrahim, dan Muhammad, dan para pegawainya membuat tujuh katapel tempur ukuran besar dan mempersiapkannya untuk menggempur kota [Sayan Fu atau Hsiang-yang fu = Xiangfan masa kini]. Sejak bermulanya zaman penggunaan ubat bedil, peran manjanik sebagai mesin kepung beralih ganti oleh meriam. Manjanik masih digunakan dalam pengepungan tertentu seperti di Burgos (1475–1476) dan Rhodos (1480). Salah satu penggunaannya untuk yang terakhir kali tercatat dalam riwayat Hernán Cortés, tepatnya tahun 1521 dalam pengepungan ibu kota Aztek, Tenochtitlán. Menurut catatan, manjanik digunakan kerana bekalan mesiu yang terbatas. Usaha tersebut dikatakan gagal kerana projektilnya jatuh mengenai manjanik itu sendiri sehingga alat tersebut hancur.',\n",
       "  'label': 0},\n",
       " {'query': 'Siapakah yang berada di Kuala Kangsar?',\n",
       "  'text': 'Google Map) MAZLAN MOKHTAR JENGKA Jerantut (Klik nama untuk WhatsApp, klik lokasi untuk Google Map) MOHD NAJID JERANTUT Kuantan (Klik nama untuk WhatsApp, klik lokasi untuk Google Map) FAZIRA JALAN TELUK SISEK FAZIRAH ZUKI LORONG CHENGAL LEMPONG NORAZMA KUANTAN AZIZAH KUANTAN NANAD AZRI TAMAN BUKIT RANGIN NURULHANA SUNGAI ISAP ROHANI MUHAMAD JALAN AIR PUTIH (1 - 5) CIK TA JALAN INDUSTRI TANAH PUTIH BARU SAADIAH KAMPUNG BALOK SHARIFAH KUANTAN SITI KHADIJAH KAMPUNG TIRAM SITI NORHAMIZAH TAMAN SERI MAHKOTA AMAN SITI SHARINA KUANTAN ZALIFAH AHMAD BANDAR INDERA MAHKOTA Maran (Klik nama untuk WhatsApp, klik lokasi untuk Google Map) MOHD FADELY BUKIT TAJAU Muadzam Shah (Klik nama untuk WhatsApp, klik lokasi untuk Google Map) HASAZALI PAHANG Pekan (Klik nama untuk WhatsApp, klik lokasi untuk Google Map) FASEEHA KAHAR PEKAN Raub (Klik nama untuk WhatsApp, klik lokasi untuk Google Map) AZNAH TAMAN KEMAJUAN NOR SOLEHAH RAUB NUR SHAFINA RAUB Temerloh (Klik nama untuk WhatsApp, klik lokasi untuk Google Map) HAYATI TEMERLOH MAS NAJIHAH TEMERLOH PUTRI SYERA JALAN AHMAD SHAH NORA TEMERLOH NORIMI TEMERLOH NIZA KAMALUDDIN BUKIT ANGIN + Perak (43) Nama Lokasi Ayer Tawar (Klik nama untuk WhatsApp, klik lokasi untuk Google Map) WANNIEY LEE AYER TAWAR Batu Gajah (Klik nama untuk WhatsApp, klik lokasi untuk Google Map) NOR SHAHIMA BATU GAJAH NORHAYATI BATU GAJAH ZAINUDDIN BATU GAJAH Bidor (Klik nama untuk WhatsApp, klik lokasi untuk Google Map) WULAN LESTARI BIDOR Chemor (Klik nama untuk WhatsApp, klik lokasi untuk Google Map) NOOR HELMI CHEMOR NURUL AINUN CHEMOR SHAMSUDIN CHEMOR Gerik (Klik nama untuk WhatsApp, klik lokasi untuk Google Map) NURHIDAYATUL FARHANA KAMPUNG BANDARIANG SITI SAHIRA GERIK Gopeng (Klik nama untuk WhatsApp, klik lokasi untuk Google Map) RAHIMI AWANG GOPENG Ipoh (Klik nama untuk WhatsApp, klik lokasi untuk Google Map) HAJARATULLAILI TAMAN SERI SAYANG SAMISAH SAMSURI IPOH Kampung Gajah (Klik nama untuk WhatsApp, klik lokasi untuk Google Map) FARHANA KAMPUNG GAJAH Kamunting (Klik nama untuk WhatsApp, klik lokasi untuk Google Map) KHAIRIL FAIZOLL BUKIT JANA NUR FARHAMNA BUKIT JANA SITI NORSYUHAILA KAMUNTING Kuala Kangsar (Klik nama untuk WhatsApp, klik lokasi untuk Google Map) NOR HAZA KUALA KANGSAR ROZITAH KUALA KANGSAR Parit (Klik nama untuk WhatsApp, klik lokasi untuk Google Map) ZUHAILI PARIT Parit Buntar (Klik nama untuk WhatsApp, klik lokasi untuk Google Map) MUHAMMAD HUSAINI PARIT BUNTAR Pengkalan Hulu (Klik nama untuk WhatsApp, klik lokasi untuk Google Map) NUR ROAINA PENGKALAN HULU Perak (Klik nama untuk WhatsApp, klik lokasi untuk Google Map) IMAN NOR PERAK Selama (Klik nama untuk WhatsApp, klik lokasi untuk Google Map) SITI HAIZA SELAMA (KM 6) Semanggol (Klik nama untuk WhatsApp, klik lokasi untuk Google Map) NOOR AZIAH SEMANGGOL Seri Iskandar (Klik nama untuk WhatsApp, klik lokasi untuk Google Map) FARHANAOMAR BANDAR BARU SERI ISKANDAR ASLINA BANDAR BARU SERI ISKANDAR SITI HAJAR BANDAR UNIVERSITI Seri Manjung (Klik nama untuk WhatsApp, klik lokasi untuk Google Map) SURAYA SERI MANJUNG Simpang (Klik nama untuk WhatsApp, klik lokasi untuk Google Map) SERI TAMAN BERKAT Sitiawan (Klik nama untuk WhatsApp, klik lokasi untuk Google Map) UMIE ANA SITIAWAN NORHASHITA SITIAWAN Taiping (Klik nama untuk WhatsApp, klik lokasi untuk Google Map) FATIN SHAKINA POKOK ASSAM NOR TAIPING',\n",
       "  'label': 1},\n",
       " {'query': 'Siapakah yang berada di Kuala Kangsar?',\n",
       "  'text': 'Sekolah Agama Menengah Rawang atau nama ringkasnya \"SAMER\", merupakan sebuah Sekolah Agama Menengah, Jabatan Agama Islam Selangor yang terletak di Batu 16, Jalan Ipoh, Rawang, Selangor. Pada asalnya, sekolah ini adalah merupakan sekolah berasrama yang diurustadbir oleh Jabatan Agama Islam Selangor (JAIS) sebelum dijadikan sebagai Sekolah Agama Bantuan Kerajaan (SABK), Kementerian Pendidikan Malaysia pada tahun 2006. Pada tahun 2009, Sekolah Agama Menengah Rawang memiliki 338 pelajar lelaki dan 424 pelajar perempuan, menjadikan jumlah keseluruhan murid seramai 762 orang. Ia mempunyai seramai 48 orang guru.2009 Sekolah ini telah ditubuhkan pada awalnya di Kampung Kenanga, Batu 17, Rawang sebagai Sekolah Agama Menengah Ibnu Khaldun pada 1983. Pada ketika ini, para pelajar ditumpangkan di bangunan Sekolah Rendah Agama Ibnu Khaldun. Pada tahun 1984, asrama bagi menempatkan pelajar putera dan puteri mula dibina. Manakala kelas perintis untuk pelajar tingkatan 4 dimulakan pada tahun 1987. Pada bulan Oktober 1990, para pelajar telah dipindahkan ke Batu 16, Jalan Ipoh, 48000, Rawang dan diberi nama Sekolah Agama Menengah Rawang. Pada tahun 1995 pula, upacara pecah tanah bagi projek pembinaan Surau Darul Muttaqin telah disempurnakan oleh Y.A.B. Tan Sri Muhammad bin Mohd Taib yang merupakan Menteri Besar Negeri Selangor pada ketika itu. Pendidikan Berkualiti, Insan Terdidik, Negara Sejahtera Melestarikan Sistem Pendidikan Yang Berkualiti Untuk Membangunkan Potensi Individu Bagi Memenuhi Aspirasi Negara SPM 2018 SAMER telah mencatatkan keputusan yang cemerlang dalam Sijil Pelajaran Malaysia 2018 dengan Gred Purata Sekolah 3.25, dan peratus kelulusan 100% layak mendapat Sijil Pelajaran Malaysia, keputusan terbaik sepanjang sejarah penubuhan SAM Rawang. SAM Rawang mencatatkan tempat ketiga bagi mata pelajaran Physics dan tempat keempat bagi mata pelajaran Chemistry dalam SPM 2018 bagi kategori SABK Peringkat Kebangsaan. SMA 2018 Pada tahun ini juga, SAM Rawang mencatatkan keputusan yang amat memberangsangkan dalam Sijil Menengah Agama 2018, dengan Gred Purata Sekolah 1.81, keputusan terbaik sepanjang penubuhan SAM Rawang juga, menjadikan SAM Rawang salah sebuah Sekolah Cemerlang SMA Negeri Selangor 2018. Seramai 49 calon berjaya meraih Mumtaz dalam SMA 2018. Kelab dan Persatuan SAMER berjaya meraih Johan dalam acara Hafazan di Majlis Tilawah Al-Quran, Sekolah-sekolah KPM Peringkat Kebangsaan 2015, acara Tahfiz Al-Quran di Majlis Ihtifal Sekolah-Sekolah KPM Peringkat Kebangsaan 2015 dan acara Hafazan di Majlis Ihtifal Ilmi Sekolah-Sekolah Menengah Agama Malaysia Peringkat Kebangsaan 2015. Kelab dan Persatuan SAM Rawang berjaya menjadi Johan Pertandingan Memasak Sekolah-Sekolah Menengah (Maggi Secondary School Cooking Competition) Peringkat Negeri Selangor 2016 dan mewakili negeri Selangor ke Pertandingan Memasak Sekolah-Sekolah Menengah (MSSCC) Peringkat Kebangsaan 2016. SAM Rawang juga menjadi Johan dalam acara Syarahan Bahasa Melayu Lelaki Menengah Atas di Kemahiran Amal Islami SAM/SAMT/MITS/KKM Peringkat Negeri Selangor 2016, dan menjadi wakil negeri Selangor ke Majlis Ihtifal Ilmi Sekolah-Sekolah Menengah Agama Malaysia Peringkat Kebangsaan 2016 bertempat di SMA Al-Khairiah, Pahang. SAMER juga menghantar wakil dalam acara Syarahan Bahasa Melayu Perempuan Menengah Rendah (Naib Johan), Syarahan Bahasa Inggeris Lelaki Menengah Rendah (Ketiga), Tafsir Perempuan Menengah Atas (Ketiga), Musammarah Lelaki (Naib Johan), Tilawah Al-Quran Perempuan Menengah Atas dan Kuiz Dini dalam Kemahiran Amal Islami SAM/SAMT/MITS/KKM Peringkat Negeri Selangor 2016. Kelab dan Persatuan SAMER telah berjaya menghantar wakil ke pelbagai pertandingan seperti MSSCC Peringkat Negeri Selangor 2017 (Naib Johan), Petrosains Science Show Competition Peringkat Negeri Selangor 2017 dan pertandingan-pertandingan jemputan Management and Science University (MSU). SAM Rawang berjaya menjadi Johan dalam acara Hafazan di Kemahiran Amal Islami SAM/SAMT/MITS/KKM Peringkat Negeri Selangor 2017 buat kali kedua selepas tahun 2015, dan menjadi wakil ke Majlis Ihtifal Ilmi Sekolah-Sekolah Menengah Agama Malaysia Peringkat Kebangsaan 2017 di Pulau Pinang. Unit Beruniform SAM Rawang berjaya meraih tempat Ketiga dalam Pertandingan Kawad Kaki Kategori Lelaki Kadet Remaja Sekolah sempena Festival Kadet Remaja Sekolah dan Pendidikan Al-Quran dan Al-Sunnah Sekolah-Sekolah Kluster Kecemerlangan KPM Peringkat Kebangsaan 2018 di SAM Bestari. SAMER juga berjaya menghantar wakil ke Kem Pegawai Waran 1 KRS Peringkat Negeri Selangor 2018 dan ketiga-tiga wakil berjaya mendapat pangkat Pegawai Waran 1, pangkat tertinggi dalam KRS, pada tahun tersebut. Kelab dan Persatuan SAMER juga berjaya menjadi Johan dalam acara Syarahan Bahasa Inggeris Lelaki Menengah Atas dan Tajhiz Jenazah Lelaki di Kemahiran Amal Islami SAM/SAMT/MITS/KKM Peringkat Negeri Selangor 2018 dan Johan dalam acara Syarahan Bahasa Inggeris Lelaki di Majlis Ihtifal Ilmi Sekolah-Sekolah Menengah Agama Malaysia Peringkat Kebangsaan 2018 bertempat di Maahad Ahmadi dan ITQAN, Negeri Sembilan. Sukan dan Permainan SAMER juga berjaya mendapat tempat ketiga dalam acara Bola Tampar di Kejohanan Majlis Sukan Sekolah Daerah (MSSD) Gombak 2018 dan seorang pelajar berjaya menjadi wakil ke MSS Selangor 2018. SAMER juga berjaya menghantar wakil dalam acara Bola Tampar ke Kejohanan Sukan Sekolah-Sekolah Menengah Agama Malaysia Peringkat Negeri Selangor 2018 sebagai wakil Zon Timur, dan mereka mendapat Johan. Salah seorang pelajar SAMER juga berjaya menjadi wakil ke Kejohanan Sukan Sekolah-Sekolah Menengah Agama Malaysia Peringkat Kebangsaan 2018 dalam acara ini. Unit Beruniform SAM Rawang berjaya meraih tempat Ketiga dalam Pertandingan Kawad Kaki Kategori Lelaki Kadet Remaja Sekolah sempena Festival Kadet Remaja Sekolah dan Pendidikan Al-Quran dan Al-Sunnah Sekolah-Sekolah Kluster Kecemerlangan KPM Peringkat Kebangsaan 2019 di SAM Bestari sekali lagi, dan mendapat Anugerah Ketua Platun Wanita Terbaik. SAMER juga menjadi Johan dalam acara Kompang Formasi sempena Karnival Pergerakan Puteri Islam Malaysia Peringkat Daerah Gombak dan Johan juga di Peringkat Negeri Selangor 2019. Sukan dan Permainan SAMER juga berjaya mendapat tempat ketiga dalam acara Bola Tampar di MSSD Gombak 2019 dan seorang pelajar berjaya menjadi wakil ke MSS Selangor 2019. SAMER juga berjaya menghantar wakil dalam acara Bola Tampar ke Kejohanan Sukan Sekolah-Sekolah Menengah Agama Malaysia Peringkat Negeri Selangor 2019 sebagai wakil Zon Timur, dan mereka mendapat Johan. Salah seorang pelajar SAMER juga berjaya menjadi wakil ke Kejohanan Sukan Sekolah-Sekolah Menengah Agama Malaysia Peringkat Kebangsaan 2019 dalam acara ini. SAMER juga merupakan Johan acara Ping Pong Wanita Bawah 15 dan Boling Tenpin Wanita Bawah 15 MSSD Gombak 2019. Kelab dan Persatuan SAMER berjaya menjadi Johan dalam acara Khat Perempuan di Festival Kadet Remaja Sekolah dan Pendidikan Al-Quran dan Al-Sunnah Sekolah-Sekolah Kluster Kecemerlangan Peringkat Kebangsaan 2019. SAMER juga berjaya menghantar wakil ke Kemahiran Amal Islami SAM/SAMT/MITS/KKM Peringkat Negeri Selangor 2019 di SAMT Kuala Kubu Bharu dalam acara Syarahan Bahasa Melayu Lelaki Menengah Atas dan Menengah Rendah (kedua-duanya Johan), Syarahan Bahasa Inggeris Lelaki Menengah Atas',\n",
       "  'label': 0},\n",
       " {'query': 'Siapakah yang berada di Simpang?',\n",
       "  'text': 'Google Map) MAZLAN MOKHTAR JENGKA Jerantut (Klik nama untuk WhatsApp, klik lokasi untuk Google Map) MOHD NAJID JERANTUT Kuantan (Klik nama untuk WhatsApp, klik lokasi untuk Google Map) FAZIRA JALAN TELUK SISEK FAZIRAH ZUKI LORONG CHENGAL LEMPONG NORAZMA KUANTAN AZIZAH KUANTAN NANAD AZRI TAMAN BUKIT RANGIN NURULHANA SUNGAI ISAP ROHANI MUHAMAD JALAN AIR PUTIH (1 - 5) CIK TA JALAN INDUSTRI TANAH PUTIH BARU SAADIAH KAMPUNG BALOK SHARIFAH KUANTAN SITI KHADIJAH KAMPUNG TIRAM SITI NORHAMIZAH TAMAN SERI MAHKOTA AMAN SITI SHARINA KUANTAN ZALIFAH AHMAD BANDAR INDERA MAHKOTA Maran (Klik nama untuk WhatsApp, klik lokasi untuk Google Map) MOHD FADELY BUKIT TAJAU Muadzam Shah (Klik nama untuk WhatsApp, klik lokasi untuk Google Map) HASAZALI PAHANG Pekan (Klik nama untuk WhatsApp, klik lokasi untuk Google Map) FASEEHA KAHAR PEKAN Raub (Klik nama untuk WhatsApp, klik lokasi untuk Google Map) AZNAH TAMAN KEMAJUAN NOR SOLEHAH RAUB NUR SHAFINA RAUB Temerloh (Klik nama untuk WhatsApp, klik lokasi untuk Google Map) HAYATI TEMERLOH MAS NAJIHAH TEMERLOH PUTRI SYERA JALAN AHMAD SHAH NORA TEMERLOH NORIMI TEMERLOH NIZA KAMALUDDIN BUKIT ANGIN + Perak (43) Nama Lokasi Ayer Tawar (Klik nama untuk WhatsApp, klik lokasi untuk Google Map) WANNIEY LEE AYER TAWAR Batu Gajah (Klik nama untuk WhatsApp, klik lokasi untuk Google Map) NOR SHAHIMA BATU GAJAH NORHAYATI BATU GAJAH ZAINUDDIN BATU GAJAH Bidor (Klik nama untuk WhatsApp, klik lokasi untuk Google Map) WULAN LESTARI BIDOR Chemor (Klik nama untuk WhatsApp, klik lokasi untuk Google Map) NOOR HELMI CHEMOR NURUL AINUN CHEMOR SHAMSUDIN CHEMOR Gerik (Klik nama untuk WhatsApp, klik lokasi untuk Google Map) NURHIDAYATUL FARHANA KAMPUNG BANDARIANG SITI SAHIRA GERIK Gopeng (Klik nama untuk WhatsApp, klik lokasi untuk Google Map) RAHIMI AWANG GOPENG Ipoh (Klik nama untuk WhatsApp, klik lokasi untuk Google Map) HAJARATULLAILI TAMAN SERI SAYANG SAMISAH SAMSURI IPOH Kampung Gajah (Klik nama untuk WhatsApp, klik lokasi untuk Google Map) FARHANA KAMPUNG GAJAH Kamunting (Klik nama untuk WhatsApp, klik lokasi untuk Google Map) KHAIRIL FAIZOLL BUKIT JANA NUR FARHAMNA BUKIT JANA SITI NORSYUHAILA KAMUNTING Kuala Kangsar (Klik nama untuk WhatsApp, klik lokasi untuk Google Map) NOR HAZA KUALA KANGSAR ROZITAH KUALA KANGSAR Parit (Klik nama untuk WhatsApp, klik lokasi untuk Google Map) ZUHAILI PARIT Parit Buntar (Klik nama untuk WhatsApp, klik lokasi untuk Google Map) MUHAMMAD HUSAINI PARIT BUNTAR Pengkalan Hulu (Klik nama untuk WhatsApp, klik lokasi untuk Google Map) NUR ROAINA PENGKALAN HULU Perak (Klik nama untuk WhatsApp, klik lokasi untuk Google Map) IMAN NOR PERAK Selama (Klik nama untuk WhatsApp, klik lokasi untuk Google Map) SITI HAIZA SELAMA (KM 6) Semanggol (Klik nama untuk WhatsApp, klik lokasi untuk Google Map) NOOR AZIAH SEMANGGOL Seri Iskandar (Klik nama untuk WhatsApp, klik lokasi untuk Google Map) FARHANAOMAR BANDAR BARU SERI ISKANDAR ASLINA BANDAR BARU SERI ISKANDAR SITI HAJAR BANDAR UNIVERSITI Seri Manjung (Klik nama untuk WhatsApp, klik lokasi untuk Google Map) SURAYA SERI MANJUNG Simpang (Klik nama untuk WhatsApp, klik lokasi untuk Google Map) SERI TAMAN BERKAT Sitiawan (Klik nama untuk WhatsApp, klik lokasi untuk Google Map) UMIE ANA SITIAWAN NORHASHITA SITIAWAN Taiping (Klik nama untuk WhatsApp, klik lokasi untuk Google Map) FATIN SHAKINA POKOK ASSAM NOR TAIPING',\n",
       "  'label': 1},\n",
       " {'query': 'Siapakah yang berada di Simpang?',\n",
       "  'text': 'SpongeBob SquarePants (سڤوڠبوب سقواريڤنث), ialah siri televisyen animasi Amerika Syarikat yang dicipta oleh pendidik sains marin dan animator Stephen Hillenburg untuk TV9&lt;br&gt;Nickelodeon. Siri ini mengisahkan pengembaraan dan usaha watak tajuk dan rakannya di bandar bawah air rekaan Bikini Bottom. Siri animasi Amerika yang kelima terpanjang, popularitinya menjadikannya sebuah francais media, serta siri tertinggi yang pernah ditayangkan di Nickelodeon, dan harta yang paling diedarkan di Viacom Media Networks. Sehingga akhir 2017, francais media ini telah menghasilkan $ 13 bilion dalam pendapatan cenderamata untuk Nickelodeon. Kebanyakan idea untuk siri ini berasal dari buku komik pendidikan yang tidak pernah diterbitkan bertajuk \"The Intertidal Zone\", yang dicipta oleh Hillenburg pada 1989. Beliau mula membangunkan \"SpongeBob SquarePants\" menjadi sebuah siri televisyen pada 1996 berikutan pembatalan \"Rocko\\'s Modern Life\", dan diberikan kepada Tom, Kenny, yang bekerja dengannya untuk siri itu, untuk meminjamkan watak suara. SpongeBob, Ahoy! pada asalnya untuk dinamakan SpongeBob, Ahoy! dan siri itu pada mulanya diberi judul \"SpongeBob, Ahoy!\" namun kedua-dua nama itu telah diubah, dan nama tersebut telah dicap dagang. Nickelodeon mengadakan pratonton untuk siri ini di Amerika Syarikat pada 1 Mei 1999, berikutan penyiaran Nickelodeon Kids\\' Choice Awards 1999. Siri ini dirasmikan secara rasmi pada 17 Julai 1999. Ia telah menerima pujian kritis di seluruh dunia sejak tayangan perdana dan mendapat populariti yang besar oleh musim kedua. Sebuah filem cereka adaptasi siri ini, \"The SpongeBob SquarePants Movie\", telah dikeluarkan di pawagam pada 19 November 2004. Kesinambungan keduanya, \"\" ditayangkan pada 6 Februari 2015, serta filem ketiga yang dikeluarkan pada 22 Mei, 2020. Pada tahun 2018, siri itu mula ditayangkan untuk musim kedua. Spongebob Squarepants Dalam Audio Bahasa Melayu &amp; Mandarin Diterbitkan Oleh Studio Filem Karya Nusa SpongeBob SquarePants ialah sekeping span yang tinggal dalam sebiji nenas dalam laut, manakala jirannya Squidward Tentacles ialah seekor sotong yang tinggal dalam sebuah kepala Pulau Easter. Jiran SpongeBob yang lain dan kawan karibnya, Patrick Star si tapak sulaiman merah jambu, tinggal di bawah seketul batu. Rumah Squidward terletak di antara rumah Spongebob dan rumah Patrick, dan inilah yang merimaskan Squidward. SpongeBob dan kawan-kawannya tinggal di kota Bikini Bottom dalam lautan Pasifik. Bikini Bottom dilihatkan sebagai sebuah bandar biasa dengan pusat bandar, pinggir bandar, kawasan pantai, lapangan terbang, rangkaian bas dan taman hiburan sendirinya. Stephen Hillenburg pernah berkata bahawa Bikini Bottom direka lebih kurang berasaskan bandaraya Seattle, Washington. Haiwan peliharaan SpongeBob ialah seekor siput babi bernama Gary, yang \"mengiau\" seperti kucing. Meskipun tidak boleh bercakap (kecuali dalam beberapa episod), watak-watak lain kelihatan mampu memahaminya. Tambahan pula, cacing lautan menyalak seperti anjing dan dirantai. Obor-obor disamakan dengan lebah; bunyi desas-desus, sengatan bisa (tetapi kelihatan seperti kejutan elektrik), dan menghasilkan \"jeli\" yang lazat, memperolok-olok nama \"jellyfish\" sambil membandingkan jeli dengan madu lebah. Ikan berperanan sebagai warga kota tetapi tidak dijadikan watak penting. SpongeBob yang penyerap, kuning, dan berliang ini, bekerja sebagai tukang masak di Krusty Krab, sebuah restoran makanan segera, iaitu berkongsi tempat kerja dengan Squidward yang menjadi juruwang. Krusty Krab dimiliki Eugene H. Krabs (\"Mr. Krabs\"). Sheldon J. Plankton ialah musuh ketat Krabs yang memiliki sebuah restoran makanan segera bertaraf rendah bernama The Chum Bucket yang terletak berhadapan Krusty Krab. The Chum Bucket seolah-olah langsung tidak dikunjungi pelanggan, dan Plankton meluangkan kebanyakan masanya untuk merancang mencuri resipi rahsia burger Krabby Patty milik En. Krabs. Plankton hanya berjaya mencuri resipi itu dalam filem; formulanya tidak pernah didedahkan kepada penonton. Isteri komputer Plankton, Caron, kadang-kala membantunya dalam rancangan jahatnya atau bertengkar dengannya. Satu lagi kawan SpongeBob ialah Sandy Cheeks, seekor tupai yang berasal daripada Texas dan tinggal di dalam dom atau kubah di bawah air di bandar Bikini Bottom. Dia dihantar ke dalam lautan oleh majikannya yang berupa cimpanzi. Ketika di luar kubahnya, dia memakai sut seakan-akan angkasawan untuk bernafas. Penduduk Bikini Bottom memandu bot seolah-olah kereta. SpongeBob masih belajar dalam sekolah memandu setelah gagal dalam ujian memandu banyak kali. Setiap pergerakan menghasilkan buih untuk mengingatkan penonton bahawa cereka ini berlatarkan lautan. Namun begitu, terdapat babak-babak di mana terdapat selapisan air yang berasingan daripada air lautan (seperti tasik pantai) dan api boleh dinyalakan dalam air lautan. Spongebob berjiran dengan sahabatnya Patrick, seekor tapak sulaiman. Jiran yang selalu memusuhinya: Squidward, seekor sotong yang tidak suka bersosial, memiliki sifat penggerutu, dan hobi bermain Klarinet. Kelucuan-kelucuan dalam cerita siri ini bersumber dari kelakuan seharian Spongebob yang polos, optimis, selalu ceria, dan memiliki prasangka baik terhadap siapapun. Terkadang perbuatan atau sikap ini membawa bencana, dimanfaatkan, atau terjadi salah faham tatkala disamakan dengan sifat-sifat makhluk lain. \"SpongeBob SquarePants\" merupakan satu-satunya kartun untuk memasuki senarai 10 Teratas secara konsisten dalam pemeringkatan Nielsen, dan menurut pihak Nickelodeon, Nickelodeon cartoon \"berbajet rendah\" pertama yang menjadi amat popular. Kartun bajet rendah tidak banyak meraih penghargaan sebanyak rancangan berbajet tinggi seperti \"Rugrats\", namun semenjak muncul di kaca TV pada tahun 1999, SpongeBob meraih bilangan penonton yang cukup dalam pemeringkatan agar dianggap popular, maka menjadi lebih popular berbanding \"Rugrats\". SpongeBob mengikuti rancangan Nickelodeon lain yang menarik penonton lebih \"matang\": \"The Ren &amp; Stimpy Show\", \"Rocko\\'s Modern Life\", skit-skit \"Kablam!\", \"Action League Now!\" dan \"The Angry Beavers\". Rancangan-rancangan lain turut mengikuti \"trend\" ini: \"Invader Zim\" dan \"The Fairly OddParents\" meraih bilangan peminat yang serupa pada tahun 2001, dan OddPatents hanya di tempat kedua selepas SpongeBob dari segi kelarisan, manakala Zim menarik pengikutan kultus. Rancangan ini mula pada tahun 1999, dan ketika itu, Pokémon masih menjadi kegilaan yang terbesar. SpongeBob tidak meningkatkan popularitinya sehingga tahun 2000, dan semenjak itu kekal popular sehingga ke hari ini. SpongeBob ialah salah satu daripada banyak siri kartun yang direka untuk menarik penonton dewasa dan kanak-kanak. Ini mungkin banyak berkaitan dengan gambaran kehidupan dan keadaan dalam air yang aneh, dan penggunaan situasi, sentuhan dan istilah yang sukar difahami penonton yang lebih muda. Terdapat juga senario ironis rumit yang memerlukan perhatian teliti. Sebahagian tarikan rancangan ini berkait rapat dengan sifat kebudak-budakan SpongeBob dan sahabat karibnya, Patrick Star, yang kedua-duanya berusia dewasa tetapi menunjukkan sifat kelurusan kanak-kanak manusia. Namun, watak-watak ini tidak terkecuali daripada kegiatan yang lebih bersifat dewasa, seperti pancaragam rock dalam persembahan stadium, atau Patrick meminta SpongeBob beranak lagi setelah mengambil seekor kepah atau tiram bayi di bawah',\n",
       "  'label': 0}]"
      ]
     },
     "execution_count": 34,
     "metadata": {},
     "output_type": "execute_result"
    }
   ],
   "source": [
    "unpack_chatgptqa(data_common_crawl[0], data_wikipedia, False, False)"
   ]
  },
  {
   "cell_type": "markdown",
   "metadata": {},
   "source": [
    "##### 1.7.0.5 Generating negative pairs"
   ]
  },
  {
   "cell_type": "markdown",
   "metadata": {},
   "source": [
    "Our plan below will be to use the right dataset as the source of the negative pair for the left dataset. This ought to ensure\n",
    "very low relevance and hard negativity.\n",
    "\n",
    "| Dataset to be formatted | Source dataset for negative pair |\n",
    "| ------------------------|----------------------------------|  \n",
    "| Wikipedia               |                          Hansard |\n",
    "| Common Crawl            |                        Wikipedia |\n",
    "| Hansard | Common Crawl |\n",
    "\n",
    "**NOTE:** The row for the negative pair (in left dataset) will be randomly selected from the right dataset."
   ]
  },
  {
   "cell_type": "markdown",
   "metadata": {},
   "source": [
    "##### 1.7.1 wikipedia"
   ]
  },
  {
   "cell_type": "code",
   "execution_count": 37,
   "metadata": {},
   "outputs": [
    {
     "data": {
      "application/vnd.jupyter.widget-view+json": {
       "model_id": "58efcfc243d64b70bf8f24f908ea5dd0",
       "version_major": 2,
       "version_minor": 0
      },
      "text/plain": [
       "  0%|          | 0/2247 [00:00<?, ?it/s]"
      ]
     },
     "metadata": {},
     "output_type": "display_data"
    }
   ],
   "source": [
    "# Save file\n",
    "max_worker = 20\n",
    "\n",
    "with ThreadPoolExecutor(max_workers=max_worker) as executor:\n",
    "    for _ in tqdm(range(0, len(data_wikipedia), max_worker)):\n",
    "        futures = {executor.submit(unpack_chatgptqa, t, data_hansard, True, False): t for t in data_wikipedia[_: _ + max_worker]}\n",
    "\n",
    "        for future in as_completed(futures):\n",
    "            result = future.result()\n",
    "            if result:\n",
    "                for r in result:\n",
    "                    with open('reformatted_dataset/reformatted-wikipedia-qa.jsonl', 'a') as final:\n",
    "                            json.dump(r, final)\n",
    "                            final.write('\\n')"
   ]
  },
  {
   "cell_type": "code",
   "execution_count": 41,
   "metadata": {},
   "outputs": [
    {
     "name": "stdout",
     "output_type": "stream",
     "text": [
      "<class 'pandas.core.frame.DataFrame'>\n",
      "RangeIndex: 658042 entries, 0 to 658041\n",
      "Data columns (total 3 columns):\n",
      " #   Column  Non-Null Count   Dtype \n",
      "---  ------  --------------   ----- \n",
      " 0   query   658042 non-null  object\n",
      " 1   text    658042 non-null  object\n",
      " 2   label   658042 non-null  int64 \n",
      "dtypes: int64(1), object(2)\n",
      "memory usage: 15.1+ MB\n"
     ]
    }
   ],
   "source": [
    "test_wikipedia = pd.read_json('reformatted_dataset/reformatted-wikipedia-qa.jsonl', lines=True)\n",
    "\n",
    "test_wikipedia.info(verbose=True, show_counts=True)"
   ]
  },
  {
   "cell_type": "markdown",
   "metadata": {},
   "source": [
    "##### 1.7.2 common crawl"
   ]
  },
  {
   "cell_type": "code",
   "execution_count": 38,
   "metadata": {},
   "outputs": [
    {
     "data": {
      "application/vnd.jupyter.widget-view+json": {
       "model_id": "522cec03c05c48d7ae7b802d2a492172",
       "version_major": 2,
       "version_minor": 0
      },
      "text/plain": [
       "  0%|          | 0/3492 [00:00<?, ?it/s]"
      ]
     },
     "metadata": {},
     "output_type": "display_data"
    }
   ],
   "source": [
    "# Save file\n",
    "max_worker = 20\n",
    "\n",
    "with ThreadPoolExecutor(max_workers=max_worker) as executor:\n",
    "    for _ in tqdm(range(0, len(data_common_crawl), max_worker)):\n",
    "        futures = {executor.submit(unpack_chatgptqa, t, data_wikipedia, False, False): t for t in data_common_crawl[_: _ + max_worker]}\n",
    "\n",
    "        for future in as_completed(futures):\n",
    "            result = future.result()\n",
    "            if result:\n",
    "                for r in result:\n",
    "                    with open('reformatted_dataset/reformatted-common-crawl-qa.jsonl', 'a') as final:\n",
    "                            json.dump(r, final)\n",
    "                            final.write('\\n')"
   ]
  },
  {
   "cell_type": "code",
   "execution_count": 43,
   "metadata": {},
   "outputs": [
    {
     "name": "stdout",
     "output_type": "stream",
     "text": [
      "<class 'pandas.core.frame.DataFrame'>\n",
      "RangeIndex: 418978 entries, 0 to 418977\n",
      "Data columns (total 3 columns):\n",
      " #   Column  Non-Null Count   Dtype \n",
      "---  ------  --------------   ----- \n",
      " 0   query   418978 non-null  object\n",
      " 1   text    418978 non-null  object\n",
      " 2   label   418978 non-null  int64 \n",
      "dtypes: int64(1), object(2)\n",
      "memory usage: 9.6+ MB\n"
     ]
    }
   ],
   "source": [
    "test_common_crawl = pd.read_json('reformatted_dataset/reformatted-common-crawl-qa.jsonl', lines=True)\n",
    "\n",
    "test_common_crawl.info(verbose=True, show_counts=True)"
   ]
  },
  {
   "cell_type": "code",
   "execution_count": 44,
   "metadata": {},
   "outputs": [
    {
     "data": {
      "text/html": [
       "<div>\n",
       "<style scoped>\n",
       "    .dataframe tbody tr th:only-of-type {\n",
       "        vertical-align: middle;\n",
       "    }\n",
       "\n",
       "    .dataframe tbody tr th {\n",
       "        vertical-align: top;\n",
       "    }\n",
       "\n",
       "    .dataframe thead th {\n",
       "        text-align: right;\n",
       "    }\n",
       "</style>\n",
       "<table border=\"1\" class=\"dataframe\">\n",
       "  <thead>\n",
       "    <tr style=\"text-align: right;\">\n",
       "      <th></th>\n",
       "      <th>query</th>\n",
       "      <th>text</th>\n",
       "      <th>label</th>\n",
       "    </tr>\n",
       "  </thead>\n",
       "  <tbody>\n",
       "    <tr>\n",
       "      <th>0</th>\n",
       "      <td>Apakah produk yang ditawarkan oleh Camay?</td>\n",
       "      <td>Skip to content Home Product Info Menu Toggle ...</td>\n",
       "      <td>1</td>\n",
       "    </tr>\n",
       "    <tr>\n",
       "      <th>1</th>\n",
       "      <td>Apakah produk yang ditawarkan oleh Camay?</td>\n",
       "      <td>Tan Sri Dato' Seri Panglima Acryl Sani bin Haj...</td>\n",
       "      <td>0</td>\n",
       "    </tr>\n",
       "    <tr>\n",
       "      <th>2</th>\n",
       "      <td>Bagaimana cara membeli produk Camay?</td>\n",
       "      <td>Skip to content Home Product Info Menu Toggle ...</td>\n",
       "      <td>1</td>\n",
       "    </tr>\n",
       "    <tr>\n",
       "      <th>3</th>\n",
       "      <td>Bagaimana cara membeli produk Camay?</td>\n",
       "      <td>INPENS merupakan singkatan kepada Industri Pen...</td>\n",
       "      <td>0</td>\n",
       "    </tr>\n",
       "  </tbody>\n",
       "</table>\n",
       "</div>"
      ],
      "text/plain": [
       "                                       query  \\\n",
       "0  Apakah produk yang ditawarkan oleh Camay?   \n",
       "1  Apakah produk yang ditawarkan oleh Camay?   \n",
       "2       Bagaimana cara membeli produk Camay?   \n",
       "3       Bagaimana cara membeli produk Camay?   \n",
       "\n",
       "                                                text  label  \n",
       "0  Skip to content Home Product Info Menu Toggle ...      1  \n",
       "1  Tan Sri Dato' Seri Panglima Acryl Sani bin Haj...      0  \n",
       "2  Skip to content Home Product Info Menu Toggle ...      1  \n",
       "3  INPENS merupakan singkatan kepada Industri Pen...      0  "
      ]
     },
     "execution_count": 44,
     "metadata": {},
     "output_type": "execute_result"
    }
   ],
   "source": [
    "test_common_crawl.head(4)"
   ]
  },
  {
   "cell_type": "markdown",
   "metadata": {},
   "source": [
    "##### 1.7.3 hansard"
   ]
  },
  {
   "cell_type": "code",
   "execution_count": 39,
   "metadata": {},
   "outputs": [
    {
     "data": {
      "application/vnd.jupyter.widget-view+json": {
       "model_id": "4a34783bd2e14f7ea8203b59d78659a7",
       "version_major": 2,
       "version_minor": 0
      },
      "text/plain": [
       "  0%|          | 0/2119 [00:00<?, ?it/s]"
      ]
     },
     "metadata": {},
     "output_type": "display_data"
    }
   ],
   "source": [
    "# Save file\n",
    "max_worker = 20\n",
    "\n",
    "with ThreadPoolExecutor(max_workers=max_worker) as executor:\n",
    "    for _ in tqdm(range(0, len(data_hansard), max_worker)):\n",
    "        futures = {executor.submit(unpack_chatgptqa, t, data_common_crawl, False, True): t for t in data_hansard[_: _ + max_worker]}\n",
    "\n",
    "        for future in as_completed(futures):\n",
    "            result = future.result()\n",
    "            if result:\n",
    "                for r in result:\n",
    "                    with open('reformatted_dataset/reformatted-hansard-qa.jsonl', 'a') as final:\n",
    "                            json.dump(r, final)\n",
    "                            final.write('\\n')"
   ]
  },
  {
   "cell_type": "code",
   "execution_count": 45,
   "metadata": {},
   "outputs": [
    {
     "name": "stdout",
     "output_type": "stream",
     "text": [
      "<class 'pandas.core.frame.DataFrame'>\n",
      "RangeIndex: 254228 entries, 0 to 254227\n",
      "Data columns (total 3 columns):\n",
      " #   Column  Non-Null Count   Dtype \n",
      "---  ------  --------------   ----- \n",
      " 0   query   254228 non-null  object\n",
      " 1   text    254228 non-null  object\n",
      " 2   label   254228 non-null  int64 \n",
      "dtypes: int64(1), object(2)\n",
      "memory usage: 5.8+ MB\n"
     ]
    }
   ],
   "source": [
    "test_hansard = pd.read_json('reformatted_dataset/reformatted-hansard-qa.jsonl', lines=True)\n",
    "\n",
    "test_hansard.info(verbose=True, show_counts=True)"
   ]
  },
  {
   "cell_type": "code",
   "execution_count": 46,
   "metadata": {},
   "outputs": [
    {
     "data": {
      "text/html": [
       "<div>\n",
       "<style scoped>\n",
       "    .dataframe tbody tr th:only-of-type {\n",
       "        vertical-align: middle;\n",
       "    }\n",
       "\n",
       "    .dataframe tbody tr th {\n",
       "        vertical-align: top;\n",
       "    }\n",
       "\n",
       "    .dataframe thead th {\n",
       "        text-align: right;\n",
       "    }\n",
       "</style>\n",
       "<table border=\"1\" class=\"dataframe\">\n",
       "  <thead>\n",
       "    <tr style=\"text-align: right;\">\n",
       "      <th></th>\n",
       "      <th>query</th>\n",
       "      <th>text</th>\n",
       "      <th>label</th>\n",
       "    </tr>\n",
       "  </thead>\n",
       "  <tbody>\n",
       "    <tr>\n",
       "      <th>0</th>\n",
       "      <td>Apakah inisiatif dan tindakan agresif kementer...</td>\n",
       "      <td>\\n12                                          ...</td>\n",
       "      <td>1</td>\n",
       "    </tr>\n",
       "    <tr>\n",
       "      <th>1</th>\n",
       "      <td>Apakah inisiatif dan tindakan agresif kementer...</td>\n",
       "      <td>Home Search Browse Browse By Body Type Sedan H...</td>\n",
       "      <td>0</td>\n",
       "    </tr>\n",
       "    <tr>\n",
       "      <th>2</th>\n",
       "      <td>Apakah senarai produk-produk minuman yang tela...</td>\n",
       "      <td>\\n12                                          ...</td>\n",
       "      <td>1</td>\n",
       "    </tr>\n",
       "    <tr>\n",
       "      <th>3</th>\n",
       "      <td>Apakah senarai produk-produk minuman yang tela...</td>\n",
       "      <td>Courses Institution Essential Guide Scholarshi...</td>\n",
       "      <td>0</td>\n",
       "    </tr>\n",
       "  </tbody>\n",
       "</table>\n",
       "</div>"
      ],
      "text/plain": [
       "                                               query  \\\n",
       "0  Apakah inisiatif dan tindakan agresif kementer...   \n",
       "1  Apakah inisiatif dan tindakan agresif kementer...   \n",
       "2  Apakah senarai produk-produk minuman yang tela...   \n",
       "3  Apakah senarai produk-produk minuman yang tela...   \n",
       "\n",
       "                                                text  label  \n",
       "0  \\n12                                          ...      1  \n",
       "1  Home Search Browse Browse By Body Type Sedan H...      0  \n",
       "2  \\n12                                          ...      1  \n",
       "3  Courses Institution Essential Guide Scholarshi...      0  "
      ]
     },
     "execution_count": 46,
     "metadata": {},
     "output_type": "execute_result"
    }
   ],
   "source": [
    "test_hansard.head(4)"
   ]
  },
  {
   "cell_type": "markdown",
   "metadata": {},
   "source": [
    "### 2.0 Convert to Mosaic"
   ]
  },
  {
   "cell_type": "code",
   "execution_count": 2,
   "metadata": {},
   "outputs": [],
   "source": [
    "# Source: https://docs.mosaicml.com/projects/streaming/en/latest/fundamentals/dataset_conversion_guide.html\n",
    "\n",
    "columns = {\n",
    "    'query': 'str',\n",
    "    'text': 'str',\n",
    "    'label': 'int8',\n",
    "}\n",
    "\n",
    "compression = 'zstd'\n",
    "hashes = 'sha1', 'xxh64'"
   ]
  },
  {
   "cell_type": "markdown",
   "metadata": {},
   "source": [
    "We should use a linux command next time!\n",
    "\n",
    "```\n",
    "!cat file1.jsonl file2.jsonl file3.jsonl > combined.jsonl\n",
    "```"
   ]
  },
  {
   "cell_type": "code",
   "execution_count": 8,
   "metadata": {},
   "outputs": [
    {
     "data": {
      "text/plain": [
       "['reformatted_dataset/reformatted-common-crawl-qa.jsonl',\n",
       " 'reformatted_dataset/reformatted-facebook.jsonl',\n",
       " 'reformatted_dataset/reformatted-hansard-qa.jsonl',\n",
       " 'reformatted_dataset/reformatted-iium-confession.jsonl',\n",
       " 'reformatted_dataset/reformatted-mining-b-cari-com-my.jsonl',\n",
       " 'reformatted_dataset/reformatted-mining-summarization.jsonl',\n",
       " 'reformatted_dataset/reformatted-news.jsonl',\n",
       " 'reformatted_dataset/reformatted-twitter.jsonl',\n",
       " 'reformatted_dataset/reformatted-wikipedia-qa.jsonl']"
      ]
     },
     "execution_count": 8,
     "metadata": {},
     "output_type": "execute_result"
    }
   ],
   "source": [
    "folders = sorted(glob.glob('reformatted_dataset/reformatted-*.jsonl'))\n",
    "folders"
   ]
  },
  {
   "cell_type": "code",
   "execution_count": 26,
   "metadata": {},
   "outputs": [
    {
     "name": "stdout",
     "output_type": "stream",
     "text": [
      "0\n"
     ]
    },
    {
     "data": {
      "application/vnd.jupyter.widget-view+json": {
       "model_id": "2db3c87ae897487e8d8da10328b97840",
       "version_major": 2,
       "version_minor": 0
      },
      "text/plain": [
       "0it [00:00, ?it/s]"
      ]
     },
     "metadata": {},
     "output_type": "display_data"
    },
    {
     "name": "stdout",
     "output_type": "stream",
     "text": [
      "No. of empty rows:  0\n",
      "\n",
      "1\n"
     ]
    },
    {
     "data": {
      "application/vnd.jupyter.widget-view+json": {
       "model_id": "80a45009cc984ae3817767f3d9365889",
       "version_major": 2,
       "version_minor": 0
      },
      "text/plain": [
       "0it [00:00, ?it/s]"
      ]
     },
     "metadata": {},
     "output_type": "display_data"
    },
    {
     "name": "stdout",
     "output_type": "stream",
     "text": [
      "No. of empty rows:  0\n",
      "\n",
      "2\n"
     ]
    },
    {
     "data": {
      "application/vnd.jupyter.widget-view+json": {
       "model_id": "f7c3ee46fcef488ba1df6e1aae949b34",
       "version_major": 2,
       "version_minor": 0
      },
      "text/plain": [
       "0it [00:00, ?it/s]"
      ]
     },
     "metadata": {},
     "output_type": "display_data"
    },
    {
     "name": "stdout",
     "output_type": "stream",
     "text": [
      "No. of empty rows:  2\n",
      "\n",
      "3\n"
     ]
    },
    {
     "data": {
      "application/vnd.jupyter.widget-view+json": {
       "model_id": "a73403ccf9cb4c4eb965b408a343fb36",
       "version_major": 2,
       "version_minor": 0
      },
      "text/plain": [
       "0it [00:00, ?it/s]"
      ]
     },
     "metadata": {},
     "output_type": "display_data"
    },
    {
     "name": "stdout",
     "output_type": "stream",
     "text": [
      "No. of empty rows:  0\n",
      "\n",
      "4\n"
     ]
    },
    {
     "data": {
      "application/vnd.jupyter.widget-view+json": {
       "model_id": "40856c8229e14e1c8ff8a536810fadbd",
       "version_major": 2,
       "version_minor": 0
      },
      "text/plain": [
       "0it [00:00, ?it/s]"
      ]
     },
     "metadata": {},
     "output_type": "display_data"
    },
    {
     "name": "stdout",
     "output_type": "stream",
     "text": [
      "No. of empty rows:  2732\n",
      "\n",
      "5\n"
     ]
    },
    {
     "data": {
      "application/vnd.jupyter.widget-view+json": {
       "model_id": "3dc780070ffb45b7b4426692adba9a60",
       "version_major": 2,
       "version_minor": 0
      },
      "text/plain": [
       "0it [00:00, ?it/s]"
      ]
     },
     "metadata": {},
     "output_type": "display_data"
    },
    {
     "name": "stdout",
     "output_type": "stream",
     "text": [
      "No. of empty rows:  54053\n",
      "\n",
      "6\n"
     ]
    },
    {
     "data": {
      "application/vnd.jupyter.widget-view+json": {
       "model_id": "2e2896862dc04f7286a87c56200bcf6d",
       "version_major": 2,
       "version_minor": 0
      },
      "text/plain": [
       "0it [00:00, ?it/s]"
      ]
     },
     "metadata": {},
     "output_type": "display_data"
    },
    {
     "name": "stdout",
     "output_type": "stream",
     "text": [
      "No. of empty rows:  0\n",
      "\n",
      "7\n"
     ]
    },
    {
     "data": {
      "application/vnd.jupyter.widget-view+json": {
       "model_id": "3ec06cd73afa49178a7e93a21a32d8f9",
       "version_major": 2,
       "version_minor": 0
      },
      "text/plain": [
       "0it [00:00, ?it/s]"
      ]
     },
     "metadata": {},
     "output_type": "display_data"
    },
    {
     "name": "stdout",
     "output_type": "stream",
     "text": [
      "No. of empty rows:  1\n",
      "\n",
      "8\n"
     ]
    },
    {
     "data": {
      "application/vnd.jupyter.widget-view+json": {
       "model_id": "bec6131047c047d6aff8bd8d5ad506f7",
       "version_major": 2,
       "version_minor": 0
      },
      "text/plain": [
       "0it [00:00, ?it/s]"
      ]
     },
     "metadata": {},
     "output_type": "display_data"
    },
    {
     "name": "stdout",
     "output_type": "stream",
     "text": [
      "No. of empty rows:  0\n",
      "\n"
     ]
    }
   ],
   "source": [
    "with MDSWriter(out='mosaic-dataset-all', columns=columns, compression=None, hashes=hashes) as out:\n",
    "    for no, f in enumerate(folders):\n",
    "        print(no)\n",
    "        empty_rows = 0\n",
    "        with open(f) as fopen:\n",
    "            for data in tqdm(fopen):\n",
    "                data = json.loads(data)\n",
    "                if (data == {} or data['query'] == None or data['text'] == None or data['label'] == None or data['query'] == \"\" or data['text'] == \"\" or data['label'] not in [0, 1]):\n",
    "                    empty_rows += 1\n",
    "                    continue\n",
    "                out.write(data)\n",
    "            \n",
    "        print(\"No. of empty rows: \", empty_rows)\n",
    "        print(\"\")"
   ]
  },
  {
   "cell_type": "code",
   "execution_count": 30,
   "metadata": {},
   "outputs": [
    {
     "data": {
      "text/plain": [
       "{'label': 1,\n",
       " 'query': 'Bagaimana cara membeli produk Camay?',\n",
       " 'text': 'Skip to content Home Product Info Menu Toggle Camay Repellent Repel Guard Plus+ Camay Foliar Fertilizer About Us Contact Us My account My Agent Menu Toggle Agents Listed Register Agent 0 Main Menu Home Product Info Menu Toggle Camay Repellent Repel Guard Plus+ Camay Foliar Fertilizer About Us Contact Us My account My Agent Menu Toggle Agents Listed Register Agent My Agent Nak beli produk Camay? Jom klik pada senarai ejen-ejen yang berdaftar dengan kami. Klik pada negeri pilihan anda,dan pilih ejen-ejen kegemaran anda mengikut kawasan pilihan anda. + Johor (35) Nama Lokasi Bandar Penawar (Klik nama untuk WhatsApp, klik lokasi untuk Google Map) LAILI BANDAR PENAWAR Bandar Penawar, Kota Tinggi (Klik nama untuk WhatsApp, klik lokasi untuk Google Map) NOR ALYDA BANDAR PENAWAR Batu Pahat (Klik nama untuk WhatsApp, klik lokasi untuk Google Map) KAMILAH BATU PAHAT NURAINI RENGIT NOR IZYANTI BATU PAHAT ZANITA BATU PAHAT Batu Pahat, (Klik nama untuk WhatsApp, klik lokasi untuk Google Map) FARAHNAJIHAH @FARAH-IZUF SERI MEDAN Gelang Patah (Klik nama untuk WhatsApp, klik lokasi untuk Google Map) FARHANA JALAN SUNGAI KELADI BAWAH Johor Bahru (Klik nama untuk WhatsApp, klik lokasi untuk Google Map) HJ RAHMAN JALAN NIPAH (1 - 19) ASNITA TAMAN PERLING K MAHENDRAN TAMAN KEMPAS MASTURA RAJAB JALAN DIAN UTAMA ZIRA BANDAR DATO ONN Johor Bharu (Klik nama untuk WhatsApp, klik lokasi untuk Google Map) AHMAD SALLEHIN JOHOR BHARU NORZIANA JOHOR BHARU Kluang (Klik nama untuk WhatsApp, klik lokasi untuk Google Map) ZAINAB TUNAS TAMAN SRI LAMBAK Kota Tinggi (Klik nama untuk WhatsApp, klik lokasi untuk Google Map) ROHANA KAMIS TAMAN SRI SAUJANA Kulai (Klik nama untuk WhatsApp, klik lokasi untuk Google Map) ZURAIDAH JAMEIN BANDAR KULAI Masai (Klik nama untuk WhatsApp, klik lokasi untuk Google Map) HASRUNIZAN MUHAMAD BANDAR BARU PERMAS JAYA YANZ FELDA CAHAYA BARU Muar (Klik nama untuk WhatsApp, klik lokasi untuk Google Map) NOORJULIANA MUAR ZURAIDAH MUAR Parit Raja (Klik nama untuk WhatsApp, klik lokasi untuk Google Map) NUR AISYAH PARIT RAJA Pasir Gudang (Klik nama untuk WhatsApp, klik lokasi untuk Google Map) HALIMATUZZAIMAH PASIR GUDANG HIDAYAH.HAN TAMAN KOTA MASAI SITI MARIAM PASIR GUDANG SITI ZALEHA PASIR GUDANG ZAKI PASIR GUDANG Pontian (Klik nama untuk WhatsApp, klik lokasi untuk Google Map) AZHAR PONTIAN DEN DENAN BENUT SAZALIZA PONTIAN SHAFIQAH HANIS PONTIAN Segamat (Klik nama untuk WhatsApp, klik lokasi untuk Google Map) MOHD ISMADI TAMAN YAYASAN Simpang Rengam (Klik nama untuk WhatsApp, klik lokasi untuk Google Map) AINUR DAUD SIMPANG RENGAM Tampoi (Klik nama untuk WhatsApp, klik lokasi untuk Google Map) MAUIZZAH TAMPOI + Kedah (120) Nama Lokasi Alor Setar (Klik nama untuk WhatsApp, klik lokasi untuk Google Map) ABD RAHMAN PEKAN KOTA SARANG SEMUT ADHWA HUSNA ALOR SETAR AINUN SYATIROH TAMAN LAMAN KUDA AMIRUL ZHARIF HUTAN KAMPUNG CAMAY HQ TAMAN MUSTIKA HURUN AIN MERGONG ISKANDAR E TAMAN UDA MOHAMAD PAUZI ALOR SETAR KAMIL AHMAD TAMAN HIDAYAH MOHD NAIM TANDOP AZUREEN ALOR SETAR HAFIZ IDRIS HUTAN KAMPUNG NASHARUDDIN TAMAN MALAI AIMAN AWANG JALAN SULTANAH MUHAMED AMIN ALOR SETAR MUHAMMAD KHIRUDDIN ALOR SETAR NASUHA JALAN KUBUR PANJANG ZA FARIZAH HUTAN KAMPUNG AIN BUKIT BESAR AZIAH JALAN BUNGA RAYA HAFIZAH HUTAN KAMPUNG NORMA'}"
      ]
     },
     "execution_count": 30,
     "metadata": {},
     "output_type": "execute_result"
    }
   ],
   "source": [
    "# testing\n",
    "test_mosaic_dataset = LocalDataset(local=\"mosaic-dataset-all\")\n",
    "test_mosaic_dataset[2]"
   ]
  },
  {
   "cell_type": "code",
   "execution_count": 32,
   "metadata": {},
   "outputs": [
    {
     "data": {
      "text/plain": [
       "29304582"
      ]
     },
     "execution_count": 32,
     "metadata": {},
     "output_type": "execute_result"
    }
   ],
   "source": [
    "# bapak dia!\n",
    "test_mosaic_dataset.size"
   ]
  },
  {
   "cell_type": "code",
   "execution_count": 33,
   "metadata": {},
   "outputs": [
    {
     "name": "stdout",
     "output_type": "stream",
     "text": [
      "Filesystem      Size  Used Avail Use% Mounted on\n",
      "overlay         124G   37G   88G  30% /\n",
      "tmpfs            64M     0   64M   0% /dev\n",
      "/dev/sdc        984G  467G  517G  48% /home/ubuntu\n",
      "/dev/sdd        9.8G  131M  9.7G   2% /dev/shm\n",
      "/dev/root       124G   37G   88G  30% /etc/hosts\n",
      "tmpfs           205G   12K  205G   1% /run/secrets/kubernetes.io/serviceaccount\n",
      "tmpfs           109G   12K  109G   1% /proc/driver/nvidia\n",
      "tmpfs            44G   20M   44G   1% /run/nvidia-persistenced/socket\n",
      "tmpfs           109G     0  109G   0% /proc/acpi\n",
      "tmpfs           109G     0  109G   0% /proc/scsi\n",
      "tmpfs           109G     0  109G   0% /sys/firmware\n"
     ]
    }
   ],
   "source": [
    "!df -h"
   ]
  }
 ],
 "metadata": {
  "kernelspec": {
   "display_name": "Python 3 (ipykernel)",
   "language": "python",
   "name": "python3"
  },
  "language_info": {
   "codemirror_mode": {
    "name": "ipython",
    "version": 3
   },
   "file_extension": ".py",
   "mimetype": "text/x-python",
   "name": "python",
   "nbconvert_exporter": "python",
   "pygments_lexer": "ipython3",
   "version": "3.10.12"
  }
 },
 "nbformat": 4,
 "nbformat_minor": 2
}
