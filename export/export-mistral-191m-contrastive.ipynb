{
 "cells": [
  {
   "cell_type": "code",
   "execution_count": 1,
   "id": "f2f27bf2",
   "metadata": {},
   "outputs": [],
   "source": [
    "from mistral_contrastive import MistralModelEmbedding\n",
    "from transformers import AutoTokenizer\n",
    "from transformers.trainer_utils import get_last_checkpoint\n",
    "from sklearn.metrics.pairwise import cosine_similarity\n",
    "import torch"
   ]
  },
  {
   "cell_type": "code",
   "execution_count": 2,
   "id": "67c76c89",
   "metadata": {},
   "outputs": [
    {
     "data": {
      "text/plain": [
       "'embedding-model-mistral-191m-contrastive/checkpoint-107700'"
      ]
     },
     "execution_count": 2,
     "metadata": {},
     "output_type": "execute_result"
    }
   ],
   "source": [
    "checkpoint = get_last_checkpoint('embedding-model-mistral-191m-contrastive')\n",
    "checkpoint"
   ]
  },
  {
   "cell_type": "code",
   "execution_count": 3,
   "id": "4510822c",
   "metadata": {},
   "outputs": [],
   "source": [
    "MistralModelEmbedding.register_for_auto_class()"
   ]
  },
  {
   "cell_type": "code",
   "execution_count": 4,
   "id": "f0cc288f",
   "metadata": {},
   "outputs": [],
   "source": [
    "model = MistralModelEmbedding.from_pretrained(checkpoint)"
   ]
  },
  {
   "cell_type": "code",
   "execution_count": 5,
   "id": "b502f561",
   "metadata": {},
   "outputs": [],
   "source": [
    "tokenizer = AutoTokenizer.from_pretrained(checkpoint)"
   ]
  },
  {
   "cell_type": "code",
   "execution_count": 6,
   "id": "71c38af9",
   "metadata": {},
   "outputs": [],
   "source": [
    "input_ids = tokenizer(\n",
    "    [\n",
    "        'tak suka ayam', \n",
    "        'Isu perkauman: Kerajaan didakwa terdesak kaitkan pemimpin PN',\n",
    "        'nasi ayam tu sedap', \n",
    "        'suka ikan goreng?',\n",
    "        'Kerajaan tidak akan berkompromi dengan isu perkauman dan agama yang dimanipulasi pihak tertentu untuk mengganggu-gugat kestabilan negara serta ketenteraman rakyat.',\n",
    "        'rasis bodo mamat tu',\n",
    "        'kerajaan sekarang xde otak',\n",
    "        'aku nak sukan olimpik ni',\n",
    "        'malaysia dapat x pingat kt sukan asia?',\n",
    "        'pingat gangsa menerusi terjun dan olahraga pada hari ke-10',\n",
    "        'Kerajaan negeri kini dibenarkan melaksanakan penerokaan awal unsur nadir bumi (REE) berdasarkan prosedur operasi standard (SOP) sedia ada untuk perlombongan nadir bumi dan mineral.',\n",
    "        'KONTINJEN Malaysia mendekati sasaran 27 pingat di Sukan Asia kali ini esok, selepas menuai dua lagi pingat gangsa menerusi terjun dan olahraga pada hari ke-10 pertandingan, pada Selasa.'\n",
    "    ], \n",
    "    return_tensors = 'pt', padding = True)"
   ]
  },
  {
   "cell_type": "code",
   "execution_count": 7,
   "id": "184db078",
   "metadata": {},
   "outputs": [
    {
     "name": "stdout",
     "output_type": "stream",
     "text": [
      "CPU times: user 17min 27s, sys: 13.6 s, total: 17min 40s\n",
      "Wall time: 12.3 s\n"
     ]
    },
    {
     "data": {
      "text/plain": [
       "(12, 768)"
      ]
     },
     "execution_count": 7,
     "metadata": {},
     "output_type": "execute_result"
    }
   ],
   "source": [
    "%%time\n",
    "\n",
    "v = model.encode(input_ids).detach().numpy()\n",
    "v.shape"
   ]
  },
  {
   "cell_type": "code",
   "execution_count": 8,
   "id": "0e0fe30b",
   "metadata": {},
   "outputs": [
    {
     "data": {
      "text/plain": [
       "array([[1.        , 0.4756615 , 0.9088118 , 0.9245422 , 0.32263857,\n",
       "        0.79837894, 0.746319  , 0.60808754, 0.4491161 , 0.47871774,\n",
       "        0.5173923 , 0.42798412],\n",
       "       [0.4756615 , 1.        , 0.47787422, 0.4015452 , 0.92460406,\n",
       "        0.5760467 , 0.772427  , 0.58299834, 0.59693277, 0.6706263 ,\n",
       "        0.7579678 , 0.59883064],\n",
       "       [0.9088118 , 0.47787422, 1.        , 0.9538574 , 0.34636435,\n",
       "        0.74403113, 0.64340216, 0.5541371 , 0.5127612 , 0.546999  ,\n",
       "        0.63696635, 0.47874686],\n",
       "       [0.9245422 , 0.4015452 , 0.9538574 , 1.        , 0.2727156 ,\n",
       "        0.7115822 , 0.5845044 , 0.502108  , 0.4680897 , 0.44147253,\n",
       "        0.5486913 , 0.4071166 ],\n",
       "       [0.32263857, 0.92460406, 0.34636435, 0.2727156 , 1.        ,\n",
       "        0.50207466, 0.625951  , 0.5038048 , 0.5424905 , 0.554269  ,\n",
       "        0.6405086 , 0.5190884 ],\n",
       "       [0.79837894, 0.5760467 , 0.74403113, 0.7115822 , 0.50207466,\n",
       "        0.9999999 , 0.7163043 , 0.5827427 , 0.44447988, 0.4293713 ,\n",
       "        0.40108037, 0.39345548],\n",
       "       [0.746319  , 0.772427  , 0.64340216, 0.5845044 , 0.625951  ,\n",
       "        0.7163043 , 1.0000002 , 0.743596  , 0.5524933 , 0.6543776 ,\n",
       "        0.64673996, 0.53869677],\n",
       "       [0.60808754, 0.58299834, 0.5541371 , 0.502108  , 0.5038048 ,\n",
       "        0.5827427 , 0.743596  , 1.0000001 , 0.8431281 , 0.78150994,\n",
       "        0.5258538 , 0.8255945 ],\n",
       "       [0.4491161 , 0.59693277, 0.5127612 , 0.4680897 , 0.5424905 ,\n",
       "        0.44447988, 0.5524933 , 0.8431281 , 0.9999999 , 0.7842206 ,\n",
       "        0.6041845 , 0.89979565],\n",
       "       [0.47871774, 0.6706263 , 0.546999  , 0.44147253, 0.554269  ,\n",
       "        0.4293713 , 0.6543776 , 0.78150994, 0.7842206 , 1.        ,\n",
       "        0.7023992 , 0.8779229 ],\n",
       "       [0.5173923 , 0.7579678 , 0.63696635, 0.5486913 , 0.6405086 ,\n",
       "        0.40108037, 0.64673996, 0.5258538 , 0.6041845 , 0.7023992 ,\n",
       "        0.9999999 , 0.5972316 ],\n",
       "       [0.42798412, 0.59883064, 0.47874686, 0.4071166 , 0.5190884 ,\n",
       "        0.39345548, 0.53869677, 0.8255945 , 0.89979565, 0.8779229 ,\n",
       "        0.5972316 , 0.99999964]], dtype=float32)"
      ]
     },
     "execution_count": 8,
     "metadata": {},
     "output_type": "execute_result"
    }
   ],
   "source": [
    "cosine_similarity(v)"
   ]
  },
  {
   "cell_type": "code",
   "execution_count": 9,
   "id": "ffcf24ef",
   "metadata": {},
   "outputs": [
    {
     "data": {
      "application/vnd.jupyter.widget-view+json": {
       "model_id": "d8a0131156c54a809bcb79b937268f25",
       "version_major": 2,
       "version_minor": 0
      },
      "text/plain": [
       "model.safetensors:   0%|          | 0.00/667M [00:00<?, ?B/s]"
      ]
     },
     "metadata": {},
     "output_type": "display_data"
    },
    {
     "data": {
      "text/plain": [
       "CommitInfo(commit_url='https://huggingface.co/mesolitica/mistral-embedding-191m-8k-contrastive/commit/2618b236a34408b0fb45b1c9fcc064e8c23d5528', commit_message='Upload model', commit_description='', oid='2618b236a34408b0fb45b1c9fcc064e8c23d5528', pr_url=None, pr_revision=None, pr_num=None)"
      ]
     },
     "execution_count": 9,
     "metadata": {},
     "output_type": "execute_result"
    }
   ],
   "source": [
    "model.push_to_hub('mesolitica/mistral-embedding-191m-8k-contrastive', safe_serialization = True)"
   ]
  },
  {
   "cell_type": "code",
   "execution_count": 10,
   "id": "16e974af",
   "metadata": {},
   "outputs": [
    {
     "data": {
      "text/plain": [
       "CommitInfo(commit_url='https://huggingface.co/mesolitica/mistral-embedding-191m-8k-contrastive/commit/8f5859c74a4070105a868ded78492256b8a8058c', commit_message='Upload tokenizer', commit_description='', oid='8f5859c74a4070105a868ded78492256b8a8058c', pr_url=None, pr_revision=None, pr_num=None)"
      ]
     },
     "execution_count": 10,
     "metadata": {},
     "output_type": "execute_result"
    }
   ],
   "source": [
    "tokenizer.push_to_hub('mesolitica/mistral-embedding-191m-8k-contrastive', safe_serialization = True)"
   ]
  }
 ],
 "metadata": {
  "kernelspec": {
   "display_name": "Python 3 (ipykernel)",
   "language": "python",
   "name": "python3"
  },
  "language_info": {
   "codemirror_mode": {
    "name": "ipython",
    "version": 3
   },
   "file_extension": ".py",
   "mimetype": "text/x-python",
   "name": "python",
   "nbconvert_exporter": "python",
   "pygments_lexer": "ipython3",
   "version": "3.10.12"
  }
 },
 "nbformat": 4,
 "nbformat_minor": 5
}
