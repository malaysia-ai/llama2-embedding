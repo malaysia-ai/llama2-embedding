{
 "cells": [
  {
   "cell_type": "code",
   "execution_count": 1,
   "id": "c6e01a61",
   "metadata": {},
   "outputs": [
    {
     "name": "stderr",
     "output_type": "stream",
     "text": [
      "/home/ubuntu/.local/lib/python3.10/site-packages/torch/cuda/__init__.py:611: UserWarning: Can't initialize NVML\n",
      "  warnings.warn(\"Can't initialize NVML\")\n"
     ]
    }
   ],
   "source": [
    "from modeling import LlamaModelEmbedding\n",
    "from transformers import AutoTokenizer\n",
    "from transformers.trainer_utils import get_last_checkpoint\n",
    "from sklearn.metrics.pairwise import cosine_similarity\n",
    "import torch"
   ]
  },
  {
   "cell_type": "code",
   "execution_count": 2,
   "id": "e24defd7",
   "metadata": {},
   "outputs": [
    {
     "data": {
      "text/plain": [
       "'embedding-model-llama-600m/checkpoint-99300'"
      ]
     },
     "execution_count": 2,
     "metadata": {},
     "output_type": "execute_result"
    }
   ],
   "source": [
    "checkpoint = get_last_checkpoint('embedding-model-llama-600m')\n",
    "checkpoint"
   ]
  },
  {
   "cell_type": "code",
   "execution_count": 4,
   "id": "21b76231",
   "metadata": {},
   "outputs": [],
   "source": [
    "LlamaModelEmbedding.register_for_auto_class()"
   ]
  },
  {
   "cell_type": "code",
   "execution_count": 5,
   "id": "9ebc83ea",
   "metadata": {},
   "outputs": [],
   "source": [
    "model = LlamaModelEmbedding.from_pretrained(checkpoint)"
   ]
  },
  {
   "cell_type": "code",
   "execution_count": 8,
   "id": "43d7cbd7",
   "metadata": {},
   "outputs": [],
   "source": [
    "tokenizer = AutoTokenizer.from_pretrained(checkpoint)"
   ]
  },
  {
   "cell_type": "code",
   "execution_count": 9,
   "id": "e9d4bcbd",
   "metadata": {},
   "outputs": [],
   "source": [
    "input_ids = tokenizer(\n",
    "    [\n",
    "        'tak suka ayam', \n",
    "        'Isu perkauman: Kerajaan didakwa terdesak kaitkan pemimpin PN',\n",
    "        'nasi ayam tu sedap', \n",
    "        'suka ikan goreng?',\n",
    "        'Kerajaan tidak akan berkompromi dengan isu perkauman dan agama yang dimanipulasi pihak tertentu untuk mengganggu-gugat kestabilan negara serta ketenteraman rakyat.',\n",
    "        'rasis bodo mamat tu',\n",
    "        'kerajaan sekarang xde otak',\n",
    "        'aku nak sukan olimpik ni',\n",
    "        'malaysia dapat x pingat kt sukan asia?',\n",
    "        'pingat gangsa menerusi terjun dan olahraga pada hari ke-10',\n",
    "        'Kerajaan negeri kini dibenarkan melaksanakan penerokaan awal unsur nadir bumi (REE) berdasarkan prosedur operasi standard (SOP) sedia ada untuk perlombongan nadir bumi dan mineral.',\n",
    "        'KONTINJEN Malaysia mendekati sasaran 27 pingat di Sukan Asia kali ini esok, selepas menuai dua lagi pingat gangsa menerusi terjun dan olahraga pada hari ke-10 pertandingan, pada Selasa.'\n",
    "    ], \n",
    "    return_tensors = 'pt', padding = True)"
   ]
  },
  {
   "cell_type": "code",
   "execution_count": 10,
   "id": "71e7c127",
   "metadata": {},
   "outputs": [
    {
     "data": {
      "text/plain": [
       "(12, 1536)"
      ]
     },
     "execution_count": 10,
     "metadata": {},
     "output_type": "execute_result"
    }
   ],
   "source": [
    "v = model.encode(input_ids).detach().numpy()\n",
    "v.shape"
   ]
  },
  {
   "cell_type": "code",
   "execution_count": 11,
   "id": "20a79e11",
   "metadata": {},
   "outputs": [
    {
     "data": {
      "text/plain": [
       "array([[1.        , 0.35207948, 0.7954129 , 0.6274367 , 0.38205522,\n",
       "        0.53923506, 0.43435752, 0.5172041 , 0.4743424 , 0.43239677,\n",
       "        0.34496745, 0.27360207],\n",
       "       [0.35207948, 1.0000002 , 0.2952634 , 0.3457355 , 0.7717626 ,\n",
       "        0.4934011 , 0.5126793 , 0.3369916 , 0.3820067 , 0.5042457 ,\n",
       "        0.45868862, 0.31847036],\n",
       "       [0.7954129 , 0.2952634 , 0.99999994, 0.6390436 , 0.33339214,\n",
       "        0.56030846, 0.38565415, 0.39954954, 0.44265866, 0.40519938,\n",
       "        0.37676644, 0.23306358],\n",
       "       [0.6274367 , 0.3457355 , 0.6390436 , 1.        , 0.34842467,\n",
       "        0.4642303 , 0.34963584, 0.5347381 , 0.45627663, 0.43715984,\n",
       "        0.36146566, 0.2862077 ],\n",
       "       [0.38205522, 0.7717626 , 0.33339214, 0.34842467, 0.99999964,\n",
       "        0.45804232, 0.5464319 , 0.32252565, 0.31588343, 0.50387686,\n",
       "        0.55813617, 0.34651646],\n",
       "       [0.53923506, 0.4934011 , 0.56030846, 0.4642303 , 0.45804232,\n",
       "        1.        , 0.4598997 , 0.4166965 , 0.42132023, 0.47508347,\n",
       "        0.31901935, 0.27654564],\n",
       "       [0.43435752, 0.5126793 , 0.38565415, 0.34963584, 0.5464319 ,\n",
       "        0.4598997 , 1.0000002 , 0.41360697, 0.46346515, 0.45048097,\n",
       "        0.44565043, 0.29682645],\n",
       "       [0.5172041 , 0.3369916 , 0.39954954, 0.5347381 , 0.32252565,\n",
       "        0.4166965 , 0.41360697, 0.9999999 , 0.71381104, 0.62193155,\n",
       "        0.37504905, 0.6042974 ],\n",
       "       [0.4743424 , 0.3820067 , 0.44265866, 0.45627663, 0.31588343,\n",
       "        0.42132023, 0.46346515, 0.71381104, 1.0000002 , 0.6322877 ,\n",
       "        0.4193649 , 0.6666991 ],\n",
       "       [0.43239677, 0.5042457 , 0.40519938, 0.43715984, 0.50387686,\n",
       "        0.47508347, 0.45048097, 0.62193155, 0.6322877 , 1.        ,\n",
       "        0.45207173, 0.7331029 ],\n",
       "       [0.34496745, 0.45868862, 0.37676644, 0.36146566, 0.55813617,\n",
       "        0.31901935, 0.44565043, 0.37504905, 0.4193649 , 0.45207173,\n",
       "        1.        , 0.44700184],\n",
       "       [0.27360207, 0.31847036, 0.23306358, 0.2862077 , 0.34651646,\n",
       "        0.27654564, 0.29682645, 0.6042974 , 0.6666991 , 0.7331029 ,\n",
       "        0.44700184, 0.99999994]], dtype=float32)"
      ]
     },
     "execution_count": 11,
     "metadata": {},
     "output_type": "execute_result"
    }
   ],
   "source": [
    "cosine_similarity(v)"
   ]
  },
  {
   "cell_type": "code",
   "execution_count": 12,
   "id": "2dce49c2",
   "metadata": {},
   "outputs": [
    {
     "data": {
      "application/vnd.jupyter.widget-view+json": {
       "model_id": "ebeb760bfcf146998c7481ca6d8c1ae4",
       "version_major": 2,
       "version_minor": 0
      },
      "text/plain": [
       "model.safetensors:   0%|          | 0.00/2.17G [00:00<?, ?B/s]"
      ]
     },
     "metadata": {},
     "output_type": "display_data"
    },
    {
     "data": {
      "text/plain": [
       "CommitInfo(commit_url='https://huggingface.co/mesolitica/llama2-embedding-600m-8k/commit/0f99f61b847fd82585747f9cd146d8285a94b823', commit_message='Upload model', commit_description='', oid='0f99f61b847fd82585747f9cd146d8285a94b823', pr_url=None, pr_revision=None, pr_num=None)"
      ]
     },
     "execution_count": 12,
     "metadata": {},
     "output_type": "execute_result"
    }
   ],
   "source": [
    "model.push_to_hub('mesolitica/llama2-embedding-600m-8k', safe_serialization = True)"
   ]
  },
  {
   "cell_type": "code",
   "execution_count": 9,
   "id": "e0a1469d",
   "metadata": {},
   "outputs": [
    {
     "data": {
      "text/plain": [
       "CommitInfo(commit_url='https://huggingface.co/mesolitica/llama2-embedding-600m-8k/commit/0208218d36f582046194e2c4bb652cba7d8289b6', commit_message='Upload tokenizer', commit_description='', oid='0208218d36f582046194e2c4bb652cba7d8289b6', pr_url=None, pr_revision=None, pr_num=None)"
      ]
     },
     "execution_count": 9,
     "metadata": {},
     "output_type": "execute_result"
    }
   ],
   "source": [
    "tokenizer.push_to_hub('mesolitica/llama2-embedding-600m-8k', safe_serialization = True)"
   ]
  },
  {
   "cell_type": "code",
   "execution_count": null,
   "id": "6805a460",
   "metadata": {},
   "outputs": [],
   "source": []
  }
 ],
 "metadata": {
  "kernelspec": {
   "display_name": "Python 3 (ipykernel)",
   "language": "python",
   "name": "python3"
  },
  "language_info": {
   "codemirror_mode": {
    "name": "ipython",
    "version": 3
   },
   "file_extension": ".py",
   "mimetype": "text/x-python",
   "name": "python",
   "nbconvert_exporter": "python",
   "pygments_lexer": "ipython3",
   "version": "3.10.12"
  }
 },
 "nbformat": 4,
 "nbformat_minor": 5
}
