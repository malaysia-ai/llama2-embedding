{
 "cells": [
  {
   "cell_type": "code",
   "execution_count": 1,
   "id": "c6e01a61",
   "metadata": {},
   "outputs": [
    {
     "name": "stderr",
     "output_type": "stream",
     "text": [
      "/home/ubuntu/.local/lib/python3.10/site-packages/torch/cuda/__init__.py:546: UserWarning: Can't initialize NVML\n",
      "  warnings.warn(\"Can't initialize NVML\")\n"
     ]
    }
   ],
   "source": [
    "from modeling import LlamaModelEmbedding\n",
    "from transformers import AutoTokenizer\n",
    "from transformers.trainer_utils import get_last_checkpoint\n",
    "from sklearn.metrics.pairwise import cosine_similarity\n",
    "import torch"
   ]
  },
  {
   "cell_type": "code",
   "execution_count": 2,
   "id": "e24defd7",
   "metadata": {},
   "outputs": [
    {
     "data": {
      "text/plain": [
       "'embedding-model-llama-600m/checkpoint-325000'"
      ]
     },
     "execution_count": 2,
     "metadata": {},
     "output_type": "execute_result"
    }
   ],
   "source": [
    "checkpoint = get_last_checkpoint('embedding-model-llama-600m')\n",
    "checkpoint"
   ]
  },
  {
   "cell_type": "code",
   "execution_count": 3,
   "id": "9ebc83ea",
   "metadata": {},
   "outputs": [],
   "source": [
    "model = LlamaModelEmbedding.from_pretrained(checkpoint)"
   ]
  },
  {
   "cell_type": "code",
   "execution_count": 4,
   "id": "43d7cbd7",
   "metadata": {},
   "outputs": [],
   "source": [
    "tokenizer = AutoTokenizer.from_pretrained(checkpoint)"
   ]
  },
  {
   "cell_type": "code",
   "execution_count": 5,
   "id": "e9d4bcbd",
   "metadata": {},
   "outputs": [],
   "source": [
    "input_ids = tokenizer(\n",
    "    [\n",
    "        'tak suka ayam', \n",
    "        'Isu perkauman: Kerajaan didakwa terdesak kaitkan pemimpin PN',\n",
    "        'nasi ayam tu sedap', \n",
    "        'suka ikan goreng?',\n",
    "        'Kerajaan tidak akan berkompromi dengan isu perkauman dan agama yang dimanipulasi pihak tertentu untuk mengganggu-gugat kestabilan negara serta ketenteraman rakyat.',\n",
    "        'rasis bodo mamat tu',\n",
    "        'kerajaan sekarang xde otak',\n",
    "        'aku nak sukan olimpik ni',\n",
    "        'malaysia dapat x pingat kt sukan asia?',\n",
    "        'pingat gangsa menerusi terjun dan olahraga pada hari ke-10',\n",
    "        'Kerajaan negeri kini dibenarkan melaksanakan penerokaan awal unsur nadir bumi (REE) berdasarkan prosedur operasi standard (SOP) sedia ada untuk perlombongan nadir bumi dan mineral.',\n",
    "        'KONTINJEN Malaysia mendekati sasaran 27 pingat di Sukan Asia kali ini esok, selepas menuai dua lagi pingat gangsa menerusi terjun dan olahraga pada hari ke-10 pertandingan, pada Selasa.'\n",
    "    ], \n",
    "    return_tensors = 'pt', padding = True)"
   ]
  },
  {
   "cell_type": "code",
   "execution_count": 6,
   "id": "71e7c127",
   "metadata": {},
   "outputs": [
    {
     "data": {
      "text/plain": [
       "(12, 1536)"
      ]
     },
     "execution_count": 6,
     "metadata": {},
     "output_type": "execute_result"
    }
   ],
   "source": [
    "v = model.encode(input_ids).detach().numpy()\n",
    "v.shape"
   ]
  },
  {
   "cell_type": "code",
   "execution_count": 7,
   "id": "20a79e11",
   "metadata": {},
   "outputs": [
    {
     "data": {
      "text/plain": [
       "array([[1.        , 0.22533628, 0.81328213, 0.7461075 , 0.12781334,\n",
       "        0.5811161 , 0.39432132, 0.39561874, 0.28274426, 0.250256  ,\n",
       "        0.0294816 , 0.13734967],\n",
       "       [0.22533628, 0.99999994, 0.20662795, 0.19316193, 0.7983842 ,\n",
       "        0.33097598, 0.5762802 , 0.2156463 , 0.29656366, 0.34081912,\n",
       "        0.44919482, 0.28983742],\n",
       "       [0.81328213, 0.20662795, 1.0000002 , 0.7739893 , 0.11358409,\n",
       "        0.6040109 , 0.28196254, 0.25532785, 0.23204644, 0.26563835,\n",
       "        0.02777403, 0.19386652],\n",
       "       [0.7461075 , 0.19316193, 0.7739893 , 1.        , 0.11524631,\n",
       "        0.5815566 , 0.24179313, 0.52481437, 0.30543417, 0.38529888,\n",
       "        0.10694189, 0.20343545],\n",
       "       [0.12781334, 0.7983842 , 0.11358409, 0.11524631, 1.        ,\n",
       "        0.3281143 , 0.57873064, 0.1756396 , 0.26296374, 0.28608406,\n",
       "        0.49387908, 0.24325064],\n",
       "       [0.5811161 , 0.33097598, 0.6040109 , 0.5815566 , 0.3281143 ,\n",
       "        1.        , 0.5123217 , 0.34263518, 0.3097422 , 0.39436662,\n",
       "        0.1845712 , 0.1852383 ],\n",
       "       [0.39432132, 0.5762802 , 0.28196254, 0.24179313, 0.57873064,\n",
       "        0.5123217 , 0.99999976, 0.28828996, 0.4090031 , 0.34262702,\n",
       "        0.3744155 , 0.16254367],\n",
       "       [0.39561874, 0.2156463 , 0.25532785, 0.52481437, 0.1756396 ,\n",
       "        0.34263518, 0.28828996, 0.99999994, 0.60146916, 0.55453455,\n",
       "        0.22392894, 0.55179954],\n",
       "       [0.28274426, 0.29656366, 0.23204644, 0.30543417, 0.26296374,\n",
       "        0.3097422 , 0.4090031 , 0.60146916, 0.99999994, 0.5788475 ,\n",
       "        0.26322466, 0.6836135 ],\n",
       "       [0.250256  , 0.34081912, 0.26563835, 0.38529888, 0.28608406,\n",
       "        0.39436662, 0.34262702, 0.55453455, 0.5788475 , 1.0000001 ,\n",
       "        0.25376216, 0.6719852 ],\n",
       "       [0.0294816 , 0.44919482, 0.02777403, 0.10694189, 0.49387908,\n",
       "        0.1845712 , 0.3744155 , 0.22392894, 0.26322466, 0.25376216,\n",
       "        1.0000002 , 0.20651542],\n",
       "       [0.13734967, 0.28983742, 0.19386652, 0.20343545, 0.24325064,\n",
       "        0.1852383 , 0.16254367, 0.55179954, 0.6836135 , 0.6719852 ,\n",
       "        0.20651542, 1.0000001 ]], dtype=float32)"
      ]
     },
     "execution_count": 7,
     "metadata": {},
     "output_type": "execute_result"
    }
   ],
   "source": [
    "cosine_similarity(v)"
   ]
  },
  {
   "cell_type": "code",
   "execution_count": 8,
   "id": "2dce49c2",
   "metadata": {},
   "outputs": [
    {
     "data": {
      "application/vnd.jupyter.widget-view+json": {
       "model_id": "376c3b1606664c57acdfa8978b3f4bce",
       "version_major": 2,
       "version_minor": 0
      },
      "text/plain": [
       "model.safetensors:   0%|          | 0.00/2.17G [00:00<?, ?B/s]"
      ]
     },
     "metadata": {},
     "output_type": "display_data"
    }
   ],
   "source": [
    "model.push_to_hub('mesolitica/llama2-embedding-600m-16k', safe_serialization = True)"
   ]
  },
  {
   "cell_type": "code",
   "execution_count": 9,
   "id": "e0a1469d",
   "metadata": {},
   "outputs": [],
   "source": [
    "tokenizer.push_to_hub('mesolitica/llama2-embedding-600m-16k', safe_serialization = True)"
   ]
  },
  {
   "cell_type": "code",
   "execution_count": null,
   "id": "8adb8b1c",
   "metadata": {},
   "outputs": [],
   "source": []
  }
 ],
 "metadata": {
  "kernelspec": {
   "display_name": "Python 3 (ipykernel)",
   "language": "python",
   "name": "python3"
  },
  "language_info": {
   "codemirror_mode": {
    "name": "ipython",
    "version": 3
   },
   "file_extension": ".py",
   "mimetype": "text/x-python",
   "name": "python",
   "nbconvert_exporter": "python",
   "pygments_lexer": "ipython3",
   "version": "3.10.12"
  }
 },
 "nbformat": 4,
 "nbformat_minor": 5
}
