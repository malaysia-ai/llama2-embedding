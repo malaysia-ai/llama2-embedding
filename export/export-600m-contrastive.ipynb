{
 "cells": [
  {
   "cell_type": "code",
   "execution_count": 1,
   "id": "f9519e84",
   "metadata": {},
   "outputs": [],
   "source": [
    "from modeling_contrastive import LlamaModelEmbedding\n",
    "from transformers import AutoTokenizer\n",
    "from transformers.trainer_utils import get_last_checkpoint\n",
    "from sklearn.metrics.pairwise import cosine_similarity\n",
    "import torch"
   ]
  },
  {
   "cell_type": "code",
   "execution_count": 2,
   "id": "0e5cb771",
   "metadata": {},
   "outputs": [
    {
     "data": {
      "text/plain": [
       "'embedding-model-llama-600m-contrastive/checkpoint-85500'"
      ]
     },
     "execution_count": 2,
     "metadata": {},
     "output_type": "execute_result"
    }
   ],
   "source": [
    "checkpoint = get_last_checkpoint('embedding-model-llama-600m-contrastive')\n",
    "checkpoint"
   ]
  },
  {
   "cell_type": "code",
   "execution_count": 4,
   "id": "a07a7ff2",
   "metadata": {},
   "outputs": [],
   "source": [
    "LlamaModelEmbedding.register_for_auto_class()"
   ]
  },
  {
   "cell_type": "code",
   "execution_count": 5,
   "id": "7403f54d",
   "metadata": {},
   "outputs": [],
   "source": [
    "model = LlamaModelEmbedding.from_pretrained(checkpoint)"
   ]
  },
  {
   "cell_type": "code",
   "execution_count": 6,
   "id": "d8c55d0a",
   "metadata": {},
   "outputs": [],
   "source": [
    "tokenizer = AutoTokenizer.from_pretrained(checkpoint)"
   ]
  },
  {
   "cell_type": "code",
   "execution_count": 7,
   "id": "60e55889",
   "metadata": {},
   "outputs": [],
   "source": [
    "input_ids = tokenizer(\n",
    "    [\n",
    "        'tak suka ayam', \n",
    "        'Isu perkauman: Kerajaan didakwa terdesak kaitkan pemimpin PN',\n",
    "        'nasi ayam tu sedap', \n",
    "        'suka ikan goreng?',\n",
    "        'Kerajaan tidak akan berkompromi dengan isu perkauman dan agama yang dimanipulasi pihak tertentu untuk mengganggu-gugat kestabilan negara serta ketenteraman rakyat.',\n",
    "        'rasis bodo mamat tu',\n",
    "        'kerajaan sekarang xde otak',\n",
    "        'aku nak sukan olimpik ni',\n",
    "        'malaysia dapat x pingat kt sukan asia?',\n",
    "        'pingat gangsa menerusi terjun dan olahraga pada hari ke-10',\n",
    "        'Kerajaan negeri kini dibenarkan melaksanakan penerokaan awal unsur nadir bumi (REE) berdasarkan prosedur operasi standard (SOP) sedia ada untuk perlombongan nadir bumi dan mineral.',\n",
    "        'KONTINJEN Malaysia mendekati sasaran 27 pingat di Sukan Asia kali ini esok, selepas menuai dua lagi pingat gangsa menerusi terjun dan olahraga pada hari ke-10 pertandingan, pada Selasa.'\n",
    "    ], \n",
    "    return_tensors = 'pt', padding = True)"
   ]
  },
  {
   "cell_type": "code",
   "execution_count": 8,
   "id": "af75a067",
   "metadata": {},
   "outputs": [
    {
     "data": {
      "text/plain": [
       "(12, 1536)"
      ]
     },
     "execution_count": 8,
     "metadata": {},
     "output_type": "execute_result"
    }
   ],
   "source": [
    "v = model.encode(input_ids).detach().numpy()\n",
    "v.shape"
   ]
  },
  {
   "cell_type": "code",
   "execution_count": 9,
   "id": "0723e1a0",
   "metadata": {},
   "outputs": [
    {
     "data": {
      "text/plain": [
       "array([[1.        , 0.4209137 , 0.9546999 , 0.9597863 , 0.3120873 ,\n",
       "        0.8405844 , 0.58216   , 0.58645266, 0.40890247, 0.4996181 ,\n",
       "        0.5089604 , 0.3351455 ],\n",
       "       [0.4209137 , 0.9999997 , 0.3542768 , 0.42114827, 0.9504733 ,\n",
       "        0.60532546, 0.8145397 , 0.51836056, 0.6349023 , 0.51608515,\n",
       "        0.80891323, 0.5999971 ],\n",
       "       [0.9546999 , 0.3542768 , 0.9999994 , 0.893784  , 0.27815583,\n",
       "        0.73887515, 0.4366102 , 0.5009967 , 0.42337325, 0.47003913,\n",
       "        0.51452726, 0.38308212],\n",
       "       [0.9597863 , 0.42114827, 0.893784  , 1.        , 0.30760384,\n",
       "        0.8868808 , 0.5656576 , 0.61279464, 0.4210244 , 0.5397133 ,\n",
       "        0.44625235, 0.34082997],\n",
       "       [0.3120873 , 0.9504733 , 0.27815583, 0.30760384, 1.0000002 ,\n",
       "        0.50049514, 0.7748455 , 0.44755244, 0.5778815 , 0.46799105,\n",
       "        0.8130318 , 0.5849888 ],\n",
       "       [0.8405844 , 0.60532546, 0.73887515, 0.8868808 , 0.50049514,\n",
       "        0.99999994, 0.64166284, 0.56571054, 0.43035477, 0.5582535 ,\n",
       "        0.4899069 , 0.3569499 ],\n",
       "       [0.58216   , 0.8145397 , 0.4366102 , 0.5656576 , 0.7748455 ,\n",
       "        0.64166284, 1.0000001 , 0.64297134, 0.50522053, 0.57462966,\n",
       "        0.70456064, 0.4761337 ],\n",
       "       [0.58645266, 0.51836056, 0.5009967 , 0.61279464, 0.44755244,\n",
       "        0.56571054, 0.64297134, 1.0000002 , 0.73217976, 0.8972131 ,\n",
       "        0.43721887, 0.78611666],\n",
       "       [0.40890247, 0.6349023 , 0.42337325, 0.4210244 , 0.5778815 ,\n",
       "        0.43035477, 0.50522053, 0.73217976, 0.9999998 , 0.6766921 ,\n",
       "        0.54681265, 0.9331716 ],\n",
       "       [0.4996181 , 0.51608515, 0.47003913, 0.5397133 , 0.46799105,\n",
       "        0.5582535 , 0.57462966, 0.8972131 , 0.6766921 , 1.0000002 ,\n",
       "        0.41345572, 0.80924475],\n",
       "       [0.5089604 , 0.80891323, 0.51452726, 0.44625235, 0.8130318 ,\n",
       "        0.4899069 , 0.70456064, 0.43721887, 0.54681265, 0.41345572,\n",
       "        0.9999997 , 0.5388274 ],\n",
       "       [0.3351455 , 0.5999971 , 0.38308212, 0.34082997, 0.5849888 ,\n",
       "        0.3569499 , 0.4761337 , 0.78611666, 0.9331716 , 0.80924475,\n",
       "        0.5388274 , 1.0000001 ]], dtype=float32)"
      ]
     },
     "execution_count": 9,
     "metadata": {},
     "output_type": "execute_result"
    }
   ],
   "source": [
    "cosine_similarity(v)"
   ]
  },
  {
   "cell_type": "code",
   "execution_count": 10,
   "id": "895d86be",
   "metadata": {},
   "outputs": [
    {
     "data": {
      "application/vnd.jupyter.widget-view+json": {
       "model_id": "c32cbce56849479a94c91161266aec80",
       "version_major": 2,
       "version_minor": 0
      },
      "text/plain": [
       "model.safetensors:   0%|          | 0.00/2.17G [00:00<?, ?B/s]"
      ]
     },
     "metadata": {},
     "output_type": "display_data"
    },
    {
     "data": {
      "text/plain": [
       "CommitInfo(commit_url='https://huggingface.co/mesolitica/llama2-embedding-600m-8k-contrastive/commit/0d60f553fe443549d5d3d89378236dfc1113b3ec', commit_message='Upload model', commit_description='', oid='0d60f553fe443549d5d3d89378236dfc1113b3ec', pr_url=None, pr_revision=None, pr_num=None)"
      ]
     },
     "execution_count": 10,
     "metadata": {},
     "output_type": "execute_result"
    }
   ],
   "source": [
    "model.push_to_hub('mesolitica/llama2-embedding-600m-8k-contrastive', safe_serialization = True)"
   ]
  },
  {
   "cell_type": "code",
   "execution_count": 11,
   "id": "ed18560b",
   "metadata": {},
   "outputs": [
    {
     "data": {
      "application/vnd.jupyter.widget-view+json": {
       "model_id": "2f970b16ce4045dd93fc5c8a01aefcea",
       "version_major": 2,
       "version_minor": 0
      },
      "text/plain": [
       "tokenizer.model:   0%|          | 0.00/500k [00:00<?, ?B/s]"
      ]
     },
     "metadata": {},
     "output_type": "display_data"
    },
    {
     "data": {
      "text/plain": [
       "CommitInfo(commit_url='https://huggingface.co/mesolitica/llama2-embedding-600m-8k-contrastive/commit/2bdf016e21c07f977dc935e6eaa6060381c648cf', commit_message='Upload tokenizer', commit_description='', oid='2bdf016e21c07f977dc935e6eaa6060381c648cf', pr_url=None, pr_revision=None, pr_num=None)"
      ]
     },
     "execution_count": 11,
     "metadata": {},
     "output_type": "execute_result"
    }
   ],
   "source": [
    "tokenizer.push_to_hub('mesolitica/llama2-embedding-600m-8k-contrastive', safe_serialization = True)"
   ]
  },
  {
   "cell_type": "code",
   "execution_count": null,
   "id": "e8687d33",
   "metadata": {},
   "outputs": [],
   "source": []
  }
 ],
 "metadata": {
  "kernelspec": {
   "display_name": "Python 3 (ipykernel)",
   "language": "python",
   "name": "python3"
  },
  "language_info": {
   "codemirror_mode": {
    "name": "ipython",
    "version": 3
   },
   "file_extension": ".py",
   "mimetype": "text/x-python",
   "name": "python",
   "nbconvert_exporter": "python",
   "pygments_lexer": "ipython3",
   "version": "3.10.12"
  }
 },
 "nbformat": 4,
 "nbformat_minor": 5
}
