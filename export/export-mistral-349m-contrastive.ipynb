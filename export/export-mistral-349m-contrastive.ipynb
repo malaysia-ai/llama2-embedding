{
 "cells": [
  {
   "cell_type": "code",
   "execution_count": 1,
   "id": "ff5863c7",
   "metadata": {},
   "outputs": [
    {
     "name": "stdout",
     "output_type": "stream",
     "text": [
      "[2023-12-04 02:48:05,151] [INFO] [real_accelerator.py:133:get_accelerator] Setting ds_accelerator to cuda (auto detect)\n"
     ]
    }
   ],
   "source": [
    "from mistral_contrastive import MistralModelEmbedding\n",
    "from transformers import AutoTokenizer\n",
    "from transformers.trainer_utils import get_last_checkpoint\n",
    "from sklearn.metrics.pairwise import cosine_similarity\n",
    "import torch"
   ]
  },
  {
   "cell_type": "code",
   "execution_count": 2,
   "id": "afb1c61b",
   "metadata": {},
   "outputs": [
    {
     "data": {
      "text/plain": [
       "'embedding-model-mistral-349m-contrastive/checkpoint-66600'"
      ]
     },
     "execution_count": 2,
     "metadata": {},
     "output_type": "execute_result"
    }
   ],
   "source": [
    "checkpoint = get_last_checkpoint('embedding-model-mistral-349m-contrastive')\n",
    "checkpoint"
   ]
  },
  {
   "cell_type": "code",
   "execution_count": 3,
   "id": "35399100",
   "metadata": {},
   "outputs": [],
   "source": [
    "MistralModelEmbedding.register_for_auto_class()"
   ]
  },
  {
   "cell_type": "code",
   "execution_count": 4,
   "id": "f8717ac3",
   "metadata": {},
   "outputs": [],
   "source": [
    "model = MistralModelEmbedding.from_pretrained(checkpoint)"
   ]
  },
  {
   "cell_type": "code",
   "execution_count": 5,
   "id": "cba438e8",
   "metadata": {},
   "outputs": [],
   "source": [
    "tokenizer = AutoTokenizer.from_pretrained(checkpoint)"
   ]
  },
  {
   "cell_type": "code",
   "execution_count": 6,
   "id": "1aeaba90",
   "metadata": {},
   "outputs": [],
   "source": [
    "input_ids = tokenizer(\n",
    "    [\n",
    "        'tak suka ayam', \n",
    "        'Isu perkauman: Kerajaan didakwa terdesak kaitkan pemimpin PN',\n",
    "        'nasi ayam tu sedap', \n",
    "        'suka ikan goreng?',\n",
    "        'Kerajaan tidak akan berkompromi dengan isu perkauman dan agama yang dimanipulasi pihak tertentu untuk mengganggu-gugat kestabilan negara serta ketenteraman rakyat.',\n",
    "        'rasis bodo mamat tu',\n",
    "        'kerajaan sekarang xde otak',\n",
    "        'aku nak sukan olimpik ni',\n",
    "        'malaysia dapat x pingat kt sukan asia?',\n",
    "        'pingat gangsa menerusi terjun dan olahraga pada hari ke-10',\n",
    "        'Kerajaan negeri kini dibenarkan melaksanakan penerokaan awal unsur nadir bumi (REE) berdasarkan prosedur operasi standard (SOP) sedia ada untuk perlombongan nadir bumi dan mineral.',\n",
    "        'KONTINJEN Malaysia mendekati sasaran 27 pingat di Sukan Asia kali ini esok, selepas menuai dua lagi pingat gangsa menerusi terjun dan olahraga pada hari ke-10 pertandingan, pada Selasa.'\n",
    "    ], \n",
    "    return_tensors = 'pt', padding = True)"
   ]
  },
  {
   "cell_type": "code",
   "execution_count": 8,
   "id": "20e97c20",
   "metadata": {},
   "outputs": [
    {
     "name": "stdout",
     "output_type": "stream",
     "text": [
      "CPU times: user 20min 6s, sys: 11.1 s, total: 20min 17s\n",
      "Wall time: 13.9 s\n"
     ]
    },
    {
     "data": {
      "text/plain": [
       "(12, 768)"
      ]
     },
     "execution_count": 8,
     "metadata": {},
     "output_type": "execute_result"
    }
   ],
   "source": [
    "%%time\n",
    "\n",
    "v = model.encode(input_ids).detach().numpy()\n",
    "v.shape"
   ]
  },
  {
   "cell_type": "code",
   "execution_count": 9,
   "id": "ce477aa2",
   "metadata": {},
   "outputs": [
    {
     "data": {
      "text/plain": [
       "array([[0.99999994, 0.5151949 , 0.8168783 , 0.91485083, 0.3952001 ,\n",
       "        0.80875176, 0.79074055, 0.7656945 , 0.313595  , 0.60961574,\n",
       "        0.5326909 , 0.39207226],\n",
       "       [0.5151949 , 0.99999976, 0.3824962 , 0.46663666, 0.91814506,\n",
       "        0.48921615, 0.7862932 , 0.6854701 , 0.4836366 , 0.6082859 ,\n",
       "        0.7768288 , 0.5675033 ],\n",
       "       [0.8168783 , 0.3824962 , 0.99999976, 0.9076334 , 0.3324227 ,\n",
       "        0.737085  , 0.56340265, 0.62203705, 0.35445938, 0.5623693 ,\n",
       "        0.48466158, 0.40630582],\n",
       "       [0.91485083, 0.46663666, 0.9076334 , 1.        , 0.37683272,\n",
       "        0.707108  , 0.6638104 , 0.69345975, 0.3143049 , 0.5581713 ,\n",
       "        0.5974578 , 0.3909055 ],\n",
       "       [0.3952001 , 0.91814506, 0.3324227 , 0.37683272, 0.99999994,\n",
       "        0.397948  , 0.7049198 , 0.63297796, 0.46370476, 0.5587456 ,\n",
       "        0.7680085 , 0.5055306 ],\n",
       "       [0.80875176, 0.48921615, 0.737085  , 0.707108  , 0.397948  ,\n",
       "        1.0000001 , 0.7157776 , 0.6921087 , 0.42780676, 0.6584856 ,\n",
       "        0.41481057, 0.4611845 ],\n",
       "       [0.79074055, 0.7862932 , 0.56340265, 0.6638104 , 0.7049198 ,\n",
       "        0.7157776 , 1.0000002 , 0.8953398 , 0.54055643, 0.7572804 ,\n",
       "        0.72101426, 0.5981801 ],\n",
       "       [0.7656945 , 0.6854701 , 0.62203705, 0.69345975, 0.63297796,\n",
       "        0.6921087 , 0.8953398 , 1.0000001 , 0.6672459 , 0.8512901 ,\n",
       "        0.6970086 , 0.72095984],\n",
       "       [0.313595  , 0.4836366 , 0.35445938, 0.3143049 , 0.46370476,\n",
       "        0.42780676, 0.54055643, 0.6672459 , 1.0000001 , 0.82756233,\n",
       "        0.48070827, 0.9480915 ],\n",
       "       [0.60961574, 0.6082859 , 0.5623693 , 0.5581713 , 0.5587456 ,\n",
       "        0.6584856 , 0.7572804 , 0.8512901 , 0.82756233, 1.        ,\n",
       "        0.6230209 , 0.86025953],\n",
       "       [0.5326909 , 0.7768288 , 0.48466158, 0.5974578 , 0.7680085 ,\n",
       "        0.41481057, 0.72101426, 0.6970086 , 0.48070827, 0.6230209 ,\n",
       "        1.        , 0.55707306],\n",
       "       [0.39207226, 0.5675033 , 0.40630582, 0.3909055 , 0.5055306 ,\n",
       "        0.4611845 , 0.5981801 , 0.72095984, 0.9480915 , 0.86025953,\n",
       "        0.55707306, 1.        ]], dtype=float32)"
      ]
     },
     "execution_count": 9,
     "metadata": {},
     "output_type": "execute_result"
    }
   ],
   "source": [
    "cosine_similarity(v)"
   ]
  },
  {
   "cell_type": "code",
   "execution_count": 10,
   "id": "0c725770",
   "metadata": {},
   "outputs": [
    {
     "data": {
      "application/vnd.jupyter.widget-view+json": {
       "model_id": "05dd1058252242668701e8a06058332e",
       "version_major": 2,
       "version_minor": 0
      },
      "text/plain": [
       "model.safetensors:   0%|          | 0.00/1.27G [00:00<?, ?B/s]"
      ]
     },
     "metadata": {},
     "output_type": "display_data"
    },
    {
     "data": {
      "text/plain": [
       "CommitInfo(commit_url='https://huggingface.co/mesolitica/mistral-embedding-349m-8k-contrastive/commit/76c96d00d65d4a719bbe08883a6d2d435fd9f8e0', commit_message='Upload model', commit_description='', oid='76c96d00d65d4a719bbe08883a6d2d435fd9f8e0', pr_url=None, pr_revision=None, pr_num=None)"
      ]
     },
     "execution_count": 10,
     "metadata": {},
     "output_type": "execute_result"
    }
   ],
   "source": [
    "model.push_to_hub('mesolitica/mistral-embedding-349m-8k-contrastive', safe_serialization = True)"
   ]
  },
  {
   "cell_type": "code",
   "execution_count": 11,
   "id": "ee58e5db",
   "metadata": {},
   "outputs": [
    {
     "data": {
      "text/plain": [
       "CommitInfo(commit_url='https://huggingface.co/mesolitica/mistral-embedding-349m-8k-contrastive/commit/49e82020d95e77272204d11e701ef0ab3160ceb2', commit_message='Upload tokenizer', commit_description='', oid='49e82020d95e77272204d11e701ef0ab3160ceb2', pr_url=None, pr_revision=None, pr_num=None)"
      ]
     },
     "execution_count": 11,
     "metadata": {},
     "output_type": "execute_result"
    }
   ],
   "source": [
    "tokenizer.push_to_hub('mesolitica/mistral-embedding-349m-8k-contrastive', safe_serialization = True)"
   ]
  },
  {
   "cell_type": "code",
   "execution_count": null,
   "id": "8927b798",
   "metadata": {},
   "outputs": [],
   "source": []
  }
 ],
 "metadata": {
  "kernelspec": {
   "display_name": "Python 3 (ipykernel)",
   "language": "python",
   "name": "python3"
  },
  "language_info": {
   "codemirror_mode": {
    "name": "ipython",
    "version": 3
   },
   "file_extension": ".py",
   "mimetype": "text/x-python",
   "name": "python",
   "nbconvert_exporter": "python",
   "pygments_lexer": "ipython3",
   "version": "3.10.12"
  }
 },
 "nbformat": 4,
 "nbformat_minor": 5
}
