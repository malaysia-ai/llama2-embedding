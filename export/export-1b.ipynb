{
 "cells": [
  {
   "cell_type": "code",
   "execution_count": 1,
   "id": "70adf50b",
   "metadata": {},
   "outputs": [
    {
     "name": "stderr",
     "output_type": "stream",
     "text": [
      "/home/ubuntu/.local/lib/python3.10/site-packages/torch/cuda/__init__.py:546: UserWarning: Can't initialize NVML\n",
      "  warnings.warn(\"Can't initialize NVML\")\n"
     ]
    }
   ],
   "source": [
    "from modeling import LlamaModelEmbedding\n",
    "from transformers import AutoTokenizer\n",
    "from transformers.trainer_utils import get_last_checkpoint\n",
    "from sklearn.metrics.pairwise import cosine_similarity\n",
    "import torch"
   ]
  },
  {
   "cell_type": "code",
   "execution_count": 2,
   "id": "285d8e0e",
   "metadata": {},
   "outputs": [
    {
     "data": {
      "text/plain": [
       "'embedding-model-llama-1b/checkpoint-265000'"
      ]
     },
     "execution_count": 2,
     "metadata": {},
     "output_type": "execute_result"
    }
   ],
   "source": [
    "checkpoint = get_last_checkpoint('embedding-model-llama-1b')\n",
    "checkpoint"
   ]
  },
  {
   "cell_type": "code",
   "execution_count": 3,
   "id": "d8b9535b",
   "metadata": {},
   "outputs": [],
   "source": [
    "model = LlamaModelEmbedding.from_pretrained(checkpoint)"
   ]
  },
  {
   "cell_type": "code",
   "execution_count": 4,
   "id": "95956852",
   "metadata": {},
   "outputs": [],
   "source": [
    "tokenizer = AutoTokenizer.from_pretrained(checkpoint)"
   ]
  },
  {
   "cell_type": "code",
   "execution_count": 5,
   "id": "4d42b680",
   "metadata": {},
   "outputs": [],
   "source": [
    "input_ids = tokenizer(\n",
    "    [\n",
    "        'tak suka ayam', \n",
    "        'Isu perkauman: Kerajaan didakwa terdesak kaitkan pemimpin PN',\n",
    "        'nasi ayam tu sedap', \n",
    "        'suka ikan goreng?',\n",
    "        'Kerajaan tidak akan berkompromi dengan isu perkauman dan agama yang dimanipulasi pihak tertentu untuk mengganggu-gugat kestabilan negara serta ketenteraman rakyat.',\n",
    "        'rasis bodo mamat tu',\n",
    "        'kerajaan sekarang xde otak',\n",
    "        'aku nak sukan olimpik ni',\n",
    "        'malaysia dapat x pingat kt sukan asia?',\n",
    "        'pingat gangsa menerusi terjun dan olahraga pada hari ke-10',\n",
    "        'Kerajaan negeri kini dibenarkan melaksanakan penerokaan awal unsur nadir bumi (REE) berdasarkan prosedur operasi standard (SOP) sedia ada untuk perlombongan nadir bumi dan mineral.',\n",
    "        'KONTINJEN Malaysia mendekati sasaran 27 pingat di Sukan Asia kali ini esok, selepas menuai dua lagi pingat gangsa menerusi terjun dan olahraga pada hari ke-10 pertandingan, pada Selasa.'\n",
    "    ], \n",
    "    return_tensors = 'pt', padding = True)"
   ]
  },
  {
   "cell_type": "code",
   "execution_count": 6,
   "id": "a9ff7e0e",
   "metadata": {},
   "outputs": [
    {
     "data": {
      "text/plain": [
       "(12, 1536)"
      ]
     },
     "execution_count": 6,
     "metadata": {},
     "output_type": "execute_result"
    }
   ],
   "source": [
    "v = model.encode(input_ids).detach().numpy()\n",
    "v.shape"
   ]
  },
  {
   "cell_type": "code",
   "execution_count": 7,
   "id": "377c9988",
   "metadata": {},
   "outputs": [
    {
     "data": {
      "text/plain": [
       "array([[ 0.99999994,  0.18700455,  0.7538485 ,  0.748364  ,  0.20821398,\n",
       "         0.57895285,  0.40015075,  0.37926647,  0.3949157 ,  0.321591  ,\n",
       "         0.19509211,  0.22419557],\n",
       "       [ 0.18700455,  1.0000001 , -0.00482862,  0.17274398,  0.8206565 ,\n",
       "         0.26248443,  0.51212966,  0.249019  ,  0.30655813,  0.23543085,\n",
       "         0.53309494,  0.30303252],\n",
       "       [ 0.7538485 , -0.00482862,  0.9999999 ,  0.7517569 ,  0.11855239,\n",
       "         0.5011047 ,  0.218025  ,  0.21257825,  0.33237743,  0.22465035,\n",
       "         0.14570364,  0.15700433],\n",
       "       [ 0.748364  ,  0.17274398,  0.7517569 ,  1.0000004 ,  0.18436188,\n",
       "         0.56605434,  0.25286818,  0.43136945,  0.37067664,  0.28582835,\n",
       "         0.07564554,  0.17822134],\n",
       "       [ 0.20821398,  0.8206565 ,  0.11855239,  0.18436188,  1.0000001 ,\n",
       "         0.2007494 ,  0.40734923,  0.12310341,  0.29967472,  0.14681834,\n",
       "         0.5979344 ,  0.26510233],\n",
       "       [ 0.57895285,  0.26248443,  0.5011047 ,  0.56605434,  0.2007494 ,\n",
       "         1.        ,  0.27236956,  0.29977494,  0.26644263,  0.24258988,\n",
       "         0.19695896,  0.1353602 ],\n",
       "       [ 0.40015075,  0.51212966,  0.218025  ,  0.25286818,  0.40734923,\n",
       "         0.27236956,  0.99999994,  0.28347528,  0.27271503,  0.15699823,\n",
       "         0.48084882,  0.0916291 ],\n",
       "       [ 0.37926647,  0.249019  ,  0.21257825,  0.43136945,  0.12310341,\n",
       "         0.29977494,  0.28347528,  1.0000001 ,  0.59220773,  0.5336233 ,\n",
       "         0.16934693,  0.56743103],\n",
       "       [ 0.3949157 ,  0.30655813,  0.33237743,  0.37067664,  0.29967472,\n",
       "         0.26644263,  0.27271503,  0.59220773,  1.0000001 ,  0.5361695 ,\n",
       "         0.27626035,  0.7063811 ],\n",
       "       [ 0.321591  ,  0.23543085,  0.22465035,  0.28582835,  0.14681834,\n",
       "         0.24258988,  0.15699823,  0.5336233 ,  0.5361695 ,  1.        ,\n",
       "         0.27187482,  0.7885264 ],\n",
       "       [ 0.19509211,  0.53309494,  0.14570364,  0.07564554,  0.5979344 ,\n",
       "         0.19695896,  0.48084882,  0.16934693,  0.27626035,  0.27187482,\n",
       "         1.        ,  0.30974996],\n",
       "       [ 0.22419557,  0.30303252,  0.15700433,  0.17822134,  0.26510233,\n",
       "         0.1353602 ,  0.0916291 ,  0.56743103,  0.7063811 ,  0.7885264 ,\n",
       "         0.30974996,  1.0000001 ]], dtype=float32)"
      ]
     },
     "execution_count": 7,
     "metadata": {},
     "output_type": "execute_result"
    }
   ],
   "source": [
    "cosine_similarity(v)"
   ]
  },
  {
   "cell_type": "code",
   "execution_count": null,
   "id": "9b182c08",
   "metadata": {},
   "outputs": [
    {
     "data": {
      "application/vnd.jupyter.widget-view+json": {
       "model_id": "693ac3add4d04f61a459c5729520e9fe",
       "version_major": 2,
       "version_minor": 0
      },
      "text/plain": [
       "model.safetensors:   0%|          | 0.00/3.79G [00:00<?, ?B/s]"
      ]
     },
     "metadata": {},
     "output_type": "display_data"
    }
   ],
   "source": [
    "model.push_to_hub('mesolitica/llama2-embedding-1b-16k', safe_serialization = True)"
   ]
  },
  {
   "cell_type": "code",
   "execution_count": null,
   "id": "b8def44c",
   "metadata": {},
   "outputs": [],
   "source": [
    "tokenizer.push_to_hub('mesolitica/llama2-embedding-1b-16k', safe_serialization = True)"
   ]
  }
 ],
 "metadata": {
  "kernelspec": {
   "display_name": "Python 3 (ipykernel)",
   "language": "python",
   "name": "python3"
  },
  "language_info": {
   "codemirror_mode": {
    "name": "ipython",
    "version": 3
   },
   "file_extension": ".py",
   "mimetype": "text/x-python",
   "name": "python",
   "nbconvert_exporter": "python",
   "pygments_lexer": "ipython3",
   "version": "3.10.12"
  }
 },
 "nbformat": 4,
 "nbformat_minor": 5
}
