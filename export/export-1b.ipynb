{
 "cells": [
  {
   "cell_type": "code",
   "execution_count": 1,
   "id": "70adf50b",
   "metadata": {},
   "outputs": [],
   "source": [
    "from modeling import LlamaModelEmbedding\n",
    "from transformers import AutoTokenizer\n",
    "from transformers.trainer_utils import get_last_checkpoint\n",
    "from sklearn.metrics.pairwise import cosine_similarity\n",
    "import torch"
   ]
  },
  {
   "cell_type": "code",
   "execution_count": 2,
   "id": "285d8e0e",
   "metadata": {},
   "outputs": [
    {
     "data": {
      "text/plain": [
       "'embedding-model-llama-1b/checkpoint-60600'"
      ]
     },
     "execution_count": 2,
     "metadata": {},
     "output_type": "execute_result"
    }
   ],
   "source": [
    "checkpoint = get_last_checkpoint('embedding-model-llama-1b')\n",
    "checkpoint"
   ]
  },
  {
   "cell_type": "code",
   "execution_count": 3,
   "id": "f6844832",
   "metadata": {},
   "outputs": [],
   "source": [
    "LlamaModelEmbedding.register_for_auto_class()"
   ]
  },
  {
   "cell_type": "code",
   "execution_count": 4,
   "id": "d8b9535b",
   "metadata": {},
   "outputs": [],
   "source": [
    "model = LlamaModelEmbedding.from_pretrained(checkpoint)"
   ]
  },
  {
   "cell_type": "code",
   "execution_count": 5,
   "id": "95956852",
   "metadata": {},
   "outputs": [],
   "source": [
    "tokenizer = AutoTokenizer.from_pretrained(checkpoint)"
   ]
  },
  {
   "cell_type": "code",
   "execution_count": 6,
   "id": "4d42b680",
   "metadata": {},
   "outputs": [],
   "source": [
    "input_ids = tokenizer(\n",
    "    [\n",
    "        'tak suka ayam', \n",
    "        'Isu perkauman: Kerajaan didakwa terdesak kaitkan pemimpin PN',\n",
    "        'nasi ayam tu sedap', \n",
    "        'suka ikan goreng?',\n",
    "        'Kerajaan tidak akan berkompromi dengan isu perkauman dan agama yang dimanipulasi pihak tertentu untuk mengganggu-gugat kestabilan negara serta ketenteraman rakyat.',\n",
    "        'rasis bodo mamat tu',\n",
    "        'kerajaan sekarang xde otak',\n",
    "        'aku nak sukan olimpik ni',\n",
    "        'malaysia dapat x pingat kt sukan asia?',\n",
    "        'pingat gangsa menerusi terjun dan olahraga pada hari ke-10',\n",
    "        'Kerajaan negeri kini dibenarkan melaksanakan penerokaan awal unsur nadir bumi (REE) berdasarkan prosedur operasi standard (SOP) sedia ada untuk perlombongan nadir bumi dan mineral.',\n",
    "        'KONTINJEN Malaysia mendekati sasaran 27 pingat di Sukan Asia kali ini esok, selepas menuai dua lagi pingat gangsa menerusi terjun dan olahraga pada hari ke-10 pertandingan, pada Selasa.'\n",
    "    ], \n",
    "    return_tensors = 'pt', padding = True)"
   ]
  },
  {
   "cell_type": "code",
   "execution_count": 7,
   "id": "a9ff7e0e",
   "metadata": {},
   "outputs": [
    {
     "data": {
      "text/plain": [
       "(12, 1536)"
      ]
     },
     "execution_count": 7,
     "metadata": {},
     "output_type": "execute_result"
    }
   ],
   "source": [
    "v = model.encode(input_ids).detach().numpy()\n",
    "v.shape"
   ]
  },
  {
   "cell_type": "code",
   "execution_count": 8,
   "id": "377c9988",
   "metadata": {},
   "outputs": [
    {
     "data": {
      "text/plain": [
       "array([[1.        , 0.28732502, 0.77062416, 0.7832134 , 0.38952443,\n",
       "        0.57122594, 0.46068376, 0.48540968, 0.4325477 , 0.29173273,\n",
       "        0.31063652, 0.26733702],\n",
       "       [0.28732502, 1.0000001 , 0.23364067, 0.31415   , 0.84453356,\n",
       "        0.42667663, 0.594919  , 0.36686486, 0.32976142, 0.49513334,\n",
       "        0.6220632 , 0.47262812],\n",
       "       [0.77062416, 0.23364067, 1.0000002 , 0.67519224, 0.31209728,\n",
       "        0.5115322 , 0.39116073, 0.41712868, 0.37046796, 0.25486276,\n",
       "        0.2716707 , 0.23147196],\n",
       "       [0.7832134 , 0.31415   , 0.67519224, 1.        , 0.34255478,\n",
       "        0.555788  , 0.41079763, 0.5286094 , 0.4498109 , 0.37989408,\n",
       "        0.40602225, 0.35440898],\n",
       "       [0.38952443, 0.84453356, 0.31209728, 0.34255478, 1.0000001 ,\n",
       "        0.44983375, 0.58811283, 0.3545909 , 0.3362857 , 0.48674995,\n",
       "        0.56798744, 0.46566314],\n",
       "       [0.57122594, 0.42667663, 0.5115322 , 0.555788  , 0.44983375,\n",
       "        0.9999998 , 0.5529593 , 0.48583448, 0.43834138, 0.4722557 ,\n",
       "        0.3634765 , 0.3660305 ],\n",
       "       [0.46068376, 0.594919  , 0.39116073, 0.41079763, 0.58811283,\n",
       "        0.5529593 , 0.99999976, 0.45462543, 0.46359187, 0.3870537 ,\n",
       "        0.43321332, 0.3080271 ],\n",
       "       [0.48540968, 0.36686486, 0.41712868, 0.5286094 , 0.3545909 ,\n",
       "        0.48583448, 0.45462543, 1.0000002 , 0.66773975, 0.47113848,\n",
       "        0.40064496, 0.5482876 ],\n",
       "       [0.4325477 , 0.32976142, 0.37046796, 0.4498109 , 0.3362857 ,\n",
       "        0.43834138, 0.46359187, 0.66773975, 0.9999999 , 0.41845986,\n",
       "        0.3871833 , 0.615429  ],\n",
       "       [0.29173273, 0.49513334, 0.25486276, 0.37989408, 0.48674995,\n",
       "        0.4722557 , 0.3870537 , 0.47113848, 0.41845986, 1.0000002 ,\n",
       "        0.45329607, 0.72000766],\n",
       "       [0.31063652, 0.6220632 , 0.2716707 , 0.40602225, 0.56798744,\n",
       "        0.3634765 , 0.43321332, 0.40064496, 0.3871833 , 0.45329607,\n",
       "        0.9999999 , 0.5453776 ],\n",
       "       [0.26733702, 0.47262812, 0.23147196, 0.35440898, 0.46566314,\n",
       "        0.3660305 , 0.3080271 , 0.5482876 , 0.615429  , 0.72000766,\n",
       "        0.5453776 , 1.0000001 ]], dtype=float32)"
      ]
     },
     "execution_count": 8,
     "metadata": {},
     "output_type": "execute_result"
    }
   ],
   "source": [
    "cosine_similarity(v)"
   ]
  },
  {
   "cell_type": "code",
   "execution_count": 9,
   "id": "9b182c08",
   "metadata": {},
   "outputs": [
    {
     "data": {
      "application/vnd.jupyter.widget-view+json": {
       "model_id": "0210dcd5f16c46c2967b7d17db94e226",
       "version_major": 2,
       "version_minor": 0
      },
      "text/plain": [
       "model.safetensors:   0%|          | 0.00/3.79G [00:00<?, ?B/s]"
      ]
     },
     "metadata": {},
     "output_type": "display_data"
    },
    {
     "data": {
      "text/plain": [
       "CommitInfo(commit_url='https://huggingface.co/mesolitica/llama2-embedding-1b-8k/commit/97aded8e0835a46db2da7fb3329a2e1db082f6d6', commit_message='Upload model', commit_description='', oid='97aded8e0835a46db2da7fb3329a2e1db082f6d6', pr_url=None, pr_revision=None, pr_num=None)"
      ]
     },
     "execution_count": 9,
     "metadata": {},
     "output_type": "execute_result"
    }
   ],
   "source": [
    "model.push_to_hub('mesolitica/llama2-embedding-1b-8k', safe_serialization = True)"
   ]
  },
  {
   "cell_type": "code",
   "execution_count": 10,
   "id": "b8def44c",
   "metadata": {},
   "outputs": [
    {
     "data": {
      "text/plain": [
       "CommitInfo(commit_url='https://huggingface.co/mesolitica/llama2-embedding-1b-8k/commit/ad72eafd4dae3fc94e2274c127e3f7da3b2aa4a3', commit_message='Upload tokenizer', commit_description='', oid='ad72eafd4dae3fc94e2274c127e3f7da3b2aa4a3', pr_url=None, pr_revision=None, pr_num=None)"
      ]
     },
     "execution_count": 10,
     "metadata": {},
     "output_type": "execute_result"
    }
   ],
   "source": [
    "tokenizer.push_to_hub('mesolitica/llama2-embedding-1b-8k', safe_serialization = True)"
   ]
  },
  {
   "cell_type": "code",
   "execution_count": null,
   "id": "9f249709",
   "metadata": {},
   "outputs": [],
   "source": []
  }
 ],
 "metadata": {
  "kernelspec": {
   "display_name": "Python 3 (ipykernel)",
   "language": "python",
   "name": "python3"
  },
  "language_info": {
   "codemirror_mode": {
    "name": "ipython",
    "version": 3
   },
   "file_extension": ".py",
   "mimetype": "text/x-python",
   "name": "python",
   "nbconvert_exporter": "python",
   "pygments_lexer": "ipython3",
   "version": "3.10.12"
  }
 },
 "nbformat": 4,
 "nbformat_minor": 5
}
