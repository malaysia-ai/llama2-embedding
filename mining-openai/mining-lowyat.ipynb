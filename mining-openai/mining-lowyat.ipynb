{
 "cells": [
  {
   "cell_type": "code",
   "execution_count": 1,
   "id": "424dad2b",
   "metadata": {},
   "outputs": [],
   "source": [
    "from glob import glob\n",
    "import json\n",
    "from tqdm import tqdm\n",
    "from tqdm import tqdm\n",
    "from concurrent.futures import ThreadPoolExecutor, as_completed\n",
    "import json"
   ]
  },
  {
   "cell_type": "code",
   "execution_count": 2,
   "id": "20f6ee01",
   "metadata": {
    "scrolled": true
   },
   "outputs": [],
   "source": [
    "data = []\n",
    "\n",
    "with open('ada-002-lowyat.jsonl') as fopen:\n",
    "    for x in fopen:\n",
    "        data.append(json.loads(x))"
   ]
  },
  {
   "cell_type": "code",
   "execution_count": 3,
   "id": "47d96b98",
   "metadata": {
    "scrolled": true
   },
   "outputs": [
    {
     "data": {
      "text/plain": [
       "420689"
      ]
     },
     "execution_count": 3,
     "metadata": {},
     "output_type": "execute_result"
    }
   ],
   "source": [
    "len(data)"
   ]
  },
  {
   "cell_type": "code",
   "execution_count": 4,
   "id": "033fecab",
   "metadata": {},
   "outputs": [
    {
     "data": {
      "text/plain": [
       "88489407016"
      ]
     },
     "execution_count": 4,
     "metadata": {},
     "output_type": "execute_result"
    }
   ],
   "source": [
    "import math\n",
    "\n",
    "math.comb(len(data),2)"
   ]
  },
  {
   "cell_type": "code",
   "execution_count": 5,
   "id": "ff164585",
   "metadata": {},
   "outputs": [],
   "source": [
    "vectors, texts = [], []\n",
    "\n",
    "for d in data:\n",
    "    vectors.append(d['v'])\n",
    "    texts.append(d['cleaned_text'])"
   ]
  },
  {
   "cell_type": "code",
   "execution_count": 6,
   "id": "b904d1b8",
   "metadata": {},
   "outputs": [],
   "source": [
    "from scipy.spatial import KDTree\n",
    "import numpy as np"
   ]
  },
  {
   "cell_type": "code",
   "execution_count": 7,
   "id": "2c269e5d",
   "metadata": {},
   "outputs": [
    {
     "data": {
      "text/plain": [
       "(420689, 1536)"
      ]
     },
     "execution_count": 7,
     "metadata": {},
     "output_type": "execute_result"
    }
   ],
   "source": [
    "concat = np.array(vectors)\n",
    "concat.shape"
   ]
  },
  {
   "cell_type": "code",
   "execution_count": 8,
   "id": "8536adf2",
   "metadata": {
    "scrolled": true
   },
   "outputs": [
    {
     "name": "stdout",
     "output_type": "stream",
     "text": [
      "CPU times: user 7.28 s, sys: 50.5 ms, total: 7.33 s\n",
      "Wall time: 7.33 s\n"
     ]
    }
   ],
   "source": [
    "%%time\n",
    "\n",
    "kd_tree = KDTree(concat, leafsize = 40)"
   ]
  },
  {
   "cell_type": "code",
   "execution_count": 9,
   "id": "665346e0",
   "metadata": {},
   "outputs": [
    {
     "data": {
      "text/plain": [
       "array([ 0.01883218,  0.02034896,  0.0018859 , ..., -0.00328523,\n",
       "       -0.00944294, -0.01228857])"
      ]
     },
     "execution_count": 9,
     "metadata": {},
     "output_type": "execute_result"
    }
   ],
   "source": [
    "concat[0]"
   ]
  },
  {
   "cell_type": "code",
   "execution_count": 10,
   "id": "e3016ffb",
   "metadata": {},
   "outputs": [
    {
     "data": {
      "text/plain": [
       "'there is a defect where when born a person has 2 type of **** this is well known documentation for this and scientific reasoning why it happening, please check to boarden your knowledge'"
      ]
     },
     "execution_count": 10,
     "metadata": {},
     "output_type": "execute_result"
    }
   ],
   "source": [
    "texts[0]"
   ]
  },
  {
   "cell_type": "code",
   "execution_count": 11,
   "id": "7529f264",
   "metadata": {},
   "outputs": [],
   "source": [
    "def convert_int64(obj):\n",
    "    if isinstance(obj, np.int64):\n",
    "        return int(obj)\n",
    "    raise TypeError"
   ]
  },
  {
   "cell_type": "code",
   "execution_count": null,
   "id": "1d11fde7",
   "metadata": {},
   "outputs": [
    {
     "name": "stderr",
     "output_type": "stream",
     "text": [
      " 36%|███▌      | 149980/420689 [3:22:14<6:59:01, 10.77it/s] "
     ]
    }
   ],
   "source": [
    "dist_list = []\n",
    "ind_list = []\n",
    "indices = []\n",
    "trxdzes\n",
    "    idx, x = args\n",
    "    dist, ind = kd_tree.query(x, k=len(concat))\n",
    "    \n",
    "    result = {\n",
    "        'positive': [],\n",
    "        'negative': []\n",
    "    }\n",
    "    \n",
    "    result['positive'] = [x for x in ind[dist <= 0.45] if x != idx]\n",
    "    result['negative'] = [x for x in ind[dist > 0.85]]\n",
    "    \n",
    "    return {str(idx): result}\n",
    "\n",
    "with ThreadPoolExecutor(max_workers=30) as executor:        \n",
    "    futures = [executor.submit(compute_neighbors, x) for x in enumerate(concat)]\n",
    "    \n",
    "    for future in tqdm(futures, total=len(concat)):\n",
    "        result = future.result()\n",
    "        if result:\n",
    "            with open('lowyat-pair-result.jsonl', 'a') as f:\n",
    "                json.dump(result,f, default = convert_int64)\n",
    "                f.write('\\n')"
   ]
  },
  {
   "cell_type": "code",
   "execution_count": 40,
   "id": "f25688a4",
   "metadata": {},
   "outputs": [],
   "source": [
    "# with open('facebook-pair-mining.json') as json_file:\n",
    "#     dat = json.load(json_file)"
   ]
  },
  {
   "cell_type": "code",
   "execution_count": 42,
   "id": "9e8ee745",
   "metadata": {},
   "outputs": [
    {
     "data": {
      "text/plain": [
       "{'positive': [43644, 78217, 15770, 91392, 172623, 90454, 168396],\n",
       " 'negative': [159503,\n",
       "  145138,\n",
       "  63754,\n",
       "  181566,\n",
       "  10828,\n",
       "  167890,\n",
       "  127536,\n",
       "  29695,\n",
       "  106669,\n",
       "  39862,\n",
       "  107284,\n",
       "  29126,\n",
       "  15123,\n",
       "  131744,\n",
       "  42373,\n",
       "  2819,\n",
       "  118357,\n",
       "  69860,\n",
       "  101545,\n",
       "  20483,\n",
       "  30543,\n",
       "  9985]}"
      ]
     },
     "execution_count": 42,
     "metadata": {},
     "output_type": "execute_result"
    }
   ],
   "source": [
    "dat['50']"
   ]
  },
  {
   "cell_type": "code",
   "execution_count": 48,
   "id": "fed17f11",
   "metadata": {},
   "outputs": [
    {
     "data": {
      "text/plain": [
       "'Saifudin abdullah'"
      ]
     },
     "execution_count": 48,
     "metadata": {},
     "output_type": "execute_result"
    }
   ],
   "source": [
    "texts[168396]"
   ]
  },
  {
   "cell_type": "code",
   "execution_count": 44,
   "id": "78a723f1",
   "metadata": {},
   "outputs": [
    {
     "data": {
      "text/plain": [
       "'Mohd Fuad Abdullah Sani kah'"
      ]
     },
     "execution_count": 44,
     "metadata": {},
     "output_type": "execute_result"
    }
   ],
   "source": [
    "texts[50]"
   ]
  },
  {
   "cell_type": "code",
   "execution_count": null,
   "id": "e7e2fa40",
   "metadata": {},
   "outputs": [],
   "source": []
  }
 ],
 "metadata": {
  "kernelspec": {
   "display_name": "Python 3 (ipykernel)",
   "language": "python",
   "name": "python3"
  },
  "language_info": {
   "codemirror_mode": {
    "name": "ipython",
    "version": 3
   },
   "file_extension": ".py",
   "mimetype": "text/x-python",
   "name": "python",
   "nbconvert_exporter": "python",
   "pygments_lexer": "ipython3",
   "version": "3.10.12"
  }
 },
 "nbformat": 4,
 "nbformat_minor": 5
}
