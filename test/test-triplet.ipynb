{
 "cells": [
  {
   "cell_type": "code",
   "execution_count": 1,
   "id": "ec86c67c",
   "metadata": {},
   "outputs": [],
   "source": [
    "from arguments import DataArguments\n",
    "from transformers import AutoConfig, AutoTokenizer\n",
    "import torch"
   ]
  },
  {
   "cell_type": "code",
   "execution_count": 2,
   "id": "6a96767f",
   "metadata": {},
   "outputs": [],
   "source": [
    "data_args = DataArguments(train_data = \"/home/ubuntu/mosaic-embedding-pairs\", train_group_size = 3,\n",
    "             query_max_len = 8192, passage_max_len = 8192)"
   ]
  },
  {
   "cell_type": "code",
   "execution_count": 3,
   "id": "fd5d68b5",
   "metadata": {},
   "outputs": [],
   "source": [
    "tokenizer = AutoTokenizer.from_pretrained('mesolitica/llama-600m-hf-32768-fpf')\n",
    "tokenizer.pad_token = tokenizer.unk_token\n",
    "tokenizer.padding_side = \"right\""
   ]
  },
  {
   "cell_type": "code",
   "execution_count": 4,
   "id": "c20a2389",
   "metadata": {},
   "outputs": [],
   "source": [
    "from data_triplet import TrainDatasetForEmbedding, EmbedCollator"
   ]
  },
  {
   "cell_type": "code",
   "execution_count": 5,
   "id": "6fcd810e",
   "metadata": {},
   "outputs": [],
   "source": [
    "dataset = TrainDatasetForEmbedding(data_args, tokenizer)"
   ]
  },
  {
   "cell_type": "code",
   "execution_count": 6,
   "id": "b548c747",
   "metadata": {},
   "outputs": [
    {
     "data": {
      "text/plain": [
       "[(['Pelaburan Syarikat China di Malaysia Tingkat Hubungan Dua Hala\\n\\nUntuk mendapatkan maklumat terkini, ikuti kami melalui Telegram\\nKuala Lumpur –\\xa0 Menteri Perdagangan Antarabangsa dan Industri, Tengku Datuk Seri Utama Tengku Zafrul Aziz berkata peningkatan minat syarikat China melabur di Malaysia memberi petanda baik kepada negara dan telah meningkatkan hubungan dua hala antara Malaysia dan China serta telah disokong oleh keyakinan terhadap kerajaan Perpaduan negara.\\nBeliau berkata menerusi satu kenyataan yang dikeluarkan oleh Lembaga Pembangunan Pelaburan Malaysia (MIDA), Kementerian Perdagangan Antarabangsa dan Industri\\xa0 (MITI) akan terus membantu memudahkan urusan para pelabur untuk menjalankan perniagaan di negara ini bagi menunjukkan bahawa Malaysia adalah sebuah negara sentiasa menyokong industri, perdagangan. Beliau juga menzahirkan ucapan tahniah kepada MIDA dan semua agensi berkaitan dalam membantu mendapatkan pelaburan berpotensi yang bernilai RM 170 bilion. “MITI, MIDA dan agensi lain kini perlu mula bekerja keras untuk membuat susulan dan seterusnya merealisasikan pelaburan ini dalam tempoh masa yang singkat,“ katanya.\\nMenerusi misi perdagangan dan pelaburan di China baru-baru ini, ketua pegawai eksekutif MIDA, Datuk Arham Abdul Rahman berkata lebih 20 syarikat telah menunjukkan minat yang serius untuk melabur dalam ekonomi Malaysia yang sedang berkembang pesat melibatkan bidang seperti produk petrokimia, produk solar dan kaca, pusat data antarabangsa dan bahagian-bahagian dan komponen kenderaan elektrik.\\nSyarikat Zhejiang Zhink Group, LONGi, GDS, Shanghai DC Science dan ZTE Corporation\\xa0 merupakan antara syarikat yang menyatakan minat yang mendalam untuk melabur di Malaysia dan kesemua syarikat ini mengakui potensi yang besar di Malaysia. Datuk Arham Abdul Rahman menyatakan pencapaian ini menunjukkan komitmen kerajaan Malaysia untuk menarik pelaburan berkualiti tinggi daripada pengguna teknologi digital utama dunia yang akan menempatkan satu pertiga daripada syarikat unicorn dunia.\\nPada tahun 2022, Malaysia mencatatkan sebanyak RM 264.4 bilion pelaburan diluluskan dalam sektor pembuatan, perkhidmatan dan primer dan daripada jumlah tersebut RM 55.4 bilion telah di sumbang oleh China yang melibatkan sejumlah 91 projek. MIDA berkata usaha niaga ini berpotensi mewujudkan 11 545 peluang pekerjaan baharu bagi tenaga kerja Malaysia yang sekali gus dapat mengukuhkan lagi struktur ekonomi negara.',\n",
       "   'Pelaburan Syarikat China di Malaysia Tingkat Hubungan Dua Hala\\n\\nUntuk mendapatkan maklumat terkini, ikuti kami melalui Telegram\\nKuala Lumpur –\\xa0 Menteri Perdagangan Antarabangsa dan Industri, Tengku Datuk Seri Utama Tengku Zafrul Aziz berkata peningkatan minat syarikat China melabur di Malaysia memberi petanda baik kepada negara dan telah meningkatkan hubungan dua hala antara Malaysia dan China serta telah disokong oleh keyakinan terhadap kerajaan Perpaduan negara.\\nBeliau berkata menerusi satu kenyataan yang dikeluarkan oleh Lembaga Pembangunan Pelaburan Malaysia (MIDA), Kementerian Perdagangan Antarabangsa dan Industri\\xa0 (MITI) akan terus membantu memudahkan urusan para pelabur untuk menjalankan perniagaan di negara ini bagi menunjukkan bahawa Malaysia adalah sebuah negara sentiasa menyokong industri, perdagangan. Beliau juga menzahirkan ucapan tahniah kepada MIDA dan semua agensi berkaitan dalam membantu mendapatkan pelaburan berpotensi yang bernilai RM 170 bilion. “MITI, MIDA dan agensi lain kini perlu mula bekerja keras untuk membuat susulan dan seterusnya merealisasikan pelaburan ini dalam tempoh masa yang singkat,“ katanya.\\nMenerusi misi perdagangan dan pelaburan di China baru-baru ini, ketua pegawai eksekutif MIDA, Datuk Arham Abdul Rahman berkata lebih 20 syarikat telah menunjukkan minat yang serius untuk melabur dalam ekonomi Malaysia yang sedang berkembang pesat melibatkan bidang seperti produk petrokimia, produk solar dan kaca, pusat data antarabangsa dan bahagian-bahagian dan komponen kenderaan elektrik.\\nSyarikat Zhejiang Zhink Group, LONGi, GDS, Shanghai DC Science dan ZTE Corporation\\xa0 merupakan antara syarikat yang menyatakan minat yang mendalam untuk melabur di Malaysia dan kesemua syarikat ini mengakui potensi yang besar di Malaysia. Datuk Arham Abdul Rahman menyatakan pencapaian ini menunjukkan komitmen kerajaan Malaysia untuk menarik pelaburan berkualiti tinggi daripada pengguna teknologi digital utama dunia yang akan menempatkan satu pertiga daripada syarikat unicorn dunia.\\nPada tahun 2022, Malaysia mencatatkan sebanyak RM 264.4 bilion pelaburan diluluskan dalam sektor pembuatan, perkhidmatan dan primer dan daripada jumlah tersebut RM 55.4 bilion telah di sumbang oleh China yang melibatkan sejumlah 91 projek. MIDA berkata usaha niaga ini berpotensi mewujudkan 11 545 peluang pekerjaan baharu bagi tenaga kerja Malaysia yang sekali gus dapat mengukuhkan lagi struktur ekonomi negara.'],\n",
       "  ['Berapakah bilangan projek yang melibatkan China dan telah diluluskan dalam tahun 2022?',\n",
       "   'Apakah yang dikatakan oleh Tengku Datuk Seri Utama Tengku Zafrul Aziz mengenai peningkatan minat syarikat China melabur di Malaysia?'],\n",
       "  ['Apakah yang diminta oleh Presiden China dalam mesyuarat tersebut?',\n",
       "   'Apakah yang dikatakan Presiden China mengenai China sebagai sebuah negara?']),\n",
       " (['Siapakah Menteri Perdagangan Antarabangsa dan Industri Malaysia?',\n",
       "   'Siapakah Menteri Perdagangan Antarabangsa dan Industri Malaysia?'],\n",
       "  ['Pelaburan Syarikat China di Malaysia Tingkat Hubungan Dua Hala\\n\\nUntuk mendapatkan maklumat terkini, ikuti kami melalui Telegram\\nKuala Lumpur –\\xa0 Menteri Perdagangan Antarabangsa dan Industri, Tengku Datuk Seri Utama Tengku Zafrul Aziz berkata peningkatan minat syarikat China melabur di Malaysia memberi petanda baik kepada negara dan telah meningkatkan hubungan dua hala antara Malaysia dan China serta telah disokong oleh keyakinan terhadap kerajaan Perpaduan negara.\\nBeliau berkata menerusi satu kenyataan yang dikeluarkan oleh Lembaga Pembangunan Pelaburan Malaysia (MIDA), Kementerian Perdagangan Antarabangsa dan Industri\\xa0 (MITI) akan terus membantu memudahkan urusan para pelabur untuk menjalankan perniagaan di negara ini bagi menunjukkan bahawa Malaysia adalah sebuah negara sentiasa menyokong industri, perdagangan. Beliau juga menzahirkan ucapan tahniah kepada MIDA dan semua agensi berkaitan dalam membantu mendapatkan pelaburan berpotensi yang bernilai RM 170 bilion. “MITI, MIDA dan agensi lain kini perlu mula bekerja keras untuk membuat susulan dan seterusnya merealisasikan pelaburan ini dalam tempoh masa yang singkat,“ katanya.\\nMenerusi misi perdagangan dan pelaburan di China baru-baru ini, ketua pegawai eksekutif MIDA, Datuk Arham Abdul Rahman berkata lebih 20 syarikat telah menunjukkan minat yang serius untuk melabur dalam ekonomi Malaysia yang sedang berkembang pesat melibatkan bidang seperti produk petrokimia, produk solar dan kaca, pusat data antarabangsa dan bahagian-bahagian dan komponen kenderaan elektrik.\\nSyarikat Zhejiang Zhink Group, LONGi, GDS, Shanghai DC Science dan ZTE Corporation\\xa0 merupakan antara syarikat yang menyatakan minat yang mendalam untuk melabur di Malaysia dan kesemua syarikat ini mengakui potensi yang besar di Malaysia. Datuk Arham Abdul Rahman menyatakan pencapaian ini menunjukkan komitmen kerajaan Malaysia untuk menarik pelaburan berkualiti tinggi daripada pengguna teknologi digital utama dunia yang akan menempatkan satu pertiga daripada syarikat unicorn dunia.\\nPada tahun 2022, Malaysia mencatatkan sebanyak RM 264.4 bilion pelaburan diluluskan dalam sektor pembuatan, perkhidmatan dan primer dan daripada jumlah tersebut RM 55.4 bilion telah di sumbang oleh China yang melibatkan sejumlah 91 projek. MIDA berkata usaha niaga ini berpotensi mewujudkan 11 545 peluang pekerjaan baharu bagi tenaga kerja Malaysia yang sekali gus dapat mengukuhkan lagi struktur ekonomi negara.',\n",
       "   'Pelaburan Syarikat China di Malaysia Tingkat Hubungan Dua Hala\\n\\nUntuk mendapatkan maklumat terkini, ikuti kami melalui Telegram\\nKuala Lumpur –\\xa0 Menteri Perdagangan Antarabangsa dan Industri, Tengku Datuk Seri Utama Tengku Zafrul Aziz berkata peningkatan minat syarikat China melabur di Malaysia memberi petanda baik kepada negara dan telah meningkatkan hubungan dua hala antara Malaysia dan China serta telah disokong oleh keyakinan terhadap kerajaan Perpaduan negara.\\nBeliau berkata menerusi satu kenyataan yang dikeluarkan oleh Lembaga Pembangunan Pelaburan Malaysia (MIDA), Kementerian Perdagangan Antarabangsa dan Industri\\xa0 (MITI) akan terus membantu memudahkan urusan para pelabur untuk menjalankan perniagaan di negara ini bagi menunjukkan bahawa Malaysia adalah sebuah negara sentiasa menyokong industri, perdagangan. Beliau juga menzahirkan ucapan tahniah kepada MIDA dan semua agensi berkaitan dalam membantu mendapatkan pelaburan berpotensi yang bernilai RM 170 bilion. “MITI, MIDA dan agensi lain kini perlu mula bekerja keras untuk membuat susulan dan seterusnya merealisasikan pelaburan ini dalam tempoh masa yang singkat,“ katanya.\\nMenerusi misi perdagangan dan pelaburan di China baru-baru ini, ketua pegawai eksekutif MIDA, Datuk Arham Abdul Rahman berkata lebih 20 syarikat telah menunjukkan minat yang serius untuk melabur dalam ekonomi Malaysia yang sedang berkembang pesat melibatkan bidang seperti produk petrokimia, produk solar dan kaca, pusat data antarabangsa dan bahagian-bahagian dan komponen kenderaan elektrik.\\nSyarikat Zhejiang Zhink Group, LONGi, GDS, Shanghai DC Science dan ZTE Corporation\\xa0 merupakan antara syarikat yang menyatakan minat yang mendalam untuk melabur di Malaysia dan kesemua syarikat ini mengakui potensi yang besar di Malaysia. Datuk Arham Abdul Rahman menyatakan pencapaian ini menunjukkan komitmen kerajaan Malaysia untuk menarik pelaburan berkualiti tinggi daripada pengguna teknologi digital utama dunia yang akan menempatkan satu pertiga daripada syarikat unicorn dunia.\\nPada tahun 2022, Malaysia mencatatkan sebanyak RM 264.4 bilion pelaburan diluluskan dalam sektor pembuatan, perkhidmatan dan primer dan daripada jumlah tersebut RM 55.4 bilion telah di sumbang oleh China yang melibatkan sejumlah 91 projek. MIDA berkata usaha niaga ini berpotensi mewujudkan 11 545 peluang pekerjaan baharu bagi tenaga kerja Malaysia yang sekali gus dapat mengukuhkan lagi struktur ekonomi negara.'],\n",
       "  ['Fahami Talasemia demi Kehidupan Sejahtera\\n\\nUntuk mendapatkan maklumat terkini, ikuti kami melalui Telegram\\nKuala Lumpur – Sebanyak 70 buah sekolah di seluruh negara telah turut serta dalam kempen “NowyouSEEme 2.0” hasil kerjasama Kementerian Kesihatan Malaysia (KKM) dan Kementerian Pendidikan Malaysia (KPM) dengan Hibiscus Petroleum Berhad bersempena dengan sambutan Hari Talasemia Sedunia 2022.\\nKempen yang telah berlangsung selama lima bulan ini diadakan bertujuan untuk meningkatkan literasi murid sekolah dan ibu bapa tentang penyakit talasemia. Talasemia adalah satu daripada penyakit genetik darah yang boleh diwarisi melalui gen talasemia daripada ibu bapa.\\nKKM menganggarkan setiap seorang daripada 20 orang rakyat di negara ini adalah pembawa gen talasemia dan jika kedua-dua ibu bapa adalah pembawa gen talasemia, maka berkemungkinan setiap kehamilan melahirkan bayi yang berpenyakit talasemia adalah tinggi. Pesakit yang menghidap talasemia tidak berupaya untuk menghasilkan sel darah merah yang berkualiti dan kuantiti yang mencukupi. Oleh itu, mereka perlu mendapatkan rawatan transfusi darah sebanyak satu atau dua kali sebulan sepanjang hidup.\\nDemikian perkara penting yang disampaikan oleh Ketua Pengarah Kesihatan, YBhg. Tan Sri Dato’ Seri Dr. Noor Hisham Abdullah dalam kenyataan medianya hari ini.\\nTambah beliau, kempen ini memberikan peluang yang lebih luas kepada murid dan warga sekolah menengah untuk mengenali dan memahami penyakit talasemia melalui aktiviti yang dijalankan menerusi portal secara dalam talian dan bersemuka.\\nKKM menyeru agar rakyat Malaysia turut serta dalam mempertingkatkan kesedaran untuk membendung penyakit talasemia dan menjalankan ujian saringan genetik bagi mengenal pasti pembawa gen talasemia melalui penganjuran kempen kesedaran tentang penyakit ini.\\nPada masa yang sama, pencegahan penyakit talasemia adalah penting kerana penyakit ini boleh menyebabkan komplikasi kematian disebabkan oleh kesan anemia yang serius, kegagalan organ seperti jantung dan jangkitan kuman.\\nPihak KKM juga merakamkan setinggi-tinggi penghargaan kepada pihak KPM dan Hibiscus Petroleum Berhad yang bersama-sama menjayakan kempen ini. Kerjasama padu seperti ini diharapkan dapat diteruskan dalam usaha menyampaikan maklumat dan meningkatkan literasi masyarakat, khususnya murid sekolah tentang penyakit talasemia dan kepentingan untuk mengetahui status talasemia masing-masing.',\n",
       "   'Fahami Talasemia demi Kehidupan Sejahtera\\n\\nUntuk mendapatkan maklumat terkini, ikuti kami melalui Telegram\\nKuala Lumpur – Sebanyak 70 buah sekolah di seluruh negara telah turut serta dalam kempen “NowyouSEEme 2.0” hasil kerjasama Kementerian Kesihatan Malaysia (KKM) dan Kementerian Pendidikan Malaysia (KPM) dengan Hibiscus Petroleum Berhad bersempena dengan sambutan Hari Talasemia Sedunia 2022.\\nKempen yang telah berlangsung selama lima bulan ini diadakan bertujuan untuk meningkatkan literasi murid sekolah dan ibu bapa tentang penyakit talasemia. Talasemia adalah satu daripada penyakit genetik darah yang boleh diwarisi melalui gen talasemia daripada ibu bapa.\\nKKM menganggarkan setiap seorang daripada 20 orang rakyat di negara ini adalah pembawa gen talasemia dan jika kedua-dua ibu bapa adalah pembawa gen talasemia, maka berkemungkinan setiap kehamilan melahirkan bayi yang berpenyakit talasemia adalah tinggi. Pesakit yang menghidap talasemia tidak berupaya untuk menghasilkan sel darah merah yang berkualiti dan kuantiti yang mencukupi. Oleh itu, mereka perlu mendapatkan rawatan transfusi darah sebanyak satu atau dua kali sebulan sepanjang hidup.\\nDemikian perkara penting yang disampaikan oleh Ketua Pengarah Kesihatan, YBhg. Tan Sri Dato’ Seri Dr. Noor Hisham Abdullah dalam kenyataan medianya hari ini.\\nTambah beliau, kempen ini memberikan peluang yang lebih luas kepada murid dan warga sekolah menengah untuk mengenali dan memahami penyakit talasemia melalui aktiviti yang dijalankan menerusi portal secara dalam talian dan bersemuka.\\nKKM menyeru agar rakyat Malaysia turut serta dalam mempertingkatkan kesedaran untuk membendung penyakit talasemia dan menjalankan ujian saringan genetik bagi mengenal pasti pembawa gen talasemia melalui penganjuran kempen kesedaran tentang penyakit ini.\\nPada masa yang sama, pencegahan penyakit talasemia adalah penting kerana penyakit ini boleh menyebabkan komplikasi kematian disebabkan oleh kesan anemia yang serius, kegagalan organ seperti jantung dan jangkitan kuman.\\nPihak KKM juga merakamkan setinggi-tinggi penghargaan kepada pihak KPM dan Hibiscus Petroleum Berhad yang bersama-sama menjayakan kempen ini. Kerjasama padu seperti ini diharapkan dapat diteruskan dalam usaha menyampaikan maklumat dan meningkatkan literasi masyarakat, khususnya murid sekolah tentang penyakit talasemia dan kepentingan untuk mengetahui status talasemia masing-masing.'])]"
      ]
     },
     "execution_count": 6,
     "metadata": {},
     "output_type": "execute_result"
    }
   ],
   "source": [
    "b = [dataset[i] for i in range(2)]\n",
    "b"
   ]
  },
  {
   "cell_type": "code",
   "execution_count": 8,
   "id": "5d8d614a",
   "metadata": {},
   "outputs": [],
   "source": [
    "collactor = EmbedCollator(\n",
    "            tokenizer,\n",
    "            query_max_len=data_args.query_max_len,\n",
    "            passage_max_len=data_args.passage_max_len\n",
    "        )"
   ]
  },
  {
   "cell_type": "code",
   "execution_count": 9,
   "id": "758af6e0",
   "metadata": {
    "scrolled": true
   },
   "outputs": [
    {
     "data": {
      "text/plain": [
       "{'query': {'input_ids': tensor([[    1, 15549,   370,  ...,  3480,  2518, 29889],\n",
       "         [    1, 15549,   370,  ...,  3480,  2518, 29889],\n",
       "         [    1,   317,   423,  ...,     0,     0,     0],\n",
       "         [    1,   317,   423,  ...,     0,     0,     0]]), 'attention_mask': tensor([[1, 1, 1,  ..., 1, 1, 1],\n",
       "         [1, 1, 1,  ..., 1, 1, 1],\n",
       "         [1, 1, 1,  ..., 0, 0, 0],\n",
       "         [1, 1, 1,  ..., 0, 0, 0]])},\n",
       " 'pos': {'input_ids': tensor([[    1,  2292,   481,  ...,     0,     0,     0],\n",
       "         [    1,  6225,   557,  ...,     0,     0,     0],\n",
       "         [    1, 15549,   370,  ...,  3480,  2518, 29889],\n",
       "         [    1, 15549,   370,  ...,  3480,  2518, 29889]]), 'attention_mask': tensor([[1, 1, 1,  ..., 0, 0, 0],\n",
       "         [1, 1, 1,  ..., 0, 0, 0],\n",
       "         [1, 1, 1,  ..., 1, 1, 1],\n",
       "         [1, 1, 1,  ..., 1, 1, 1]])},\n",
       " 'neg': {'input_ids': tensor([[    1,  6225,   557,  ...,     0,     0,     0],\n",
       "         [    1,  6225,   557,  ...,     0,     0,     0],\n",
       "         [    1,   383,   801,  ..., 29885,  5832, 29889],\n",
       "         [    1,   383,   801,  ..., 29885,  5832, 29889]]), 'attention_mask': tensor([[1, 1, 1,  ..., 0, 0, 0],\n",
       "         [1, 1, 1,  ..., 0, 0, 0],\n",
       "         [1, 1, 1,  ..., 1, 1, 1],\n",
       "         [1, 1, 1,  ..., 1, 1, 1]])}}"
      ]
     },
     "execution_count": 9,
     "metadata": {},
     "output_type": "execute_result"
    }
   ],
   "source": [
    "b_ = collactor(b)\n",
    "b_"
   ]
  },
  {
   "cell_type": "code",
   "execution_count": 11,
   "id": "67cf3fe2",
   "metadata": {},
   "outputs": [
    {
     "data": {
      "text/plain": [
       "(4, 4, 4)"
      ]
     },
     "execution_count": 11,
     "metadata": {},
     "output_type": "execute_result"
    }
   ],
   "source": [
    "len(b_['query']['input_ids']), len(b_['pos']['input_ids']), len(b_['neg']['input_ids'])"
   ]
  },
  {
   "cell_type": "code",
   "execution_count": 12,
   "id": "fa398409",
   "metadata": {},
   "outputs": [],
   "source": [
    "from modeling import LlamaModelEmbedding\n",
    "from transformers import LlamaConfig\n",
    "\n",
    "config = LlamaConfig.from_pretrained(\n",
    "    'mesolitica/llama-600m-hf-32768-fpf',\n",
    "    num_labels=1,\n",
    ")\n",
    "\n",
    "config.temperature = 0.02\n",
    "config.normalized = True\n",
    "config.sentence_pooling_method = 'mean'"
   ]
  },
  {
   "cell_type": "code",
   "execution_count": 13,
   "id": "5b94873a",
   "metadata": {},
   "outputs": [
    {
     "name": "stderr",
     "output_type": "stream",
     "text": [
      "Some weights of LlamaModelEmbedding were not initialized from the model checkpoint at mesolitica/llama-600m-hf-32768-fpf and are newly initialized: ['model.dense_layer.bias', 'model.dense_layer.weight']\n",
      "You should probably TRAIN this model on a down-stream task to be able to use it for predictions and inference.\n"
     ]
    }
   ],
   "source": [
    "model = LlamaModelEmbedding.from_pretrained('mesolitica/llama-600m-hf-32768-fpf', config = config)"
   ]
  },
  {
   "cell_type": "code",
   "execution_count": 14,
   "id": "94866a85",
   "metadata": {},
   "outputs": [],
   "source": [
    "rep_anchor = model.encode(b_['query'])"
   ]
  },
  {
   "cell_type": "code",
   "execution_count": 15,
   "id": "f2c5d2c3",
   "metadata": {},
   "outputs": [],
   "source": [
    "rep_pos = model.encode(b_['pos'])"
   ]
  },
  {
   "cell_type": "code",
   "execution_count": 16,
   "id": "a9a1f241",
   "metadata": {},
   "outputs": [],
   "source": [
    "n_reps = model.encode(b_['neg'])"
   ]
  },
  {
   "cell_type": "code",
   "execution_count": 17,
   "id": "ecfef0d0",
   "metadata": {},
   "outputs": [],
   "source": [
    "import torch.nn.functional as F\n",
    "EUCLIDEAN = lambda x, y: F.pairwise_distance(x, y, p=2)"
   ]
  },
  {
   "cell_type": "code",
   "execution_count": 18,
   "id": "a223cd1d",
   "metadata": {},
   "outputs": [
    {
     "data": {
      "text/plain": [
       "torch.Size([4, 1536])"
      ]
     },
     "execution_count": 18,
     "metadata": {},
     "output_type": "execute_result"
    }
   ],
   "source": [
    "rep_anchor.shape"
   ]
  },
  {
   "cell_type": "code",
   "execution_count": 19,
   "id": "78098026",
   "metadata": {},
   "outputs": [
    {
     "data": {
      "text/plain": [
       "torch.Size([4, 1536])"
      ]
     },
     "execution_count": 19,
     "metadata": {},
     "output_type": "execute_result"
    }
   ],
   "source": [
    "rep_pos.shape"
   ]
  },
  {
   "cell_type": "code",
   "execution_count": 20,
   "id": "5a1519ed",
   "metadata": {
    "scrolled": true
   },
   "outputs": [],
   "source": [
    "distance_pos = EUCLIDEAN(rep_anchor, rep_pos)\n",
    "distance_neg = EUCLIDEAN(rep_anchor, n_reps)"
   ]
  },
  {
   "cell_type": "code",
   "execution_count": 32,
   "id": "b173ef19",
   "metadata": {},
   "outputs": [],
   "source": [
    "loss = torch.nn.TripletMarginLoss(margin=1.0, p=2, eps=1e-7)"
   ]
  },
  {
   "cell_type": "code",
   "execution_count": 33,
   "id": "94dc734c",
   "metadata": {},
   "outputs": [
    {
     "data": {
      "text/plain": [
       "tensor(0.9278, grad_fn=<MeanBackward0>)"
      ]
     },
     "execution_count": 33,
     "metadata": {},
     "output_type": "execute_result"
    }
   ],
   "source": [
    "loss(rep_anchor, rep_pos, n_reps)"
   ]
  },
  {
   "cell_type": "code",
   "execution_count": 26,
   "id": "4b493107",
   "metadata": {},
   "outputs": [
    {
     "data": {
      "text/plain": [
       "tensor([0.8989, 0.9589, 0.9267, 0.9267], grad_fn=<ReluBackward0>)"
      ]
     },
     "execution_count": 26,
     "metadata": {},
     "output_type": "execute_result"
    }
   ],
   "source": [
    "triplet_margin = 1.0\n",
    "losses = F.relu(distance_pos - distance_neg + triplet_margin)\n",
    "losses"
   ]
  },
  {
   "cell_type": "code",
   "execution_count": 27,
   "id": "e3d893fb",
   "metadata": {},
   "outputs": [
    {
     "data": {
      "text/plain": [
       "tensor(0.9278, grad_fn=<MeanBackward0>)"
      ]
     },
     "execution_count": 27,
     "metadata": {},
     "output_type": "execute_result"
    }
   ],
   "source": [
    "loss = losses.mean()\n",
    "loss"
   ]
  },
  {
   "cell_type": "code",
   "execution_count": 28,
   "id": "c2945fdc",
   "metadata": {},
   "outputs": [
    {
     "data": {
      "text/plain": [
       "tensor([0.7172, 0.7390, 0.8828, 0.8828], grad_fn=<NormBackward1>)"
      ]
     },
     "execution_count": 28,
     "metadata": {},
     "output_type": "execute_result"
    }
   ],
   "source": [
    "distance_pos"
   ]
  },
  {
   "cell_type": "code",
   "execution_count": 29,
   "id": "3d00054e",
   "metadata": {},
   "outputs": [
    {
     "data": {
      "text/plain": [
       "tensor([0.8183, 0.7801, 0.9560, 0.9560], grad_fn=<NormBackward1>)"
      ]
     },
     "execution_count": 29,
     "metadata": {},
     "output_type": "execute_result"
    }
   ],
   "source": [
    "distance_neg"
   ]
  },
  {
   "cell_type": "code",
   "execution_count": 30,
   "id": "3d369ba3",
   "metadata": {},
   "outputs": [
    {
     "data": {
      "text/plain": [
       "tensor([-0.1011, -0.0411, -0.0733, -0.0733], grad_fn=<SubBackward0>)"
      ]
     },
     "execution_count": 30,
     "metadata": {},
     "output_type": "execute_result"
    }
   ],
   "source": [
    "distance_pos - distance_neg"
   ]
  },
  {
   "cell_type": "code",
   "execution_count": null,
   "id": "c97caf97",
   "metadata": {},
   "outputs": [],
   "source": []
  }
 ],
 "metadata": {
  "kernelspec": {
   "display_name": "Python 3 (ipykernel)",
   "language": "python",
   "name": "python3"
  },
  "language_info": {
   "codemirror_mode": {
    "name": "ipython",
    "version": 3
   },
   "file_extension": ".py",
   "mimetype": "text/x-python",
   "name": "python",
   "nbconvert_exporter": "python",
   "pygments_lexer": "ipython3",
   "version": "3.10.12"
  }
 },
 "nbformat": 4,
 "nbformat_minor": 5
}
